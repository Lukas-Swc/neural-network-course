{
  "nbformat": 4,
  "nbformat_minor": 0,
  "metadata": {
    "colab": {
      "provenance": [],
      "authorship_tag": "ABX9TyPny6zEoKsEdyiFNYJAz06T",
      "include_colab_link": true
    },
    "kernelspec": {
      "name": "python3",
      "display_name": "Python 3"
    },
    "language_info": {
      "name": "python"
    }
  },
  "cells": [
    {
      "cell_type": "markdown",
      "metadata": {
        "id": "view-in-github",
        "colab_type": "text"
      },
      "source": [
        "<a href=\"https://colab.research.google.com/github/Lukas-Swc/neural-network-course/blob/main/03_keras/06_save_load_model.ipynb\" target=\"_parent\"><img src=\"https://colab.research.google.com/assets/colab-badge.svg\" alt=\"Open In Colab\"/></a>"
      ]
    },
    {
      "cell_type": "markdown",
      "metadata": {
        "id": "5gjFu2l9IMsj"
      },
      "source": [
        "### Zapisywanie i ładowanie wag z modelu\n",
        "\n",
        "Celem tego notebook'a jest nauczenie się pracy z obsługą modeli, m.in.:\n",
        " - zapisanie wag po każdej epoce\n",
        " - zapisanie wag po określonej liczbie epok\n",
        " - załadowanie wag\n",
        " - zapisanie całego modelu\n",
        " - załadowanie całego modelu\n",
        "\n",
        "### Spis treści:\n",
        "1. [Import bibliotek](#a0)\n",
        "2. [Załadowanie danych i wstępna eksploracja](#a1)\n",
        "3. [Budowa modelu](#a2)\n",
        "4. [Zapisywanie punktów kontrolnych podczas trenowania](#a3)\n",
        "5. [Załadowanie wag do modelu](#a4)\n",
        "6. [Dodatkowe opcje](#a5)\n",
        "7. [Ręczne zapisywanie wag](#a6)\n",
        "8. [Zapisanie całego modelu](#a7)\n",
        "\n",
        "\n"
      ]
    },
    {
      "cell_type": "markdown",
      "metadata": {
        "id": "54PMwXoAJOhq"
      },
      "source": [
        "### <a name='a0'> </a> 1. Import bibliotek"
      ]
    },
    {
      "cell_type": "code",
      "metadata": {
        "id": "IqX0mhs4EXOo",
        "colab": {
          "base_uri": "https://localhost:8080/",
          "height": 36
        },
        "outputId": "6b736c59-1316-4018-ce93-d7475fa260a8"
      },
      "source": [
        "import os\n",
        "import matplotlib.pyplot as plt\n",
        "import seaborn as sns\n",
        "\n",
        "import tensorflow as tf\n",
        "\n",
        "sns.set()\n",
        "tf.__version__"
      ],
      "execution_count": 1,
      "outputs": [
        {
          "output_type": "execute_result",
          "data": {
            "text/plain": [
              "'2.18.0'"
            ],
            "application/vnd.google.colaboratory.intrinsic+json": {
              "type": "string"
            }
          },
          "metadata": {},
          "execution_count": 1
        }
      ]
    },
    {
      "cell_type": "markdown",
      "metadata": {
        "id": "sYB9C6JnJYWG"
      },
      "source": [
        "### <a name='a1'> </a> 2. Załadowanie danych i wstępna eksploracja"
      ]
    },
    {
      "cell_type": "code",
      "metadata": {
        "id": "UBD08VRs909Y"
      },
      "source": [
        "(train_images, train_labels), (test_images, test_labels) = tf.keras.datasets.mnist.load_data()"
      ],
      "execution_count": 2,
      "outputs": []
    },
    {
      "cell_type": "code",
      "metadata": {
        "id": "3WxmAgGl-eS1",
        "colab": {
          "base_uri": "https://localhost:8080/"
        },
        "outputId": "e9a616b5-dd5a-4731-93fa-c98f787598f7"
      },
      "source": [
        "train_images.shape"
      ],
      "execution_count": 3,
      "outputs": [
        {
          "output_type": "execute_result",
          "data": {
            "text/plain": [
              "(60000, 28, 28)"
            ]
          },
          "metadata": {},
          "execution_count": 3
        }
      ]
    },
    {
      "cell_type": "code",
      "metadata": {
        "id": "kddg_vs0-is5",
        "colab": {
          "base_uri": "https://localhost:8080/",
          "height": 424
        },
        "outputId": "41114d0e-e3c9-4ec0-d5a0-6afa9c787598"
      },
      "source": [
        "plt.imshow(train_images[0], cmap='gray_r')\n",
        "plt.grid(False)\n",
        "plt.axis(False)"
      ],
      "execution_count": 4,
      "outputs": [
        {
          "output_type": "execute_result",
          "data": {
            "text/plain": [
              "(np.float64(-0.5), np.float64(27.5), np.float64(27.5), np.float64(-0.5))"
            ]
          },
          "metadata": {},
          "execution_count": 4
        },
        {
          "output_type": "display_data",
          "data": {
            "text/plain": [
              "<Figure size 640x480 with 1 Axes>"
            ],
            "image/png": "[encoded data removed]"
          },
          "metadata": {}
        }
      ]
    },
    {
      "cell_type": "code",
      "metadata": {
        "id": "JTmBsyF8-nFt",
        "colab": {
          "base_uri": "https://localhost:8080/"
        },
        "outputId": "099a1110-8124-481b-8bb7-7f52b9b4f295"
      },
      "source": [
        "train_labels[:10]"
      ],
      "execution_count": 5,
      "outputs": [
        {
          "output_type": "execute_result",
          "data": {
            "text/plain": [
              "array([5, 0, 4, 1, 9, 2, 1, 3, 1, 4], dtype=uint8)"
            ]
          },
          "metadata": {},
          "execution_count": 5
        }
      ]
    },
    {
      "cell_type": "code",
      "metadata": {
        "id": "OgpEXGgd_MTn"
      },
      "source": [
        "# Recznie wykonana warstwa Flatten\n",
        "train_images = train_images[:1000].reshape(-1, 28 * 28) / 255.\n",
        "test_images = test_images[:1000].reshape(-1, 28 * 28) / 255.\n",
        "\n",
        "train_labels = train_labels[:1000]\n",
        "test_labels = test_labels[:1000]"
      ],
      "execution_count": 6,
      "outputs": []
    },
    {
      "cell_type": "markdown",
      "metadata": {
        "id": "1mOy5Lf3JeRK"
      },
      "source": [
        "### <a name='a2'> </a> 3. Budowa modelu"
      ]
    },
    {
      "cell_type": "code",
      "metadata": {
        "id": "RCKJWnY0_kIb",
        "colab": {
          "base_uri": "https://localhost:8080/",
          "height": 230
        },
        "outputId": "4b76250c-1449-47c8-c1ce-c28aed827a78"
      },
      "source": [
        "def create_model():\n",
        "    model = tf.keras.models.Sequential([\n",
        "  tf.keras.layers.Input((784,)),\n",
        "  tf.keras.layers.Dense(512, activation='relu'),\n",
        "  tf.keras.layers.Dropout(0.2),\n",
        "  tf.keras.layers.Dense(10, activation='softmax')\n",
        "])\n",
        "\n",
        "    model.compile(optimizer='adam',\n",
        "                  loss='sparse_categorical_crossentropy',\n",
        "                  metrics=['accuracy'])\n",
        "    return model\n",
        "\n",
        "model = create_model()\n",
        "model.summary()"
      ],
      "execution_count": 7,
      "outputs": [
        {
          "output_type": "display_data",
          "data": {
            "text/plain": [
              "\u001b[1mModel: \"sequential\"\u001b[0m\n"
            ],
            "text/html": [
              "<pre style=\"white-space:pre;overflow-x:auto;line-height:normal;font-family:Menlo,'DejaVu Sans Mono',consolas,'Courier New',monospace\"><span style=\"font-weight: bold\">Model: \"sequential\"</span>\n",
              "</pre>\n"
            ]
          },
          "metadata": {}
        },
        {
          "output_type": "display_data",
          "data": {
            "text/plain": [
              "┏━━━━━━━━━━━━━━━━━━━━━━━━━━━━━━━━━┳━━━━━━━━━━━━━━━━━━━━━━━━┳━━━━━━━━━━━━━━━┓\n",
              "┃\u001b[1m \u001b[0m\u001b[1mLayer (type)                   \u001b[0m\u001b[1m \u001b[0m┃\u001b[1m \u001b[0m\u001b[1mOutput Shape          \u001b[0m\u001b[1m \u001b[0m┃\u001b[1m \u001b[0m\u001b[1m      Param #\u001b[0m\u001b[1m \u001b[0m┃\n",
              "┡━━━━━━━━━━━━━━━━━━━━━━━━━━━━━━━━━╇━━━━━━━━━━━━━━━━━━━━━━━━╇━━━━━━━━━━━━━━━┩\n",
              "│ dense (\u001b[38;5;33mDense\u001b[0m)                   │ (\u001b[38;5;45mNone\u001b[0m, \u001b[38;5;34m512\u001b[0m)            │       \u001b[38;5;34m401,920\u001b[0m │\n",
              "├─────────────────────────────────┼────────────────────────┼───────────────┤\n",
              "│ dropout (\u001b[38;5;33mDropout\u001b[0m)               │ (\u001b[38;5;45mNone\u001b[0m, \u001b[38;5;34m512\u001b[0m)            │             \u001b[38;5;34m0\u001b[0m │\n",
              "├─────────────────────────────────┼────────────────────────┼───────────────┤\n",
              "│ dense_1 (\u001b[38;5;33mDense\u001b[0m)                 │ (\u001b[38;5;45mNone\u001b[0m, \u001b[38;5;34m10\u001b[0m)             │         \u001b[38;5;34m5,130\u001b[0m │\n",
              "└─────────────────────────────────┴────────────────────────┴───────────────┘\n"
            ],
            "text/html": [
              "<pre style=\"white-space:pre;overflow-x:auto;line-height:normal;font-family:Menlo,'DejaVu Sans Mono',consolas,'Courier New',monospace\">┏━━━━━━━━━━━━━━━━━━━━━━━━━━━━━━━━━┳━━━━━━━━━━━━━━━━━━━━━━━━┳━━━━━━━━━━━━━━━┓\n",
              "┃<span style=\"font-weight: bold\"> Layer (type)                    </span>┃<span style=\"font-weight: bold\"> Output Shape           </span>┃<span style=\"font-weight: bold\">       Param # </span>┃\n",
              "┡━━━━━━━━━━━━━━━━━━━━━━━━━━━━━━━━━╇━━━━━━━━━━━━━━━━━━━━━━━━╇━━━━━━━━━━━━━━━┩\n",
              "│ dense (<span style=\"color: #0087ff; text-decoration-color: #0087ff\">Dense</span>)                   │ (<span style=\"color: #00d7ff; text-decoration-color: #00d7ff\">None</span>, <span style=\"color: #00af00; text-decoration-color: #00af00\">512</span>)            │       <span style=\"color: #00af00; text-decoration-color: #00af00\">401,920</span> │\n",
              "├─────────────────────────────────┼────────────────────────┼───────────────┤\n",
              "│ dropout (<span style=\"color: #0087ff; text-decoration-color: #0087ff\">Dropout</span>)               │ (<span style=\"color: #00d7ff; text-decoration-color: #00d7ff\">None</span>, <span style=\"color: #00af00; text-decoration-color: #00af00\">512</span>)            │             <span style=\"color: #00af00; text-decoration-color: #00af00\">0</span> │\n",
              "├─────────────────────────────────┼────────────────────────┼───────────────┤\n",
              "│ dense_1 (<span style=\"color: #0087ff; text-decoration-color: #0087ff\">Dense</span>)                 │ (<span style=\"color: #00d7ff; text-decoration-color: #00d7ff\">None</span>, <span style=\"color: #00af00; text-decoration-color: #00af00\">10</span>)             │         <span style=\"color: #00af00; text-decoration-color: #00af00\">5,130</span> │\n",
              "└─────────────────────────────────┴────────────────────────┴───────────────┘\n",
              "</pre>\n"
            ]
          },
          "metadata": {}
        },
        {
          "output_type": "display_data",
          "data": {
            "text/plain": [
              "\u001b[1m Total params: \u001b[0m\u001b[38;5;34m407,050\u001b[0m (1.55 MB)\n"
            ],
            "text/html": [
              "<pre style=\"white-space:pre;overflow-x:auto;line-height:normal;font-family:Menlo,'DejaVu Sans Mono',consolas,'Courier New',monospace\"><span style=\"font-weight: bold\"> Total params: </span><span style=\"color: #00af00; text-decoration-color: #00af00\">407,050</span> (1.55 MB)\n",
              "</pre>\n"
            ]
          },
          "metadata": {}
        },
        {
          "output_type": "display_data",
          "data": {
            "text/plain": [
              "\u001b[1m Trainable params: \u001b[0m\u001b[38;5;34m407,050\u001b[0m (1.55 MB)\n"
            ],
            "text/html": [
              "<pre style=\"white-space:pre;overflow-x:auto;line-height:normal;font-family:Menlo,'DejaVu Sans Mono',consolas,'Courier New',monospace\"><span style=\"font-weight: bold\"> Trainable params: </span><span style=\"color: #00af00; text-decoration-color: #00af00\">407,050</span> (1.55 MB)\n",
              "</pre>\n"
            ]
          },
          "metadata": {}
        },
        {
          "output_type": "display_data",
          "data": {
            "text/plain": [
              "\u001b[1m Non-trainable params: \u001b[0m\u001b[38;5;34m0\u001b[0m (0.00 B)\n"
            ],
            "text/html": [
              "<pre style=\"white-space:pre;overflow-x:auto;line-height:normal;font-family:Menlo,'DejaVu Sans Mono',consolas,'Courier New',monospace\"><span style=\"font-weight: bold\"> Non-trainable params: </span><span style=\"color: #00af00; text-decoration-color: #00af00\">0</span> (0.00 B)\n",
              "</pre>\n"
            ]
          },
          "metadata": {}
        }
      ]
    },
    {
      "cell_type": "markdown",
      "metadata": {
        "id": "d3n8nqGqAU1q"
      },
      "source": [
        "### <a name='a3'> </a> 4. Zapisywanie punktów kontrolnych podczas trenowania"
      ]
    },
    {
      "cell_type": "code",
      "metadata": {
        "id": "o-dNZfs-AP4G"
      },
      "source": [
        "checkpoint_path = 'training/cp.weights.h5'\n",
        "checkpoint_dir = os.path.dirname(checkpoint_path)"
      ],
      "execution_count": 8,
      "outputs": []
    },
    {
      "cell_type": "code",
      "metadata": {
        "id": "djxpL94pAryk",
        "colab": {
          "base_uri": "https://localhost:8080/"
        },
        "outputId": "8d408354-4983-4d6b-aaf0-1e8ce713e576"
      },
      "source": [
        "cp_callback = tf.keras.callbacks.ModelCheckpoint(filepath=checkpoint_path,\n",
        "                              save_weights_only=True,\n",
        "                              verbose=1)\n",
        "\n",
        "model.fit(train_images, train_labels, epochs=10, validation_data=(test_images, test_labels), callbacks=[cp_callback])"
      ],
      "execution_count": 9,
      "outputs": [
        {
          "output_type": "stream",
          "name": "stdout",
          "text": [
            "Epoch 1/10\n",
            "\u001b[1m27/32\u001b[0m \u001b[32m━━━━━━━━━━━━━━━━\u001b[0m\u001b[37m━━━━\u001b[0m \u001b[1m0s\u001b[0m 8ms/step - accuracy: 0.4463 - loss: 1.7244\n",
            "Epoch 1: saving model to training/cp.weights.h5\n",
            "\u001b[1m32/32\u001b[0m \u001b[32m━━━━━━━━━━━━━━━━━━━━\u001b[0m\u001b[37m\u001b[0m \u001b[1m2s\u001b[0m 21ms/step - accuracy: 0.4830 - loss: 1.6295 - val_accuracy: 0.7860 - val_loss: 0.7140\n",
            "Epoch 2/10\n",
            "\u001b[1m31/32\u001b[0m \u001b[32m━━━━━━━━━━━━━━━━━━━\u001b[0m\u001b[37m━\u001b[0m \u001b[1m0s\u001b[0m 7ms/step - accuracy: 0.8691 - loss: 0.4662\n",
            "Epoch 2: saving model to training/cp.weights.h5\n",
            "\u001b[1m32/32\u001b[0m \u001b[32m━━━━━━━━━━━━━━━━━━━━\u001b[0m\u001b[37m\u001b[0m \u001b[1m0s\u001b[0m 13ms/step - accuracy: 0.8697 - loss: 0.4644 - val_accuracy: 0.8120 - val_loss: 0.5659\n",
            "Epoch 3/10\n",
            "\u001b[1m32/32\u001b[0m \u001b[32m━━━━━━━━━━━━━━━━━━━━\u001b[0m\u001b[37m\u001b[0m \u001b[1m0s\u001b[0m 7ms/step - accuracy: 0.9224 - loss: 0.3132\n",
            "Epoch 3: saving model to training/cp.weights.h5\n",
            "\u001b[1m32/32\u001b[0m \u001b[32m━━━━━━━━━━━━━━━━━━━━\u001b[0m\u001b[37m\u001b[0m \u001b[1m0s\u001b[0m 14ms/step - accuracy: 0.9226 - loss: 0.3125 - val_accuracy: 0.8530 - val_loss: 0.4626\n",
            "Epoch 4/10\n",
            "\u001b[1m27/32\u001b[0m \u001b[32m━━━━━━━━━━━━━━━━\u001b[0m\u001b[37m━━━━\u001b[0m \u001b[1m0s\u001b[0m 10ms/step - accuracy: 0.9508 - loss: 0.2001\n",
            "Epoch 4: saving model to training/cp.weights.h5\n",
            "\u001b[1m32/32\u001b[0m \u001b[32m━━━━━━━━━━━━━━━━━━━━\u001b[0m\u001b[37m\u001b[0m \u001b[1m1s\u001b[0m 16ms/step - accuracy: 0.9504 - loss: 0.2029 - val_accuracy: 0.8620 - val_loss: 0.4270\n",
            "Epoch 5/10\n",
            "\u001b[1m26/32\u001b[0m \u001b[32m━━━━━━━━━━━━━━━━\u001b[0m\u001b[37m━━━━\u001b[0m \u001b[1m0s\u001b[0m 8ms/step - accuracy: 0.9771 - loss: 0.1260\n",
            "Epoch 5: saving model to training/cp.weights.h5\n",
            "\u001b[1m32/32\u001b[0m \u001b[32m━━━━━━━━━━━━━━━━━━━━\u001b[0m\u001b[37m\u001b[0m \u001b[1m0s\u001b[0m 15ms/step - accuracy: 0.9748 - loss: 0.1301 - val_accuracy: 0.8630 - val_loss: 0.4143\n",
            "Epoch 6/10\n",
            "\u001b[1m31/32\u001b[0m \u001b[32m━━━━━━━━━━━━━━━━━━━\u001b[0m\u001b[37m━\u001b[0m \u001b[1m0s\u001b[0m 7ms/step - accuracy: 0.9628 - loss: 0.1336\n",
            "Epoch 6: saving model to training/cp.weights.h5\n",
            "\u001b[1m32/32\u001b[0m \u001b[32m━━━━━━━━━━━━━━━━━━━━\u001b[0m\u001b[37m\u001b[0m \u001b[1m1s\u001b[0m 13ms/step - accuracy: 0.9628 - loss: 0.1335 - val_accuracy: 0.8600 - val_loss: 0.4105\n",
            "Epoch 7/10\n",
            "\u001b[1m30/32\u001b[0m \u001b[32m━━━━━━━━━━━━━━━━━━\u001b[0m\u001b[37m━━\u001b[0m \u001b[1m0s\u001b[0m 9ms/step - accuracy: 0.9937 - loss: 0.0852 \n",
            "Epoch 7: saving model to training/cp.weights.h5\n",
            "\u001b[1m32/32\u001b[0m \u001b[32m━━━━━━━━━━━━━━━━━━━━\u001b[0m\u001b[37m\u001b[0m \u001b[1m1s\u001b[0m 16ms/step - accuracy: 0.9931 - loss: 0.0856 - val_accuracy: 0.8700 - val_loss: 0.4090\n",
            "Epoch 8/10\n",
            "\u001b[1m31/32\u001b[0m \u001b[32m━━━━━━━━━━━━━━━━━━━\u001b[0m\u001b[37m━\u001b[0m \u001b[1m0s\u001b[0m 9ms/step - accuracy: 0.9942 - loss: 0.0668\n",
            "Epoch 8: saving model to training/cp.weights.h5\n",
            "\u001b[1m32/32\u001b[0m \u001b[32m━━━━━━━━━━━━━━━━━━━━\u001b[0m\u001b[37m\u001b[0m \u001b[1m1s\u001b[0m 16ms/step - accuracy: 0.9941 - loss: 0.0666 - val_accuracy: 0.8680 - val_loss: 0.4206\n",
            "Epoch 9/10\n",
            "\u001b[1m29/32\u001b[0m \u001b[32m━━━━━━━━━━━━━━━━━━\u001b[0m\u001b[37m━━\u001b[0m \u001b[1m0s\u001b[0m 8ms/step - accuracy: 0.9946 - loss: 0.0577\n",
            "Epoch 9: saving model to training/cp.weights.h5\n",
            "\u001b[1m32/32\u001b[0m \u001b[32m━━━━━━━━━━━━━━━━━━━━\u001b[0m\u001b[37m\u001b[0m \u001b[1m0s\u001b[0m 14ms/step - accuracy: 0.9948 - loss: 0.0572 - val_accuracy: 0.8740 - val_loss: 0.4016\n",
            "Epoch 10/10\n",
            "\u001b[1m31/32\u001b[0m \u001b[32m━━━━━━━━━━━━━━━━━━━\u001b[0m\u001b[37m━\u001b[0m \u001b[1m0s\u001b[0m 7ms/step - accuracy: 0.9998 - loss: 0.0388\n",
            "Epoch 10: saving model to training/cp.weights.h5\n",
            "\u001b[1m32/32\u001b[0m \u001b[32m━━━━━━━━━━━━━━━━━━━━\u001b[0m\u001b[37m\u001b[0m \u001b[1m0s\u001b[0m 14ms/step - accuracy: 0.9997 - loss: 0.0388 - val_accuracy: 0.8660 - val_loss: 0.4117\n"
          ]
        },
        {
          "output_type": "execute_result",
          "data": {
            "text/plain": [
              "<keras.src.callbacks.history.History at 0x79fdce060f90>"
            ]
          },
          "metadata": {},
          "execution_count": 9
        }
      ]
    },
    {
      "cell_type": "code",
      "metadata": {
        "id": "6BUsATRjBKnY",
        "colab": {
          "base_uri": "https://localhost:8080/"
        },
        "outputId": "9d4191a7-0916-403c-f6cb-33792d2b7457"
      },
      "source": [
        "ls -l {checkpoint_dir}"
      ],
      "execution_count": 10,
      "outputs": [
        {
          "output_type": "stream",
          "name": "stdout",
          "text": [
            "total 4792\n",
            "-rw-r--r-- 1 root root 4906368 Jun  4 18:37 cp.weights.h5\n"
          ]
        }
      ]
    },
    {
      "cell_type": "markdown",
      "metadata": {
        "id": "_NnhVksfB-7r"
      },
      "source": [
        "### <a name='a4'> </a> 5. Załadowanie wag do modelu"
      ]
    },
    {
      "cell_type": "code",
      "metadata": {
        "id": "VGogndNiBnpf",
        "colab": {
          "base_uri": "https://localhost:8080/"
        },
        "outputId": "7dbc1be8-eada-4ab3-ce4b-c4a3cd230ad2"
      },
      "source": [
        "model = create_model()\n",
        "\n",
        "loss, acc = model.evaluate(test_images, test_labels, verbose=2)\n",
        "print(acc)"
      ],
      "execution_count": 11,
      "outputs": [
        {
          "output_type": "stream",
          "name": "stdout",
          "text": [
            "32/32 - 1s - 17ms/step - accuracy: 0.0950 - loss: 2.4226\n",
            "0.0949999988079071\n"
          ]
        }
      ]
    },
    {
      "cell_type": "code",
      "metadata": {
        "id": "3zGt9VvDCMfF",
        "colab": {
          "base_uri": "https://localhost:8080/"
        },
        "outputId": "565e88dd-3a7f-4ecd-c4a4-0db9d48a6c6a"
      },
      "source": [
        "model.load_weights(checkpoint_path)\n",
        "\n",
        "loss, acc = model.evaluate(test_images, test_labels, verbose=2)\n",
        "print(acc)"
      ],
      "execution_count": 12,
      "outputs": [
        {
          "output_type": "stream",
          "name": "stdout",
          "text": [
            "32/32 - 0s - 3ms/step - accuracy: 0.8660 - loss: 0.4117\n"
          ]
        },
        {
          "output_type": "stream",
          "name": "stderr",
          "text": [
            "/usr/local/lib/python3.11/dist-packages/keras/src/saving/saving_lib.py:757: UserWarning: Skipping variable loading for optimizer 'adam', because it has 2 variables whereas the saved optimizer has 10 variables. \n",
            "  saveable.load_own_variables(weights_store.get(inner_path))\n"
          ]
        },
        {
          "output_type": "stream",
          "name": "stdout",
          "text": [
            "0.8659999966621399\n"
          ]
        }
      ]
    },
    {
      "cell_type": "markdown",
      "metadata": {
        "id": "mYNgLmH1D05K"
      },
      "source": [
        "### <a name='a5'> </a> 6. Dodatkowe opcje"
      ]
    },
    {
      "cell_type": "code",
      "metadata": {
        "id": "YNxS9XAPHmfj"
      },
      "source": [
        "!rm -rf ./training"
      ],
      "execution_count": 21,
      "outputs": []
    },
    {
      "cell_type": "code",
      "metadata": {
        "id": "a6UE41gQCu6f",
        "colab": {
          "base_uri": "https://localhost:8080/"
        },
        "outputId": "20e17343-08ce-40b6-8fcd-c78c75796e18"
      },
      "source": [
        "checkpoint_path = 'training/checkpoint.weights.h5'\n",
        "checkpoint_dir = os.path.dirname(checkpoint_path)\n",
        "\n",
        "cp_callback = tf.keras.callbacks.ModelCheckpoint(filepath=checkpoint_path,\n",
        "                              save_weights_only=True,\n",
        "                              verbose=1,\n",
        "                              save_best_only=True)\n",
        "\n",
        "model = create_model()\n",
        "\n",
        "model.fit(train_images, train_labels, epochs=50, validation_data=(test_images, test_labels), callbacks=[cp_callback], verbose=0)"
      ],
      "execution_count": 22,
      "outputs": [
        {
          "output_type": "stream",
          "name": "stdout",
          "text": [
            "\n",
            "Epoch 1: val_loss improved from inf to 0.69423, saving model to training/checkpoint.weights.h5\n",
            "\n",
            "Epoch 2: val_loss improved from 0.69423 to 0.52106, saving model to training/checkpoint.weights.h5\n",
            "\n",
            "Epoch 3: val_loss improved from 0.52106 to 0.49049, saving model to training/checkpoint.weights.h5\n",
            "\n",
            "Epoch 4: val_loss improved from 0.49049 to 0.48941, saving model to training/checkpoint.weights.h5\n",
            "\n",
            "Epoch 5: val_loss improved from 0.48941 to 0.42731, saving model to training/checkpoint.weights.h5\n",
            "\n",
            "Epoch 6: val_loss improved from 0.42731 to 0.41591, saving model to training/checkpoint.weights.h5\n",
            "\n",
            "Epoch 7: val_loss improved from 0.41591 to 0.41085, saving model to training/checkpoint.weights.h5\n",
            "\n",
            "Epoch 8: val_loss improved from 0.41085 to 0.40392, saving model to training/checkpoint.weights.h5\n",
            "\n",
            "Epoch 9: val_loss did not improve from 0.40392\n",
            "\n",
            "Epoch 10: val_loss did not improve from 0.40392\n",
            "\n",
            "Epoch 11: val_loss improved from 0.40392 to 0.40042, saving model to training/checkpoint.weights.h5\n",
            "\n",
            "Epoch 12: val_loss did not improve from 0.40042\n",
            "\n",
            "Epoch 13: val_loss did not improve from 0.40042\n",
            "\n",
            "Epoch 14: val_loss did not improve from 0.40042\n",
            "\n",
            "Epoch 15: val_loss did not improve from 0.40042\n",
            "\n",
            "Epoch 16: val_loss did not improve from 0.40042\n",
            "\n",
            "Epoch 17: val_loss did not improve from 0.40042\n",
            "\n",
            "Epoch 18: val_loss did not improve from 0.40042\n",
            "\n",
            "Epoch 19: val_loss did not improve from 0.40042\n",
            "\n",
            "Epoch 20: val_loss did not improve from 0.40042\n",
            "\n",
            "Epoch 21: val_loss did not improve from 0.40042\n",
            "\n",
            "Epoch 22: val_loss did not improve from 0.40042\n",
            "\n",
            "Epoch 23: val_loss did not improve from 0.40042\n",
            "\n",
            "Epoch 24: val_loss did not improve from 0.40042\n",
            "\n",
            "Epoch 25: val_loss did not improve from 0.40042\n",
            "\n",
            "Epoch 26: val_loss did not improve from 0.40042\n",
            "\n",
            "Epoch 27: val_loss did not improve from 0.40042\n",
            "\n",
            "Epoch 28: val_loss did not improve from 0.40042\n",
            "\n",
            "Epoch 29: val_loss did not improve from 0.40042\n",
            "\n",
            "Epoch 30: val_loss did not improve from 0.40042\n",
            "\n",
            "Epoch 31: val_loss did not improve from 0.40042\n",
            "\n",
            "Epoch 32: val_loss did not improve from 0.40042\n",
            "\n",
            "Epoch 33: val_loss did not improve from 0.40042\n",
            "\n",
            "Epoch 34: val_loss did not improve from 0.40042\n",
            "\n",
            "Epoch 35: val_loss did not improve from 0.40042\n",
            "\n",
            "Epoch 36: val_loss did not improve from 0.40042\n",
            "\n",
            "Epoch 37: val_loss did not improve from 0.40042\n",
            "\n",
            "Epoch 38: val_loss did not improve from 0.40042\n",
            "\n",
            "Epoch 39: val_loss did not improve from 0.40042\n",
            "\n",
            "Epoch 40: val_loss did not improve from 0.40042\n",
            "\n",
            "Epoch 41: val_loss did not improve from 0.40042\n",
            "\n",
            "Epoch 42: val_loss did not improve from 0.40042\n",
            "\n",
            "Epoch 43: val_loss did not improve from 0.40042\n",
            "\n",
            "Epoch 44: val_loss did not improve from 0.40042\n",
            "\n",
            "Epoch 45: val_loss did not improve from 0.40042\n",
            "\n",
            "Epoch 46: val_loss did not improve from 0.40042\n",
            "\n",
            "Epoch 47: val_loss did not improve from 0.40042\n",
            "\n",
            "Epoch 48: val_loss did not improve from 0.40042\n",
            "\n",
            "Epoch 49: val_loss did not improve from 0.40042\n",
            "\n",
            "Epoch 50: val_loss did not improve from 0.40042\n"
          ]
        },
        {
          "output_type": "execute_result",
          "data": {
            "text/plain": [
              "<keras.src.callbacks.history.History at 0x79fdbee59550>"
            ]
          },
          "metadata": {},
          "execution_count": 22
        }
      ]
    },
    {
      "cell_type": "code",
      "metadata": {
        "id": "3-AHX5juEcY9",
        "colab": {
          "base_uri": "https://localhost:8080/"
        },
        "outputId": "326a1cfe-1c22-4cdb-dfb1-23c8538aae95"
      },
      "source": [
        "!ls -l ./training"
      ],
      "execution_count": 30,
      "outputs": [
        {
          "output_type": "stream",
          "name": "stdout",
          "text": [
            "total 4792\n",
            "-rw-r--r-- 1 root root 4906368 Jun  4 18:42 checkpoint.weights.h5\n"
          ]
        }
      ]
    },
    {
      "cell_type": "code",
      "metadata": {
        "id": "97MrbQqJFp2s",
        "colab": {
          "base_uri": "https://localhost:8080/"
        },
        "outputId": "dc468f6d-52ea-48f6-f046-b6858fd5d563"
      },
      "source": [
        "model = create_model()\n",
        "model.load_weights('training/checkpoint.weights.h5') # Zmieniona linia\n",
        "\n",
        "loss, acc = model.evaluate(test_images, test_labels, verbose=2)\n",
        "print(acc)"
      ],
      "execution_count": 29,
      "outputs": [
        {
          "output_type": "stream",
          "name": "stderr",
          "text": [
            "/usr/local/lib/python3.11/dist-packages/keras/src/saving/saving_lib.py:757: UserWarning: Skipping variable loading for optimizer 'adam', because it has 2 variables whereas the saved optimizer has 10 variables. \n",
            "  saveable.load_own_variables(weights_store.get(inner_path))\n"
          ]
        },
        {
          "output_type": "stream",
          "name": "stdout",
          "text": [
            "32/32 - 0s - 12ms/step - accuracy: 0.8730 - loss: 0.4004\n",
            "0.8730000257492065\n"
          ]
        }
      ]
    },
    {
      "cell_type": "markdown",
      "metadata": {
        "id": "mz-fWfcgGKGo"
      },
      "source": [
        "### <a name='a6'> </a> 7. Ręczne zapisywanie wag"
      ]
    },
    {
      "cell_type": "code",
      "metadata": {
        "id": "MKC-tEIHF40H",
        "colab": {
          "base_uri": "https://localhost:8080/"
        },
        "outputId": "5c6fac8c-e412-4838-c4b8-a46a1b59c253"
      },
      "source": [
        "checkpoint_dir = './checkpoints'\n",
        "if not os.path.exists(checkpoint_dir):\n",
        "    os.makedirs(checkpoint_dir)\n",
        "\n",
        "model.save_weights('./checkpoints/my_checkpoint.weights.h5')\n",
        "\n",
        "model = create_model()\n",
        "\n",
        "model.load_weights('./checkpoints/my_checkpoint.weights.h5')\n",
        "\n",
        "loss, acc = model.evaluate(test_images, test_labels, verbose=2)\n",
        "print(acc)"
      ],
      "execution_count": 33,
      "outputs": [
        {
          "output_type": "stream",
          "name": "stdout",
          "text": [
            "32/32 - 0s - 14ms/step - accuracy: 0.8730 - loss: 0.4004\n",
            "0.8730000257492065\n"
          ]
        }
      ]
    },
    {
      "cell_type": "code",
      "metadata": {
        "id": "IAD7o2W3GjHm",
        "colab": {
          "base_uri": "https://localhost:8080/"
        },
        "outputId": "622ab168-0118-42d9-e528-822c0a970d7c"
      },
      "source": [
        "!ls -l checkpoints/"
      ],
      "execution_count": 34,
      "outputs": [
        {
          "output_type": "stream",
          "name": "stdout",
          "text": [
            "total 1612\n",
            "-rw-r--r-- 1 root root 1647248 Jun  4 18:52 my_checkpoint.weights.h5\n"
          ]
        }
      ]
    },
    {
      "cell_type": "markdown",
      "metadata": {
        "id": "ZXqSRptdG2ba"
      },
      "source": [
        "### <a name='a7'> </a> 8. Zapisanie całego modelu"
      ]
    },
    {
      "cell_type": "code",
      "metadata": {
        "id": "uUAb5awSGrlF",
        "colab": {
          "base_uri": "https://localhost:8080/"
        },
        "outputId": "b45c46be-e352-4b09-f077-aaefdc31024f"
      },
      "source": [
        "model = create_model()\n",
        "model.fit(train_images, train_labels, epochs=5)\n",
        "model.save('my_model.h5')"
      ],
      "execution_count": 35,
      "outputs": [
        {
          "output_type": "stream",
          "name": "stdout",
          "text": [
            "Epoch 1/5\n",
            "\u001b[1m32/32\u001b[0m \u001b[32m━━━━━━━━━━━━━━━━━━━━\u001b[0m\u001b[37m\u001b[0m \u001b[1m1s\u001b[0m 8ms/step - accuracy: 0.5413 - loss: 1.5646\n",
            "Epoch 2/5\n",
            "\u001b[1m32/32\u001b[0m \u001b[32m━━━━━━━━━━━━━━━━━━━━\u001b[0m\u001b[37m\u001b[0m \u001b[1m0s\u001b[0m 8ms/step - accuracy: 0.8861 - loss: 0.4260\n",
            "Epoch 3/5\n",
            "\u001b[1m32/32\u001b[0m \u001b[32m━━━━━━━━━━━━━━━━━━━━\u001b[0m\u001b[37m\u001b[0m \u001b[1m0s\u001b[0m 8ms/step - accuracy: 0.9468 - loss: 0.2526\n",
            "Epoch 4/5\n",
            "\u001b[1m32/32\u001b[0m \u001b[32m━━━━━━━━━━━━━━━━━━━━\u001b[0m\u001b[37m\u001b[0m \u001b[1m0s\u001b[0m 8ms/step - accuracy: 0.9556 - loss: 0.2086\n",
            "Epoch 5/5\n",
            "\u001b[1m32/32\u001b[0m \u001b[32m━━━━━━━━━━━━━━━━━━━━\u001b[0m\u001b[37m\u001b[0m \u001b[1m0s\u001b[0m 9ms/step - accuracy: 0.9664 - loss: 0.1403\n"
          ]
        },
        {
          "output_type": "stream",
          "name": "stderr",
          "text": [
            "WARNING:absl:You are saving your model as an HDF5 file via `model.save()` or `keras.saving.save_model(model)`. This file format is considered legacy. We recommend using instead the native Keras format, e.g. `model.save('my_model.keras')` or `keras.saving.save_model(model, 'my_model.keras')`. \n"
          ]
        }
      ]
    },
    {
      "cell_type": "code",
      "metadata": {
        "id": "WCUeP6g0HAL4",
        "colab": {
          "base_uri": "https://localhost:8080/",
          "height": 264
        },
        "outputId": "897409e9-58e7-47ad-c33e-9163046ca3fa"
      },
      "source": [
        "new_model = tf.keras.models.load_model('my_model.h5')\n",
        "new_model.summary()"
      ],
      "execution_count": 36,
      "outputs": [
        {
          "output_type": "stream",
          "name": "stderr",
          "text": [
            "WARNING:absl:Compiled the loaded model, but the compiled metrics have yet to be built. `model.compile_metrics` will be empty until you train or evaluate the model.\n"
          ]
        },
        {
          "output_type": "display_data",
          "data": {
            "text/plain": [
              "\u001b[1mModel: \"sequential_7\"\u001b[0m\n"
            ],
            "text/html": [
              "<pre style=\"white-space:pre;overflow-x:auto;line-height:normal;font-family:Menlo,'DejaVu Sans Mono',consolas,'Courier New',monospace\"><span style=\"font-weight: bold\">Model: \"sequential_7\"</span>\n",
              "</pre>\n"
            ]
          },
          "metadata": {}
        },
        {
          "output_type": "display_data",
          "data": {
            "text/plain": [
              "┏━━━━━━━━━━━━━━━━━━━━━━━━━━━━━━━━━┳━━━━━━━━━━━━━━━━━━━━━━━━┳━━━━━━━━━━━━━━━┓\n",
              "┃\u001b[1m \u001b[0m\u001b[1mLayer (type)                   \u001b[0m\u001b[1m \u001b[0m┃\u001b[1m \u001b[0m\u001b[1mOutput Shape          \u001b[0m\u001b[1m \u001b[0m┃\u001b[1m \u001b[0m\u001b[1m      Param #\u001b[0m\u001b[1m \u001b[0m┃\n",
              "┡━━━━━━━━━━━━━━━━━━━━━━━━━━━━━━━━━╇━━━━━━━━━━━━━━━━━━━━━━━━╇━━━━━━━━━━━━━━━┩\n",
              "│ dense_14 (\u001b[38;5;33mDense\u001b[0m)                │ (\u001b[38;5;45mNone\u001b[0m, \u001b[38;5;34m512\u001b[0m)            │       \u001b[38;5;34m401,920\u001b[0m │\n",
              "├─────────────────────────────────┼────────────────────────┼───────────────┤\n",
              "│ dropout_7 (\u001b[38;5;33mDropout\u001b[0m)             │ (\u001b[38;5;45mNone\u001b[0m, \u001b[38;5;34m512\u001b[0m)            │             \u001b[38;5;34m0\u001b[0m │\n",
              "├─────────────────────────────────┼────────────────────────┼───────────────┤\n",
              "│ dense_15 (\u001b[38;5;33mDense\u001b[0m)                │ (\u001b[38;5;45mNone\u001b[0m, \u001b[38;5;34m10\u001b[0m)             │         \u001b[38;5;34m5,130\u001b[0m │\n",
              "└─────────────────────────────────┴────────────────────────┴───────────────┘\n"
            ],
            "text/html": [
              "<pre style=\"white-space:pre;overflow-x:auto;line-height:normal;font-family:Menlo,'DejaVu Sans Mono',consolas,'Courier New',monospace\">┏━━━━━━━━━━━━━━━━━━━━━━━━━━━━━━━━━┳━━━━━━━━━━━━━━━━━━━━━━━━┳━━━━━━━━━━━━━━━┓\n",
              "┃<span style=\"font-weight: bold\"> Layer (type)                    </span>┃<span style=\"font-weight: bold\"> Output Shape           </span>┃<span style=\"font-weight: bold\">       Param # </span>┃\n",
              "┡━━━━━━━━━━━━━━━━━━━━━━━━━━━━━━━━━╇━━━━━━━━━━━━━━━━━━━━━━━━╇━━━━━━━━━━━━━━━┩\n",
              "│ dense_14 (<span style=\"color: #0087ff; text-decoration-color: #0087ff\">Dense</span>)                │ (<span style=\"color: #00d7ff; text-decoration-color: #00d7ff\">None</span>, <span style=\"color: #00af00; text-decoration-color: #00af00\">512</span>)            │       <span style=\"color: #00af00; text-decoration-color: #00af00\">401,920</span> │\n",
              "├─────────────────────────────────┼────────────────────────┼───────────────┤\n",
              "│ dropout_7 (<span style=\"color: #0087ff; text-decoration-color: #0087ff\">Dropout</span>)             │ (<span style=\"color: #00d7ff; text-decoration-color: #00d7ff\">None</span>, <span style=\"color: #00af00; text-decoration-color: #00af00\">512</span>)            │             <span style=\"color: #00af00; text-decoration-color: #00af00\">0</span> │\n",
              "├─────────────────────────────────┼────────────────────────┼───────────────┤\n",
              "│ dense_15 (<span style=\"color: #0087ff; text-decoration-color: #0087ff\">Dense</span>)                │ (<span style=\"color: #00d7ff; text-decoration-color: #00d7ff\">None</span>, <span style=\"color: #00af00; text-decoration-color: #00af00\">10</span>)             │         <span style=\"color: #00af00; text-decoration-color: #00af00\">5,130</span> │\n",
              "└─────────────────────────────────┴────────────────────────┴───────────────┘\n",
              "</pre>\n"
            ]
          },
          "metadata": {}
        },
        {
          "output_type": "display_data",
          "data": {
            "text/plain": [
              "\u001b[1m Total params: \u001b[0m\u001b[38;5;34m407,052\u001b[0m (1.55 MB)\n"
            ],
            "text/html": [
              "<pre style=\"white-space:pre;overflow-x:auto;line-height:normal;font-family:Menlo,'DejaVu Sans Mono',consolas,'Courier New',monospace\"><span style=\"font-weight: bold\"> Total params: </span><span style=\"color: #00af00; text-decoration-color: #00af00\">407,052</span> (1.55 MB)\n",
              "</pre>\n"
            ]
          },
          "metadata": {}
        },
        {
          "output_type": "display_data",
          "data": {
            "text/plain": [
              "\u001b[1m Trainable params: \u001b[0m\u001b[38;5;34m407,050\u001b[0m (1.55 MB)\n"
            ],
            "text/html": [
              "<pre style=\"white-space:pre;overflow-x:auto;line-height:normal;font-family:Menlo,'DejaVu Sans Mono',consolas,'Courier New',monospace\"><span style=\"font-weight: bold\"> Trainable params: </span><span style=\"color: #00af00; text-decoration-color: #00af00\">407,050</span> (1.55 MB)\n",
              "</pre>\n"
            ]
          },
          "metadata": {}
        },
        {
          "output_type": "display_data",
          "data": {
            "text/plain": [
              "\u001b[1m Non-trainable params: \u001b[0m\u001b[38;5;34m0\u001b[0m (0.00 B)\n"
            ],
            "text/html": [
              "<pre style=\"white-space:pre;overflow-x:auto;line-height:normal;font-family:Menlo,'DejaVu Sans Mono',consolas,'Courier New',monospace\"><span style=\"font-weight: bold\"> Non-trainable params: </span><span style=\"color: #00af00; text-decoration-color: #00af00\">0</span> (0.00 B)\n",
              "</pre>\n"
            ]
          },
          "metadata": {}
        },
        {
          "output_type": "display_data",
          "data": {
            "text/plain": [
              "\u001b[1m Optimizer params: \u001b[0m\u001b[38;5;34m2\u001b[0m (12.00 B)\n"
            ],
            "text/html": [
              "<pre style=\"white-space:pre;overflow-x:auto;line-height:normal;font-family:Menlo,'DejaVu Sans Mono',consolas,'Courier New',monospace\"><span style=\"font-weight: bold\"> Optimizer params: </span><span style=\"color: #00af00; text-decoration-color: #00af00\">2</span> (12.00 B)\n",
              "</pre>\n"
            ]
          },
          "metadata": {}
        }
      ]
    },
    {
      "cell_type": "code",
      "metadata": {
        "id": "jYpSl2VBHhvw",
        "colab": {
          "base_uri": "https://localhost:8080/"
        },
        "outputId": "0bf1c22d-82fd-482b-bc0a-a51c81f76ced"
      },
      "source": [
        "loss, acc = new_model.evaluate(test_images, test_labels, verbose=2)\n",
        "print(acc)"
      ],
      "execution_count": 37,
      "outputs": [
        {
          "output_type": "stream",
          "name": "stdout",
          "text": [
            "32/32 - 0s - 14ms/step - accuracy: 0.8640 - loss: 0.4225\n",
            "0.8640000224113464\n"
          ]
        }
      ]
    }
  ]
}