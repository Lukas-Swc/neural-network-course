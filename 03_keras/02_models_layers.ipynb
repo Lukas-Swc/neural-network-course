{
  "nbformat": 4,
  "nbformat_minor": 0,
  "metadata": {
    "colab": {
      "provenance": [],
      "authorship_tag": "ABX9TyPFRSOXx5XSYqVHpl3PCaae",
      "include_colab_link": true
    },
    "kernelspec": {
      "name": "python3",
      "display_name": "Python 3"
    },
    "language_info": {
      "name": "python"
    }
  },
  "cells": [
    {
      "cell_type": "markdown",
      "metadata": {
        "id": "view-in-github",
        "colab_type": "text"
      },
      "source": [
        "<a href=\"https://colab.research.google.com/github/Lukas-Swc/neural-network-course/blob/main/03_keras/02_models_layers.ipynb\" target=\"_parent\"><img src=\"https://colab.research.google.com/assets/colab-badge.svg\" alt=\"Open In Colab\"/></a>"
      ]
    },
    {
      "cell_type": "markdown",
      "metadata": {
        "id": "2pcjQyULGHOU"
      },
      "source": [
        "### Warstwy w bibliotece Keras"
      ]
    },
    {
      "cell_type": "code",
      "metadata": {
        "id": "ozTByixeE6qy",
        "colab": {
          "base_uri": "https://localhost:8080/",
          "height": 36
        },
        "outputId": "90bdc77c-6a5e-4fb3-bd29-be99172592d2"
      },
      "source": [
        "import numpy as np\n",
        "import plotly.express as px\n",
        "import tensorflow as tf\n",
        "tf.__version__"
      ],
      "execution_count": 1,
      "outputs": [
        {
          "output_type": "execute_result",
          "data": {
            "text/plain": [
              "'2.18.0'"
            ],
            "application/vnd.google.colaboratory.intrinsic+json": {
              "type": "string"
            }
          },
          "metadata": {},
          "execution_count": 1
        }
      ]
    },
    {
      "cell_type": "code",
      "metadata": {
        "id": "4dJSEcqtFhnA",
        "colab": {
          "base_uri": "https://localhost:8080/"
        },
        "outputId": "5b3d337f-1575-4185-f78d-17c7b8607a84"
      },
      "source": [
        "(X_train, y_train), (X_test, y_test) = tf.keras.datasets.mnist.load_data()"
      ],
      "execution_count": 2,
      "outputs": [
        {
          "output_type": "stream",
          "name": "stdout",
          "text": [
            "Downloading data from https://storage.googleapis.com/tensorflow/tf-keras-datasets/mnist.npz\n",
            "\u001b[1m11490434/11490434\u001b[0m \u001b[32m━━━━━━━━━━━━━━━━━━━━\u001b[0m\u001b[37m\u001b[0m \u001b[1m0s\u001b[0m 0us/step\n"
          ]
        }
      ]
    },
    {
      "cell_type": "code",
      "metadata": {
        "id": "sJlywk6UFlBq",
        "colab": {
          "base_uri": "https://localhost:8080/"
        },
        "outputId": "67e85421-20ba-4b44-ebad-1ee17112d778"
      },
      "source": [
        "print(f'X_train shape: {X_train.shape}')\n",
        "print(f'y_train shape: {y_train.shape}')\n",
        "print(f'X_test shape: {X_test.shape}')\n",
        "print(f'y_test shape: {y_test.shape}')"
      ],
      "execution_count": 3,
      "outputs": [
        {
          "output_type": "stream",
          "name": "stdout",
          "text": [
            "X_train shape: (60000, 28, 28)\n",
            "y_train shape: (60000,)\n",
            "X_test shape: (10000, 28, 28)\n",
            "y_test shape: (10000,)\n"
          ]
        }
      ]
    },
    {
      "cell_type": "code",
      "metadata": {
        "id": "JF5UVnaHFooz"
      },
      "source": [
        "X_train = X_train / 255.\n",
        "X_test = X_test / 255."
      ],
      "execution_count": 4,
      "outputs": []
    },
    {
      "cell_type": "code",
      "source": [
        "model = tf.keras.models.Sequential([\n",
        "    tf.keras.layers.Flatten(input_shape=(28, 28)),\n",
        "    tf.keras.layers.Dense(units=128, activation='relu'),\n",
        "    tf.keras.layers.Dropout(0.2),\n",
        "    tf.keras.layers.Dense(units=10, activation='softmax')\n",
        "])\n",
        "\n",
        "model.compile(optimizer='adam',\n",
        "              loss='categorical_crossentropy',\n",
        "              metrics=['accuracy'])\n",
        "\n",
        "model.summary()"
      ],
      "metadata": {
        "colab": {
          "base_uri": "https://localhost:8080/",
          "height": 319
        },
        "id": "PFlbxSf3z7xF",
        "outputId": "48c28cef-1f82-4c43-d825-b79a99f7c4d0"
      },
      "execution_count": 5,
      "outputs": [
        {
          "output_type": "stream",
          "name": "stderr",
          "text": [
            "/usr/local/lib/python3.11/dist-packages/keras/src/layers/reshaping/flatten.py:37: UserWarning: Do not pass an `input_shape`/`input_dim` argument to a layer. When using Sequential models, prefer using an `Input(shape)` object as the first layer in the model instead.\n",
            "  super().__init__(**kwargs)\n"
          ]
        },
        {
          "output_type": "display_data",
          "data": {
            "text/plain": [
              "\u001b[1mModel: \"sequential\"\u001b[0m\n"
            ],
            "text/html": [
              "<pre style=\"white-space:pre;overflow-x:auto;line-height:normal;font-family:Menlo,'DejaVu Sans Mono',consolas,'Courier New',monospace\"><span style=\"font-weight: bold\">Model: \"sequential\"</span>\n",
              "</pre>\n"
            ]
          },
          "metadata": {}
        },
        {
          "output_type": "display_data",
          "data": {
            "text/plain": [
              "┏━━━━━━━━━━━━━━━━━━━━━━━━━━━━━━━━━┳━━━━━━━━━━━━━━━━━━━━━━━━┳━━━━━━━━━━━━━━━┓\n",
              "┃\u001b[1m \u001b[0m\u001b[1mLayer (type)                   \u001b[0m\u001b[1m \u001b[0m┃\u001b[1m \u001b[0m\u001b[1mOutput Shape          \u001b[0m\u001b[1m \u001b[0m┃\u001b[1m \u001b[0m\u001b[1m      Param #\u001b[0m\u001b[1m \u001b[0m┃\n",
              "┡━━━━━━━━━━━━━━━━━━━━━━━━━━━━━━━━━╇━━━━━━━━━━━━━━━━━━━━━━━━╇━━━━━━━━━━━━━━━┩\n",
              "│ flatten (\u001b[38;5;33mFlatten\u001b[0m)               │ (\u001b[38;5;45mNone\u001b[0m, \u001b[38;5;34m784\u001b[0m)            │             \u001b[38;5;34m0\u001b[0m │\n",
              "├─────────────────────────────────┼────────────────────────┼───────────────┤\n",
              "│ dense (\u001b[38;5;33mDense\u001b[0m)                   │ (\u001b[38;5;45mNone\u001b[0m, \u001b[38;5;34m128\u001b[0m)            │       \u001b[38;5;34m100,480\u001b[0m │\n",
              "├─────────────────────────────────┼────────────────────────┼───────────────┤\n",
              "│ dropout (\u001b[38;5;33mDropout\u001b[0m)               │ (\u001b[38;5;45mNone\u001b[0m, \u001b[38;5;34m128\u001b[0m)            │             \u001b[38;5;34m0\u001b[0m │\n",
              "├─────────────────────────────────┼────────────────────────┼───────────────┤\n",
              "│ dense_1 (\u001b[38;5;33mDense\u001b[0m)                 │ (\u001b[38;5;45mNone\u001b[0m, \u001b[38;5;34m10\u001b[0m)             │         \u001b[38;5;34m1,290\u001b[0m │\n",
              "└─────────────────────────────────┴────────────────────────┴───────────────┘\n"
            ],
            "text/html": [
              "<pre style=\"white-space:pre;overflow-x:auto;line-height:normal;font-family:Menlo,'DejaVu Sans Mono',consolas,'Courier New',monospace\">┏━━━━━━━━━━━━━━━━━━━━━━━━━━━━━━━━━┳━━━━━━━━━━━━━━━━━━━━━━━━┳━━━━━━━━━━━━━━━┓\n",
              "┃<span style=\"font-weight: bold\"> Layer (type)                    </span>┃<span style=\"font-weight: bold\"> Output Shape           </span>┃<span style=\"font-weight: bold\">       Param # </span>┃\n",
              "┡━━━━━━━━━━━━━━━━━━━━━━━━━━━━━━━━━╇━━━━━━━━━━━━━━━━━━━━━━━━╇━━━━━━━━━━━━━━━┩\n",
              "│ flatten (<span style=\"color: #0087ff; text-decoration-color: #0087ff\">Flatten</span>)               │ (<span style=\"color: #00d7ff; text-decoration-color: #00d7ff\">None</span>, <span style=\"color: #00af00; text-decoration-color: #00af00\">784</span>)            │             <span style=\"color: #00af00; text-decoration-color: #00af00\">0</span> │\n",
              "├─────────────────────────────────┼────────────────────────┼───────────────┤\n",
              "│ dense (<span style=\"color: #0087ff; text-decoration-color: #0087ff\">Dense</span>)                   │ (<span style=\"color: #00d7ff; text-decoration-color: #00d7ff\">None</span>, <span style=\"color: #00af00; text-decoration-color: #00af00\">128</span>)            │       <span style=\"color: #00af00; text-decoration-color: #00af00\">100,480</span> │\n",
              "├─────────────────────────────────┼────────────────────────┼───────────────┤\n",
              "│ dropout (<span style=\"color: #0087ff; text-decoration-color: #0087ff\">Dropout</span>)               │ (<span style=\"color: #00d7ff; text-decoration-color: #00d7ff\">None</span>, <span style=\"color: #00af00; text-decoration-color: #00af00\">128</span>)            │             <span style=\"color: #00af00; text-decoration-color: #00af00\">0</span> │\n",
              "├─────────────────────────────────┼────────────────────────┼───────────────┤\n",
              "│ dense_1 (<span style=\"color: #0087ff; text-decoration-color: #0087ff\">Dense</span>)                 │ (<span style=\"color: #00d7ff; text-decoration-color: #00d7ff\">None</span>, <span style=\"color: #00af00; text-decoration-color: #00af00\">10</span>)             │         <span style=\"color: #00af00; text-decoration-color: #00af00\">1,290</span> │\n",
              "└─────────────────────────────────┴────────────────────────┴───────────────┘\n",
              "</pre>\n"
            ]
          },
          "metadata": {}
        },
        {
          "output_type": "display_data",
          "data": {
            "text/plain": [
              "\u001b[1m Total params: \u001b[0m\u001b[38;5;34m101,770\u001b[0m (397.54 KB)\n"
            ],
            "text/html": [
              "<pre style=\"white-space:pre;overflow-x:auto;line-height:normal;font-family:Menlo,'DejaVu Sans Mono',consolas,'Courier New',monospace\"><span style=\"font-weight: bold\"> Total params: </span><span style=\"color: #00af00; text-decoration-color: #00af00\">101,770</span> (397.54 KB)\n",
              "</pre>\n"
            ]
          },
          "metadata": {}
        },
        {
          "output_type": "display_data",
          "data": {
            "text/plain": [
              "\u001b[1m Trainable params: \u001b[0m\u001b[38;5;34m101,770\u001b[0m (397.54 KB)\n"
            ],
            "text/html": [
              "<pre style=\"white-space:pre;overflow-x:auto;line-height:normal;font-family:Menlo,'DejaVu Sans Mono',consolas,'Courier New',monospace\"><span style=\"font-weight: bold\"> Trainable params: </span><span style=\"color: #00af00; text-decoration-color: #00af00\">101,770</span> (397.54 KB)\n",
              "</pre>\n"
            ]
          },
          "metadata": {}
        },
        {
          "output_type": "display_data",
          "data": {
            "text/plain": [
              "\u001b[1m Non-trainable params: \u001b[0m\u001b[38;5;34m0\u001b[0m (0.00 B)\n"
            ],
            "text/html": [
              "<pre style=\"white-space:pre;overflow-x:auto;line-height:normal;font-family:Menlo,'DejaVu Sans Mono',consolas,'Courier New',monospace\"><span style=\"font-weight: bold\"> Non-trainable params: </span><span style=\"color: #00af00; text-decoration-color: #00af00\">0</span> (0.00 B)\n",
              "</pre>\n"
            ]
          },
          "metadata": {}
        }
      ]
    },
    {
      "cell_type": "code",
      "source": [
        "y_train = tf.keras.utils.to_categorical(y_train, num_classes=10)\n",
        "y_train"
      ],
      "metadata": {
        "colab": {
          "base_uri": "https://localhost:8080/"
        },
        "id": "bYaICgfz2aM5",
        "outputId": "96cc052e-60ee-44d9-f1e0-1a3dd6e08835"
      },
      "execution_count": 6,
      "outputs": [
        {
          "output_type": "execute_result",
          "data": {
            "text/plain": [
              "array([[0., 0., 0., ..., 0., 0., 0.],\n",
              "       [1., 0., 0., ..., 0., 0., 0.],\n",
              "       [0., 0., 0., ..., 0., 0., 0.],\n",
              "       ...,\n",
              "       [0., 0., 0., ..., 0., 0., 0.],\n",
              "       [0., 0., 0., ..., 0., 0., 0.],\n",
              "       [0., 0., 0., ..., 0., 1., 0.]])"
            ]
          },
          "metadata": {},
          "execution_count": 6
        }
      ]
    },
    {
      "cell_type": "code",
      "source": [
        "model.fit(X_train, y_train, epochs=10, validation_split=0.2, batch_size=32)"
      ],
      "metadata": {
        "colab": {
          "base_uri": "https://localhost:8080/"
        },
        "id": "I7yjKFnE2pIH",
        "outputId": "5d26e5cd-730c-4fa8-efc7-d8414051acd2"
      },
      "execution_count": 7,
      "outputs": [
        {
          "output_type": "stream",
          "name": "stdout",
          "text": [
            "Epoch 1/10\n",
            "\u001b[1m1500/1500\u001b[0m \u001b[32m━━━━━━━━━━━━━━━━━━━━\u001b[0m\u001b[37m\u001b[0m \u001b[1m11s\u001b[0m 7ms/step - accuracy: 0.8412 - loss: 0.5385 - val_accuracy: 0.9550 - val_loss: 0.1551\n",
            "Epoch 2/10\n",
            "\u001b[1m1500/1500\u001b[0m \u001b[32m━━━━━━━━━━━━━━━━━━━━\u001b[0m\u001b[37m\u001b[0m \u001b[1m18s\u001b[0m 5ms/step - accuracy: 0.9504 - loss: 0.1664 - val_accuracy: 0.9653 - val_loss: 0.1116\n",
            "Epoch 3/10\n",
            "\u001b[1m1500/1500\u001b[0m \u001b[32m━━━━━━━━━━━━━━━━━━━━\u001b[0m\u001b[37m\u001b[0m \u001b[1m10s\u001b[0m 5ms/step - accuracy: 0.9651 - loss: 0.1149 - val_accuracy: 0.9694 - val_loss: 0.1032\n",
            "Epoch 4/10\n",
            "\u001b[1m1500/1500\u001b[0m \u001b[32m━━━━━━━━━━━━━━━━━━━━\u001b[0m\u001b[37m\u001b[0m \u001b[1m7s\u001b[0m 5ms/step - accuracy: 0.9710 - loss: 0.0923 - val_accuracy: 0.9731 - val_loss: 0.0888\n",
            "Epoch 5/10\n",
            "\u001b[1m1500/1500\u001b[0m \u001b[32m━━━━━━━━━━━━━━━━━━━━\u001b[0m\u001b[37m\u001b[0m \u001b[1m8s\u001b[0m 6ms/step - accuracy: 0.9738 - loss: 0.0816 - val_accuracy: 0.9746 - val_loss: 0.0855\n",
            "Epoch 6/10\n",
            "\u001b[1m1500/1500\u001b[0m \u001b[32m━━━━━━━━━━━━━━━━━━━━\u001b[0m\u001b[37m\u001b[0m \u001b[1m11s\u001b[0m 6ms/step - accuracy: 0.9788 - loss: 0.0678 - val_accuracy: 0.9754 - val_loss: 0.0870\n",
            "Epoch 7/10\n",
            "\u001b[1m1500/1500\u001b[0m \u001b[32m━━━━━━━━━━━━━━━━━━━━\u001b[0m\u001b[37m\u001b[0m \u001b[1m9s\u001b[0m 5ms/step - accuracy: 0.9815 - loss: 0.0619 - val_accuracy: 0.9761 - val_loss: 0.0812\n",
            "Epoch 8/10\n",
            "\u001b[1m1500/1500\u001b[0m \u001b[32m━━━━━━━━━━━━━━━━━━━━\u001b[0m\u001b[37m\u001b[0m \u001b[1m7s\u001b[0m 5ms/step - accuracy: 0.9830 - loss: 0.0536 - val_accuracy: 0.9770 - val_loss: 0.0842\n",
            "Epoch 9/10\n",
            "\u001b[1m1500/1500\u001b[0m \u001b[32m━━━━━━━━━━━━━━━━━━━━\u001b[0m\u001b[37m\u001b[0m \u001b[1m12s\u001b[0m 6ms/step - accuracy: 0.9852 - loss: 0.0469 - val_accuracy: 0.9771 - val_loss: 0.0813\n",
            "Epoch 10/10\n",
            "\u001b[1m1500/1500\u001b[0m \u001b[32m━━━━━━━━━━━━━━━━━━━━\u001b[0m\u001b[37m\u001b[0m \u001b[1m8s\u001b[0m 5ms/step - accuracy: 0.9862 - loss: 0.0419 - val_accuracy: 0.9749 - val_loss: 0.0902\n"
          ]
        },
        {
          "output_type": "execute_result",
          "data": {
            "text/plain": [
              "<keras.src.callbacks.history.History at 0x7f04270e3490>"
            ]
          },
          "metadata": {},
          "execution_count": 7
        }
      ]
    },
    {
      "cell_type": "markdown",
      "metadata": {
        "id": "GUMtejHELNzA"
      },
      "source": [
        "### Model"
      ]
    },
    {
      "cell_type": "code",
      "source": [
        "# lista warstw w modelu\n",
        "model.layers"
      ],
      "metadata": {
        "colab": {
          "base_uri": "https://localhost:8080/"
        },
        "id": "7_C62l7A3CRq",
        "outputId": "f93b4b2e-c6fa-4eb2-bfe3-e444af5f49e1"
      },
      "execution_count": 8,
      "outputs": [
        {
          "output_type": "execute_result",
          "data": {
            "text/plain": [
              "[<Flatten name=flatten, built=True>,\n",
              " <Dense name=dense, built=True>,\n",
              " <Dropout name=dropout, built=True>,\n",
              " <Dense name=dense_1, built=True>]"
            ]
          },
          "metadata": {},
          "execution_count": 8
        }
      ]
    },
    {
      "cell_type": "code",
      "source": [
        "# lista tensorow wejsciowych do modelu\n",
        "model.inputs"
      ],
      "metadata": {
        "colab": {
          "base_uri": "https://localhost:8080/"
        },
        "id": "MdXStOvP3H_H",
        "outputId": "c995988e-c08c-4598-82ef-f4a9eab9c5ea"
      },
      "execution_count": 9,
      "outputs": [
        {
          "output_type": "execute_result",
          "data": {
            "text/plain": [
              "[<KerasTensor shape=(None, 28, 28), dtype=float32, sparse=False, name=keras_tensor>]"
            ]
          },
          "metadata": {},
          "execution_count": 9
        }
      ]
    },
    {
      "cell_type": "code",
      "source": [
        "# lista tensorow wyjsciowych z modelu\n",
        "model.outputs"
      ],
      "metadata": {
        "colab": {
          "base_uri": "https://localhost:8080/"
        },
        "id": "xGq9sYip3N88",
        "outputId": "c144097d-c6a4-4cc4-844a-2f38a2c0b3da"
      },
      "execution_count": 10,
      "outputs": [
        {
          "output_type": "execute_result",
          "data": {
            "text/plain": [
              "[<KerasTensor shape=(None, 10), dtype=float32, sparse=False, name=keras_tensor_4>]"
            ]
          },
          "metadata": {},
          "execution_count": 10
        }
      ]
    },
    {
      "cell_type": "code",
      "source": [
        "# slownik zawierajacy konfiguracje modelu\n",
        "model.get_config()"
      ],
      "metadata": {
        "colab": {
          "base_uri": "https://localhost:8080/"
        },
        "id": "m5yd6oly39E-",
        "outputId": "726b0c09-1104-4ad7-f407-7a5e96ce181d"
      },
      "execution_count": 12,
      "outputs": [
        {
          "output_type": "execute_result",
          "data": {
            "text/plain": [
              "{'name': 'sequential',\n",
              " 'trainable': True,\n",
              " 'dtype': {'module': 'keras',\n",
              "  'class_name': 'DTypePolicy',\n",
              "  'config': {'name': 'float32'},\n",
              "  'registered_name': None},\n",
              " 'layers': [{'module': 'keras.layers',\n",
              "   'class_name': 'InputLayer',\n",
              "   'config': {'batch_shape': (None, 28, 28),\n",
              "    'dtype': 'float32',\n",
              "    'sparse': False,\n",
              "    'name': 'input_layer'},\n",
              "   'registered_name': None},\n",
              "  {'module': 'keras.layers',\n",
              "   'class_name': 'Flatten',\n",
              "   'config': {'name': 'flatten',\n",
              "    'trainable': True,\n",
              "    'dtype': {'module': 'keras',\n",
              "     'class_name': 'DTypePolicy',\n",
              "     'config': {'name': 'float32'},\n",
              "     'registered_name': None},\n",
              "    'data_format': 'channels_last'},\n",
              "   'registered_name': None,\n",
              "   'build_config': {'input_shape': (None, 28, 28)}},\n",
              "  {'module': 'keras.layers',\n",
              "   'class_name': 'Dense',\n",
              "   'config': {'name': 'dense',\n",
              "    'trainable': True,\n",
              "    'dtype': {'module': 'keras',\n",
              "     'class_name': 'DTypePolicy',\n",
              "     'config': {'name': 'float32'},\n",
              "     'registered_name': None},\n",
              "    'units': 128,\n",
              "    'activation': 'relu',\n",
              "    'use_bias': True,\n",
              "    'kernel_initializer': {'module': 'keras.initializers',\n",
              "     'class_name': 'GlorotUniform',\n",
              "     'config': {'seed': None},\n",
              "     'registered_name': None},\n",
              "    'bias_initializer': {'module': 'keras.initializers',\n",
              "     'class_name': 'Zeros',\n",
              "     'config': {},\n",
              "     'registered_name': None},\n",
              "    'kernel_regularizer': None,\n",
              "    'bias_regularizer': None,\n",
              "    'kernel_constraint': None,\n",
              "    'bias_constraint': None},\n",
              "   'registered_name': None,\n",
              "   'build_config': {'input_shape': (None, 784)}},\n",
              "  {'module': 'keras.layers',\n",
              "   'class_name': 'Dropout',\n",
              "   'config': {'name': 'dropout',\n",
              "    'trainable': True,\n",
              "    'dtype': {'module': 'keras',\n",
              "     'class_name': 'DTypePolicy',\n",
              "     'config': {'name': 'float32'},\n",
              "     'registered_name': None},\n",
              "    'rate': 0.2,\n",
              "    'seed': None,\n",
              "    'noise_shape': None},\n",
              "   'registered_name': None},\n",
              "  {'module': 'keras.layers',\n",
              "   'class_name': 'Dense',\n",
              "   'config': {'name': 'dense_1',\n",
              "    'trainable': True,\n",
              "    'dtype': {'module': 'keras',\n",
              "     'class_name': 'DTypePolicy',\n",
              "     'config': {'name': 'float32'},\n",
              "     'registered_name': None},\n",
              "    'units': 10,\n",
              "    'activation': 'softmax',\n",
              "    'use_bias': True,\n",
              "    'kernel_initializer': {'module': 'keras.initializers',\n",
              "     'class_name': 'GlorotUniform',\n",
              "     'config': {'seed': None},\n",
              "     'registered_name': None},\n",
              "    'bias_initializer': {'module': 'keras.initializers',\n",
              "     'class_name': 'Zeros',\n",
              "     'config': {},\n",
              "     'registered_name': None},\n",
              "    'kernel_regularizer': None,\n",
              "    'bias_regularizer': None,\n",
              "    'kernel_constraint': None,\n",
              "    'bias_constraint': None},\n",
              "   'registered_name': None,\n",
              "   'build_config': {'input_shape': (None, 128)}}],\n",
              " 'build_input_shape': (None, 28, 28)}"
            ]
          },
          "metadata": {},
          "execution_count": 12
        }
      ]
    },
    {
      "cell_type": "code",
      "source": [
        "# lista wszystkich tensorow wag\n",
        "model.get_weights()"
      ],
      "metadata": {
        "colab": {
          "base_uri": "https://localhost:8080/"
        },
        "id": "A_I4S92P4QDF",
        "outputId": "3bc96eed-5ab7-49f1-cfd1-971cb3a79dd7"
      },
      "execution_count": 13,
      "outputs": [
        {
          "output_type": "execute_result",
          "data": {
            "text/plain": [
              "[array([[-0.01719385,  0.04118071, -0.0139702 , ...,  0.02967594,\n",
              "          0.05611307,  0.01203723],\n",
              "        [-0.05292897,  0.05994523, -0.02227036, ...,  0.07547461,\n",
              "          0.03388515, -0.08102947],\n",
              "        [-0.00466973,  0.0804983 , -0.07298969, ...,  0.03848144,\n",
              "         -0.02326359,  0.07900894],\n",
              "        ...,\n",
              "        [ 0.04540072, -0.06421588, -0.05820556, ..., -0.02431089,\n",
              "          0.06779989, -0.05981553],\n",
              "        [ 0.02467141, -0.03433395,  0.06001859, ..., -0.05095706,\n",
              "         -0.06793287,  0.04353368],\n",
              "        [ 0.07456493, -0.01792981,  0.0054435 , ...,  0.05559466,\n",
              "          0.01766033,  0.0467561 ]], dtype=float32),\n",
              " array([-0.08589584,  0.02945978, -0.02088484,  0.02792057,  0.02048992,\n",
              "         0.0627932 , -0.1035142 ,  0.20103247,  0.03013922, -0.07988999,\n",
              "         0.17560336, -0.12307089, -0.04762613,  0.16343392,  0.17486283,\n",
              "         0.12319323,  0.05639958,  0.00207846, -0.02800356, -0.01902661,\n",
              "        -0.00697176,  0.25958946, -0.02124015,  0.06597804, -0.10984603,\n",
              "        -0.10151714, -0.10339306,  0.02886895, -0.0865337 ,  0.072656  ,\n",
              "         0.17980577,  0.05519541,  0.02312677, -0.02942535,  0.02617199,\n",
              "         0.11963953, -0.19601807,  0.13210635,  0.08650779,  0.08054673,\n",
              "         0.1122692 ,  0.0302371 ,  0.14314532,  0.02930626, -0.1542828 ,\n",
              "        -0.29165435,  0.12060311,  0.02727461,  0.01949102, -0.10507558,\n",
              "         0.2643899 , -0.02922526,  0.13808776, -0.03462424, -0.05246293,\n",
              "        -0.08171455, -0.02080572,  0.0725387 ,  0.20271376, -0.0074272 ,\n",
              "        -0.01158963,  0.02795753, -0.04079676, -0.1378381 ,  0.2976908 ,\n",
              "         0.06670812,  0.03933494, -0.1135027 , -0.07245644,  0.05606438,\n",
              "        -0.14253286, -0.05733109, -0.16727419,  0.00658518, -0.01848153,\n",
              "        -0.05341101,  0.34465978, -0.20841497,  0.06691251, -0.01461036,\n",
              "         0.14705245,  0.05864948,  0.13467635,  0.04076616,  0.10433275,\n",
              "        -0.01418069,  0.31308198,  0.02340038, -0.14751962, -0.03135547,\n",
              "        -0.02524036, -0.13475561,  0.1016228 , -0.01707996,  0.00727136,\n",
              "        -0.08414894,  0.13867085,  0.1662701 , -0.10626395, -0.15708588,\n",
              "         0.05822805, -0.0188951 , -0.12821081,  0.23003557, -0.2646351 ,\n",
              "        -0.01352046,  0.18380299,  0.05796823,  0.06562462, -0.17261204,\n",
              "        -0.0547777 , -0.00926023,  0.16764605,  0.21478814, -0.01929526,\n",
              "        -0.06956403, -0.01567714,  0.01100283,  0.08919997,  0.03846518,\n",
              "        -0.07419897,  0.18702199, -0.08219267, -0.06726744,  0.11870622,\n",
              "        -0.18672694, -0.14372577,  0.00615651], dtype=float32),\n",
              " array([[ 4.8604410e-02,  7.5265847e-04, -5.5027679e-02, ...,\n",
              "         -4.9520060e-01,  1.7344008e-01, -5.0335009e-02],\n",
              "        [ 1.5723927e-01,  2.4916248e-02,  1.2316052e-01, ...,\n",
              "          1.1279929e-01,  8.1157006e-02, -5.5192355e-02],\n",
              "        [ 3.7871480e-01, -2.2688115e-02, -1.3393979e-01, ...,\n",
              "          8.3324574e-02,  4.0638629e-02,  5.0745536e-02],\n",
              "        ...,\n",
              "        [-1.0205097e+00,  4.9740668e-02, -5.9640817e-02, ...,\n",
              "         -5.2414352e-01,  1.7121433e-01,  3.1852013e-01],\n",
              "        [-2.6266423e-01,  2.4886389e-01, -2.0889115e-01, ...,\n",
              "          7.8342944e-02,  9.2983425e-02,  1.7281632e-01],\n",
              "        [ 2.2094558e-01, -8.4009451e-01, -8.9089438e-02, ...,\n",
              "          9.6499950e-02,  2.6191989e-01,  1.8408155e-01]], dtype=float32),\n",
              " array([-0.05805222, -0.10506856, -0.11797343, -0.2184756 ,  0.09781618,\n",
              "         0.00203001,  0.04329875, -0.12993059,  0.36152565,  0.04339621],\n",
              "       dtype=float32)]"
            ]
          },
          "metadata": {},
          "execution_count": 13
        }
      ]
    },
    {
      "cell_type": "code",
      "source": [
        "model.get_weights()[0].shape"
      ],
      "metadata": {
        "colab": {
          "base_uri": "https://localhost:8080/"
        },
        "id": "tnIwSOC64ZG0",
        "outputId": "1b113c38-b045-48c3-827d-c14464c564f2"
      },
      "execution_count": 15,
      "outputs": [
        {
          "output_type": "execute_result",
          "data": {
            "text/plain": [
              "(784, 128)"
            ]
          },
          "metadata": {},
          "execution_count": 15
        }
      ]
    },
    {
      "cell_type": "code",
      "source": [
        "model.get_weights()[1].shape"
      ],
      "metadata": {
        "colab": {
          "base_uri": "https://localhost:8080/"
        },
        "id": "gJaRBRrA4rnI",
        "outputId": "6cafdd8c-d53d-4e5e-955d-01f76723b97a"
      },
      "execution_count": 16,
      "outputs": [
        {
          "output_type": "execute_result",
          "data": {
            "text/plain": [
              "(128,)"
            ]
          },
          "metadata": {},
          "execution_count": 16
        }
      ]
    },
    {
      "cell_type": "code",
      "source": [
        "model.get_weights()[2].shape"
      ],
      "metadata": {
        "colab": {
          "base_uri": "https://localhost:8080/"
        },
        "id": "j1hlHQRm4teR",
        "outputId": "610f03d4-37c4-4d50-9bb4-3c9099d88450"
      },
      "execution_count": 17,
      "outputs": [
        {
          "output_type": "execute_result",
          "data": {
            "text/plain": [
              "(128, 10)"
            ]
          },
          "metadata": {},
          "execution_count": 17
        }
      ]
    },
    {
      "cell_type": "code",
      "source": [
        "model.get_weights()[3].shape"
      ],
      "metadata": {
        "colab": {
          "base_uri": "https://localhost:8080/"
        },
        "id": "nCBTT_Or4w0u",
        "outputId": "b7a763d1-e817-4fe9-b6b1-147b841d3b20"
      },
      "execution_count": 18,
      "outputs": [
        {
          "output_type": "execute_result",
          "data": {
            "text/plain": [
              "(10,)"
            ]
          },
          "metadata": {},
          "execution_count": 18
        }
      ]
    },
    {
      "cell_type": "markdown",
      "metadata": {
        "id": "3ATjZrQXIKvx"
      },
      "source": [
        "### *to_json()*"
      ]
    },
    {
      "cell_type": "code",
      "source": [
        "model_json = model.to_json()\n",
        "\n",
        "import json\n",
        "parsed = json.loads(model_json)\n",
        "print(json.dumps(parsed, indent=4))"
      ],
      "metadata": {
        "colab": {
          "base_uri": "https://localhost:8080/"
        },
        "id": "19w_uZ4F4-WB",
        "outputId": "1a08cbd0-99f5-47ab-df95-4b39be7474e6"
      },
      "execution_count": 19,
      "outputs": [
        {
          "output_type": "stream",
          "name": "stdout",
          "text": [
            "{\n",
            "    \"module\": \"keras\",\n",
            "    \"class_name\": \"Sequential\",\n",
            "    \"config\": {\n",
            "        \"name\": \"sequential\",\n",
            "        \"trainable\": true,\n",
            "        \"dtype\": {\n",
            "            \"module\": \"keras\",\n",
            "            \"class_name\": \"DTypePolicy\",\n",
            "            \"config\": {\n",
            "                \"name\": \"float32\"\n",
            "            },\n",
            "            \"registered_name\": null\n",
            "        },\n",
            "        \"layers\": [\n",
            "            {\n",
            "                \"module\": \"keras.layers\",\n",
            "                \"class_name\": \"InputLayer\",\n",
            "                \"config\": {\n",
            "                    \"batch_shape\": [\n",
            "                        null,\n",
            "                        28,\n",
            "                        28\n",
            "                    ],\n",
            "                    \"dtype\": \"float32\",\n",
            "                    \"sparse\": false,\n",
            "                    \"name\": \"input_layer\"\n",
            "                },\n",
            "                \"registered_name\": null\n",
            "            },\n",
            "            {\n",
            "                \"module\": \"keras.layers\",\n",
            "                \"class_name\": \"Flatten\",\n",
            "                \"config\": {\n",
            "                    \"name\": \"flatten\",\n",
            "                    \"trainable\": true,\n",
            "                    \"dtype\": {\n",
            "                        \"module\": \"keras\",\n",
            "                        \"class_name\": \"DTypePolicy\",\n",
            "                        \"config\": {\n",
            "                            \"name\": \"float32\"\n",
            "                        },\n",
            "                        \"registered_name\": null\n",
            "                    },\n",
            "                    \"data_format\": \"channels_last\"\n",
            "                },\n",
            "                \"registered_name\": null,\n",
            "                \"build_config\": {\n",
            "                    \"input_shape\": [\n",
            "                        null,\n",
            "                        28,\n",
            "                        28\n",
            "                    ]\n",
            "                }\n",
            "            },\n",
            "            {\n",
            "                \"module\": \"keras.layers\",\n",
            "                \"class_name\": \"Dense\",\n",
            "                \"config\": {\n",
            "                    \"name\": \"dense\",\n",
            "                    \"trainable\": true,\n",
            "                    \"dtype\": {\n",
            "                        \"module\": \"keras\",\n",
            "                        \"class_name\": \"DTypePolicy\",\n",
            "                        \"config\": {\n",
            "                            \"name\": \"float32\"\n",
            "                        },\n",
            "                        \"registered_name\": null\n",
            "                    },\n",
            "                    \"units\": 128,\n",
            "                    \"activation\": \"relu\",\n",
            "                    \"use_bias\": true,\n",
            "                    \"kernel_initializer\": {\n",
            "                        \"module\": \"keras.initializers\",\n",
            "                        \"class_name\": \"GlorotUniform\",\n",
            "                        \"config\": {\n",
            "                            \"seed\": null\n",
            "                        },\n",
            "                        \"registered_name\": null\n",
            "                    },\n",
            "                    \"bias_initializer\": {\n",
            "                        \"module\": \"keras.initializers\",\n",
            "                        \"class_name\": \"Zeros\",\n",
            "                        \"config\": {},\n",
            "                        \"registered_name\": null\n",
            "                    },\n",
            "                    \"kernel_regularizer\": null,\n",
            "                    \"bias_regularizer\": null,\n",
            "                    \"kernel_constraint\": null,\n",
            "                    \"bias_constraint\": null\n",
            "                },\n",
            "                \"registered_name\": null,\n",
            "                \"build_config\": {\n",
            "                    \"input_shape\": [\n",
            "                        null,\n",
            "                        784\n",
            "                    ]\n",
            "                }\n",
            "            },\n",
            "            {\n",
            "                \"module\": \"keras.layers\",\n",
            "                \"class_name\": \"Dropout\",\n",
            "                \"config\": {\n",
            "                    \"name\": \"dropout\",\n",
            "                    \"trainable\": true,\n",
            "                    \"dtype\": {\n",
            "                        \"module\": \"keras\",\n",
            "                        \"class_name\": \"DTypePolicy\",\n",
            "                        \"config\": {\n",
            "                            \"name\": \"float32\"\n",
            "                        },\n",
            "                        \"registered_name\": null\n",
            "                    },\n",
            "                    \"rate\": 0.2,\n",
            "                    \"seed\": null,\n",
            "                    \"noise_shape\": null\n",
            "                },\n",
            "                \"registered_name\": null\n",
            "            },\n",
            "            {\n",
            "                \"module\": \"keras.layers\",\n",
            "                \"class_name\": \"Dense\",\n",
            "                \"config\": {\n",
            "                    \"name\": \"dense_1\",\n",
            "                    \"trainable\": true,\n",
            "                    \"dtype\": {\n",
            "                        \"module\": \"keras\",\n",
            "                        \"class_name\": \"DTypePolicy\",\n",
            "                        \"config\": {\n",
            "                            \"name\": \"float32\"\n",
            "                        },\n",
            "                        \"registered_name\": null\n",
            "                    },\n",
            "                    \"units\": 10,\n",
            "                    \"activation\": \"softmax\",\n",
            "                    \"use_bias\": true,\n",
            "                    \"kernel_initializer\": {\n",
            "                        \"module\": \"keras.initializers\",\n",
            "                        \"class_name\": \"GlorotUniform\",\n",
            "                        \"config\": {\n",
            "                            \"seed\": null\n",
            "                        },\n",
            "                        \"registered_name\": null\n",
            "                    },\n",
            "                    \"bias_initializer\": {\n",
            "                        \"module\": \"keras.initializers\",\n",
            "                        \"class_name\": \"Zeros\",\n",
            "                        \"config\": {},\n",
            "                        \"registered_name\": null\n",
            "                    },\n",
            "                    \"kernel_regularizer\": null,\n",
            "                    \"bias_regularizer\": null,\n",
            "                    \"kernel_constraint\": null,\n",
            "                    \"bias_constraint\": null\n",
            "                },\n",
            "                \"registered_name\": null,\n",
            "                \"build_config\": {\n",
            "                    \"input_shape\": [\n",
            "                        null,\n",
            "                        128\n",
            "                    ]\n",
            "                }\n",
            "            }\n",
            "        ],\n",
            "        \"build_input_shape\": [\n",
            "            null,\n",
            "            28,\n",
            "            28\n",
            "        ]\n",
            "    },\n",
            "    \"registered_name\": null,\n",
            "    \"build_config\": {\n",
            "        \"input_shape\": [\n",
            "            null,\n",
            "            28,\n",
            "            28\n",
            "        ]\n",
            "    },\n",
            "    \"compile_config\": {\n",
            "        \"optimizer\": {\n",
            "            \"module\": \"keras.optimizers\",\n",
            "            \"class_name\": \"Adam\",\n",
            "            \"config\": {\n",
            "                \"name\": \"adam\",\n",
            "                \"learning_rate\": 0.0010000000474974513,\n",
            "                \"weight_decay\": null,\n",
            "                \"clipnorm\": null,\n",
            "                \"global_clipnorm\": null,\n",
            "                \"clipvalue\": null,\n",
            "                \"use_ema\": false,\n",
            "                \"ema_momentum\": 0.99,\n",
            "                \"ema_overwrite_frequency\": null,\n",
            "                \"loss_scale_factor\": null,\n",
            "                \"gradient_accumulation_steps\": null,\n",
            "                \"beta_1\": 0.9,\n",
            "                \"beta_2\": 0.999,\n",
            "                \"epsilon\": 1e-07,\n",
            "                \"amsgrad\": false\n",
            "            },\n",
            "            \"registered_name\": null\n",
            "        },\n",
            "        \"loss\": \"categorical_crossentropy\",\n",
            "        \"loss_weights\": null,\n",
            "        \"metrics\": [\n",
            "            \"accuracy\"\n",
            "        ],\n",
            "        \"weighted_metrics\": null,\n",
            "        \"run_eagerly\": false,\n",
            "        \"steps_per_execution\": 1,\n",
            "        \"jit_compile\": false\n",
            "    }\n",
            "}\n"
          ]
        }
      ]
    },
    {
      "cell_type": "code",
      "source": [
        "model2 = tf.keras.models.model_from_json(model_json)\n",
        "model2.summary()"
      ],
      "metadata": {
        "colab": {
          "base_uri": "https://localhost:8080/",
          "height": 279
        },
        "id": "peWF_wPG5i3e",
        "outputId": "24d39767-e750-418e-ef0a-cb7d6ff0b5a8"
      },
      "execution_count": 20,
      "outputs": [
        {
          "output_type": "display_data",
          "data": {
            "text/plain": [
              "\u001b[1mModel: \"sequential\"\u001b[0m\n"
            ],
            "text/html": [
              "<pre style=\"white-space:pre;overflow-x:auto;line-height:normal;font-family:Menlo,'DejaVu Sans Mono',consolas,'Courier New',monospace\"><span style=\"font-weight: bold\">Model: \"sequential\"</span>\n",
              "</pre>\n"
            ]
          },
          "metadata": {}
        },
        {
          "output_type": "display_data",
          "data": {
            "text/plain": [
              "┏━━━━━━━━━━━━━━━━━━━━━━━━━━━━━━━━━┳━━━━━━━━━━━━━━━━━━━━━━━━┳━━━━━━━━━━━━━━━┓\n",
              "┃\u001b[1m \u001b[0m\u001b[1mLayer (type)                   \u001b[0m\u001b[1m \u001b[0m┃\u001b[1m \u001b[0m\u001b[1mOutput Shape          \u001b[0m\u001b[1m \u001b[0m┃\u001b[1m \u001b[0m\u001b[1m      Param #\u001b[0m\u001b[1m \u001b[0m┃\n",
              "┡━━━━━━━━━━━━━━━━━━━━━━━━━━━━━━━━━╇━━━━━━━━━━━━━━━━━━━━━━━━╇━━━━━━━━━━━━━━━┩\n",
              "│ flatten (\u001b[38;5;33mFlatten\u001b[0m)               │ (\u001b[38;5;45mNone\u001b[0m, \u001b[38;5;34m784\u001b[0m)            │             \u001b[38;5;34m0\u001b[0m │\n",
              "├─────────────────────────────────┼────────────────────────┼───────────────┤\n",
              "│ dense (\u001b[38;5;33mDense\u001b[0m)                   │ (\u001b[38;5;45mNone\u001b[0m, \u001b[38;5;34m128\u001b[0m)            │       \u001b[38;5;34m100,480\u001b[0m │\n",
              "├─────────────────────────────────┼────────────────────────┼───────────────┤\n",
              "│ dropout (\u001b[38;5;33mDropout\u001b[0m)               │ (\u001b[38;5;45mNone\u001b[0m, \u001b[38;5;34m128\u001b[0m)            │             \u001b[38;5;34m0\u001b[0m │\n",
              "├─────────────────────────────────┼────────────────────────┼───────────────┤\n",
              "│ dense_1 (\u001b[38;5;33mDense\u001b[0m)                 │ (\u001b[38;5;45mNone\u001b[0m, \u001b[38;5;34m10\u001b[0m)             │         \u001b[38;5;34m1,290\u001b[0m │\n",
              "└─────────────────────────────────┴────────────────────────┴───────────────┘\n"
            ],
            "text/html": [
              "<pre style=\"white-space:pre;overflow-x:auto;line-height:normal;font-family:Menlo,'DejaVu Sans Mono',consolas,'Courier New',monospace\">┏━━━━━━━━━━━━━━━━━━━━━━━━━━━━━━━━━┳━━━━━━━━━━━━━━━━━━━━━━━━┳━━━━━━━━━━━━━━━┓\n",
              "┃<span style=\"font-weight: bold\"> Layer (type)                    </span>┃<span style=\"font-weight: bold\"> Output Shape           </span>┃<span style=\"font-weight: bold\">       Param # </span>┃\n",
              "┡━━━━━━━━━━━━━━━━━━━━━━━━━━━━━━━━━╇━━━━━━━━━━━━━━━━━━━━━━━━╇━━━━━━━━━━━━━━━┩\n",
              "│ flatten (<span style=\"color: #0087ff; text-decoration-color: #0087ff\">Flatten</span>)               │ (<span style=\"color: #00d7ff; text-decoration-color: #00d7ff\">None</span>, <span style=\"color: #00af00; text-decoration-color: #00af00\">784</span>)            │             <span style=\"color: #00af00; text-decoration-color: #00af00\">0</span> │\n",
              "├─────────────────────────────────┼────────────────────────┼───────────────┤\n",
              "│ dense (<span style=\"color: #0087ff; text-decoration-color: #0087ff\">Dense</span>)                   │ (<span style=\"color: #00d7ff; text-decoration-color: #00d7ff\">None</span>, <span style=\"color: #00af00; text-decoration-color: #00af00\">128</span>)            │       <span style=\"color: #00af00; text-decoration-color: #00af00\">100,480</span> │\n",
              "├─────────────────────────────────┼────────────────────────┼───────────────┤\n",
              "│ dropout (<span style=\"color: #0087ff; text-decoration-color: #0087ff\">Dropout</span>)               │ (<span style=\"color: #00d7ff; text-decoration-color: #00d7ff\">None</span>, <span style=\"color: #00af00; text-decoration-color: #00af00\">128</span>)            │             <span style=\"color: #00af00; text-decoration-color: #00af00\">0</span> │\n",
              "├─────────────────────────────────┼────────────────────────┼───────────────┤\n",
              "│ dense_1 (<span style=\"color: #0087ff; text-decoration-color: #0087ff\">Dense</span>)                 │ (<span style=\"color: #00d7ff; text-decoration-color: #00d7ff\">None</span>, <span style=\"color: #00af00; text-decoration-color: #00af00\">10</span>)             │         <span style=\"color: #00af00; text-decoration-color: #00af00\">1,290</span> │\n",
              "└─────────────────────────────────┴────────────────────────┴───────────────┘\n",
              "</pre>\n"
            ]
          },
          "metadata": {}
        },
        {
          "output_type": "display_data",
          "data": {
            "text/plain": [
              "\u001b[1m Total params: \u001b[0m\u001b[38;5;34m305,312\u001b[0m (1.16 MB)\n"
            ],
            "text/html": [
              "<pre style=\"white-space:pre;overflow-x:auto;line-height:normal;font-family:Menlo,'DejaVu Sans Mono',consolas,'Courier New',monospace\"><span style=\"font-weight: bold\"> Total params: </span><span style=\"color: #00af00; text-decoration-color: #00af00\">305,312</span> (1.16 MB)\n",
              "</pre>\n"
            ]
          },
          "metadata": {}
        },
        {
          "output_type": "display_data",
          "data": {
            "text/plain": [
              "\u001b[1m Trainable params: \u001b[0m\u001b[38;5;34m101,770\u001b[0m (397.54 KB)\n"
            ],
            "text/html": [
              "<pre style=\"white-space:pre;overflow-x:auto;line-height:normal;font-family:Menlo,'DejaVu Sans Mono',consolas,'Courier New',monospace\"><span style=\"font-weight: bold\"> Trainable params: </span><span style=\"color: #00af00; text-decoration-color: #00af00\">101,770</span> (397.54 KB)\n",
              "</pre>\n"
            ]
          },
          "metadata": {}
        },
        {
          "output_type": "display_data",
          "data": {
            "text/plain": [
              "\u001b[1m Non-trainable params: \u001b[0m\u001b[38;5;34m0\u001b[0m (0.00 B)\n"
            ],
            "text/html": [
              "<pre style=\"white-space:pre;overflow-x:auto;line-height:normal;font-family:Menlo,'DejaVu Sans Mono',consolas,'Courier New',monospace\"><span style=\"font-weight: bold\"> Non-trainable params: </span><span style=\"color: #00af00; text-decoration-color: #00af00\">0</span> (0.00 B)\n",
              "</pre>\n"
            ]
          },
          "metadata": {}
        },
        {
          "output_type": "display_data",
          "data": {
            "text/plain": [
              "\u001b[1m Optimizer params: \u001b[0m\u001b[38;5;34m203,542\u001b[0m (795.09 KB)\n"
            ],
            "text/html": [
              "<pre style=\"white-space:pre;overflow-x:auto;line-height:normal;font-family:Menlo,'DejaVu Sans Mono',consolas,'Courier New',monospace\"><span style=\"font-weight: bold\"> Optimizer params: </span><span style=\"color: #00af00; text-decoration-color: #00af00\">203,542</span> (795.09 KB)\n",
              "</pre>\n"
            ]
          },
          "metadata": {}
        }
      ]
    },
    {
      "cell_type": "markdown",
      "metadata": {
        "id": "lfP7uGlIIlQ1"
      },
      "source": [
        "### *to_yaml()*"
      ]
    },
    {
      "cell_type": "markdown",
      "source": [
        "Biblioteka nie obsluguje model.to_yaml()"
      ],
      "metadata": {
        "id": "fSrEptwr6jM7"
      }
    },
    {
      "cell_type": "code",
      "source": [
        "#model_yaml = model.to_yaml()\n",
        "#print(model_yaml)"
      ],
      "metadata": {
        "id": "J3osewj65xc0"
      },
      "execution_count": null,
      "outputs": []
    },
    {
      "cell_type": "code",
      "source": [
        "#model3 = tf.keras.models.model_from_yaml(model_json)\n",
        "#model3.summary()"
      ],
      "metadata": {
        "id": "ltJyI1vJ6bVf"
      },
      "execution_count": null,
      "outputs": []
    },
    {
      "cell_type": "markdown",
      "metadata": {
        "id": "euHeJdPILRFf"
      },
      "source": [
        "### Warstwy"
      ]
    },
    {
      "cell_type": "code",
      "source": [
        "dense_layer = model.layers[1]\n",
        "dense_layer"
      ],
      "metadata": {
        "colab": {
          "base_uri": "https://localhost:8080/"
        },
        "id": "KKuo0CkS8bT9",
        "outputId": "1ef39e32-9118-42b2-f9f7-b60990ca7db4"
      },
      "execution_count": 24,
      "outputs": [
        {
          "output_type": "execute_result",
          "data": {
            "text/plain": [
              "<Dense name=dense, built=True>"
            ]
          },
          "metadata": {},
          "execution_count": 24
        }
      ]
    },
    {
      "cell_type": "code",
      "source": [
        "dense_layer.input"
      ],
      "metadata": {
        "colab": {
          "base_uri": "https://localhost:8080/"
        },
        "id": "OhYsGSSh8tIV",
        "outputId": "0a34be15-fcbd-46f5-f752-d0d73c14b05a"
      },
      "execution_count": 25,
      "outputs": [
        {
          "output_type": "execute_result",
          "data": {
            "text/plain": [
              "<KerasTensor shape=(None, 784), dtype=float32, sparse=False, name=keras_tensor_1>"
            ]
          },
          "metadata": {},
          "execution_count": 25
        }
      ]
    },
    {
      "cell_type": "code",
      "source": [
        "dense_layer.input.shape"
      ],
      "metadata": {
        "colab": {
          "base_uri": "https://localhost:8080/"
        },
        "id": "gnraHPL98zUf",
        "outputId": "b034db81-2d04-4890-c1c6-a8179b73bcd2"
      },
      "execution_count": 27,
      "outputs": [
        {
          "output_type": "execute_result",
          "data": {
            "text/plain": [
              "(None, 784)"
            ]
          },
          "metadata": {},
          "execution_count": 27
        }
      ]
    },
    {
      "cell_type": "code",
      "source": [
        "dense_layer.output"
      ],
      "metadata": {
        "colab": {
          "base_uri": "https://localhost:8080/"
        },
        "id": "3Nh-7NuG8_n8",
        "outputId": "3a674714-ffda-4fc9-fe1e-276cfc84644d"
      },
      "execution_count": 28,
      "outputs": [
        {
          "output_type": "execute_result",
          "data": {
            "text/plain": [
              "<KerasTensor shape=(None, 128), dtype=float32, sparse=False, name=keras_tensor_2>"
            ]
          },
          "metadata": {},
          "execution_count": 28
        }
      ]
    },
    {
      "cell_type": "code",
      "source": [
        "dense_layer.output.shape"
      ],
      "metadata": {
        "colab": {
          "base_uri": "https://localhost:8080/"
        },
        "id": "9aWKJpyS9EKK",
        "outputId": "8d80969b-bf74-4930-9944-9f7caf30db17"
      },
      "execution_count": 29,
      "outputs": [
        {
          "output_type": "execute_result",
          "data": {
            "text/plain": [
              "(None, 128)"
            ]
          },
          "metadata": {},
          "execution_count": 29
        }
      ]
    },
    {
      "cell_type": "code",
      "source": [
        "dense_layer.trainable"
      ],
      "metadata": {
        "colab": {
          "base_uri": "https://localhost:8080/"
        },
        "id": "DrooumtC9IU1",
        "outputId": "7f9d4232-f4b8-48d6-b9e6-4137e7ab82bb"
      },
      "execution_count": 30,
      "outputs": [
        {
          "output_type": "execute_result",
          "data": {
            "text/plain": [
              "True"
            ]
          },
          "metadata": {},
          "execution_count": 30
        }
      ]
    },
    {
      "cell_type": "markdown",
      "metadata": {
        "id": "JvlEFDUxM3k1"
      },
      "source": [
        "### Podstawowe rodzaje warstw\n",
        "* **Dense** - warstwa gęsto połączona, wynik operacji $output = activation(dot(input, weights) + bias)$\n",
        "* **Activation** - stosuje funkcję aktywacji\n",
        "* **Dropout** - porzuca wskazaną część neuronów w warstwie\n",
        "* **Flatten** - wypłaszcza dane wejściowe\n",
        "* **Input** - warstwa wejściowa, parametr *shape* określa rozmiar danych wejściowych"
      ]
    },
    {
      "cell_type": "code",
      "source": [
        "dense = tf.keras.layers.Dense(units=1, activation='relu')\n",
        "dense"
      ],
      "metadata": {
        "colab": {
          "base_uri": "https://localhost:8080/"
        },
        "id": "fkc_5G-a9vRN",
        "outputId": "b3da9911-e56e-40f2-fd31-5bb239f405a5"
      },
      "execution_count": 31,
      "outputs": [
        {
          "output_type": "execute_result",
          "data": {
            "text/plain": [
              "<Dense name=dense_2, built=False>"
            ]
          },
          "metadata": {},
          "execution_count": 31
        }
      ]
    },
    {
      "cell_type": "code",
      "source": [
        "activation = tf.keras.layers.Activation(activation='relu')\n",
        "activation"
      ],
      "metadata": {
        "colab": {
          "base_uri": "https://localhost:8080/"
        },
        "id": "KhpGgl9Q-Faq",
        "outputId": "ba9f2c3e-1662-4dc1-88e2-8d4cadbf39e6"
      },
      "execution_count": 32,
      "outputs": [
        {
          "output_type": "execute_result",
          "data": {
            "text/plain": [
              "<Activation name=activation, built=True>"
            ]
          },
          "metadata": {},
          "execution_count": 32
        }
      ]
    },
    {
      "cell_type": "code",
      "source": [
        "dropout = tf.keras.layers.Dropout(rate=0.3)\n",
        "dropout"
      ],
      "metadata": {
        "id": "7IqjyTqP-TCf"
      },
      "execution_count": null,
      "outputs": []
    },
    {
      "cell_type": "code",
      "source": [
        "flatten = tf.keras.layers.Flatten()\n",
        "flatten"
      ],
      "metadata": {
        "id": "t-uhYLkA-owm"
      },
      "execution_count": null,
      "outputs": []
    },
    {
      "cell_type": "code",
      "source": [
        "input = tf.keras.layers.Input(shape=(150,))\n",
        "input"
      ],
      "metadata": {
        "id": "UG38h5DU-vIA"
      },
      "execution_count": null,
      "outputs": []
    },
    {
      "cell_type": "markdown",
      "metadata": {
        "id": "bcoSi5H2QACR"
      },
      "source": [
        "### Warstwy konwolucyjne + max pooling\n",
        "* **Conv1D** - 1D warstwa konwolucyjna\n",
        "* **Conv2D** - 2D warstwa konwolucyjna\n",
        "* **MaxPooling1D** - operacja max pooling 1D\n",
        "* **MaxPooling2D** - operacja max pooling 2D"
      ]
    },
    {
      "cell_type": "code",
      "source": [
        "# filters - liczba filtrów zastosowana na etapie konwolucji\n",
        "# kernel_size - długość okna konwolucji\n",
        "conv1d = tf.keras.layers.Conv1D(filters=64, kernel_size=3)\n",
        "conv1d"
      ],
      "metadata": {
        "colab": {
          "base_uri": "https://localhost:8080/"
        },
        "id": "gCt_Lz0h_Ret",
        "outputId": "4c6e1ad9-6cfa-4866-886e-10556b056176"
      },
      "execution_count": 33,
      "outputs": [
        {
          "output_type": "execute_result",
          "data": {
            "text/plain": [
              "<Conv1D name=conv1d, built=False>"
            ]
          },
          "metadata": {},
          "execution_count": 33
        }
      ]
    },
    {
      "cell_type": "code",
      "source": [
        "# filters - liczba filtrów zastosowana na etapie konwolucji\n",
        "# kernel_size - wielkość okna konwolucji\n",
        "conv2d = tf.keras.layers.Conv2D(filters=64, kernel_size=(3, 3))\n",
        "conv2d"
      ],
      "metadata": {
        "colab": {
          "base_uri": "https://localhost:8080/"
        },
        "id": "WU87iNrf_yPu",
        "outputId": "bc769b50-55b1-44f2-e088-31d8340cd989"
      },
      "execution_count": 36,
      "outputs": [
        {
          "output_type": "execute_result",
          "data": {
            "text/plain": [
              "<Conv2D name=conv2d_1, built=False>"
            ]
          },
          "metadata": {},
          "execution_count": 36
        }
      ]
    },
    {
      "cell_type": "code",
      "source": [
        "# pool_size - rozmiar okna max pooling\n",
        "maxpooling1d = tf.keras.layers.MaxPooling1D(pool_size=2)\n",
        "maxpooling1d"
      ],
      "metadata": {
        "colab": {
          "base_uri": "https://localhost:8080/"
        },
        "id": "aHmhcFkp_0b-",
        "outputId": "720635f9-9ae2-4ea3-b0bd-c561e234d179"
      },
      "execution_count": 37,
      "outputs": [
        {
          "output_type": "execute_result",
          "data": {
            "text/plain": [
              "<MaxPooling1D name=max_pooling1d, built=True>"
            ]
          },
          "metadata": {},
          "execution_count": 37
        }
      ]
    },
    {
      "cell_type": "code",
      "source": [
        "# pool_size - rozmiar okna max pooling\n",
        "maxpooling2d = tf.keras.layers.MaxPooling2D(pool_size=(2, 2))\n",
        "maxpooling2d"
      ],
      "metadata": {
        "colab": {
          "base_uri": "https://localhost:8080/"
        },
        "id": "_pKdkDCv_-7r",
        "outputId": "4244ea0f-eb2a-46c9-86f2-5bbca29ee3c7"
      },
      "execution_count": 38,
      "outputs": [
        {
          "output_type": "execute_result",
          "data": {
            "text/plain": [
              "<MaxPooling2D name=max_pooling2d, built=True>"
            ]
          },
          "metadata": {},
          "execution_count": 38
        }
      ]
    },
    {
      "cell_type": "markdown",
      "metadata": {
        "id": "sUmlAwyTTwrT"
      },
      "source": [
        "### Warstwy rekurencyjne\n",
        "* **RNN** - bazowa warstwa rekurencyjna\n",
        "* **SimpleRNN** - w pełni połączona warstwa rekurencyjna\n",
        "* **LSTM** - Long-Short-Term Memory"
      ]
    },
    {
      "cell_type": "code",
      "source": [
        "from tensorflow.keras.layers import RNN\n",
        "from tensorflow.keras.layers import SimpleRNN\n",
        "from tensorflow.keras.layers import LSTM"
      ],
      "metadata": {
        "colab": {
          "base_uri": "https://localhost:8080/"
        },
        "id": "TS9UHDSk_oZ8",
        "outputId": "b5ca8461-11eb-4812-a5a8-5ecd426cc593"
      },
      "execution_count": 35,
      "outputs": [
        {
          "output_type": "execute_result",
          "data": {
            "text/plain": [
              "<Conv2D name=conv2d, built=False>"
            ]
          },
          "metadata": {},
          "execution_count": 35
        }
      ]
    },
    {
      "cell_type": "markdown",
      "metadata": {
        "id": "8ZYDdGkfg356"
      },
      "source": [
        "### Warstwa osadzeń\n",
        "* **Embedding** - warstwa osadzeń, przekształca wartości całkowite na gęste wektory osadzeń. Stosowana tylko jako pierwsza warstwa modelu"
      ]
    },
    {
      "cell_type": "code",
      "source": [
        "# input_dim - rozmiar słownika, maksymalny indeks w słowniku + 1\n",
        "# output_dim - wymiar osadzenia\n",
        "# input_length - długość sekwencji, jeśli jest stała\n",
        "embedding = tf.keras.layers.Embedding(input_dim=1000, output_dim=64, input_length=10)"
      ],
      "metadata": {
        "colab": {
          "base_uri": "https://localhost:8080/"
        },
        "id": "ZhiRB6wZARG-",
        "outputId": "93ab36e0-cd86-499c-9da1-fb54e626d016"
      },
      "execution_count": 39,
      "outputs": [
        {
          "output_type": "stream",
          "name": "stderr",
          "text": [
            "/usr/local/lib/python3.11/dist-packages/keras/src/layers/core/embedding.py:90: UserWarning: Argument `input_length` is deprecated. Just remove it.\n",
            "  warnings.warn(\n"
          ]
        }
      ]
    }
  ]
}