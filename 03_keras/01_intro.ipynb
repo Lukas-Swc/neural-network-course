{
  "nbformat": 4,
  "nbformat_minor": 0,
  "metadata": {
    "colab": {
      "provenance": [],
      "authorship_tag": "ABX9TyPVFXY/yiMYnvJAQvMqSebM",
      "include_colab_link": true
    },
    "kernelspec": {
      "name": "python3",
      "display_name": "Python 3"
    },
    "language_info": {
      "name": "python"
    }
  },
  "cells": [
    {
      "cell_type": "markdown",
      "metadata": {
        "id": "view-in-github",
        "colab_type": "text"
      },
      "source": [
        "<a href=\"https://colab.research.google.com/github/Lukas-Swc/neural-network-course/blob/main/03_keras/01_intro.ipynb\" target=\"_parent\"><img src=\"https://colab.research.google.com/assets/colab-badge.svg\" alt=\"Open In Colab\"/></a>"
      ]
    },
    {
      "cell_type": "markdown",
      "metadata": {
        "id": "tC7wD4aySZKb"
      },
      "source": [
        "### Model sekwencjny (Sequential Model):\n",
        "1. [Wprowadzenie - pierwszy model](#a0)\n",
        "2. [Funkcje aktywacji](#a1)\n",
        "3. [Kompilacja modelu](#a2)\n",
        "4. [Trenowanie modelu](#a3)\n",
        "5. [Przykład - klasyfikacja binarna](#a4)\n",
        "6. [Przykład - klasyfikacja wieloklasowa](#a5)\n",
        "7. [Przykład - regresja](#a6)\n",
        "\n",
        "\n",
        "\n",
        "Konfiguracja środowiska\n"
      ]
    },
    {
      "cell_type": "code",
      "metadata": {
        "id": "3SPURJyPQOpj",
        "colab": {
          "base_uri": "https://localhost:8080/",
          "height": 36
        },
        "outputId": "38918d77-5c09-492c-83a6-bd86b415b125"
      },
      "source": [
        "import tensorflow as tf\n",
        "import numpy as np\n",
        "import pandas as pd\n",
        "import plotly.express as px\n",
        "tf.__version__"
      ],
      "execution_count": 1,
      "outputs": [
        {
          "output_type": "execute_result",
          "data": {
            "text/plain": [
              "'2.18.0'"
            ],
            "application/vnd.google.colaboratory.intrinsic+json": {
              "type": "string"
            }
          },
          "metadata": {},
          "execution_count": 1
        }
      ]
    },
    {
      "cell_type": "markdown",
      "metadata": {
        "id": "x0HF8UIRTBmC"
      },
      "source": [
        "### <a name='a0'></a>Wprowadzenie - pierwszy model\n",
        "Model sekwencyjny to nic innego jak liniowy stos warstw."
      ]
    },
    {
      "cell_type": "code",
      "source": [
        "# utworznie instancji klasy Sequential\n",
        "\n",
        "model = tf.keras.models.Sequential()\n",
        "print(model)"
      ],
      "metadata": {
        "colab": {
          "base_uri": "https://localhost:8080/"
        },
        "id": "xiPEK8uex_zf",
        "outputId": "583c735a-636f-409c-e185-f6539a1ebdce"
      },
      "execution_count": 2,
      "outputs": [
        {
          "output_type": "stream",
          "name": "stdout",
          "text": [
            "<Sequential name=sequential, built=False>\n"
          ]
        }
      ]
    },
    {
      "cell_type": "markdown",
      "metadata": {
        "id": "yqtUKjKaTyxQ"
      },
      "source": [
        "Podstawowym elementem składowym modelu są warstwy. Aby dodać najbardziej standardową warstwę - warstwę gęsto połączoną należy użyć warstwy **Dense**. Aby dodać warstwę do modelu należy użyć metody *.add()*"
      ]
    },
    {
      "cell_type": "code",
      "source": [
        "model.add(tf.keras.layers.Dense(units=4, input_shape=(10,)))"
      ],
      "metadata": {
        "colab": {
          "base_uri": "https://localhost:8080/"
        },
        "id": "iU2ZJnxYyfUb",
        "outputId": "4ae102d8-6dec-46e9-d35c-15d320f88865"
      },
      "execution_count": 3,
      "outputs": [
        {
          "output_type": "stream",
          "name": "stderr",
          "text": [
            "/usr/local/lib/python3.11/dist-packages/keras/src/layers/core/dense.py:87: UserWarning: Do not pass an `input_shape`/`input_dim` argument to a layer. When using Sequential models, prefer using an `Input(shape)` object as the first layer in the model instead.\n",
            "  super().__init__(activity_regularizer=activity_regularizer, **kwargs)\n"
          ]
        }
      ]
    },
    {
      "cell_type": "markdown",
      "metadata": {
        "id": "s4q14zW-XOU4"
      },
      "source": [
        "Wyświetlenie podsumowania modelu: metoda *.summary()*"
      ]
    },
    {
      "cell_type": "code",
      "source": [
        "model.summary()"
      ],
      "metadata": {
        "colab": {
          "base_uri": "https://localhost:8080/",
          "height": 164
        },
        "id": "cFlh486i0e7x",
        "outputId": "1096c89b-a2dd-4e64-b0c3-f4ca0ac9ff5b"
      },
      "execution_count": 4,
      "outputs": [
        {
          "output_type": "display_data",
          "data": {
            "text/plain": [
              "\u001b[1mModel: \"sequential\"\u001b[0m\n"
            ],
            "text/html": [
              "<pre style=\"white-space:pre;overflow-x:auto;line-height:normal;font-family:Menlo,'DejaVu Sans Mono',consolas,'Courier New',monospace\"><span style=\"font-weight: bold\">Model: \"sequential\"</span>\n",
              "</pre>\n"
            ]
          },
          "metadata": {}
        },
        {
          "output_type": "display_data",
          "data": {
            "text/plain": [
              "┏━━━━━━━━━━━━━━━━━━━━━━━━━━━━━━━━━┳━━━━━━━━━━━━━━━━━━━━━━━━┳━━━━━━━━━━━━━━━┓\n",
              "┃\u001b[1m \u001b[0m\u001b[1mLayer (type)                   \u001b[0m\u001b[1m \u001b[0m┃\u001b[1m \u001b[0m\u001b[1mOutput Shape          \u001b[0m\u001b[1m \u001b[0m┃\u001b[1m \u001b[0m\u001b[1m      Param #\u001b[0m\u001b[1m \u001b[0m┃\n",
              "┡━━━━━━━━━━━━━━━━━━━━━━━━━━━━━━━━━╇━━━━━━━━━━━━━━━━━━━━━━━━╇━━━━━━━━━━━━━━━┩\n",
              "│ dense (\u001b[38;5;33mDense\u001b[0m)                   │ (\u001b[38;5;45mNone\u001b[0m, \u001b[38;5;34m4\u001b[0m)              │            \u001b[38;5;34m44\u001b[0m │\n",
              "└─────────────────────────────────┴────────────────────────┴───────────────┘\n"
            ],
            "text/html": [
              "<pre style=\"white-space:pre;overflow-x:auto;line-height:normal;font-family:Menlo,'DejaVu Sans Mono',consolas,'Courier New',monospace\">┏━━━━━━━━━━━━━━━━━━━━━━━━━━━━━━━━━┳━━━━━━━━━━━━━━━━━━━━━━━━┳━━━━━━━━━━━━━━━┓\n",
              "┃<span style=\"font-weight: bold\"> Layer (type)                    </span>┃<span style=\"font-weight: bold\"> Output Shape           </span>┃<span style=\"font-weight: bold\">       Param # </span>┃\n",
              "┡━━━━━━━━━━━━━━━━━━━━━━━━━━━━━━━━━╇━━━━━━━━━━━━━━━━━━━━━━━━╇━━━━━━━━━━━━━━━┩\n",
              "│ dense (<span style=\"color: #0087ff; text-decoration-color: #0087ff\">Dense</span>)                   │ (<span style=\"color: #00d7ff; text-decoration-color: #00d7ff\">None</span>, <span style=\"color: #00af00; text-decoration-color: #00af00\">4</span>)              │            <span style=\"color: #00af00; text-decoration-color: #00af00\">44</span> │\n",
              "└─────────────────────────────────┴────────────────────────┴───────────────┘\n",
              "</pre>\n"
            ]
          },
          "metadata": {}
        },
        {
          "output_type": "display_data",
          "data": {
            "text/plain": [
              "\u001b[1m Total params: \u001b[0m\u001b[38;5;34m44\u001b[0m (176.00 B)\n"
            ],
            "text/html": [
              "<pre style=\"white-space:pre;overflow-x:auto;line-height:normal;font-family:Menlo,'DejaVu Sans Mono',consolas,'Courier New',monospace\"><span style=\"font-weight: bold\"> Total params: </span><span style=\"color: #00af00; text-decoration-color: #00af00\">44</span> (176.00 B)\n",
              "</pre>\n"
            ]
          },
          "metadata": {}
        },
        {
          "output_type": "display_data",
          "data": {
            "text/plain": [
              "\u001b[1m Trainable params: \u001b[0m\u001b[38;5;34m44\u001b[0m (176.00 B)\n"
            ],
            "text/html": [
              "<pre style=\"white-space:pre;overflow-x:auto;line-height:normal;font-family:Menlo,'DejaVu Sans Mono',consolas,'Courier New',monospace\"><span style=\"font-weight: bold\"> Trainable params: </span><span style=\"color: #00af00; text-decoration-color: #00af00\">44</span> (176.00 B)\n",
              "</pre>\n"
            ]
          },
          "metadata": {}
        },
        {
          "output_type": "display_data",
          "data": {
            "text/plain": [
              "\u001b[1m Non-trainable params: \u001b[0m\u001b[38;5;34m0\u001b[0m (0.00 B)\n"
            ],
            "text/html": [
              "<pre style=\"white-space:pre;overflow-x:auto;line-height:normal;font-family:Menlo,'DejaVu Sans Mono',consolas,'Courier New',monospace\"><span style=\"font-weight: bold\"> Non-trainable params: </span><span style=\"color: #00af00; text-decoration-color: #00af00\">0</span> (0.00 B)\n",
              "</pre>\n"
            ]
          },
          "metadata": {}
        }
      ]
    },
    {
      "cell_type": "markdown",
      "metadata": {
        "id": "izZi_Eu2Xjcl"
      },
      "source": [
        "Dodanie kolejnej warstwy"
      ]
    },
    {
      "cell_type": "code",
      "source": [
        "model.add(tf.keras.layers.Dense(units=2))\n",
        "\n",
        "model.summary()"
      ],
      "metadata": {
        "colab": {
          "base_uri": "https://localhost:8080/",
          "height": 197
        },
        "id": "BoCZbHYX1i-x",
        "outputId": "09420b38-de1f-46fa-c8c1-e21311dd8906"
      },
      "execution_count": 5,
      "outputs": [
        {
          "output_type": "display_data",
          "data": {
            "text/plain": [
              "\u001b[1mModel: \"sequential\"\u001b[0m\n"
            ],
            "text/html": [
              "<pre style=\"white-space:pre;overflow-x:auto;line-height:normal;font-family:Menlo,'DejaVu Sans Mono',consolas,'Courier New',monospace\"><span style=\"font-weight: bold\">Model: \"sequential\"</span>\n",
              "</pre>\n"
            ]
          },
          "metadata": {}
        },
        {
          "output_type": "display_data",
          "data": {
            "text/plain": [
              "┏━━━━━━━━━━━━━━━━━━━━━━━━━━━━━━━━━┳━━━━━━━━━━━━━━━━━━━━━━━━┳━━━━━━━━━━━━━━━┓\n",
              "┃\u001b[1m \u001b[0m\u001b[1mLayer (type)                   \u001b[0m\u001b[1m \u001b[0m┃\u001b[1m \u001b[0m\u001b[1mOutput Shape          \u001b[0m\u001b[1m \u001b[0m┃\u001b[1m \u001b[0m\u001b[1m      Param #\u001b[0m\u001b[1m \u001b[0m┃\n",
              "┡━━━━━━━━━━━━━━━━━━━━━━━━━━━━━━━━━╇━━━━━━━━━━━━━━━━━━━━━━━━╇━━━━━━━━━━━━━━━┩\n",
              "│ dense (\u001b[38;5;33mDense\u001b[0m)                   │ (\u001b[38;5;45mNone\u001b[0m, \u001b[38;5;34m4\u001b[0m)              │            \u001b[38;5;34m44\u001b[0m │\n",
              "├─────────────────────────────────┼────────────────────────┼───────────────┤\n",
              "│ dense_1 (\u001b[38;5;33mDense\u001b[0m)                 │ (\u001b[38;5;45mNone\u001b[0m, \u001b[38;5;34m2\u001b[0m)              │            \u001b[38;5;34m10\u001b[0m │\n",
              "└─────────────────────────────────┴────────────────────────┴───────────────┘\n"
            ],
            "text/html": [
              "<pre style=\"white-space:pre;overflow-x:auto;line-height:normal;font-family:Menlo,'DejaVu Sans Mono',consolas,'Courier New',monospace\">┏━━━━━━━━━━━━━━━━━━━━━━━━━━━━━━━━━┳━━━━━━━━━━━━━━━━━━━━━━━━┳━━━━━━━━━━━━━━━┓\n",
              "┃<span style=\"font-weight: bold\"> Layer (type)                    </span>┃<span style=\"font-weight: bold\"> Output Shape           </span>┃<span style=\"font-weight: bold\">       Param # </span>┃\n",
              "┡━━━━━━━━━━━━━━━━━━━━━━━━━━━━━━━━━╇━━━━━━━━━━━━━━━━━━━━━━━━╇━━━━━━━━━━━━━━━┩\n",
              "│ dense (<span style=\"color: #0087ff; text-decoration-color: #0087ff\">Dense</span>)                   │ (<span style=\"color: #00d7ff; text-decoration-color: #00d7ff\">None</span>, <span style=\"color: #00af00; text-decoration-color: #00af00\">4</span>)              │            <span style=\"color: #00af00; text-decoration-color: #00af00\">44</span> │\n",
              "├─────────────────────────────────┼────────────────────────┼───────────────┤\n",
              "│ dense_1 (<span style=\"color: #0087ff; text-decoration-color: #0087ff\">Dense</span>)                 │ (<span style=\"color: #00d7ff; text-decoration-color: #00d7ff\">None</span>, <span style=\"color: #00af00; text-decoration-color: #00af00\">2</span>)              │            <span style=\"color: #00af00; text-decoration-color: #00af00\">10</span> │\n",
              "└─────────────────────────────────┴────────────────────────┴───────────────┘\n",
              "</pre>\n"
            ]
          },
          "metadata": {}
        },
        {
          "output_type": "display_data",
          "data": {
            "text/plain": [
              "\u001b[1m Total params: \u001b[0m\u001b[38;5;34m54\u001b[0m (216.00 B)\n"
            ],
            "text/html": [
              "<pre style=\"white-space:pre;overflow-x:auto;line-height:normal;font-family:Menlo,'DejaVu Sans Mono',consolas,'Courier New',monospace\"><span style=\"font-weight: bold\"> Total params: </span><span style=\"color: #00af00; text-decoration-color: #00af00\">54</span> (216.00 B)\n",
              "</pre>\n"
            ]
          },
          "metadata": {}
        },
        {
          "output_type": "display_data",
          "data": {
            "text/plain": [
              "\u001b[1m Trainable params: \u001b[0m\u001b[38;5;34m54\u001b[0m (216.00 B)\n"
            ],
            "text/html": [
              "<pre style=\"white-space:pre;overflow-x:auto;line-height:normal;font-family:Menlo,'DejaVu Sans Mono',consolas,'Courier New',monospace\"><span style=\"font-weight: bold\"> Trainable params: </span><span style=\"color: #00af00; text-decoration-color: #00af00\">54</span> (216.00 B)\n",
              "</pre>\n"
            ]
          },
          "metadata": {}
        },
        {
          "output_type": "display_data",
          "data": {
            "text/plain": [
              "\u001b[1m Non-trainable params: \u001b[0m\u001b[38;5;34m0\u001b[0m (0.00 B)\n"
            ],
            "text/html": [
              "<pre style=\"white-space:pre;overflow-x:auto;line-height:normal;font-family:Menlo,'DejaVu Sans Mono',consolas,'Courier New',monospace\"><span style=\"font-weight: bold\"> Non-trainable params: </span><span style=\"color: #00af00; text-decoration-color: #00af00\">0</span> (0.00 B)\n",
              "</pre>\n"
            ]
          },
          "metadata": {}
        }
      ]
    },
    {
      "cell_type": "markdown",
      "metadata": {
        "id": "yh_gui1wZCH2"
      },
      "source": [
        "### <a name='a1'></a>Funkcje aktywacji\n",
        "Istotnym elemenem sieci neuronowych jest dobór odpowiednich funkcji aktywacji. Funkcje aktywacji jak sama nazwa wskazuje są odpowiedzialne za aktywowanie odpowiednich neuronów podczas procesu uczenia.\n",
        "\n",
        "Jeżeli nie określimy podczas dodawania warstwy funkcji aktywacji, domyślnie stosowana jest liniowa funkcja aktywacji, tzn. $a(x)=x$\n",
        "\n",
        "Warstwa z liniową funkcją aktywacji może uczyć się tylko liniowych przekształceń danych wejściowych. Dlatego stosuje się różne funkcje aktywacji aby rozwiazywać problemy nieliniowe.\n",
        "\n",
        "[Keras: Funkcje aktywacji](https://keras.io/activations/)"
      ]
    },
    {
      "cell_type": "code",
      "source": [
        "from keras import layers\n",
        "from keras import activations\n",
        "\n",
        "random_data = sorted(np.random.randn(200))\n",
        "data = pd.DataFrame({'data': random_data, 'linear': activations.linear(random_data)})\n",
        "data.head()"
      ],
      "metadata": {
        "colab": {
          "base_uri": "https://localhost:8080/",
          "height": 206
        },
        "id": "4eQChFKw57uH",
        "outputId": "4b5ed2db-b71c-4fc9-8a99-a9fea50ed458"
      },
      "execution_count": 6,
      "outputs": [
        {
          "output_type": "execute_result",
          "data": {
            "text/plain": [
              "       data    linear\n",
              "0 -2.794687 -2.794687\n",
              "1 -2.534689 -2.534689\n",
              "2 -2.037795 -2.037795\n",
              "3 -1.864451 -1.864451\n",
              "4 -1.807933 -1.807933"
            ],
            "text/html": [
              "\n",
              "  <div id=\"df-7f44b48c-780c-4e8f-bd4f-753c96eef93d\" class=\"colab-df-container\">\n",
              "    <div>\n",
              "<style scoped>\n",
              "    .dataframe tbody tr th:only-of-type {\n",
              "        vertical-align: middle;\n",
              "    }\n",
              "\n",
              "    .dataframe tbody tr th {\n",
              "        vertical-align: top;\n",
              "    }\n",
              "\n",
              "    .dataframe thead th {\n",
              "        text-align: right;\n",
              "    }\n",
              "</style>\n",
              "<table border=\"1\" class=\"dataframe\">\n",
              "  <thead>\n",
              "    <tr style=\"text-align: right;\">\n",
              "      <th></th>\n",
              "      <th>data</th>\n",
              "      <th>linear</th>\n",
              "    </tr>\n",
              "  </thead>\n",
              "  <tbody>\n",
              "    <tr>\n",
              "      <th>0</th>\n",
              "      <td>-2.794687</td>\n",
              "      <td>-2.794687</td>\n",
              "    </tr>\n",
              "    <tr>\n",
              "      <th>1</th>\n",
              "      <td>-2.534689</td>\n",
              "      <td>-2.534689</td>\n",
              "    </tr>\n",
              "    <tr>\n",
              "      <th>2</th>\n",
              "      <td>-2.037795</td>\n",
              "      <td>-2.037795</td>\n",
              "    </tr>\n",
              "    <tr>\n",
              "      <th>3</th>\n",
              "      <td>-1.864451</td>\n",
              "      <td>-1.864451</td>\n",
              "    </tr>\n",
              "    <tr>\n",
              "      <th>4</th>\n",
              "      <td>-1.807933</td>\n",
              "      <td>-1.807933</td>\n",
              "    </tr>\n",
              "  </tbody>\n",
              "</table>\n",
              "</div>\n",
              "    <div class=\"colab-df-buttons\">\n",
              "\n",
              "  <div class=\"colab-df-container\">\n",
              "    <button class=\"colab-df-convert\" onclick=\"convertToInteractive('df-7f44b48c-780c-4e8f-bd4f-753c96eef93d')\"\n",
              "            title=\"Convert this dataframe to an interactive table.\"\n",
              "            style=\"display:none;\">\n",
              "\n",
              "  <svg xmlns=\"http://www.w3.org/2000/svg\" height=\"24px\" viewBox=\"0 -960 960 960\">\n",
              "    <path d=\"M120-120v-720h720v720H120Zm60-500h600v-160H180v160Zm220 220h160v-160H400v160Zm0 220h160v-160H400v160ZM180-400h160v-160H180v160Zm440 0h160v-160H620v160ZM180-180h160v-160H180v160Zm440 0h160v-160H620v160Z\"/>\n",
              "  </svg>\n",
              "    </button>\n",
              "\n",
              "  <style>\n",
              "    .colab-df-container {\n",
              "      display:flex;\n",
              "      gap: 12px;\n",
              "    }\n",
              "\n",
              "    .colab-df-convert {\n",
              "      background-color: #E8F0FE;\n",
              "      border: none;\n",
              "      border-radius: 50%;\n",
              "      cursor: pointer;\n",
              "      display: none;\n",
              "      fill: #1967D2;\n",
              "      height: 32px;\n",
              "      padding: 0 0 0 0;\n",
              "      width: 32px;\n",
              "    }\n",
              "\n",
              "    .colab-df-convert:hover {\n",
              "      background-color: #E2EBFA;\n",
              "      box-shadow: 0px 1px 2px rgba(60, 64, 67, 0.3), 0px 1px 3px 1px rgba(60, 64, 67, 0.15);\n",
              "      fill: #174EA6;\n",
              "    }\n",
              "\n",
              "    .colab-df-buttons div {\n",
              "      margin-bottom: 4px;\n",
              "    }\n",
              "\n",
              "    [theme=dark] .colab-df-convert {\n",
              "      background-color: #3B4455;\n",
              "      fill: #D2E3FC;\n",
              "    }\n",
              "\n",
              "    [theme=dark] .colab-df-convert:hover {\n",
              "      background-color: #434B5C;\n",
              "      box-shadow: 0px 1px 3px 1px rgba(0, 0, 0, 0.15);\n",
              "      filter: drop-shadow(0px 1px 2px rgba(0, 0, 0, 0.3));\n",
              "      fill: #FFFFFF;\n",
              "    }\n",
              "  </style>\n",
              "\n",
              "    <script>\n",
              "      const buttonEl =\n",
              "        document.querySelector('#df-7f44b48c-780c-4e8f-bd4f-753c96eef93d button.colab-df-convert');\n",
              "      buttonEl.style.display =\n",
              "        google.colab.kernel.accessAllowed ? 'block' : 'none';\n",
              "\n",
              "      async function convertToInteractive(key) {\n",
              "        const element = document.querySelector('#df-7f44b48c-780c-4e8f-bd4f-753c96eef93d');\n",
              "        const dataTable =\n",
              "          await google.colab.kernel.invokeFunction('convertToInteractive',\n",
              "                                                    [key], {});\n",
              "        if (!dataTable) return;\n",
              "\n",
              "        const docLinkHtml = 'Like what you see? Visit the ' +\n",
              "          '<a target=\"_blank\" href=https://colab.research.google.com/notebooks/data_table.ipynb>data table notebook</a>'\n",
              "          + ' to learn more about interactive tables.';\n",
              "        element.innerHTML = '';\n",
              "        dataTable['output_type'] = 'display_data';\n",
              "        await google.colab.output.renderOutput(dataTable, element);\n",
              "        const docLink = document.createElement('div');\n",
              "        docLink.innerHTML = docLinkHtml;\n",
              "        element.appendChild(docLink);\n",
              "      }\n",
              "    </script>\n",
              "  </div>\n",
              "\n",
              "\n",
              "    <div id=\"df-de7cf016-87fc-46f3-affd-9b6dce31216e\">\n",
              "      <button class=\"colab-df-quickchart\" onclick=\"quickchart('df-de7cf016-87fc-46f3-affd-9b6dce31216e')\"\n",
              "                title=\"Suggest charts\"\n",
              "                style=\"display:none;\">\n",
              "\n",
              "<svg xmlns=\"http://www.w3.org/2000/svg\" height=\"24px\"viewBox=\"0 0 24 24\"\n",
              "     width=\"24px\">\n",
              "    <g>\n",
              "        <path d=\"M19 3H5c-1.1 0-2 .9-2 2v14c0 1.1.9 2 2 2h14c1.1 0 2-.9 2-2V5c0-1.1-.9-2-2-2zM9 17H7v-7h2v7zm4 0h-2V7h2v10zm4 0h-2v-4h2v4z\"/>\n",
              "    </g>\n",
              "</svg>\n",
              "      </button>\n",
              "\n",
              "<style>\n",
              "  .colab-df-quickchart {\n",
              "      --bg-color: #E8F0FE;\n",
              "      --fill-color: #1967D2;\n",
              "      --hover-bg-color: #E2EBFA;\n",
              "      --hover-fill-color: #174EA6;\n",
              "      --disabled-fill-color: #AAA;\n",
              "      --disabled-bg-color: #DDD;\n",
              "  }\n",
              "\n",
              "  [theme=dark] .colab-df-quickchart {\n",
              "      --bg-color: #3B4455;\n",
              "      --fill-color: #D2E3FC;\n",
              "      --hover-bg-color: #434B5C;\n",
              "      --hover-fill-color: #FFFFFF;\n",
              "      --disabled-bg-color: #3B4455;\n",
              "      --disabled-fill-color: #666;\n",
              "  }\n",
              "\n",
              "  .colab-df-quickchart {\n",
              "    background-color: var(--bg-color);\n",
              "    border: none;\n",
              "    border-radius: 50%;\n",
              "    cursor: pointer;\n",
              "    display: none;\n",
              "    fill: var(--fill-color);\n",
              "    height: 32px;\n",
              "    padding: 0;\n",
              "    width: 32px;\n",
              "  }\n",
              "\n",
              "  .colab-df-quickchart:hover {\n",
              "    background-color: var(--hover-bg-color);\n",
              "    box-shadow: 0 1px 2px rgba(60, 64, 67, 0.3), 0 1px 3px 1px rgba(60, 64, 67, 0.15);\n",
              "    fill: var(--button-hover-fill-color);\n",
              "  }\n",
              "\n",
              "  .colab-df-quickchart-complete:disabled,\n",
              "  .colab-df-quickchart-complete:disabled:hover {\n",
              "    background-color: var(--disabled-bg-color);\n",
              "    fill: var(--disabled-fill-color);\n",
              "    box-shadow: none;\n",
              "  }\n",
              "\n",
              "  .colab-df-spinner {\n",
              "    border: 2px solid var(--fill-color);\n",
              "    border-color: transparent;\n",
              "    border-bottom-color: var(--fill-color);\n",
              "    animation:\n",
              "      spin 1s steps(1) infinite;\n",
              "  }\n",
              "\n",
              "  @keyframes spin {\n",
              "    0% {\n",
              "      border-color: transparent;\n",
              "      border-bottom-color: var(--fill-color);\n",
              "      border-left-color: var(--fill-color);\n",
              "    }\n",
              "    20% {\n",
              "      border-color: transparent;\n",
              "      border-left-color: var(--fill-color);\n",
              "      border-top-color: var(--fill-color);\n",
              "    }\n",
              "    30% {\n",
              "      border-color: transparent;\n",
              "      border-left-color: var(--fill-color);\n",
              "      border-top-color: var(--fill-color);\n",
              "      border-right-color: var(--fill-color);\n",
              "    }\n",
              "    40% {\n",
              "      border-color: transparent;\n",
              "      border-right-color: var(--fill-color);\n",
              "      border-top-color: var(--fill-color);\n",
              "    }\n",
              "    60% {\n",
              "      border-color: transparent;\n",
              "      border-right-color: var(--fill-color);\n",
              "    }\n",
              "    80% {\n",
              "      border-color: transparent;\n",
              "      border-right-color: var(--fill-color);\n",
              "      border-bottom-color: var(--fill-color);\n",
              "    }\n",
              "    90% {\n",
              "      border-color: transparent;\n",
              "      border-bottom-color: var(--fill-color);\n",
              "    }\n",
              "  }\n",
              "</style>\n",
              "\n",
              "      <script>\n",
              "        async function quickchart(key) {\n",
              "          const quickchartButtonEl =\n",
              "            document.querySelector('#' + key + ' button');\n",
              "          quickchartButtonEl.disabled = true;  // To prevent multiple clicks.\n",
              "          quickchartButtonEl.classList.add('colab-df-spinner');\n",
              "          try {\n",
              "            const charts = await google.colab.kernel.invokeFunction(\n",
              "                'suggestCharts', [key], {});\n",
              "          } catch (error) {\n",
              "            console.error('Error during call to suggestCharts:', error);\n",
              "          }\n",
              "          quickchartButtonEl.classList.remove('colab-df-spinner');\n",
              "          quickchartButtonEl.classList.add('colab-df-quickchart-complete');\n",
              "        }\n",
              "        (() => {\n",
              "          let quickchartButtonEl =\n",
              "            document.querySelector('#df-de7cf016-87fc-46f3-affd-9b6dce31216e button');\n",
              "          quickchartButtonEl.style.display =\n",
              "            google.colab.kernel.accessAllowed ? 'block' : 'none';\n",
              "        })();\n",
              "      </script>\n",
              "    </div>\n",
              "\n",
              "    </div>\n",
              "  </div>\n"
            ],
            "application/vnd.google.colaboratory.intrinsic+json": {
              "type": "dataframe",
              "variable_name": "data",
              "summary": "{\n  \"name\": \"data\",\n  \"rows\": 200,\n  \"fields\": [\n    {\n      \"column\": \"data\",\n      \"properties\": {\n        \"dtype\": \"number\",\n        \"std\": 1.0147131337454274,\n        \"min\": -2.7946868797498547,\n        \"max\": 3.00580788518154,\n        \"num_unique_values\": 200,\n        \"samples\": [\n          0.045800828997963706,\n          -1.3243380457456875,\n          -0.9749157787646309\n        ],\n        \"semantic_type\": \"\",\n        \"description\": \"\"\n      }\n    },\n    {\n      \"column\": \"linear\",\n      \"properties\": {\n        \"dtype\": \"number\",\n        \"std\": 1.0147131337454274,\n        \"min\": -2.7946868797498547,\n        \"max\": 3.00580788518154,\n        \"num_unique_values\": 200,\n        \"samples\": [\n          0.045800828997963706,\n          -1.3243380457456875,\n          -0.9749157787646309\n        ],\n        \"semantic_type\": \"\",\n        \"description\": \"\"\n      }\n    }\n  ]\n}"
            }
          },
          "metadata": {},
          "execution_count": 6
        }
      ]
    },
    {
      "cell_type": "code",
      "source": [
        "px.line(data, x='data', y='linear', width=800)"
      ],
      "metadata": {
        "colab": {
          "base_uri": "https://localhost:8080/",
          "height": 542
        },
        "id": "8C4nACN977Z8",
        "outputId": "bda31845-67c2-49b6-e979-7ae243abb947"
      },
      "execution_count": 7,
      "outputs": [
        {
          "output_type": "display_data",
          "data": {
            "text/html": [
              "<html>\n",
              "<head><meta charset=\"utf-8\" /></head>\n",
              "<body>\n",
              "    <div>            <script src=\"https://cdnjs.cloudflare.com/ajax/libs/mathjax/2.7.5/MathJax.js?config=TeX-AMS-MML_SVG\"></script><script type=\"text/javascript\">if (window.MathJax && window.MathJax.Hub && window.MathJax.Hub.Config) {window.MathJax.Hub.Config({SVG: {font: \"STIX-Web\"}});}</script>                <script type=\"text/javascript\">window.PlotlyConfig = {MathJaxConfig: 'local'};</script>\n",
              "        <script charset=\"utf-8\" src=\"https://cdn.plot.ly/plotly-2.35.2.min.js\"></script>                <div id=\"30b15731-58b4-4b42-87dc-a69bc61083ca\" class=\"plotly-graph-div\" style=\"height:525px; width:800px;\"></div>            <script type=\"text/javascript\">                                    window.PLOTLYENV=window.PLOTLYENV || {};                                    if (document.getElementById(\"30b15731-58b4-4b42-87dc-a69bc61083ca\")) {                    Plotly.newPlot(                        \"30b15731-58b4-4b42-87dc-a69bc61083ca\",                        [{\"hovertemplate\":\"data=%{x}\\u003cbr\\u003elinear=%{y}\\u003cextra\\u003e\\u003c\\u002fextra\\u003e\",\"legendgroup\":\"\",\"line\":{\"color\":\"#636efa\",\"dash\":\"solid\"},\"marker\":{\"symbol\":\"circle\"},\"mode\":\"lines\",\"name\":\"\",\"orientation\":\"v\",\"showlegend\":false,\"x\":[-2.7946868797498547,-2.5346893160095023,-2.037795498429682,-1.8644514463931026,-1.8079329976776237,-1.745011887700207,-1.616719697199332,-1.54128002125923,-1.4499812762458082,-1.417317809856497,-1.400601021749885,-1.3523137948538246,-1.3457576976044594,-1.3456666781033728,-1.3300928562657097,-1.3243380457456875,-1.2970316902324344,-1.2379297816082937,-1.1762353008313837,-1.1678334893479918,-1.1206925810278292,-1.1195979589654546,-1.1138660370783955,-1.1101879800374959,-1.0919275083862916,-1.063491759401442,-1.0541639583507227,-1.0510041934759726,-1.0438283091698108,-0.9886571969352946,-0.9749157787646309,-0.9611578743545233,-0.9531612157116405,-0.951869427246947,-0.9373729070144704,-0.9334505427525643,-0.9190569842410604,-0.8461176151527946,-0.8162534495633156,-0.8091781859644067,-0.80517396270832,-0.7969174687752394,-0.7809161321573287,-0.7727866784141307,-0.7300725046417121,-0.7299452495637321,-0.7084243041505662,-0.6414720122412781,-0.641153400158685,-0.6400586159316982,-0.5969342104655486,-0.5746217883863217,-0.5431526750644113,-0.5423882337139365,-0.5212194604085353,-0.5191933329153896,-0.5101094314561347,-0.50619325262461,-0.5034432135321375,-0.4465986955365625,-0.4045899149184938,-0.37801865962448616,-0.3607808940556729,-0.3563784359658721,-0.35328741214931975,-0.34088524857709823,-0.33831942892526745,-0.3196832748692665,-0.29905146706763247,-0.28087343340453247,-0.2583301504884134,-0.24935650054635622,-0.23541449036679207,-0.23277948721900887,-0.21937218229862654,-0.17616717860325767,-0.1615916977798169,-0.14792555114482983,-0.14018413312952607,-0.12873858339145286,-0.11682521053783586,-0.11239796302257342,-0.10461808112715025,-0.10236448268662013,-0.05297319995953524,-0.0362003219322809,-0.03254999467167291,-0.0195446815399572,-0.019170300178190564,0.0072807674444682864,0.013581341492300331,0.017873478442703913,0.03851837253930544,0.03978339892131628,0.0442009743112047,0.045800828997963706,0.0864161648437681,0.08867938871422994,0.10791831543354516,0.10823209598921475,0.11357406326622252,0.12081732369874439,0.1354103121285803,0.14209630931822662,0.17032357813730392,0.18460806626153606,0.19352214310904733,0.20714492208841986,0.2381030257930226,0.24118704606352884,0.2462471951337285,0.2501057601800597,0.2569073460387267,0.2685097918972767,0.3027638244292824,0.31214594077587676,0.36765080111324006,0.3819906675048657,0.39069896920404346,0.39999785728660586,0.4018951184475688,0.4046660410081538,0.41936315487320847,0.46179064024294086,0.46849328719684197,0.4813239502715357,0.4847907780356619,0.5029410709488865,0.5051070794933397,0.5082626513617303,0.5244926422420157,0.5249405783582868,0.5295587068989914,0.5469124709273623,0.5638694750714172,0.5702853044074204,0.5762356470016418,0.5923119373700032,0.6209514752915469,0.6421484151086889,0.6497558669545731,0.6584698208339733,0.666931867445857,0.6679223725829379,0.6977941809820988,0.716877249403901,0.7235400948104631,0.7236221051261627,0.7276636367569955,0.7282374156843515,0.741230798692628,0.7809713903465229,0.7819083833065003,0.7823689492564864,0.7957672859580123,0.8306235212403001,0.8337890414296539,0.8507160483028082,0.8513187862455237,0.8552436057717974,0.8700321815644383,0.9267816807828795,0.9279395835484305,0.9328997759381069,0.940960284192302,1.1351648844582738,1.1533891992752876,1.174438513984338,1.1755661842322698,1.1845811052535358,1.1873409458891484,1.247892771530494,1.2519708669920782,1.2763409706905133,1.2905428627301203,1.301134909047916,1.3146822202204673,1.3542315916622356,1.3608536161938873,1.4106468401243122,1.4131577514963427,1.457821323074998,1.5152182959140645,1.5155446446056113,1.5326674665450037,1.561189604420464,1.5839141740137048,1.6169704351421905,1.622267896995431,1.6562748497491016,1.6794665918279927,1.885068954631332,1.9020911994859475,1.919229548906198,1.9332909698511647,1.945212738781472,2.6723409942923055,2.754682883892308,2.897650928497546,3.00580788518154],\"xaxis\":\"x\",\"y\":[-2.7946868797498547,-2.5346893160095023,-2.037795498429682,-1.8644514463931026,-1.8079329976776237,-1.745011887700207,-1.616719697199332,-1.54128002125923,-1.4499812762458082,-1.417317809856497,-1.400601021749885,-1.3523137948538246,-1.3457576976044594,-1.3456666781033728,-1.3300928562657097,-1.3243380457456875,-1.2970316902324344,-1.2379297816082937,-1.1762353008313837,-1.1678334893479918,-1.1206925810278292,-1.1195979589654546,-1.1138660370783955,-1.1101879800374959,-1.0919275083862916,-1.063491759401442,-1.0541639583507227,-1.0510041934759726,-1.0438283091698108,-0.9886571969352946,-0.9749157787646309,-0.9611578743545233,-0.9531612157116405,-0.951869427246947,-0.9373729070144704,-0.9334505427525643,-0.9190569842410604,-0.8461176151527946,-0.8162534495633156,-0.8091781859644067,-0.80517396270832,-0.7969174687752394,-0.7809161321573287,-0.7727866784141307,-0.7300725046417121,-0.7299452495637321,-0.7084243041505662,-0.6414720122412781,-0.641153400158685,-0.6400586159316982,-0.5969342104655486,-0.5746217883863217,-0.5431526750644113,-0.5423882337139365,-0.5212194604085353,-0.5191933329153896,-0.5101094314561347,-0.50619325262461,-0.5034432135321375,-0.4465986955365625,-0.4045899149184938,-0.37801865962448616,-0.3607808940556729,-0.3563784359658721,-0.35328741214931975,-0.34088524857709823,-0.33831942892526745,-0.3196832748692665,-0.29905146706763247,-0.28087343340453247,-0.2583301504884134,-0.24935650054635622,-0.23541449036679207,-0.23277948721900887,-0.21937218229862654,-0.17616717860325767,-0.1615916977798169,-0.14792555114482983,-0.14018413312952607,-0.12873858339145286,-0.11682521053783586,-0.11239796302257342,-0.10461808112715025,-0.10236448268662013,-0.05297319995953524,-0.0362003219322809,-0.03254999467167291,-0.0195446815399572,-0.019170300178190564,0.0072807674444682864,0.013581341492300331,0.017873478442703913,0.03851837253930544,0.03978339892131628,0.0442009743112047,0.045800828997963706,0.0864161648437681,0.08867938871422994,0.10791831543354516,0.10823209598921475,0.11357406326622252,0.12081732369874439,0.1354103121285803,0.14209630931822662,0.17032357813730392,0.18460806626153606,0.19352214310904733,0.20714492208841986,0.2381030257930226,0.24118704606352884,0.2462471951337285,0.2501057601800597,0.2569073460387267,0.2685097918972767,0.3027638244292824,0.31214594077587676,0.36765080111324006,0.3819906675048657,0.39069896920404346,0.39999785728660586,0.4018951184475688,0.4046660410081538,0.41936315487320847,0.46179064024294086,0.46849328719684197,0.4813239502715357,0.4847907780356619,0.5029410709488865,0.5051070794933397,0.5082626513617303,0.5244926422420157,0.5249405783582868,0.5295587068989914,0.5469124709273623,0.5638694750714172,0.5702853044074204,0.5762356470016418,0.5923119373700032,0.6209514752915469,0.6421484151086889,0.6497558669545731,0.6584698208339733,0.666931867445857,0.6679223725829379,0.6977941809820988,0.716877249403901,0.7235400948104631,0.7236221051261627,0.7276636367569955,0.7282374156843515,0.741230798692628,0.7809713903465229,0.7819083833065003,0.7823689492564864,0.7957672859580123,0.8306235212403001,0.8337890414296539,0.8507160483028082,0.8513187862455237,0.8552436057717974,0.8700321815644383,0.9267816807828795,0.9279395835484305,0.9328997759381069,0.940960284192302,1.1351648844582738,1.1533891992752876,1.174438513984338,1.1755661842322698,1.1845811052535358,1.1873409458891484,1.247892771530494,1.2519708669920782,1.2763409706905133,1.2905428627301203,1.301134909047916,1.3146822202204673,1.3542315916622356,1.3608536161938873,1.4106468401243122,1.4131577514963427,1.457821323074998,1.5152182959140645,1.5155446446056113,1.5326674665450037,1.561189604420464,1.5839141740137048,1.6169704351421905,1.622267896995431,1.6562748497491016,1.6794665918279927,1.885068954631332,1.9020911994859475,1.919229548906198,1.9332909698511647,1.945212738781472,2.6723409942923055,2.754682883892308,2.897650928497546,3.00580788518154],\"yaxis\":\"y\",\"type\":\"scatter\"}],                        {\"template\":{\"data\":{\"histogram2dcontour\":[{\"type\":\"histogram2dcontour\",\"colorbar\":{\"outlinewidth\":0,\"ticks\":\"\"},\"colorscale\":[[0.0,\"#0d0887\"],[0.1111111111111111,\"#46039f\"],[0.2222222222222222,\"#7201a8\"],[0.3333333333333333,\"#9c179e\"],[0.4444444444444444,\"#bd3786\"],[0.5555555555555556,\"#d8576b\"],[0.6666666666666666,\"#ed7953\"],[0.7777777777777778,\"#fb9f3a\"],[0.8888888888888888,\"#fdca26\"],[1.0,\"#f0f921\"]]}],\"choropleth\":[{\"type\":\"choropleth\",\"colorbar\":{\"outlinewidth\":0,\"ticks\":\"\"}}],\"histogram2d\":[{\"type\":\"histogram2d\",\"colorbar\":{\"outlinewidth\":0,\"ticks\":\"\"},\"colorscale\":[[0.0,\"#0d0887\"],[0.1111111111111111,\"#46039f\"],[0.2222222222222222,\"#7201a8\"],[0.3333333333333333,\"#9c179e\"],[0.4444444444444444,\"#bd3786\"],[0.5555555555555556,\"#d8576b\"],[0.6666666666666666,\"#ed7953\"],[0.7777777777777778,\"#fb9f3a\"],[0.8888888888888888,\"#fdca26\"],[1.0,\"#f0f921\"]]}],\"heatmap\":[{\"type\":\"heatmap\",\"colorbar\":{\"outlinewidth\":0,\"ticks\":\"\"},\"colorscale\":[[0.0,\"#0d0887\"],[0.1111111111111111,\"#46039f\"],[0.2222222222222222,\"#7201a8\"],[0.3333333333333333,\"#9c179e\"],[0.4444444444444444,\"#bd3786\"],[0.5555555555555556,\"#d8576b\"],[0.6666666666666666,\"#ed7953\"],[0.7777777777777778,\"#fb9f3a\"],[0.8888888888888888,\"#fdca26\"],[1.0,\"#f0f921\"]]}],\"heatmapgl\":[{\"type\":\"heatmapgl\",\"colorbar\":{\"outlinewidth\":0,\"ticks\":\"\"},\"colorscale\":[[0.0,\"#0d0887\"],[0.1111111111111111,\"#46039f\"],[0.2222222222222222,\"#7201a8\"],[0.3333333333333333,\"#9c179e\"],[0.4444444444444444,\"#bd3786\"],[0.5555555555555556,\"#d8576b\"],[0.6666666666666666,\"#ed7953\"],[0.7777777777777778,\"#fb9f3a\"],[0.8888888888888888,\"#fdca26\"],[1.0,\"#f0f921\"]]}],\"contourcarpet\":[{\"type\":\"contourcarpet\",\"colorbar\":{\"outlinewidth\":0,\"ticks\":\"\"}}],\"contour\":[{\"type\":\"contour\",\"colorbar\":{\"outlinewidth\":0,\"ticks\":\"\"},\"colorscale\":[[0.0,\"#0d0887\"],[0.1111111111111111,\"#46039f\"],[0.2222222222222222,\"#7201a8\"],[0.3333333333333333,\"#9c179e\"],[0.4444444444444444,\"#bd3786\"],[0.5555555555555556,\"#d8576b\"],[0.6666666666666666,\"#ed7953\"],[0.7777777777777778,\"#fb9f3a\"],[0.8888888888888888,\"#fdca26\"],[1.0,\"#f0f921\"]]}],\"surface\":[{\"type\":\"surface\",\"colorbar\":{\"outlinewidth\":0,\"ticks\":\"\"},\"colorscale\":[[0.0,\"#0d0887\"],[0.1111111111111111,\"#46039f\"],[0.2222222222222222,\"#7201a8\"],[0.3333333333333333,\"#9c179e\"],[0.4444444444444444,\"#bd3786\"],[0.5555555555555556,\"#d8576b\"],[0.6666666666666666,\"#ed7953\"],[0.7777777777777778,\"#fb9f3a\"],[0.8888888888888888,\"#fdca26\"],[1.0,\"#f0f921\"]]}],\"mesh3d\":[{\"type\":\"mesh3d\",\"colorbar\":{\"outlinewidth\":0,\"ticks\":\"\"}}],\"scatter\":[{\"fillpattern\":{\"fillmode\":\"overlay\",\"size\":10,\"solidity\":0.2},\"type\":\"scatter\"}],\"parcoords\":[{\"type\":\"parcoords\",\"line\":{\"colorbar\":{\"outlinewidth\":0,\"ticks\":\"\"}}}],\"scatterpolargl\":[{\"type\":\"scatterpolargl\",\"marker\":{\"colorbar\":{\"outlinewidth\":0,\"ticks\":\"\"}}}],\"bar\":[{\"error_x\":{\"color\":\"#2a3f5f\"},\"error_y\":{\"color\":\"#2a3f5f\"},\"marker\":{\"line\":{\"color\":\"#E5ECF6\",\"width\":0.5},\"pattern\":{\"fillmode\":\"overlay\",\"size\":10,\"solidity\":0.2}},\"type\":\"bar\"}],\"scattergeo\":[{\"type\":\"scattergeo\",\"marker\":{\"colorbar\":{\"outlinewidth\":0,\"ticks\":\"\"}}}],\"scatterpolar\":[{\"type\":\"scatterpolar\",\"marker\":{\"colorbar\":{\"outlinewidth\":0,\"ticks\":\"\"}}}],\"histogram\":[{\"marker\":{\"pattern\":{\"fillmode\":\"overlay\",\"size\":10,\"solidity\":0.2}},\"type\":\"histogram\"}],\"scattergl\":[{\"type\":\"scattergl\",\"marker\":{\"colorbar\":{\"outlinewidth\":0,\"ticks\":\"\"}}}],\"scatter3d\":[{\"type\":\"scatter3d\",\"line\":{\"colorbar\":{\"outlinewidth\":0,\"ticks\":\"\"}},\"marker\":{\"colorbar\":{\"outlinewidth\":0,\"ticks\":\"\"}}}],\"scattermapbox\":[{\"type\":\"scattermapbox\",\"marker\":{\"colorbar\":{\"outlinewidth\":0,\"ticks\":\"\"}}}],\"scatterternary\":[{\"type\":\"scatterternary\",\"marker\":{\"colorbar\":{\"outlinewidth\":0,\"ticks\":\"\"}}}],\"scattercarpet\":[{\"type\":\"scattercarpet\",\"marker\":{\"colorbar\":{\"outlinewidth\":0,\"ticks\":\"\"}}}],\"carpet\":[{\"aaxis\":{\"endlinecolor\":\"#2a3f5f\",\"gridcolor\":\"white\",\"linecolor\":\"white\",\"minorgridcolor\":\"white\",\"startlinecolor\":\"#2a3f5f\"},\"baxis\":{\"endlinecolor\":\"#2a3f5f\",\"gridcolor\":\"white\",\"linecolor\":\"white\",\"minorgridcolor\":\"white\",\"startlinecolor\":\"#2a3f5f\"},\"type\":\"carpet\"}],\"table\":[{\"cells\":{\"fill\":{\"color\":\"#EBF0F8\"},\"line\":{\"color\":\"white\"}},\"header\":{\"fill\":{\"color\":\"#C8D4E3\"},\"line\":{\"color\":\"white\"}},\"type\":\"table\"}],\"barpolar\":[{\"marker\":{\"line\":{\"color\":\"#E5ECF6\",\"width\":0.5},\"pattern\":{\"fillmode\":\"overlay\",\"size\":10,\"solidity\":0.2}},\"type\":\"barpolar\"}],\"pie\":[{\"automargin\":true,\"type\":\"pie\"}]},\"layout\":{\"autotypenumbers\":\"strict\",\"colorway\":[\"#636efa\",\"#EF553B\",\"#00cc96\",\"#ab63fa\",\"#FFA15A\",\"#19d3f3\",\"#FF6692\",\"#B6E880\",\"#FF97FF\",\"#FECB52\"],\"font\":{\"color\":\"#2a3f5f\"},\"hovermode\":\"closest\",\"hoverlabel\":{\"align\":\"left\"},\"paper_bgcolor\":\"white\",\"plot_bgcolor\":\"#E5ECF6\",\"polar\":{\"bgcolor\":\"#E5ECF6\",\"angularaxis\":{\"gridcolor\":\"white\",\"linecolor\":\"white\",\"ticks\":\"\"},\"radialaxis\":{\"gridcolor\":\"white\",\"linecolor\":\"white\",\"ticks\":\"\"}},\"ternary\":{\"bgcolor\":\"#E5ECF6\",\"aaxis\":{\"gridcolor\":\"white\",\"linecolor\":\"white\",\"ticks\":\"\"},\"baxis\":{\"gridcolor\":\"white\",\"linecolor\":\"white\",\"ticks\":\"\"},\"caxis\":{\"gridcolor\":\"white\",\"linecolor\":\"white\",\"ticks\":\"\"}},\"coloraxis\":{\"colorbar\":{\"outlinewidth\":0,\"ticks\":\"\"}},\"colorscale\":{\"sequential\":[[0.0,\"#0d0887\"],[0.1111111111111111,\"#46039f\"],[0.2222222222222222,\"#7201a8\"],[0.3333333333333333,\"#9c179e\"],[0.4444444444444444,\"#bd3786\"],[0.5555555555555556,\"#d8576b\"],[0.6666666666666666,\"#ed7953\"],[0.7777777777777778,\"#fb9f3a\"],[0.8888888888888888,\"#fdca26\"],[1.0,\"#f0f921\"]],\"sequentialminus\":[[0.0,\"#0d0887\"],[0.1111111111111111,\"#46039f\"],[0.2222222222222222,\"#7201a8\"],[0.3333333333333333,\"#9c179e\"],[0.4444444444444444,\"#bd3786\"],[0.5555555555555556,\"#d8576b\"],[0.6666666666666666,\"#ed7953\"],[0.7777777777777778,\"#fb9f3a\"],[0.8888888888888888,\"#fdca26\"],[1.0,\"#f0f921\"]],\"diverging\":[[0,\"#8e0152\"],[0.1,\"#c51b7d\"],[0.2,\"#de77ae\"],[0.3,\"#f1b6da\"],[0.4,\"#fde0ef\"],[0.5,\"#f7f7f7\"],[0.6,\"#e6f5d0\"],[0.7,\"#b8e186\"],[0.8,\"#7fbc41\"],[0.9,\"#4d9221\"],[1,\"#276419\"]]},\"xaxis\":{\"gridcolor\":\"white\",\"linecolor\":\"white\",\"ticks\":\"\",\"title\":{\"standoff\":15},\"zerolinecolor\":\"white\",\"automargin\":true,\"zerolinewidth\":2},\"yaxis\":{\"gridcolor\":\"white\",\"linecolor\":\"white\",\"ticks\":\"\",\"title\":{\"standoff\":15},\"zerolinecolor\":\"white\",\"automargin\":true,\"zerolinewidth\":2},\"scene\":{\"xaxis\":{\"backgroundcolor\":\"#E5ECF6\",\"gridcolor\":\"white\",\"linecolor\":\"white\",\"showbackground\":true,\"ticks\":\"\",\"zerolinecolor\":\"white\",\"gridwidth\":2},\"yaxis\":{\"backgroundcolor\":\"#E5ECF6\",\"gridcolor\":\"white\",\"linecolor\":\"white\",\"showbackground\":true,\"ticks\":\"\",\"zerolinecolor\":\"white\",\"gridwidth\":2},\"zaxis\":{\"backgroundcolor\":\"#E5ECF6\",\"gridcolor\":\"white\",\"linecolor\":\"white\",\"showbackground\":true,\"ticks\":\"\",\"zerolinecolor\":\"white\",\"gridwidth\":2}},\"shapedefaults\":{\"line\":{\"color\":\"#2a3f5f\"}},\"annotationdefaults\":{\"arrowcolor\":\"#2a3f5f\",\"arrowhead\":0,\"arrowwidth\":1},\"geo\":{\"bgcolor\":\"white\",\"landcolor\":\"#E5ECF6\",\"subunitcolor\":\"white\",\"showland\":true,\"showlakes\":true,\"lakecolor\":\"white\"},\"title\":{\"x\":0.05},\"mapbox\":{\"style\":\"light\"}}},\"xaxis\":{\"anchor\":\"y\",\"domain\":[0.0,1.0],\"title\":{\"text\":\"data\"}},\"yaxis\":{\"anchor\":\"x\",\"domain\":[0.0,1.0],\"title\":{\"text\":\"linear\"}},\"legend\":{\"tracegroupgap\":0},\"margin\":{\"t\":60},\"width\":800},                        {\"responsive\": true}                    ).then(function(){\n",
              "                            \n",
              "var gd = document.getElementById('30b15731-58b4-4b42-87dc-a69bc61083ca');\n",
              "var x = new MutationObserver(function (mutations, observer) {{\n",
              "        var display = window.getComputedStyle(gd).display;\n",
              "        if (!display || display === 'none') {{\n",
              "            console.log([gd, 'removed!']);\n",
              "            Plotly.purge(gd);\n",
              "            observer.disconnect();\n",
              "        }}\n",
              "}});\n",
              "\n",
              "// Listen for the removal of the full notebook cells\n",
              "var notebookContainer = gd.closest('#notebook-container');\n",
              "if (notebookContainer) {{\n",
              "    x.observe(notebookContainer, {childList: true});\n",
              "}}\n",
              "\n",
              "// Listen for the clearing of the current output cell\n",
              "var outputEl = gd.closest('.output');\n",
              "if (outputEl) {{\n",
              "    x.observe(outputEl, {childList: true});\n",
              "}}\n",
              "\n",
              "                        })                };                            </script>        </div>\n",
              "</body>\n",
              "</html>"
            ]
          },
          "metadata": {}
        }
      ]
    },
    {
      "cell_type": "code",
      "source": [
        "random_data = sorted(np.random.randn(200))\n",
        "data = pd.DataFrame({'data': random_data, 'sigmoid': activations.sigmoid(random_data)})\n",
        "data.head()"
      ],
      "metadata": {
        "colab": {
          "base_uri": "https://localhost:8080/",
          "height": 206
        },
        "id": "5YZDpop-8KlA",
        "outputId": "92bd1305-9050-44bd-fd47-b48d6cf1ba8b"
      },
      "execution_count": 8,
      "outputs": [
        {
          "output_type": "execute_result",
          "data": {
            "text/plain": [
              "       data   sigmoid\n",
              "0 -2.982335  0.048230\n",
              "1 -2.617614  0.068013\n",
              "2 -2.418412  0.081779\n",
              "3 -2.362943  0.086042\n",
              "4 -2.272828  0.093398"
            ],
            "text/html": [
              "\n",
              "  <div id=\"df-271fe38d-c380-4177-bf81-06853ceb24ef\" class=\"colab-df-container\">\n",
              "    <div>\n",
              "<style scoped>\n",
              "    .dataframe tbody tr th:only-of-type {\n",
              "        vertical-align: middle;\n",
              "    }\n",
              "\n",
              "    .dataframe tbody tr th {\n",
              "        vertical-align: top;\n",
              "    }\n",
              "\n",
              "    .dataframe thead th {\n",
              "        text-align: right;\n",
              "    }\n",
              "</style>\n",
              "<table border=\"1\" class=\"dataframe\">\n",
              "  <thead>\n",
              "    <tr style=\"text-align: right;\">\n",
              "      <th></th>\n",
              "      <th>data</th>\n",
              "      <th>sigmoid</th>\n",
              "    </tr>\n",
              "  </thead>\n",
              "  <tbody>\n",
              "    <tr>\n",
              "      <th>0</th>\n",
              "      <td>-2.982335</td>\n",
              "      <td>0.048230</td>\n",
              "    </tr>\n",
              "    <tr>\n",
              "      <th>1</th>\n",
              "      <td>-2.617614</td>\n",
              "      <td>0.068013</td>\n",
              "    </tr>\n",
              "    <tr>\n",
              "      <th>2</th>\n",
              "      <td>-2.418412</td>\n",
              "      <td>0.081779</td>\n",
              "    </tr>\n",
              "    <tr>\n",
              "      <th>3</th>\n",
              "      <td>-2.362943</td>\n",
              "      <td>0.086042</td>\n",
              "    </tr>\n",
              "    <tr>\n",
              "      <th>4</th>\n",
              "      <td>-2.272828</td>\n",
              "      <td>0.093398</td>\n",
              "    </tr>\n",
              "  </tbody>\n",
              "</table>\n",
              "</div>\n",
              "    <div class=\"colab-df-buttons\">\n",
              "\n",
              "  <div class=\"colab-df-container\">\n",
              "    <button class=\"colab-df-convert\" onclick=\"convertToInteractive('df-271fe38d-c380-4177-bf81-06853ceb24ef')\"\n",
              "            title=\"Convert this dataframe to an interactive table.\"\n",
              "            style=\"display:none;\">\n",
              "\n",
              "  <svg xmlns=\"http://www.w3.org/2000/svg\" height=\"24px\" viewBox=\"0 -960 960 960\">\n",
              "    <path d=\"M120-120v-720h720v720H120Zm60-500h600v-160H180v160Zm220 220h160v-160H400v160Zm0 220h160v-160H400v160ZM180-400h160v-160H180v160Zm440 0h160v-160H620v160ZM180-180h160v-160H180v160Zm440 0h160v-160H620v160Z\"/>\n",
              "  </svg>\n",
              "    </button>\n",
              "\n",
              "  <style>\n",
              "    .colab-df-container {\n",
              "      display:flex;\n",
              "      gap: 12px;\n",
              "    }\n",
              "\n",
              "    .colab-df-convert {\n",
              "      background-color: #E8F0FE;\n",
              "      border: none;\n",
              "      border-radius: 50%;\n",
              "      cursor: pointer;\n",
              "      display: none;\n",
              "      fill: #1967D2;\n",
              "      height: 32px;\n",
              "      padding: 0 0 0 0;\n",
              "      width: 32px;\n",
              "    }\n",
              "\n",
              "    .colab-df-convert:hover {\n",
              "      background-color: #E2EBFA;\n",
              "      box-shadow: 0px 1px 2px rgba(60, 64, 67, 0.3), 0px 1px 3px 1px rgba(60, 64, 67, 0.15);\n",
              "      fill: #174EA6;\n",
              "    }\n",
              "\n",
              "    .colab-df-buttons div {\n",
              "      margin-bottom: 4px;\n",
              "    }\n",
              "\n",
              "    [theme=dark] .colab-df-convert {\n",
              "      background-color: #3B4455;\n",
              "      fill: #D2E3FC;\n",
              "    }\n",
              "\n",
              "    [theme=dark] .colab-df-convert:hover {\n",
              "      background-color: #434B5C;\n",
              "      box-shadow: 0px 1px 3px 1px rgba(0, 0, 0, 0.15);\n",
              "      filter: drop-shadow(0px 1px 2px rgba(0, 0, 0, 0.3));\n",
              "      fill: #FFFFFF;\n",
              "    }\n",
              "  </style>\n",
              "\n",
              "    <script>\n",
              "      const buttonEl =\n",
              "        document.querySelector('#df-271fe38d-c380-4177-bf81-06853ceb24ef button.colab-df-convert');\n",
              "      buttonEl.style.display =\n",
              "        google.colab.kernel.accessAllowed ? 'block' : 'none';\n",
              "\n",
              "      async function convertToInteractive(key) {\n",
              "        const element = document.querySelector('#df-271fe38d-c380-4177-bf81-06853ceb24ef');\n",
              "        const dataTable =\n",
              "          await google.colab.kernel.invokeFunction('convertToInteractive',\n",
              "                                                    [key], {});\n",
              "        if (!dataTable) return;\n",
              "\n",
              "        const docLinkHtml = 'Like what you see? Visit the ' +\n",
              "          '<a target=\"_blank\" href=https://colab.research.google.com/notebooks/data_table.ipynb>data table notebook</a>'\n",
              "          + ' to learn more about interactive tables.';\n",
              "        element.innerHTML = '';\n",
              "        dataTable['output_type'] = 'display_data';\n",
              "        await google.colab.output.renderOutput(dataTable, element);\n",
              "        const docLink = document.createElement('div');\n",
              "        docLink.innerHTML = docLinkHtml;\n",
              "        element.appendChild(docLink);\n",
              "      }\n",
              "    </script>\n",
              "  </div>\n",
              "\n",
              "\n",
              "    <div id=\"df-28e9f2da-6285-4cf3-aa91-058a928b8832\">\n",
              "      <button class=\"colab-df-quickchart\" onclick=\"quickchart('df-28e9f2da-6285-4cf3-aa91-058a928b8832')\"\n",
              "                title=\"Suggest charts\"\n",
              "                style=\"display:none;\">\n",
              "\n",
              "<svg xmlns=\"http://www.w3.org/2000/svg\" height=\"24px\"viewBox=\"0 0 24 24\"\n",
              "     width=\"24px\">\n",
              "    <g>\n",
              "        <path d=\"M19 3H5c-1.1 0-2 .9-2 2v14c0 1.1.9 2 2 2h14c1.1 0 2-.9 2-2V5c0-1.1-.9-2-2-2zM9 17H7v-7h2v7zm4 0h-2V7h2v10zm4 0h-2v-4h2v4z\"/>\n",
              "    </g>\n",
              "</svg>\n",
              "      </button>\n",
              "\n",
              "<style>\n",
              "  .colab-df-quickchart {\n",
              "      --bg-color: #E8F0FE;\n",
              "      --fill-color: #1967D2;\n",
              "      --hover-bg-color: #E2EBFA;\n",
              "      --hover-fill-color: #174EA6;\n",
              "      --disabled-fill-color: #AAA;\n",
              "      --disabled-bg-color: #DDD;\n",
              "  }\n",
              "\n",
              "  [theme=dark] .colab-df-quickchart {\n",
              "      --bg-color: #3B4455;\n",
              "      --fill-color: #D2E3FC;\n",
              "      --hover-bg-color: #434B5C;\n",
              "      --hover-fill-color: #FFFFFF;\n",
              "      --disabled-bg-color: #3B4455;\n",
              "      --disabled-fill-color: #666;\n",
              "  }\n",
              "\n",
              "  .colab-df-quickchart {\n",
              "    background-color: var(--bg-color);\n",
              "    border: none;\n",
              "    border-radius: 50%;\n",
              "    cursor: pointer;\n",
              "    display: none;\n",
              "    fill: var(--fill-color);\n",
              "    height: 32px;\n",
              "    padding: 0;\n",
              "    width: 32px;\n",
              "  }\n",
              "\n",
              "  .colab-df-quickchart:hover {\n",
              "    background-color: var(--hover-bg-color);\n",
              "    box-shadow: 0 1px 2px rgba(60, 64, 67, 0.3), 0 1px 3px 1px rgba(60, 64, 67, 0.15);\n",
              "    fill: var(--button-hover-fill-color);\n",
              "  }\n",
              "\n",
              "  .colab-df-quickchart-complete:disabled,\n",
              "  .colab-df-quickchart-complete:disabled:hover {\n",
              "    background-color: var(--disabled-bg-color);\n",
              "    fill: var(--disabled-fill-color);\n",
              "    box-shadow: none;\n",
              "  }\n",
              "\n",
              "  .colab-df-spinner {\n",
              "    border: 2px solid var(--fill-color);\n",
              "    border-color: transparent;\n",
              "    border-bottom-color: var(--fill-color);\n",
              "    animation:\n",
              "      spin 1s steps(1) infinite;\n",
              "  }\n",
              "\n",
              "  @keyframes spin {\n",
              "    0% {\n",
              "      border-color: transparent;\n",
              "      border-bottom-color: var(--fill-color);\n",
              "      border-left-color: var(--fill-color);\n",
              "    }\n",
              "    20% {\n",
              "      border-color: transparent;\n",
              "      border-left-color: var(--fill-color);\n",
              "      border-top-color: var(--fill-color);\n",
              "    }\n",
              "    30% {\n",
              "      border-color: transparent;\n",
              "      border-left-color: var(--fill-color);\n",
              "      border-top-color: var(--fill-color);\n",
              "      border-right-color: var(--fill-color);\n",
              "    }\n",
              "    40% {\n",
              "      border-color: transparent;\n",
              "      border-right-color: var(--fill-color);\n",
              "      border-top-color: var(--fill-color);\n",
              "    }\n",
              "    60% {\n",
              "      border-color: transparent;\n",
              "      border-right-color: var(--fill-color);\n",
              "    }\n",
              "    80% {\n",
              "      border-color: transparent;\n",
              "      border-right-color: var(--fill-color);\n",
              "      border-bottom-color: var(--fill-color);\n",
              "    }\n",
              "    90% {\n",
              "      border-color: transparent;\n",
              "      border-bottom-color: var(--fill-color);\n",
              "    }\n",
              "  }\n",
              "</style>\n",
              "\n",
              "      <script>\n",
              "        async function quickchart(key) {\n",
              "          const quickchartButtonEl =\n",
              "            document.querySelector('#' + key + ' button');\n",
              "          quickchartButtonEl.disabled = true;  // To prevent multiple clicks.\n",
              "          quickchartButtonEl.classList.add('colab-df-spinner');\n",
              "          try {\n",
              "            const charts = await google.colab.kernel.invokeFunction(\n",
              "                'suggestCharts', [key], {});\n",
              "          } catch (error) {\n",
              "            console.error('Error during call to suggestCharts:', error);\n",
              "          }\n",
              "          quickchartButtonEl.classList.remove('colab-df-spinner');\n",
              "          quickchartButtonEl.classList.add('colab-df-quickchart-complete');\n",
              "        }\n",
              "        (() => {\n",
              "          let quickchartButtonEl =\n",
              "            document.querySelector('#df-28e9f2da-6285-4cf3-aa91-058a928b8832 button');\n",
              "          quickchartButtonEl.style.display =\n",
              "            google.colab.kernel.accessAllowed ? 'block' : 'none';\n",
              "        })();\n",
              "      </script>\n",
              "    </div>\n",
              "\n",
              "    </div>\n",
              "  </div>\n"
            ],
            "application/vnd.google.colaboratory.intrinsic+json": {
              "type": "dataframe",
              "variable_name": "data",
              "summary": "{\n  \"name\": \"data\",\n  \"rows\": 200,\n  \"fields\": [\n    {\n      \"column\": \"data\",\n      \"properties\": {\n        \"dtype\": \"number\",\n        \"std\": 1.0342116925302587,\n        \"min\": -2.982334631389785,\n        \"max\": 2.2839381553594564,\n        \"num_unique_values\": 200,\n        \"samples\": [\n          -0.02358075243560794,\n          -1.5838328372322914,\n          -1.0594817471644313\n        ],\n        \"semantic_type\": \"\",\n        \"description\": \"\"\n      }\n    },\n    {\n      \"column\": \"sigmoid\",\n      \"properties\": {\n        \"dtype\": \"number\",\n        \"std\": 0.21251493382762024,\n        \"min\": 0.048230346276674475,\n        \"max\": 0.9075380391134643,\n        \"num_unique_values\": 200,\n        \"samples\": [\n          0.4941050850451145,\n          0.17025334353240734,\n          0.257408505943476\n        ],\n        \"semantic_type\": \"\",\n        \"description\": \"\"\n      }\n    }\n  ]\n}"
            }
          },
          "metadata": {},
          "execution_count": 8
        }
      ]
    },
    {
      "cell_type": "code",
      "source": [
        "px.line(data, x='data', y='sigmoid', width=800)"
      ],
      "metadata": {
        "colab": {
          "base_uri": "https://localhost:8080/",
          "height": 542
        },
        "id": "UDxtfGoH8UqD",
        "outputId": "2489e247-fc33-4ed0-fa1c-629ed5534994"
      },
      "execution_count": 9,
      "outputs": [
        {
          "output_type": "display_data",
          "data": {
            "text/html": [
              "<html>\n",
              "<head><meta charset=\"utf-8\" /></head>\n",
              "<body>\n",
              "    <div>            <script src=\"https://cdnjs.cloudflare.com/ajax/libs/mathjax/2.7.5/MathJax.js?config=TeX-AMS-MML_SVG\"></script><script type=\"text/javascript\">if (window.MathJax && window.MathJax.Hub && window.MathJax.Hub.Config) {window.MathJax.Hub.Config({SVG: {font: \"STIX-Web\"}});}</script>                <script type=\"text/javascript\">window.PlotlyConfig = {MathJaxConfig: 'local'};</script>\n",
              "        <script charset=\"utf-8\" src=\"https://cdn.plot.ly/plotly-2.35.2.min.js\"></script>                <div id=\"dc5ee447-be7e-4c38-9aeb-7bf262dfbf45\" class=\"plotly-graph-div\" style=\"height:525px; width:800px;\"></div>            <script type=\"text/javascript\">                                    window.PLOTLYENV=window.PLOTLYENV || {};                                    if (document.getElementById(\"dc5ee447-be7e-4c38-9aeb-7bf262dfbf45\")) {                    Plotly.newPlot(                        \"dc5ee447-be7e-4c38-9aeb-7bf262dfbf45\",                        [{\"hovertemplate\":\"data=%{x}\\u003cbr\\u003esigmoid=%{y}\\u003cextra\\u003e\\u003c\\u002fextra\\u003e\",\"legendgroup\":\"\",\"line\":{\"color\":\"#636efa\",\"dash\":\"solid\"},\"marker\":{\"symbol\":\"circle\"},\"mode\":\"lines\",\"name\":\"\",\"orientation\":\"v\",\"showlegend\":false,\"x\":[-2.982334631389785,-2.617614092573801,-2.4184123944479454,-2.362943097607749,-2.272827804288336,-2.1730056379779814,-2.171031473043535,-2.144471733320304,-2.132327858348813,-2.0699536860480183,-1.9908756527367464,-1.895035662365336,-1.841946185352867,-1.7253897217078764,-1.712894836533806,-1.5838328372322914,-1.5455116868365457,-1.5340358852205158,-1.4708515870539163,-1.4269554834970166,-1.4043430565978448,-1.3952089901264175,-1.3905518043027165,-1.3685015583578286,-1.2970734068021108,-1.2819501029267275,-1.27380761505436,-1.240679129933408,-1.1565648378399453,-1.0969595353273038,-1.0594817471644313,-1.0565235926694434,-1.0477266661512548,-1.011061759063555,-0.9733943353719994,-0.9388953695781205,-0.9381634673735976,-0.9124471543243721,-0.8855822622643192,-0.8766911436981526,-0.8620863030898996,-0.8441794074553786,-0.8367673634597884,-0.8247542079432174,-0.79394038798674,-0.7604386344647932,-0.7171893311960299,-0.687876120814915,-0.6860145324377065,-0.6835015665393968,-0.6484097990809695,-0.6468534607213454,-0.6444995394148173,-0.6411887789229821,-0.6364369563989482,-0.6303098905215322,-0.629774341950793,-0.5763435167448323,-0.5721486299553223,-0.5611809186301,-0.5564237555314487,-0.5488069269925397,-0.5365916053938913,-0.5320606354614357,-0.5271323868957428,-0.5208956553199607,-0.48453993219455216,-0.4787244912132883,-0.47015865920436517,-0.46719529170553603,-0.46399545433935213,-0.45842167083002305,-0.43461900372063483,-0.43039957720789596,-0.3620430559652835,-0.36101403792587244,-0.34681004887874,-0.27521651790798113,-0.2671700765737752,-0.26538041820223507,-0.215604751433237,-0.19508499117624079,-0.16496652138157109,-0.1340635663524856,-0.11216658599278963,-0.11173447314461972,-0.10886106748705085,-0.10378271808665572,-0.09713722014832361,-0.09118650109332511,-0.08769905936285421,-0.07614020555263404,-0.06984670921687892,-0.059093849302699945,-0.04799643967589725,-0.02358075243560794,-0.010762950324714892,0.00025055523023318594,0.017797145852149324,0.024477659866197807,0.02845255848348119,0.029560401177634033,0.03116914274416129,0.04133444583188655,0.05774840522018199,0.07474991222288623,0.07832185156986574,0.08499606082133655,0.11167791860262313,0.14242658916496215,0.1772717025104417,0.19694092629837795,0.19990970469170646,0.20132762645247923,0.20548022655348552,0.2105737859371452,0.21725335022921768,0.21889440624227938,0.23557263249240476,0.24304748055490782,0.24347012710576357,0.247547862010806,0.2516440209662064,0.25329203058580035,0.2660404307554547,0.2772132668048898,0.29830000880370183,0.29999771108098855,0.3327855291815195,0.3355816205903654,0.34257176353647856,0.34645447997938017,0.3618217081345737,0.39660029691827586,0.40252137078122757,0.41757969742972845,0.42257974883077226,0.42389270009465024,0.46257961931011804,0.4642058742112245,0.4836954188111329,0.4888923754983373,0.5404106024625961,0.5645023370326403,0.5689255945700726,0.5826089719260352,0.5931004839799646,0.608387656615529,0.6248653644038024,0.6284623446076034,0.6320729146126934,0.6389321810069538,0.6543708177696776,0.6561299192267219,0.6842500369150668,0.7001560502564125,0.7029168523735325,0.7073673681810856,0.7193039542421534,0.7251870799948742,0.744015287468125,0.7458614114169857,0.7572853189787097,0.7619472479149649,0.7695067516544754,0.784183866980068,0.7874436394344823,0.8340699832867594,0.892628464125713,0.9092905609920678,0.948834839139078,0.9699712815099926,0.9729853276589986,1.0247907351149876,1.0639773219524986,1.2115981684725494,1.2267133080224875,1.271456137112269,1.2805561236241418,1.3119471904911786,1.324892991391466,1.3481883222232731,1.3536397424465036,1.4172626764515217,1.4543411730359252,1.472156641336823,1.473861065978449,1.500747536853053,1.5587408354947156,1.561494932566396,1.6211028263522247,1.6872794345937354,1.9012068190646723,1.911251837697519,1.927109340669746,1.95908350368737,2.005384967627228,2.1167268497065153,2.1285879457276056,2.2839381553594564],\"xaxis\":\"x\",\"y\":[0.048230346276674475,0.06801337462848822,0.08177939205249195,0.08604246961610898,0.09339849183746192,0.10220091852788506,0.10238220209690821,0.10484894987539949,0.10599420273527826,0.11205164653063786,0.12016425345611385,0.13067137185728664,0.13682128321054723,0.1511782353047575,0.15278861904567595,0.17025334353240734,0.17573546566700526,0.17740395481917798,0.1868132114375449,0.19357349845069105,0.19712783832306188,0.19857747316938357,0.1993196790467037,0.20286205010365985,0.21465796981467986,0.21721845575996337,0.21860614797116037,0.2243177954593788,0.2392920322599369,0.25031001927717955,0.257408505943476,0.2579743609607225,0.25966188220440517,0.2667721142187953,0.27420445640755786,0.2811235267746598,0.281271462844549,0.28649933491458224,0.2920223340184782,0.2938639241610663,0.29690364152682847,0.30065528327865687,0.30221605110024435,0.3047554064631405,0.3113232185434043,0.3185510414976835,0.32801221137060554,0.3345057071709885,0.33492024600319986,0.33548023783911846,0.34334797488788293,0.34369895265582745,0.3442301218266713,0.34497786375302475,0.34605241376953666,0.3474402743932132,0.3475617068453311,0.3597743836805228,0.36074118766744984,0.3632742619887915,0.3643753367935758,0.366141255317717,0.36898081732521637,0.37003640589751824,0.37118596123551445,0.37264282337910326,0.38118066096371744,0.38255336325838907,0.3845786917904896,0.3852802949110046,0.3860384200876138,0.38736031413243255,0.393023897214578,0.39403092025817354,0.410465089828483,0.41071411813683967,0.4141561890602964,0.43162689845406166,0.4336019685803085,0.43404154522635463,0.4463066476262637,0.45138284442335963,0.4588516448073605,0.46653421689148705,0.471987716690625,0.47209540713075365,0.4728115780516865,0.47407758351313933,0.4757347717919767,0.47721915772303886,0.4780892765355934,0.48097413932468674,0.48254541822496194,0.4852308353532972,0.48800319303785594,0.4941050850451145,0.49730928839335375,0.5000626388072307,0.5044491690284338,0.5061191094445909,0.5071126597906688,0.5073895622082926,0.5077916548868228,0.5103321404300145,0.5144330904779408,0.5186787814810788,0.5195704596389823,0.5212362319481717,0.527890498248624,0.5355465780816889,0.5442022306733016,0.5490767110195639,0.5498116476266838,0.5501625850739004,0.551190070467042,0.5524497818509407,0.5541007130504824,0.5545061377824598,0.5586223074027187,0.5604645157229039,0.5605686295205318,0.5615728544183821,0.562581109028355,0.562986615262911,0.5661205794518931,0.5688628871764723,0.5740268873354344,0.5744419572662866,0.5824369842422531,0.5831168481063774,0.5848150994696525,0.5857575363264456,0.5894813465874317,0.5978705715613761,0.5992932955166327,0.6029039479075559,0.6041003960059022,0.6044143625525783,0.6136259548494987,0.6140114509105409,0.6186201135808682,0.6198454696260142,0.6319079291630744,0.6374936528232164,0.6385152247604158,0.641667509537822,0.6440762240454683,0.647572917084838,0.6513242894159591,0.6521407217983384,0.6529593405919334,0.6545120387921436,0.657994739428084,0.6583904934142746,0.6646866005406944,0.6682223696107875,0.6688341583271722,0.6698191836730274,0.672453724635751,0.6737482231356939,0.677873264311072,0.6782762535242064,0.6807640572116703,0.6817763530093189,0.6834141845566829,0.6865811317834254,0.6872821670085459,0.6972148180116163,0.7094322973202367,0.7128549676534044,0.7208807944026573,0.7251137735485889,0.7257141368441279,0.7359047255220904,0.7434498827373625,0.7705816043814185,0.7732428086568004,0.7809919126707491,0.7825444260977829,0.7878388088886924,0.7899946209153034,0.7938332832224716,0.7947240445329667,0.8049089317351422,0.8106656457771991,0.8133849635977098,0.8136435398045015,0.817685942196002,0.8261725968181991,0.8265677614260443,0.8349471668903838,0.8438660439112169,0.8700280527704141,0.871159719991521,0.872929122266168,0.8764337322801934,0.8813613066768446,0.8925183414970895,0.8936508827003461,0.9075380391134643],\"yaxis\":\"y\",\"type\":\"scatter\"}],                        {\"template\":{\"data\":{\"histogram2dcontour\":[{\"type\":\"histogram2dcontour\",\"colorbar\":{\"outlinewidth\":0,\"ticks\":\"\"},\"colorscale\":[[0.0,\"#0d0887\"],[0.1111111111111111,\"#46039f\"],[0.2222222222222222,\"#7201a8\"],[0.3333333333333333,\"#9c179e\"],[0.4444444444444444,\"#bd3786\"],[0.5555555555555556,\"#d8576b\"],[0.6666666666666666,\"#ed7953\"],[0.7777777777777778,\"#fb9f3a\"],[0.8888888888888888,\"#fdca26\"],[1.0,\"#f0f921\"]]}],\"choropleth\":[{\"type\":\"choropleth\",\"colorbar\":{\"outlinewidth\":0,\"ticks\":\"\"}}],\"histogram2d\":[{\"type\":\"histogram2d\",\"colorbar\":{\"outlinewidth\":0,\"ticks\":\"\"},\"colorscale\":[[0.0,\"#0d0887\"],[0.1111111111111111,\"#46039f\"],[0.2222222222222222,\"#7201a8\"],[0.3333333333333333,\"#9c179e\"],[0.4444444444444444,\"#bd3786\"],[0.5555555555555556,\"#d8576b\"],[0.6666666666666666,\"#ed7953\"],[0.7777777777777778,\"#fb9f3a\"],[0.8888888888888888,\"#fdca26\"],[1.0,\"#f0f921\"]]}],\"heatmap\":[{\"type\":\"heatmap\",\"colorbar\":{\"outlinewidth\":0,\"ticks\":\"\"},\"colorscale\":[[0.0,\"#0d0887\"],[0.1111111111111111,\"#46039f\"],[0.2222222222222222,\"#7201a8\"],[0.3333333333333333,\"#9c179e\"],[0.4444444444444444,\"#bd3786\"],[0.5555555555555556,\"#d8576b\"],[0.6666666666666666,\"#ed7953\"],[0.7777777777777778,\"#fb9f3a\"],[0.8888888888888888,\"#fdca26\"],[1.0,\"#f0f921\"]]}],\"heatmapgl\":[{\"type\":\"heatmapgl\",\"colorbar\":{\"outlinewidth\":0,\"ticks\":\"\"},\"colorscale\":[[0.0,\"#0d0887\"],[0.1111111111111111,\"#46039f\"],[0.2222222222222222,\"#7201a8\"],[0.3333333333333333,\"#9c179e\"],[0.4444444444444444,\"#bd3786\"],[0.5555555555555556,\"#d8576b\"],[0.6666666666666666,\"#ed7953\"],[0.7777777777777778,\"#fb9f3a\"],[0.8888888888888888,\"#fdca26\"],[1.0,\"#f0f921\"]]}],\"contourcarpet\":[{\"type\":\"contourcarpet\",\"colorbar\":{\"outlinewidth\":0,\"ticks\":\"\"}}],\"contour\":[{\"type\":\"contour\",\"colorbar\":{\"outlinewidth\":0,\"ticks\":\"\"},\"colorscale\":[[0.0,\"#0d0887\"],[0.1111111111111111,\"#46039f\"],[0.2222222222222222,\"#7201a8\"],[0.3333333333333333,\"#9c179e\"],[0.4444444444444444,\"#bd3786\"],[0.5555555555555556,\"#d8576b\"],[0.6666666666666666,\"#ed7953\"],[0.7777777777777778,\"#fb9f3a\"],[0.8888888888888888,\"#fdca26\"],[1.0,\"#f0f921\"]]}],\"surface\":[{\"type\":\"surface\",\"colorbar\":{\"outlinewidth\":0,\"ticks\":\"\"},\"colorscale\":[[0.0,\"#0d0887\"],[0.1111111111111111,\"#46039f\"],[0.2222222222222222,\"#7201a8\"],[0.3333333333333333,\"#9c179e\"],[0.4444444444444444,\"#bd3786\"],[0.5555555555555556,\"#d8576b\"],[0.6666666666666666,\"#ed7953\"],[0.7777777777777778,\"#fb9f3a\"],[0.8888888888888888,\"#fdca26\"],[1.0,\"#f0f921\"]]}],\"mesh3d\":[{\"type\":\"mesh3d\",\"colorbar\":{\"outlinewidth\":0,\"ticks\":\"\"}}],\"scatter\":[{\"fillpattern\":{\"fillmode\":\"overlay\",\"size\":10,\"solidity\":0.2},\"type\":\"scatter\"}],\"parcoords\":[{\"type\":\"parcoords\",\"line\":{\"colorbar\":{\"outlinewidth\":0,\"ticks\":\"\"}}}],\"scatterpolargl\":[{\"type\":\"scatterpolargl\",\"marker\":{\"colorbar\":{\"outlinewidth\":0,\"ticks\":\"\"}}}],\"bar\":[{\"error_x\":{\"color\":\"#2a3f5f\"},\"error_y\":{\"color\":\"#2a3f5f\"},\"marker\":{\"line\":{\"color\":\"#E5ECF6\",\"width\":0.5},\"pattern\":{\"fillmode\":\"overlay\",\"size\":10,\"solidity\":0.2}},\"type\":\"bar\"}],\"scattergeo\":[{\"type\":\"scattergeo\",\"marker\":{\"colorbar\":{\"outlinewidth\":0,\"ticks\":\"\"}}}],\"scatterpolar\":[{\"type\":\"scatterpolar\",\"marker\":{\"colorbar\":{\"outlinewidth\":0,\"ticks\":\"\"}}}],\"histogram\":[{\"marker\":{\"pattern\":{\"fillmode\":\"overlay\",\"size\":10,\"solidity\":0.2}},\"type\":\"histogram\"}],\"scattergl\":[{\"type\":\"scattergl\",\"marker\":{\"colorbar\":{\"outlinewidth\":0,\"ticks\":\"\"}}}],\"scatter3d\":[{\"type\":\"scatter3d\",\"line\":{\"colorbar\":{\"outlinewidth\":0,\"ticks\":\"\"}},\"marker\":{\"colorbar\":{\"outlinewidth\":0,\"ticks\":\"\"}}}],\"scattermapbox\":[{\"type\":\"scattermapbox\",\"marker\":{\"colorbar\":{\"outlinewidth\":0,\"ticks\":\"\"}}}],\"scatterternary\":[{\"type\":\"scatterternary\",\"marker\":{\"colorbar\":{\"outlinewidth\":0,\"ticks\":\"\"}}}],\"scattercarpet\":[{\"type\":\"scattercarpet\",\"marker\":{\"colorbar\":{\"outlinewidth\":0,\"ticks\":\"\"}}}],\"carpet\":[{\"aaxis\":{\"endlinecolor\":\"#2a3f5f\",\"gridcolor\":\"white\",\"linecolor\":\"white\",\"minorgridcolor\":\"white\",\"startlinecolor\":\"#2a3f5f\"},\"baxis\":{\"endlinecolor\":\"#2a3f5f\",\"gridcolor\":\"white\",\"linecolor\":\"white\",\"minorgridcolor\":\"white\",\"startlinecolor\":\"#2a3f5f\"},\"type\":\"carpet\"}],\"table\":[{\"cells\":{\"fill\":{\"color\":\"#EBF0F8\"},\"line\":{\"color\":\"white\"}},\"header\":{\"fill\":{\"color\":\"#C8D4E3\"},\"line\":{\"color\":\"white\"}},\"type\":\"table\"}],\"barpolar\":[{\"marker\":{\"line\":{\"color\":\"#E5ECF6\",\"width\":0.5},\"pattern\":{\"fillmode\":\"overlay\",\"size\":10,\"solidity\":0.2}},\"type\":\"barpolar\"}],\"pie\":[{\"automargin\":true,\"type\":\"pie\"}]},\"layout\":{\"autotypenumbers\":\"strict\",\"colorway\":[\"#636efa\",\"#EF553B\",\"#00cc96\",\"#ab63fa\",\"#FFA15A\",\"#19d3f3\",\"#FF6692\",\"#B6E880\",\"#FF97FF\",\"#FECB52\"],\"font\":{\"color\":\"#2a3f5f\"},\"hovermode\":\"closest\",\"hoverlabel\":{\"align\":\"left\"},\"paper_bgcolor\":\"white\",\"plot_bgcolor\":\"#E5ECF6\",\"polar\":{\"bgcolor\":\"#E5ECF6\",\"angularaxis\":{\"gridcolor\":\"white\",\"linecolor\":\"white\",\"ticks\":\"\"},\"radialaxis\":{\"gridcolor\":\"white\",\"linecolor\":\"white\",\"ticks\":\"\"}},\"ternary\":{\"bgcolor\":\"#E5ECF6\",\"aaxis\":{\"gridcolor\":\"white\",\"linecolor\":\"white\",\"ticks\":\"\"},\"baxis\":{\"gridcolor\":\"white\",\"linecolor\":\"white\",\"ticks\":\"\"},\"caxis\":{\"gridcolor\":\"white\",\"linecolor\":\"white\",\"ticks\":\"\"}},\"coloraxis\":{\"colorbar\":{\"outlinewidth\":0,\"ticks\":\"\"}},\"colorscale\":{\"sequential\":[[0.0,\"#0d0887\"],[0.1111111111111111,\"#46039f\"],[0.2222222222222222,\"#7201a8\"],[0.3333333333333333,\"#9c179e\"],[0.4444444444444444,\"#bd3786\"],[0.5555555555555556,\"#d8576b\"],[0.6666666666666666,\"#ed7953\"],[0.7777777777777778,\"#fb9f3a\"],[0.8888888888888888,\"#fdca26\"],[1.0,\"#f0f921\"]],\"sequentialminus\":[[0.0,\"#0d0887\"],[0.1111111111111111,\"#46039f\"],[0.2222222222222222,\"#7201a8\"],[0.3333333333333333,\"#9c179e\"],[0.4444444444444444,\"#bd3786\"],[0.5555555555555556,\"#d8576b\"],[0.6666666666666666,\"#ed7953\"],[0.7777777777777778,\"#fb9f3a\"],[0.8888888888888888,\"#fdca26\"],[1.0,\"#f0f921\"]],\"diverging\":[[0,\"#8e0152\"],[0.1,\"#c51b7d\"],[0.2,\"#de77ae\"],[0.3,\"#f1b6da\"],[0.4,\"#fde0ef\"],[0.5,\"#f7f7f7\"],[0.6,\"#e6f5d0\"],[0.7,\"#b8e186\"],[0.8,\"#7fbc41\"],[0.9,\"#4d9221\"],[1,\"#276419\"]]},\"xaxis\":{\"gridcolor\":\"white\",\"linecolor\":\"white\",\"ticks\":\"\",\"title\":{\"standoff\":15},\"zerolinecolor\":\"white\",\"automargin\":true,\"zerolinewidth\":2},\"yaxis\":{\"gridcolor\":\"white\",\"linecolor\":\"white\",\"ticks\":\"\",\"title\":{\"standoff\":15},\"zerolinecolor\":\"white\",\"automargin\":true,\"zerolinewidth\":2},\"scene\":{\"xaxis\":{\"backgroundcolor\":\"#E5ECF6\",\"gridcolor\":\"white\",\"linecolor\":\"white\",\"showbackground\":true,\"ticks\":\"\",\"zerolinecolor\":\"white\",\"gridwidth\":2},\"yaxis\":{\"backgroundcolor\":\"#E5ECF6\",\"gridcolor\":\"white\",\"linecolor\":\"white\",\"showbackground\":true,\"ticks\":\"\",\"zerolinecolor\":\"white\",\"gridwidth\":2},\"zaxis\":{\"backgroundcolor\":\"#E5ECF6\",\"gridcolor\":\"white\",\"linecolor\":\"white\",\"showbackground\":true,\"ticks\":\"\",\"zerolinecolor\":\"white\",\"gridwidth\":2}},\"shapedefaults\":{\"line\":{\"color\":\"#2a3f5f\"}},\"annotationdefaults\":{\"arrowcolor\":\"#2a3f5f\",\"arrowhead\":0,\"arrowwidth\":1},\"geo\":{\"bgcolor\":\"white\",\"landcolor\":\"#E5ECF6\",\"subunitcolor\":\"white\",\"showland\":true,\"showlakes\":true,\"lakecolor\":\"white\"},\"title\":{\"x\":0.05},\"mapbox\":{\"style\":\"light\"}}},\"xaxis\":{\"anchor\":\"y\",\"domain\":[0.0,1.0],\"title\":{\"text\":\"data\"}},\"yaxis\":{\"anchor\":\"x\",\"domain\":[0.0,1.0],\"title\":{\"text\":\"sigmoid\"}},\"legend\":{\"tracegroupgap\":0},\"margin\":{\"t\":60},\"width\":800},                        {\"responsive\": true}                    ).then(function(){\n",
              "                            \n",
              "var gd = document.getElementById('dc5ee447-be7e-4c38-9aeb-7bf262dfbf45');\n",
              "var x = new MutationObserver(function (mutations, observer) {{\n",
              "        var display = window.getComputedStyle(gd).display;\n",
              "        if (!display || display === 'none') {{\n",
              "            console.log([gd, 'removed!']);\n",
              "            Plotly.purge(gd);\n",
              "            observer.disconnect();\n",
              "        }}\n",
              "}});\n",
              "\n",
              "// Listen for the removal of the full notebook cells\n",
              "var notebookContainer = gd.closest('#notebook-container');\n",
              "if (notebookContainer) {{\n",
              "    x.observe(notebookContainer, {childList: true});\n",
              "}}\n",
              "\n",
              "// Listen for the clearing of the current output cell\n",
              "var outputEl = gd.closest('.output');\n",
              "if (outputEl) {{\n",
              "    x.observe(outputEl, {childList: true});\n",
              "}}\n",
              "\n",
              "                        })                };                            </script>        </div>\n",
              "</body>\n",
              "</html>"
            ]
          },
          "metadata": {}
        }
      ]
    },
    {
      "cell_type": "code",
      "source": [
        "data = pd.DataFrame({'data': random_data, 'relu': activations.relu(random_data)})\n",
        "data.head()"
      ],
      "metadata": {
        "colab": {
          "base_uri": "https://localhost:8080/",
          "height": 206
        },
        "id": "greLYP3h8bTl",
        "outputId": "9374fa41-48e5-4ea0-80b4-aca89a86e441"
      },
      "execution_count": 10,
      "outputs": [
        {
          "output_type": "execute_result",
          "data": {
            "text/plain": [
              "       data  relu\n",
              "0 -2.982335   0.0\n",
              "1 -2.617614   0.0\n",
              "2 -2.418412   0.0\n",
              "3 -2.362943   0.0\n",
              "4 -2.272828   0.0"
            ],
            "text/html": [
              "\n",
              "  <div id=\"df-1eba0f78-5567-4550-87c0-bcb98a12cd21\" class=\"colab-df-container\">\n",
              "    <div>\n",
              "<style scoped>\n",
              "    .dataframe tbody tr th:only-of-type {\n",
              "        vertical-align: middle;\n",
              "    }\n",
              "\n",
              "    .dataframe tbody tr th {\n",
              "        vertical-align: top;\n",
              "    }\n",
              "\n",
              "    .dataframe thead th {\n",
              "        text-align: right;\n",
              "    }\n",
              "</style>\n",
              "<table border=\"1\" class=\"dataframe\">\n",
              "  <thead>\n",
              "    <tr style=\"text-align: right;\">\n",
              "      <th></th>\n",
              "      <th>data</th>\n",
              "      <th>relu</th>\n",
              "    </tr>\n",
              "  </thead>\n",
              "  <tbody>\n",
              "    <tr>\n",
              "      <th>0</th>\n",
              "      <td>-2.982335</td>\n",
              "      <td>0.0</td>\n",
              "    </tr>\n",
              "    <tr>\n",
              "      <th>1</th>\n",
              "      <td>-2.617614</td>\n",
              "      <td>0.0</td>\n",
              "    </tr>\n",
              "    <tr>\n",
              "      <th>2</th>\n",
              "      <td>-2.418412</td>\n",
              "      <td>0.0</td>\n",
              "    </tr>\n",
              "    <tr>\n",
              "      <th>3</th>\n",
              "      <td>-2.362943</td>\n",
              "      <td>0.0</td>\n",
              "    </tr>\n",
              "    <tr>\n",
              "      <th>4</th>\n",
              "      <td>-2.272828</td>\n",
              "      <td>0.0</td>\n",
              "    </tr>\n",
              "  </tbody>\n",
              "</table>\n",
              "</div>\n",
              "    <div class=\"colab-df-buttons\">\n",
              "\n",
              "  <div class=\"colab-df-container\">\n",
              "    <button class=\"colab-df-convert\" onclick=\"convertToInteractive('df-1eba0f78-5567-4550-87c0-bcb98a12cd21')\"\n",
              "            title=\"Convert this dataframe to an interactive table.\"\n",
              "            style=\"display:none;\">\n",
              "\n",
              "  <svg xmlns=\"http://www.w3.org/2000/svg\" height=\"24px\" viewBox=\"0 -960 960 960\">\n",
              "    <path d=\"M120-120v-720h720v720H120Zm60-500h600v-160H180v160Zm220 220h160v-160H400v160Zm0 220h160v-160H400v160ZM180-400h160v-160H180v160Zm440 0h160v-160H620v160ZM180-180h160v-160H180v160Zm440 0h160v-160H620v160Z\"/>\n",
              "  </svg>\n",
              "    </button>\n",
              "\n",
              "  <style>\n",
              "    .colab-df-container {\n",
              "      display:flex;\n",
              "      gap: 12px;\n",
              "    }\n",
              "\n",
              "    .colab-df-convert {\n",
              "      background-color: #E8F0FE;\n",
              "      border: none;\n",
              "      border-radius: 50%;\n",
              "      cursor: pointer;\n",
              "      display: none;\n",
              "      fill: #1967D2;\n",
              "      height: 32px;\n",
              "      padding: 0 0 0 0;\n",
              "      width: 32px;\n",
              "    }\n",
              "\n",
              "    .colab-df-convert:hover {\n",
              "      background-color: #E2EBFA;\n",
              "      box-shadow: 0px 1px 2px rgba(60, 64, 67, 0.3), 0px 1px 3px 1px rgba(60, 64, 67, 0.15);\n",
              "      fill: #174EA6;\n",
              "    }\n",
              "\n",
              "    .colab-df-buttons div {\n",
              "      margin-bottom: 4px;\n",
              "    }\n",
              "\n",
              "    [theme=dark] .colab-df-convert {\n",
              "      background-color: #3B4455;\n",
              "      fill: #D2E3FC;\n",
              "    }\n",
              "\n",
              "    [theme=dark] .colab-df-convert:hover {\n",
              "      background-color: #434B5C;\n",
              "      box-shadow: 0px 1px 3px 1px rgba(0, 0, 0, 0.15);\n",
              "      filter: drop-shadow(0px 1px 2px rgba(0, 0, 0, 0.3));\n",
              "      fill: #FFFFFF;\n",
              "    }\n",
              "  </style>\n",
              "\n",
              "    <script>\n",
              "      const buttonEl =\n",
              "        document.querySelector('#df-1eba0f78-5567-4550-87c0-bcb98a12cd21 button.colab-df-convert');\n",
              "      buttonEl.style.display =\n",
              "        google.colab.kernel.accessAllowed ? 'block' : 'none';\n",
              "\n",
              "      async function convertToInteractive(key) {\n",
              "        const element = document.querySelector('#df-1eba0f78-5567-4550-87c0-bcb98a12cd21');\n",
              "        const dataTable =\n",
              "          await google.colab.kernel.invokeFunction('convertToInteractive',\n",
              "                                                    [key], {});\n",
              "        if (!dataTable) return;\n",
              "\n",
              "        const docLinkHtml = 'Like what you see? Visit the ' +\n",
              "          '<a target=\"_blank\" href=https://colab.research.google.com/notebooks/data_table.ipynb>data table notebook</a>'\n",
              "          + ' to learn more about interactive tables.';\n",
              "        element.innerHTML = '';\n",
              "        dataTable['output_type'] = 'display_data';\n",
              "        await google.colab.output.renderOutput(dataTable, element);\n",
              "        const docLink = document.createElement('div');\n",
              "        docLink.innerHTML = docLinkHtml;\n",
              "        element.appendChild(docLink);\n",
              "      }\n",
              "    </script>\n",
              "  </div>\n",
              "\n",
              "\n",
              "    <div id=\"df-a68b413b-1713-418e-b3df-6a7cfe4a87dd\">\n",
              "      <button class=\"colab-df-quickchart\" onclick=\"quickchart('df-a68b413b-1713-418e-b3df-6a7cfe4a87dd')\"\n",
              "                title=\"Suggest charts\"\n",
              "                style=\"display:none;\">\n",
              "\n",
              "<svg xmlns=\"http://www.w3.org/2000/svg\" height=\"24px\"viewBox=\"0 0 24 24\"\n",
              "     width=\"24px\">\n",
              "    <g>\n",
              "        <path d=\"M19 3H5c-1.1 0-2 .9-2 2v14c0 1.1.9 2 2 2h14c1.1 0 2-.9 2-2V5c0-1.1-.9-2-2-2zM9 17H7v-7h2v7zm4 0h-2V7h2v10zm4 0h-2v-4h2v4z\"/>\n",
              "    </g>\n",
              "</svg>\n",
              "      </button>\n",
              "\n",
              "<style>\n",
              "  .colab-df-quickchart {\n",
              "      --bg-color: #E8F0FE;\n",
              "      --fill-color: #1967D2;\n",
              "      --hover-bg-color: #E2EBFA;\n",
              "      --hover-fill-color: #174EA6;\n",
              "      --disabled-fill-color: #AAA;\n",
              "      --disabled-bg-color: #DDD;\n",
              "  }\n",
              "\n",
              "  [theme=dark] .colab-df-quickchart {\n",
              "      --bg-color: #3B4455;\n",
              "      --fill-color: #D2E3FC;\n",
              "      --hover-bg-color: #434B5C;\n",
              "      --hover-fill-color: #FFFFFF;\n",
              "      --disabled-bg-color: #3B4455;\n",
              "      --disabled-fill-color: #666;\n",
              "  }\n",
              "\n",
              "  .colab-df-quickchart {\n",
              "    background-color: var(--bg-color);\n",
              "    border: none;\n",
              "    border-radius: 50%;\n",
              "    cursor: pointer;\n",
              "    display: none;\n",
              "    fill: var(--fill-color);\n",
              "    height: 32px;\n",
              "    padding: 0;\n",
              "    width: 32px;\n",
              "  }\n",
              "\n",
              "  .colab-df-quickchart:hover {\n",
              "    background-color: var(--hover-bg-color);\n",
              "    box-shadow: 0 1px 2px rgba(60, 64, 67, 0.3), 0 1px 3px 1px rgba(60, 64, 67, 0.15);\n",
              "    fill: var(--button-hover-fill-color);\n",
              "  }\n",
              "\n",
              "  .colab-df-quickchart-complete:disabled,\n",
              "  .colab-df-quickchart-complete:disabled:hover {\n",
              "    background-color: var(--disabled-bg-color);\n",
              "    fill: var(--disabled-fill-color);\n",
              "    box-shadow: none;\n",
              "  }\n",
              "\n",
              "  .colab-df-spinner {\n",
              "    border: 2px solid var(--fill-color);\n",
              "    border-color: transparent;\n",
              "    border-bottom-color: var(--fill-color);\n",
              "    animation:\n",
              "      spin 1s steps(1) infinite;\n",
              "  }\n",
              "\n",
              "  @keyframes spin {\n",
              "    0% {\n",
              "      border-color: transparent;\n",
              "      border-bottom-color: var(--fill-color);\n",
              "      border-left-color: var(--fill-color);\n",
              "    }\n",
              "    20% {\n",
              "      border-color: transparent;\n",
              "      border-left-color: var(--fill-color);\n",
              "      border-top-color: var(--fill-color);\n",
              "    }\n",
              "    30% {\n",
              "      border-color: transparent;\n",
              "      border-left-color: var(--fill-color);\n",
              "      border-top-color: var(--fill-color);\n",
              "      border-right-color: var(--fill-color);\n",
              "    }\n",
              "    40% {\n",
              "      border-color: transparent;\n",
              "      border-right-color: var(--fill-color);\n",
              "      border-top-color: var(--fill-color);\n",
              "    }\n",
              "    60% {\n",
              "      border-color: transparent;\n",
              "      border-right-color: var(--fill-color);\n",
              "    }\n",
              "    80% {\n",
              "      border-color: transparent;\n",
              "      border-right-color: var(--fill-color);\n",
              "      border-bottom-color: var(--fill-color);\n",
              "    }\n",
              "    90% {\n",
              "      border-color: transparent;\n",
              "      border-bottom-color: var(--fill-color);\n",
              "    }\n",
              "  }\n",
              "</style>\n",
              "\n",
              "      <script>\n",
              "        async function quickchart(key) {\n",
              "          const quickchartButtonEl =\n",
              "            document.querySelector('#' + key + ' button');\n",
              "          quickchartButtonEl.disabled = true;  // To prevent multiple clicks.\n",
              "          quickchartButtonEl.classList.add('colab-df-spinner');\n",
              "          try {\n",
              "            const charts = await google.colab.kernel.invokeFunction(\n",
              "                'suggestCharts', [key], {});\n",
              "          } catch (error) {\n",
              "            console.error('Error during call to suggestCharts:', error);\n",
              "          }\n",
              "          quickchartButtonEl.classList.remove('colab-df-spinner');\n",
              "          quickchartButtonEl.classList.add('colab-df-quickchart-complete');\n",
              "        }\n",
              "        (() => {\n",
              "          let quickchartButtonEl =\n",
              "            document.querySelector('#df-a68b413b-1713-418e-b3df-6a7cfe4a87dd button');\n",
              "          quickchartButtonEl.style.display =\n",
              "            google.colab.kernel.accessAllowed ? 'block' : 'none';\n",
              "        })();\n",
              "      </script>\n",
              "    </div>\n",
              "\n",
              "    </div>\n",
              "  </div>\n"
            ],
            "application/vnd.google.colaboratory.intrinsic+json": {
              "type": "dataframe",
              "variable_name": "data",
              "summary": "{\n  \"name\": \"data\",\n  \"rows\": 200,\n  \"fields\": [\n    {\n      \"column\": \"data\",\n      \"properties\": {\n        \"dtype\": \"number\",\n        \"std\": 1.0342116925302587,\n        \"min\": -2.982334631389785,\n        \"max\": 2.2839381553594564,\n        \"num_unique_values\": 200,\n        \"samples\": [\n          -0.02358075243560794,\n          -1.5838328372322914,\n          -1.0594817471644313\n        ],\n        \"semantic_type\": \"\",\n        \"description\": \"\"\n      }\n    },\n    {\n      \"column\": \"relu\",\n      \"properties\": {\n        \"dtype\": \"number\",\n        \"std\": 0.5548613558955704,\n        \"min\": 0.0,\n        \"max\": 2.2839381553594564,\n        \"num_unique_values\": 104,\n        \"samples\": [\n          0.29830000880370183,\n          0.7458614114169857,\n          0.744015287468125\n        ],\n        \"semantic_type\": \"\",\n        \"description\": \"\"\n      }\n    }\n  ]\n}"
            }
          },
          "metadata": {},
          "execution_count": 10
        }
      ]
    },
    {
      "cell_type": "code",
      "source": [
        "px.line(data, x='data', y='relu', width=800)"
      ],
      "metadata": {
        "colab": {
          "base_uri": "https://localhost:8080/",
          "height": 542
        },
        "id": "E4oi1--X8icn",
        "outputId": "85a637d4-e042-4a54-af3c-bb79188f7e71"
      },
      "execution_count": 11,
      "outputs": [
        {
          "output_type": "display_data",
          "data": {
            "text/html": [
              "<html>\n",
              "<head><meta charset=\"utf-8\" /></head>\n",
              "<body>\n",
              "    <div>            <script src=\"https://cdnjs.cloudflare.com/ajax/libs/mathjax/2.7.5/MathJax.js?config=TeX-AMS-MML_SVG\"></script><script type=\"text/javascript\">if (window.MathJax && window.MathJax.Hub && window.MathJax.Hub.Config) {window.MathJax.Hub.Config({SVG: {font: \"STIX-Web\"}});}</script>                <script type=\"text/javascript\">window.PlotlyConfig = {MathJaxConfig: 'local'};</script>\n",
              "        <script charset=\"utf-8\" src=\"https://cdn.plot.ly/plotly-2.35.2.min.js\"></script>                <div id=\"c4bfac4e-6c68-44ed-8c05-8f286d2e3ac6\" class=\"plotly-graph-div\" style=\"height:525px; width:800px;\"></div>            <script type=\"text/javascript\">                                    window.PLOTLYENV=window.PLOTLYENV || {};                                    if (document.getElementById(\"c4bfac4e-6c68-44ed-8c05-8f286d2e3ac6\")) {                    Plotly.newPlot(                        \"c4bfac4e-6c68-44ed-8c05-8f286d2e3ac6\",                        [{\"hovertemplate\":\"data=%{x}\\u003cbr\\u003erelu=%{y}\\u003cextra\\u003e\\u003c\\u002fextra\\u003e\",\"legendgroup\":\"\",\"line\":{\"color\":\"#636efa\",\"dash\":\"solid\"},\"marker\":{\"symbol\":\"circle\"},\"mode\":\"lines\",\"name\":\"\",\"orientation\":\"v\",\"showlegend\":false,\"x\":[-2.982334631389785,-2.617614092573801,-2.4184123944479454,-2.362943097607749,-2.272827804288336,-2.1730056379779814,-2.171031473043535,-2.144471733320304,-2.132327858348813,-2.0699536860480183,-1.9908756527367464,-1.895035662365336,-1.841946185352867,-1.7253897217078764,-1.712894836533806,-1.5838328372322914,-1.5455116868365457,-1.5340358852205158,-1.4708515870539163,-1.4269554834970166,-1.4043430565978448,-1.3952089901264175,-1.3905518043027165,-1.3685015583578286,-1.2970734068021108,-1.2819501029267275,-1.27380761505436,-1.240679129933408,-1.1565648378399453,-1.0969595353273038,-1.0594817471644313,-1.0565235926694434,-1.0477266661512548,-1.011061759063555,-0.9733943353719994,-0.9388953695781205,-0.9381634673735976,-0.9124471543243721,-0.8855822622643192,-0.8766911436981526,-0.8620863030898996,-0.8441794074553786,-0.8367673634597884,-0.8247542079432174,-0.79394038798674,-0.7604386344647932,-0.7171893311960299,-0.687876120814915,-0.6860145324377065,-0.6835015665393968,-0.6484097990809695,-0.6468534607213454,-0.6444995394148173,-0.6411887789229821,-0.6364369563989482,-0.6303098905215322,-0.629774341950793,-0.5763435167448323,-0.5721486299553223,-0.5611809186301,-0.5564237555314487,-0.5488069269925397,-0.5365916053938913,-0.5320606354614357,-0.5271323868957428,-0.5208956553199607,-0.48453993219455216,-0.4787244912132883,-0.47015865920436517,-0.46719529170553603,-0.46399545433935213,-0.45842167083002305,-0.43461900372063483,-0.43039957720789596,-0.3620430559652835,-0.36101403792587244,-0.34681004887874,-0.27521651790798113,-0.2671700765737752,-0.26538041820223507,-0.215604751433237,-0.19508499117624079,-0.16496652138157109,-0.1340635663524856,-0.11216658599278963,-0.11173447314461972,-0.10886106748705085,-0.10378271808665572,-0.09713722014832361,-0.09118650109332511,-0.08769905936285421,-0.07614020555263404,-0.06984670921687892,-0.059093849302699945,-0.04799643967589725,-0.02358075243560794,-0.010762950324714892,0.00025055523023318594,0.017797145852149324,0.024477659866197807,0.02845255848348119,0.029560401177634033,0.03116914274416129,0.04133444583188655,0.05774840522018199,0.07474991222288623,0.07832185156986574,0.08499606082133655,0.11167791860262313,0.14242658916496215,0.1772717025104417,0.19694092629837795,0.19990970469170646,0.20132762645247923,0.20548022655348552,0.2105737859371452,0.21725335022921768,0.21889440624227938,0.23557263249240476,0.24304748055490782,0.24347012710576357,0.247547862010806,0.2516440209662064,0.25329203058580035,0.2660404307554547,0.2772132668048898,0.29830000880370183,0.29999771108098855,0.3327855291815195,0.3355816205903654,0.34257176353647856,0.34645447997938017,0.3618217081345737,0.39660029691827586,0.40252137078122757,0.41757969742972845,0.42257974883077226,0.42389270009465024,0.46257961931011804,0.4642058742112245,0.4836954188111329,0.4888923754983373,0.5404106024625961,0.5645023370326403,0.5689255945700726,0.5826089719260352,0.5931004839799646,0.608387656615529,0.6248653644038024,0.6284623446076034,0.6320729146126934,0.6389321810069538,0.6543708177696776,0.6561299192267219,0.6842500369150668,0.7001560502564125,0.7029168523735325,0.7073673681810856,0.7193039542421534,0.7251870799948742,0.744015287468125,0.7458614114169857,0.7572853189787097,0.7619472479149649,0.7695067516544754,0.784183866980068,0.7874436394344823,0.8340699832867594,0.892628464125713,0.9092905609920678,0.948834839139078,0.9699712815099926,0.9729853276589986,1.0247907351149876,1.0639773219524986,1.2115981684725494,1.2267133080224875,1.271456137112269,1.2805561236241418,1.3119471904911786,1.324892991391466,1.3481883222232731,1.3536397424465036,1.4172626764515217,1.4543411730359252,1.472156641336823,1.473861065978449,1.500747536853053,1.5587408354947156,1.561494932566396,1.6211028263522247,1.6872794345937354,1.9012068190646723,1.911251837697519,1.927109340669746,1.95908350368737,2.005384967627228,2.1167268497065153,2.1285879457276056,2.2839381553594564],\"xaxis\":\"x\",\"y\":[0.0,0.0,0.0,0.0,0.0,0.0,0.0,0.0,0.0,0.0,0.0,0.0,0.0,0.0,0.0,0.0,0.0,0.0,0.0,0.0,0.0,0.0,0.0,0.0,0.0,0.0,0.0,0.0,0.0,0.0,0.0,0.0,0.0,0.0,0.0,0.0,0.0,0.0,0.0,0.0,0.0,0.0,0.0,0.0,0.0,0.0,0.0,0.0,0.0,0.0,0.0,0.0,0.0,0.0,0.0,0.0,0.0,0.0,0.0,0.0,0.0,0.0,0.0,0.0,0.0,0.0,0.0,0.0,0.0,0.0,0.0,0.0,0.0,0.0,0.0,0.0,0.0,0.0,0.0,0.0,0.0,0.0,0.0,0.0,0.0,0.0,0.0,0.0,0.0,0.0,0.0,0.0,0.0,0.0,0.0,0.0,0.0,0.00025055523023318594,0.017797145852149324,0.024477659866197807,0.02845255848348119,0.029560401177634033,0.03116914274416129,0.04133444583188655,0.05774840522018199,0.07474991222288623,0.07832185156986574,0.08499606082133655,0.11167791860262313,0.14242658916496215,0.1772717025104417,0.19694092629837795,0.19990970469170646,0.20132762645247923,0.20548022655348552,0.2105737859371452,0.21725335022921768,0.21889440624227938,0.23557263249240476,0.24304748055490782,0.24347012710576357,0.247547862010806,0.2516440209662064,0.25329203058580035,0.2660404307554547,0.2772132668048898,0.29830000880370183,0.29999771108098855,0.3327855291815195,0.3355816205903654,0.34257176353647856,0.34645447997938017,0.3618217081345737,0.39660029691827586,0.40252137078122757,0.41757969742972845,0.42257974883077226,0.42389270009465024,0.46257961931011804,0.4642058742112245,0.4836954188111329,0.4888923754983373,0.5404106024625961,0.5645023370326403,0.5689255945700726,0.5826089719260352,0.5931004839799646,0.608387656615529,0.6248653644038024,0.6284623446076034,0.6320729146126934,0.6389321810069538,0.6543708177696776,0.6561299192267219,0.6842500369150668,0.7001560502564125,0.7029168523735325,0.7073673681810856,0.7193039542421534,0.7251870799948742,0.744015287468125,0.7458614114169857,0.7572853189787097,0.7619472479149649,0.7695067516544754,0.784183866980068,0.7874436394344823,0.8340699832867594,0.892628464125713,0.9092905609920678,0.948834839139078,0.9699712815099926,0.9729853276589986,1.0247907351149876,1.0639773219524986,1.2115981684725494,1.2267133080224875,1.271456137112269,1.2805561236241418,1.3119471904911786,1.324892991391466,1.3481883222232731,1.3536397424465036,1.4172626764515217,1.4543411730359252,1.472156641336823,1.473861065978449,1.500747536853053,1.5587408354947156,1.561494932566396,1.6211028263522247,1.6872794345937354,1.9012068190646723,1.911251837697519,1.927109340669746,1.95908350368737,2.005384967627228,2.1167268497065153,2.1285879457276056,2.2839381553594564],\"yaxis\":\"y\",\"type\":\"scatter\"}],                        {\"template\":{\"data\":{\"histogram2dcontour\":[{\"type\":\"histogram2dcontour\",\"colorbar\":{\"outlinewidth\":0,\"ticks\":\"\"},\"colorscale\":[[0.0,\"#0d0887\"],[0.1111111111111111,\"#46039f\"],[0.2222222222222222,\"#7201a8\"],[0.3333333333333333,\"#9c179e\"],[0.4444444444444444,\"#bd3786\"],[0.5555555555555556,\"#d8576b\"],[0.6666666666666666,\"#ed7953\"],[0.7777777777777778,\"#fb9f3a\"],[0.8888888888888888,\"#fdca26\"],[1.0,\"#f0f921\"]]}],\"choropleth\":[{\"type\":\"choropleth\",\"colorbar\":{\"outlinewidth\":0,\"ticks\":\"\"}}],\"histogram2d\":[{\"type\":\"histogram2d\",\"colorbar\":{\"outlinewidth\":0,\"ticks\":\"\"},\"colorscale\":[[0.0,\"#0d0887\"],[0.1111111111111111,\"#46039f\"],[0.2222222222222222,\"#7201a8\"],[0.3333333333333333,\"#9c179e\"],[0.4444444444444444,\"#bd3786\"],[0.5555555555555556,\"#d8576b\"],[0.6666666666666666,\"#ed7953\"],[0.7777777777777778,\"#fb9f3a\"],[0.8888888888888888,\"#fdca26\"],[1.0,\"#f0f921\"]]}],\"heatmap\":[{\"type\":\"heatmap\",\"colorbar\":{\"outlinewidth\":0,\"ticks\":\"\"},\"colorscale\":[[0.0,\"#0d0887\"],[0.1111111111111111,\"#46039f\"],[0.2222222222222222,\"#7201a8\"],[0.3333333333333333,\"#9c179e\"],[0.4444444444444444,\"#bd3786\"],[0.5555555555555556,\"#d8576b\"],[0.6666666666666666,\"#ed7953\"],[0.7777777777777778,\"#fb9f3a\"],[0.8888888888888888,\"#fdca26\"],[1.0,\"#f0f921\"]]}],\"heatmapgl\":[{\"type\":\"heatmapgl\",\"colorbar\":{\"outlinewidth\":0,\"ticks\":\"\"},\"colorscale\":[[0.0,\"#0d0887\"],[0.1111111111111111,\"#46039f\"],[0.2222222222222222,\"#7201a8\"],[0.3333333333333333,\"#9c179e\"],[0.4444444444444444,\"#bd3786\"],[0.5555555555555556,\"#d8576b\"],[0.6666666666666666,\"#ed7953\"],[0.7777777777777778,\"#fb9f3a\"],[0.8888888888888888,\"#fdca26\"],[1.0,\"#f0f921\"]]}],\"contourcarpet\":[{\"type\":\"contourcarpet\",\"colorbar\":{\"outlinewidth\":0,\"ticks\":\"\"}}],\"contour\":[{\"type\":\"contour\",\"colorbar\":{\"outlinewidth\":0,\"ticks\":\"\"},\"colorscale\":[[0.0,\"#0d0887\"],[0.1111111111111111,\"#46039f\"],[0.2222222222222222,\"#7201a8\"],[0.3333333333333333,\"#9c179e\"],[0.4444444444444444,\"#bd3786\"],[0.5555555555555556,\"#d8576b\"],[0.6666666666666666,\"#ed7953\"],[0.7777777777777778,\"#fb9f3a\"],[0.8888888888888888,\"#fdca26\"],[1.0,\"#f0f921\"]]}],\"surface\":[{\"type\":\"surface\",\"colorbar\":{\"outlinewidth\":0,\"ticks\":\"\"},\"colorscale\":[[0.0,\"#0d0887\"],[0.1111111111111111,\"#46039f\"],[0.2222222222222222,\"#7201a8\"],[0.3333333333333333,\"#9c179e\"],[0.4444444444444444,\"#bd3786\"],[0.5555555555555556,\"#d8576b\"],[0.6666666666666666,\"#ed7953\"],[0.7777777777777778,\"#fb9f3a\"],[0.8888888888888888,\"#fdca26\"],[1.0,\"#f0f921\"]]}],\"mesh3d\":[{\"type\":\"mesh3d\",\"colorbar\":{\"outlinewidth\":0,\"ticks\":\"\"}}],\"scatter\":[{\"fillpattern\":{\"fillmode\":\"overlay\",\"size\":10,\"solidity\":0.2},\"type\":\"scatter\"}],\"parcoords\":[{\"type\":\"parcoords\",\"line\":{\"colorbar\":{\"outlinewidth\":0,\"ticks\":\"\"}}}],\"scatterpolargl\":[{\"type\":\"scatterpolargl\",\"marker\":{\"colorbar\":{\"outlinewidth\":0,\"ticks\":\"\"}}}],\"bar\":[{\"error_x\":{\"color\":\"#2a3f5f\"},\"error_y\":{\"color\":\"#2a3f5f\"},\"marker\":{\"line\":{\"color\":\"#E5ECF6\",\"width\":0.5},\"pattern\":{\"fillmode\":\"overlay\",\"size\":10,\"solidity\":0.2}},\"type\":\"bar\"}],\"scattergeo\":[{\"type\":\"scattergeo\",\"marker\":{\"colorbar\":{\"outlinewidth\":0,\"ticks\":\"\"}}}],\"scatterpolar\":[{\"type\":\"scatterpolar\",\"marker\":{\"colorbar\":{\"outlinewidth\":0,\"ticks\":\"\"}}}],\"histogram\":[{\"marker\":{\"pattern\":{\"fillmode\":\"overlay\",\"size\":10,\"solidity\":0.2}},\"type\":\"histogram\"}],\"scattergl\":[{\"type\":\"scattergl\",\"marker\":{\"colorbar\":{\"outlinewidth\":0,\"ticks\":\"\"}}}],\"scatter3d\":[{\"type\":\"scatter3d\",\"line\":{\"colorbar\":{\"outlinewidth\":0,\"ticks\":\"\"}},\"marker\":{\"colorbar\":{\"outlinewidth\":0,\"ticks\":\"\"}}}],\"scattermapbox\":[{\"type\":\"scattermapbox\",\"marker\":{\"colorbar\":{\"outlinewidth\":0,\"ticks\":\"\"}}}],\"scatterternary\":[{\"type\":\"scatterternary\",\"marker\":{\"colorbar\":{\"outlinewidth\":0,\"ticks\":\"\"}}}],\"scattercarpet\":[{\"type\":\"scattercarpet\",\"marker\":{\"colorbar\":{\"outlinewidth\":0,\"ticks\":\"\"}}}],\"carpet\":[{\"aaxis\":{\"endlinecolor\":\"#2a3f5f\",\"gridcolor\":\"white\",\"linecolor\":\"white\",\"minorgridcolor\":\"white\",\"startlinecolor\":\"#2a3f5f\"},\"baxis\":{\"endlinecolor\":\"#2a3f5f\",\"gridcolor\":\"white\",\"linecolor\":\"white\",\"minorgridcolor\":\"white\",\"startlinecolor\":\"#2a3f5f\"},\"type\":\"carpet\"}],\"table\":[{\"cells\":{\"fill\":{\"color\":\"#EBF0F8\"},\"line\":{\"color\":\"white\"}},\"header\":{\"fill\":{\"color\":\"#C8D4E3\"},\"line\":{\"color\":\"white\"}},\"type\":\"table\"}],\"barpolar\":[{\"marker\":{\"line\":{\"color\":\"#E5ECF6\",\"width\":0.5},\"pattern\":{\"fillmode\":\"overlay\",\"size\":10,\"solidity\":0.2}},\"type\":\"barpolar\"}],\"pie\":[{\"automargin\":true,\"type\":\"pie\"}]},\"layout\":{\"autotypenumbers\":\"strict\",\"colorway\":[\"#636efa\",\"#EF553B\",\"#00cc96\",\"#ab63fa\",\"#FFA15A\",\"#19d3f3\",\"#FF6692\",\"#B6E880\",\"#FF97FF\",\"#FECB52\"],\"font\":{\"color\":\"#2a3f5f\"},\"hovermode\":\"closest\",\"hoverlabel\":{\"align\":\"left\"},\"paper_bgcolor\":\"white\",\"plot_bgcolor\":\"#E5ECF6\",\"polar\":{\"bgcolor\":\"#E5ECF6\",\"angularaxis\":{\"gridcolor\":\"white\",\"linecolor\":\"white\",\"ticks\":\"\"},\"radialaxis\":{\"gridcolor\":\"white\",\"linecolor\":\"white\",\"ticks\":\"\"}},\"ternary\":{\"bgcolor\":\"#E5ECF6\",\"aaxis\":{\"gridcolor\":\"white\",\"linecolor\":\"white\",\"ticks\":\"\"},\"baxis\":{\"gridcolor\":\"white\",\"linecolor\":\"white\",\"ticks\":\"\"},\"caxis\":{\"gridcolor\":\"white\",\"linecolor\":\"white\",\"ticks\":\"\"}},\"coloraxis\":{\"colorbar\":{\"outlinewidth\":0,\"ticks\":\"\"}},\"colorscale\":{\"sequential\":[[0.0,\"#0d0887\"],[0.1111111111111111,\"#46039f\"],[0.2222222222222222,\"#7201a8\"],[0.3333333333333333,\"#9c179e\"],[0.4444444444444444,\"#bd3786\"],[0.5555555555555556,\"#d8576b\"],[0.6666666666666666,\"#ed7953\"],[0.7777777777777778,\"#fb9f3a\"],[0.8888888888888888,\"#fdca26\"],[1.0,\"#f0f921\"]],\"sequentialminus\":[[0.0,\"#0d0887\"],[0.1111111111111111,\"#46039f\"],[0.2222222222222222,\"#7201a8\"],[0.3333333333333333,\"#9c179e\"],[0.4444444444444444,\"#bd3786\"],[0.5555555555555556,\"#d8576b\"],[0.6666666666666666,\"#ed7953\"],[0.7777777777777778,\"#fb9f3a\"],[0.8888888888888888,\"#fdca26\"],[1.0,\"#f0f921\"]],\"diverging\":[[0,\"#8e0152\"],[0.1,\"#c51b7d\"],[0.2,\"#de77ae\"],[0.3,\"#f1b6da\"],[0.4,\"#fde0ef\"],[0.5,\"#f7f7f7\"],[0.6,\"#e6f5d0\"],[0.7,\"#b8e186\"],[0.8,\"#7fbc41\"],[0.9,\"#4d9221\"],[1,\"#276419\"]]},\"xaxis\":{\"gridcolor\":\"white\",\"linecolor\":\"white\",\"ticks\":\"\",\"title\":{\"standoff\":15},\"zerolinecolor\":\"white\",\"automargin\":true,\"zerolinewidth\":2},\"yaxis\":{\"gridcolor\":\"white\",\"linecolor\":\"white\",\"ticks\":\"\",\"title\":{\"standoff\":15},\"zerolinecolor\":\"white\",\"automargin\":true,\"zerolinewidth\":2},\"scene\":{\"xaxis\":{\"backgroundcolor\":\"#E5ECF6\",\"gridcolor\":\"white\",\"linecolor\":\"white\",\"showbackground\":true,\"ticks\":\"\",\"zerolinecolor\":\"white\",\"gridwidth\":2},\"yaxis\":{\"backgroundcolor\":\"#E5ECF6\",\"gridcolor\":\"white\",\"linecolor\":\"white\",\"showbackground\":true,\"ticks\":\"\",\"zerolinecolor\":\"white\",\"gridwidth\":2},\"zaxis\":{\"backgroundcolor\":\"#E5ECF6\",\"gridcolor\":\"white\",\"linecolor\":\"white\",\"showbackground\":true,\"ticks\":\"\",\"zerolinecolor\":\"white\",\"gridwidth\":2}},\"shapedefaults\":{\"line\":{\"color\":\"#2a3f5f\"}},\"annotationdefaults\":{\"arrowcolor\":\"#2a3f5f\",\"arrowhead\":0,\"arrowwidth\":1},\"geo\":{\"bgcolor\":\"white\",\"landcolor\":\"#E5ECF6\",\"subunitcolor\":\"white\",\"showland\":true,\"showlakes\":true,\"lakecolor\":\"white\"},\"title\":{\"x\":0.05},\"mapbox\":{\"style\":\"light\"}}},\"xaxis\":{\"anchor\":\"y\",\"domain\":[0.0,1.0],\"title\":{\"text\":\"data\"}},\"yaxis\":{\"anchor\":\"x\",\"domain\":[0.0,1.0],\"title\":{\"text\":\"relu\"}},\"legend\":{\"tracegroupgap\":0},\"margin\":{\"t\":60},\"width\":800},                        {\"responsive\": true}                    ).then(function(){\n",
              "                            \n",
              "var gd = document.getElementById('c4bfac4e-6c68-44ed-8c05-8f286d2e3ac6');\n",
              "var x = new MutationObserver(function (mutations, observer) {{\n",
              "        var display = window.getComputedStyle(gd).display;\n",
              "        if (!display || display === 'none') {{\n",
              "            console.log([gd, 'removed!']);\n",
              "            Plotly.purge(gd);\n",
              "            observer.disconnect();\n",
              "        }}\n",
              "}});\n",
              "\n",
              "// Listen for the removal of the full notebook cells\n",
              "var notebookContainer = gd.closest('#notebook-container');\n",
              "if (notebookContainer) {{\n",
              "    x.observe(notebookContainer, {childList: true});\n",
              "}}\n",
              "\n",
              "// Listen for the clearing of the current output cell\n",
              "var outputEl = gd.closest('.output');\n",
              "if (outputEl) {{\n",
              "    x.observe(outputEl, {childList: true});\n",
              "}}\n",
              "\n",
              "                        })                };                            </script>        </div>\n",
              "</body>\n",
              "</html>"
            ]
          },
          "metadata": {}
        }
      ]
    },
    {
      "cell_type": "code",
      "source": [
        "data = pd.DataFrame({'data': random_data, 'tanh': activations.tanh(random_data)})\n",
        "data.head()"
      ],
      "metadata": {
        "colab": {
          "base_uri": "https://localhost:8080/",
          "height": 206
        },
        "id": "Xb-jMg7O8oyP",
        "outputId": "2a0ff017-58b9-4d07-a96e-b3ec22f0e496"
      },
      "execution_count": 12,
      "outputs": [
        {
          "output_type": "execute_result",
          "data": {
            "text/plain": [
              "       data      tanh\n",
              "0 -2.982335 -0.994877\n",
              "1 -2.617614 -0.989405\n",
              "2 -2.418412 -0.984260\n",
              "3 -2.362943 -0.982430\n",
              "4 -2.272828 -0.978996"
            ],
            "text/html": [
              "\n",
              "  <div id=\"df-01f67e52-a6f3-496a-a8d5-0df1963493e7\" class=\"colab-df-container\">\n",
              "    <div>\n",
              "<style scoped>\n",
              "    .dataframe tbody tr th:only-of-type {\n",
              "        vertical-align: middle;\n",
              "    }\n",
              "\n",
              "    .dataframe tbody tr th {\n",
              "        vertical-align: top;\n",
              "    }\n",
              "\n",
              "    .dataframe thead th {\n",
              "        text-align: right;\n",
              "    }\n",
              "</style>\n",
              "<table border=\"1\" class=\"dataframe\">\n",
              "  <thead>\n",
              "    <tr style=\"text-align: right;\">\n",
              "      <th></th>\n",
              "      <th>data</th>\n",
              "      <th>tanh</th>\n",
              "    </tr>\n",
              "  </thead>\n",
              "  <tbody>\n",
              "    <tr>\n",
              "      <th>0</th>\n",
              "      <td>-2.982335</td>\n",
              "      <td>-0.994877</td>\n",
              "    </tr>\n",
              "    <tr>\n",
              "      <th>1</th>\n",
              "      <td>-2.617614</td>\n",
              "      <td>-0.989405</td>\n",
              "    </tr>\n",
              "    <tr>\n",
              "      <th>2</th>\n",
              "      <td>-2.418412</td>\n",
              "      <td>-0.984260</td>\n",
              "    </tr>\n",
              "    <tr>\n",
              "      <th>3</th>\n",
              "      <td>-2.362943</td>\n",
              "      <td>-0.982430</td>\n",
              "    </tr>\n",
              "    <tr>\n",
              "      <th>4</th>\n",
              "      <td>-2.272828</td>\n",
              "      <td>-0.978996</td>\n",
              "    </tr>\n",
              "  </tbody>\n",
              "</table>\n",
              "</div>\n",
              "    <div class=\"colab-df-buttons\">\n",
              "\n",
              "  <div class=\"colab-df-container\">\n",
              "    <button class=\"colab-df-convert\" onclick=\"convertToInteractive('df-01f67e52-a6f3-496a-a8d5-0df1963493e7')\"\n",
              "            title=\"Convert this dataframe to an interactive table.\"\n",
              "            style=\"display:none;\">\n",
              "\n",
              "  <svg xmlns=\"http://www.w3.org/2000/svg\" height=\"24px\" viewBox=\"0 -960 960 960\">\n",
              "    <path d=\"M120-120v-720h720v720H120Zm60-500h600v-160H180v160Zm220 220h160v-160H400v160Zm0 220h160v-160H400v160ZM180-400h160v-160H180v160Zm440 0h160v-160H620v160ZM180-180h160v-160H180v160Zm440 0h160v-160H620v160Z\"/>\n",
              "  </svg>\n",
              "    </button>\n",
              "\n",
              "  <style>\n",
              "    .colab-df-container {\n",
              "      display:flex;\n",
              "      gap: 12px;\n",
              "    }\n",
              "\n",
              "    .colab-df-convert {\n",
              "      background-color: #E8F0FE;\n",
              "      border: none;\n",
              "      border-radius: 50%;\n",
              "      cursor: pointer;\n",
              "      display: none;\n",
              "      fill: #1967D2;\n",
              "      height: 32px;\n",
              "      padding: 0 0 0 0;\n",
              "      width: 32px;\n",
              "    }\n",
              "\n",
              "    .colab-df-convert:hover {\n",
              "      background-color: #E2EBFA;\n",
              "      box-shadow: 0px 1px 2px rgba(60, 64, 67, 0.3), 0px 1px 3px 1px rgba(60, 64, 67, 0.15);\n",
              "      fill: #174EA6;\n",
              "    }\n",
              "\n",
              "    .colab-df-buttons div {\n",
              "      margin-bottom: 4px;\n",
              "    }\n",
              "\n",
              "    [theme=dark] .colab-df-convert {\n",
              "      background-color: #3B4455;\n",
              "      fill: #D2E3FC;\n",
              "    }\n",
              "\n",
              "    [theme=dark] .colab-df-convert:hover {\n",
              "      background-color: #434B5C;\n",
              "      box-shadow: 0px 1px 3px 1px rgba(0, 0, 0, 0.15);\n",
              "      filter: drop-shadow(0px 1px 2px rgba(0, 0, 0, 0.3));\n",
              "      fill: #FFFFFF;\n",
              "    }\n",
              "  </style>\n",
              "\n",
              "    <script>\n",
              "      const buttonEl =\n",
              "        document.querySelector('#df-01f67e52-a6f3-496a-a8d5-0df1963493e7 button.colab-df-convert');\n",
              "      buttonEl.style.display =\n",
              "        google.colab.kernel.accessAllowed ? 'block' : 'none';\n",
              "\n",
              "      async function convertToInteractive(key) {\n",
              "        const element = document.querySelector('#df-01f67e52-a6f3-496a-a8d5-0df1963493e7');\n",
              "        const dataTable =\n",
              "          await google.colab.kernel.invokeFunction('convertToInteractive',\n",
              "                                                    [key], {});\n",
              "        if (!dataTable) return;\n",
              "\n",
              "        const docLinkHtml = 'Like what you see? Visit the ' +\n",
              "          '<a target=\"_blank\" href=https://colab.research.google.com/notebooks/data_table.ipynb>data table notebook</a>'\n",
              "          + ' to learn more about interactive tables.';\n",
              "        element.innerHTML = '';\n",
              "        dataTable['output_type'] = 'display_data';\n",
              "        await google.colab.output.renderOutput(dataTable, element);\n",
              "        const docLink = document.createElement('div');\n",
              "        docLink.innerHTML = docLinkHtml;\n",
              "        element.appendChild(docLink);\n",
              "      }\n",
              "    </script>\n",
              "  </div>\n",
              "\n",
              "\n",
              "    <div id=\"df-16a92639-6a6a-4275-a9d1-5d3d9550ef0c\">\n",
              "      <button class=\"colab-df-quickchart\" onclick=\"quickchart('df-16a92639-6a6a-4275-a9d1-5d3d9550ef0c')\"\n",
              "                title=\"Suggest charts\"\n",
              "                style=\"display:none;\">\n",
              "\n",
              "<svg xmlns=\"http://www.w3.org/2000/svg\" height=\"24px\"viewBox=\"0 0 24 24\"\n",
              "     width=\"24px\">\n",
              "    <g>\n",
              "        <path d=\"M19 3H5c-1.1 0-2 .9-2 2v14c0 1.1.9 2 2 2h14c1.1 0 2-.9 2-2V5c0-1.1-.9-2-2-2zM9 17H7v-7h2v7zm4 0h-2V7h2v10zm4 0h-2v-4h2v4z\"/>\n",
              "    </g>\n",
              "</svg>\n",
              "      </button>\n",
              "\n",
              "<style>\n",
              "  .colab-df-quickchart {\n",
              "      --bg-color: #E8F0FE;\n",
              "      --fill-color: #1967D2;\n",
              "      --hover-bg-color: #E2EBFA;\n",
              "      --hover-fill-color: #174EA6;\n",
              "      --disabled-fill-color: #AAA;\n",
              "      --disabled-bg-color: #DDD;\n",
              "  }\n",
              "\n",
              "  [theme=dark] .colab-df-quickchart {\n",
              "      --bg-color: #3B4455;\n",
              "      --fill-color: #D2E3FC;\n",
              "      --hover-bg-color: #434B5C;\n",
              "      --hover-fill-color: #FFFFFF;\n",
              "      --disabled-bg-color: #3B4455;\n",
              "      --disabled-fill-color: #666;\n",
              "  }\n",
              "\n",
              "  .colab-df-quickchart {\n",
              "    background-color: var(--bg-color);\n",
              "    border: none;\n",
              "    border-radius: 50%;\n",
              "    cursor: pointer;\n",
              "    display: none;\n",
              "    fill: var(--fill-color);\n",
              "    height: 32px;\n",
              "    padding: 0;\n",
              "    width: 32px;\n",
              "  }\n",
              "\n",
              "  .colab-df-quickchart:hover {\n",
              "    background-color: var(--hover-bg-color);\n",
              "    box-shadow: 0 1px 2px rgba(60, 64, 67, 0.3), 0 1px 3px 1px rgba(60, 64, 67, 0.15);\n",
              "    fill: var(--button-hover-fill-color);\n",
              "  }\n",
              "\n",
              "  .colab-df-quickchart-complete:disabled,\n",
              "  .colab-df-quickchart-complete:disabled:hover {\n",
              "    background-color: var(--disabled-bg-color);\n",
              "    fill: var(--disabled-fill-color);\n",
              "    box-shadow: none;\n",
              "  }\n",
              "\n",
              "  .colab-df-spinner {\n",
              "    border: 2px solid var(--fill-color);\n",
              "    border-color: transparent;\n",
              "    border-bottom-color: var(--fill-color);\n",
              "    animation:\n",
              "      spin 1s steps(1) infinite;\n",
              "  }\n",
              "\n",
              "  @keyframes spin {\n",
              "    0% {\n",
              "      border-color: transparent;\n",
              "      border-bottom-color: var(--fill-color);\n",
              "      border-left-color: var(--fill-color);\n",
              "    }\n",
              "    20% {\n",
              "      border-color: transparent;\n",
              "      border-left-color: var(--fill-color);\n",
              "      border-top-color: var(--fill-color);\n",
              "    }\n",
              "    30% {\n",
              "      border-color: transparent;\n",
              "      border-left-color: var(--fill-color);\n",
              "      border-top-color: var(--fill-color);\n",
              "      border-right-color: var(--fill-color);\n",
              "    }\n",
              "    40% {\n",
              "      border-color: transparent;\n",
              "      border-right-color: var(--fill-color);\n",
              "      border-top-color: var(--fill-color);\n",
              "    }\n",
              "    60% {\n",
              "      border-color: transparent;\n",
              "      border-right-color: var(--fill-color);\n",
              "    }\n",
              "    80% {\n",
              "      border-color: transparent;\n",
              "      border-right-color: var(--fill-color);\n",
              "      border-bottom-color: var(--fill-color);\n",
              "    }\n",
              "    90% {\n",
              "      border-color: transparent;\n",
              "      border-bottom-color: var(--fill-color);\n",
              "    }\n",
              "  }\n",
              "</style>\n",
              "\n",
              "      <script>\n",
              "        async function quickchart(key) {\n",
              "          const quickchartButtonEl =\n",
              "            document.querySelector('#' + key + ' button');\n",
              "          quickchartButtonEl.disabled = true;  // To prevent multiple clicks.\n",
              "          quickchartButtonEl.classList.add('colab-df-spinner');\n",
              "          try {\n",
              "            const charts = await google.colab.kernel.invokeFunction(\n",
              "                'suggestCharts', [key], {});\n",
              "          } catch (error) {\n",
              "            console.error('Error during call to suggestCharts:', error);\n",
              "          }\n",
              "          quickchartButtonEl.classList.remove('colab-df-spinner');\n",
              "          quickchartButtonEl.classList.add('colab-df-quickchart-complete');\n",
              "        }\n",
              "        (() => {\n",
              "          let quickchartButtonEl =\n",
              "            document.querySelector('#df-16a92639-6a6a-4275-a9d1-5d3d9550ef0c button');\n",
              "          quickchartButtonEl.style.display =\n",
              "            google.colab.kernel.accessAllowed ? 'block' : 'none';\n",
              "        })();\n",
              "      </script>\n",
              "    </div>\n",
              "\n",
              "    </div>\n",
              "  </div>\n"
            ],
            "application/vnd.google.colaboratory.intrinsic+json": {
              "type": "dataframe",
              "variable_name": "data",
              "summary": "{\n  \"name\": \"data\",\n  \"rows\": 200,\n  \"fields\": [\n    {\n      \"column\": \"data\",\n      \"properties\": {\n        \"dtype\": \"number\",\n        \"std\": 1.0342116925302587,\n        \"min\": -2.982334631389785,\n        \"max\": 2.2839381553594564,\n        \"num_unique_values\": 200,\n        \"samples\": [\n          -0.02358075243560794,\n          -1.5838328372322914,\n          -1.0594817471644313\n        ],\n        \"semantic_type\": \"\",\n        \"description\": \"\"\n      }\n    },\n    {\n      \"column\": \"tanh\",\n      \"properties\": {\n        \"dtype\": \"number\",\n        \"std\": 0.6299247069531757,\n        \"min\": -0.9948773668477319,\n        \"max\": 0.9794533138357956,\n        \"num_unique_values\": 200,\n        \"samples\": [\n          -0.023576382700241313,\n          -0.9191983661884715,\n          -0.7854654261482338\n        ],\n        \"semantic_type\": \"\",\n        \"description\": \"\"\n      }\n    }\n  ]\n}"
            }
          },
          "metadata": {},
          "execution_count": 12
        }
      ]
    },
    {
      "cell_type": "code",
      "source": [
        "px.line(data, x='data', y='tanh', width=800)"
      ],
      "metadata": {
        "colab": {
          "base_uri": "https://localhost:8080/",
          "height": 542
        },
        "id": "TS1hJ3498sei",
        "outputId": "c25b467c-876a-42b6-e5c4-d52bfdbda6e7"
      },
      "execution_count": 13,
      "outputs": [
        {
          "output_type": "display_data",
          "data": {
            "text/html": [
              "<html>\n",
              "<head><meta charset=\"utf-8\" /></head>\n",
              "<body>\n",
              "    <div>            <script src=\"https://cdnjs.cloudflare.com/ajax/libs/mathjax/2.7.5/MathJax.js?config=TeX-AMS-MML_SVG\"></script><script type=\"text/javascript\">if (window.MathJax && window.MathJax.Hub && window.MathJax.Hub.Config) {window.MathJax.Hub.Config({SVG: {font: \"STIX-Web\"}});}</script>                <script type=\"text/javascript\">window.PlotlyConfig = {MathJaxConfig: 'local'};</script>\n",
              "        <script charset=\"utf-8\" src=\"https://cdn.plot.ly/plotly-2.35.2.min.js\"></script>                <div id=\"262eb4ab-127f-45fe-a31d-41fd8d61fdd6\" class=\"plotly-graph-div\" style=\"height:525px; width:800px;\"></div>            <script type=\"text/javascript\">                                    window.PLOTLYENV=window.PLOTLYENV || {};                                    if (document.getElementById(\"262eb4ab-127f-45fe-a31d-41fd8d61fdd6\")) {                    Plotly.newPlot(                        \"262eb4ab-127f-45fe-a31d-41fd8d61fdd6\",                        [{\"hovertemplate\":\"data=%{x}\\u003cbr\\u003etanh=%{y}\\u003cextra\\u003e\\u003c\\u002fextra\\u003e\",\"legendgroup\":\"\",\"line\":{\"color\":\"#636efa\",\"dash\":\"solid\"},\"marker\":{\"symbol\":\"circle\"},\"mode\":\"lines\",\"name\":\"\",\"orientation\":\"v\",\"showlegend\":false,\"x\":[-2.982334631389785,-2.617614092573801,-2.4184123944479454,-2.362943097607749,-2.272827804288336,-2.1730056379779814,-2.171031473043535,-2.144471733320304,-2.132327858348813,-2.0699536860480183,-1.9908756527367464,-1.895035662365336,-1.841946185352867,-1.7253897217078764,-1.712894836533806,-1.5838328372322914,-1.5455116868365457,-1.5340358852205158,-1.4708515870539163,-1.4269554834970166,-1.4043430565978448,-1.3952089901264175,-1.3905518043027165,-1.3685015583578286,-1.2970734068021108,-1.2819501029267275,-1.27380761505436,-1.240679129933408,-1.1565648378399453,-1.0969595353273038,-1.0594817471644313,-1.0565235926694434,-1.0477266661512548,-1.011061759063555,-0.9733943353719994,-0.9388953695781205,-0.9381634673735976,-0.9124471543243721,-0.8855822622643192,-0.8766911436981526,-0.8620863030898996,-0.8441794074553786,-0.8367673634597884,-0.8247542079432174,-0.79394038798674,-0.7604386344647932,-0.7171893311960299,-0.687876120814915,-0.6860145324377065,-0.6835015665393968,-0.6484097990809695,-0.6468534607213454,-0.6444995394148173,-0.6411887789229821,-0.6364369563989482,-0.6303098905215322,-0.629774341950793,-0.5763435167448323,-0.5721486299553223,-0.5611809186301,-0.5564237555314487,-0.5488069269925397,-0.5365916053938913,-0.5320606354614357,-0.5271323868957428,-0.5208956553199607,-0.48453993219455216,-0.4787244912132883,-0.47015865920436517,-0.46719529170553603,-0.46399545433935213,-0.45842167083002305,-0.43461900372063483,-0.43039957720789596,-0.3620430559652835,-0.36101403792587244,-0.34681004887874,-0.27521651790798113,-0.2671700765737752,-0.26538041820223507,-0.215604751433237,-0.19508499117624079,-0.16496652138157109,-0.1340635663524856,-0.11216658599278963,-0.11173447314461972,-0.10886106748705085,-0.10378271808665572,-0.09713722014832361,-0.09118650109332511,-0.08769905936285421,-0.07614020555263404,-0.06984670921687892,-0.059093849302699945,-0.04799643967589725,-0.02358075243560794,-0.010762950324714892,0.00025055523023318594,0.017797145852149324,0.024477659866197807,0.02845255848348119,0.029560401177634033,0.03116914274416129,0.04133444583188655,0.05774840522018199,0.07474991222288623,0.07832185156986574,0.08499606082133655,0.11167791860262313,0.14242658916496215,0.1772717025104417,0.19694092629837795,0.19990970469170646,0.20132762645247923,0.20548022655348552,0.2105737859371452,0.21725335022921768,0.21889440624227938,0.23557263249240476,0.24304748055490782,0.24347012710576357,0.247547862010806,0.2516440209662064,0.25329203058580035,0.2660404307554547,0.2772132668048898,0.29830000880370183,0.29999771108098855,0.3327855291815195,0.3355816205903654,0.34257176353647856,0.34645447997938017,0.3618217081345737,0.39660029691827586,0.40252137078122757,0.41757969742972845,0.42257974883077226,0.42389270009465024,0.46257961931011804,0.4642058742112245,0.4836954188111329,0.4888923754983373,0.5404106024625961,0.5645023370326403,0.5689255945700726,0.5826089719260352,0.5931004839799646,0.608387656615529,0.6248653644038024,0.6284623446076034,0.6320729146126934,0.6389321810069538,0.6543708177696776,0.6561299192267219,0.6842500369150668,0.7001560502564125,0.7029168523735325,0.7073673681810856,0.7193039542421534,0.7251870799948742,0.744015287468125,0.7458614114169857,0.7572853189787097,0.7619472479149649,0.7695067516544754,0.784183866980068,0.7874436394344823,0.8340699832867594,0.892628464125713,0.9092905609920678,0.948834839139078,0.9699712815099926,0.9729853276589986,1.0247907351149876,1.0639773219524986,1.2115981684725494,1.2267133080224875,1.271456137112269,1.2805561236241418,1.3119471904911786,1.324892991391466,1.3481883222232731,1.3536397424465036,1.4172626764515217,1.4543411730359252,1.472156641336823,1.473861065978449,1.500747536853053,1.5587408354947156,1.561494932566396,1.6211028263522247,1.6872794345937354,1.9012068190646723,1.911251837697519,1.927109340669746,1.95908350368737,2.005384967627228,2.1167268497065153,2.1285879457276056,2.2839381553594564],\"xaxis\":\"x\",\"y\":[-0.9948773668477319,-0.9894052054937328,-0.9842604482426918,-0.9824300078976848,-0.9789964900667647,-0.9744147496263977,-0.9743148308369374,-0.9729325245454785,-0.9722762924224944,-0.968650565680489,-0.9633772349478477,-0.9558104379684116,-0.9509816095163701,-0.938508753622712,-0.9370017533209851,-0.9191983661884715,-0.9130418912788993,-0.9111127109358407,-0.8997397783196321,-0.89104098780207,-0.8862868088693676,-0.8843116562305333,-0.8832922317806613,-0.8783502485022511,-0.8609678544139576,-0.8570036213776594,-0.854826280447321,-0.8456491756893444,-0.8199172223306198,-0.7994042215999918,-0.7854654261482338,-0.7843296870186369,-0.7809209614640233,-0.7662008139256202,-0.7501921133161508,-0.7347143201035289,-0.7343773213080195,-0.7223047390589632,-0.7092048625671025,-0.7047577992435107,-0.6973310280063585,-0.6880164122409668,-0.6840930464085011,-0.6776492007154445,-0.6606354683115021,-0.6413352531546104,-0.6151652908233907,-0.5966158502716987,-0.5954155634417159,-0.5937910661935943,-0.5705984800897212,-0.569547926369327,-0.5679554494037964,-0.5657084351597961,-0.5624686348787755,-0.5582655623678706,-0.5578968128864776,-0.5200027445861378,-0.5169354943955108,-0.5088531003159039,-0.5053191886160663,-0.49962549354491653,-0.4904036060430635,-0.48695467494490485,-0.48318602298056806,-0.47839098554038495,-0.44987211451980585,-0.4452215166032903,-0.43832749959952466,-0.4359303801897967,-0.43333501343029,-0.42879695687409286,-0.40917423692729205,-0.4056551871188318,-0.3470123427111676,-0.34610691352657763,-0.3335435021851321,-0.268472105585899,-0.26098962728567693,-0.2593210949815592,-0.21232489906640348,-0.19264723683564045,-0.1634861700509959,-0.13326612225439727,-0.11169853921689564,-0.11127179708145075,-0.10843306843425272,-0.10341170699495866,-0.09683285159648716,-0.09093460096151236,-0.08747491409960613,-0.0759934092983221,-0.0697333465782811,-0.0590251583748552,-0.04795961780790296,-0.023576382700241313,-0.010762534746637442,0.00025055522499007373,0.017795267077010936,0.024472772393312484,0.02844488306418251,0.029551794055885792,0.03115905289710931,0.041310921440073395,0.05768429610268467,0.07461099974492719,0.07816209332525037,0.08479197069277215,0.11121594241315609,0.1414712829547663,0.17543781497889593,0.1944336519484587,0.19728854100612467,0.19865089131008712,0.2026363102215573,0.20751564219684876,0.2138986236676677,0.21546404616730833,0.23130957881677608,0.23837214895448186,0.23877074000608733,0.2426122357246575,0.24646344312380108,0.248010715807111,0.2599366179472873,0.27032393909445673,0.289756118351661,0.2913105177758042,0.32102147366103817,0.32352715882015776,0.32977142163548345,0.3332274533072846,0.34681763409499744,0.37703629332461897,0.3821042755490554,0.39488950050321314,0.3991015037354105,0.40020474674838724,0.4321843376118408,0.43350590523500254,0.4491982620575754,0.45333688289269053,0.4932987145719725,0.5113103368974123,0.5145697926488113,0.5245590983351709,0.5321218439204694,0.5429911332869096,0.5545064911236702,0.5569925118200239,0.559477927089679,0.5641720486172501,0.5746050195716808,0.5757821258476177,0.5942754196693754,0.6044668190513137,0.6062159554911547,0.6090233238574545,0.6164779710438554,0.6201120217828624,0.6315649772643289,0.6326734361137183,0.6394751751902267,0.6422224983316193,0.646642543738404,0.6551015826496537,0.6569584255727732,0.6826553456563548,0.7126895540748142,0.7207915716261158,0.7392551036065593,0.7486916665904069,0.7500132354446478,0.7718106435683655,0.7871813586656042,0.8371582469892799,0.8416233435633844,0.8541918190430257,0.8566330149291796,0.8647672781963421,0.8679955968956925,0.8736249983113396,0.8749096512341559,0.889026488573421,0.896547942365524,0.8999880581577288,0.9003114391093595,0.9052832471510255,0.9152162295844377,0.9156623122885256,0.9247840430235335,0.9337998127152377,0.95634065467626,0.9571904334082051,0.9584991041256467,0.9610198347516663,0.9644060640145711,0.9714101804722822,0.9720710531062642,0.9794533138357956],\"yaxis\":\"y\",\"type\":\"scatter\"}],                        {\"template\":{\"data\":{\"histogram2dcontour\":[{\"type\":\"histogram2dcontour\",\"colorbar\":{\"outlinewidth\":0,\"ticks\":\"\"},\"colorscale\":[[0.0,\"#0d0887\"],[0.1111111111111111,\"#46039f\"],[0.2222222222222222,\"#7201a8\"],[0.3333333333333333,\"#9c179e\"],[0.4444444444444444,\"#bd3786\"],[0.5555555555555556,\"#d8576b\"],[0.6666666666666666,\"#ed7953\"],[0.7777777777777778,\"#fb9f3a\"],[0.8888888888888888,\"#fdca26\"],[1.0,\"#f0f921\"]]}],\"choropleth\":[{\"type\":\"choropleth\",\"colorbar\":{\"outlinewidth\":0,\"ticks\":\"\"}}],\"histogram2d\":[{\"type\":\"histogram2d\",\"colorbar\":{\"outlinewidth\":0,\"ticks\":\"\"},\"colorscale\":[[0.0,\"#0d0887\"],[0.1111111111111111,\"#46039f\"],[0.2222222222222222,\"#7201a8\"],[0.3333333333333333,\"#9c179e\"],[0.4444444444444444,\"#bd3786\"],[0.5555555555555556,\"#d8576b\"],[0.6666666666666666,\"#ed7953\"],[0.7777777777777778,\"#fb9f3a\"],[0.8888888888888888,\"#fdca26\"],[1.0,\"#f0f921\"]]}],\"heatmap\":[{\"type\":\"heatmap\",\"colorbar\":{\"outlinewidth\":0,\"ticks\":\"\"},\"colorscale\":[[0.0,\"#0d0887\"],[0.1111111111111111,\"#46039f\"],[0.2222222222222222,\"#7201a8\"],[0.3333333333333333,\"#9c179e\"],[0.4444444444444444,\"#bd3786\"],[0.5555555555555556,\"#d8576b\"],[0.6666666666666666,\"#ed7953\"],[0.7777777777777778,\"#fb9f3a\"],[0.8888888888888888,\"#fdca26\"],[1.0,\"#f0f921\"]]}],\"heatmapgl\":[{\"type\":\"heatmapgl\",\"colorbar\":{\"outlinewidth\":0,\"ticks\":\"\"},\"colorscale\":[[0.0,\"#0d0887\"],[0.1111111111111111,\"#46039f\"],[0.2222222222222222,\"#7201a8\"],[0.3333333333333333,\"#9c179e\"],[0.4444444444444444,\"#bd3786\"],[0.5555555555555556,\"#d8576b\"],[0.6666666666666666,\"#ed7953\"],[0.7777777777777778,\"#fb9f3a\"],[0.8888888888888888,\"#fdca26\"],[1.0,\"#f0f921\"]]}],\"contourcarpet\":[{\"type\":\"contourcarpet\",\"colorbar\":{\"outlinewidth\":0,\"ticks\":\"\"}}],\"contour\":[{\"type\":\"contour\",\"colorbar\":{\"outlinewidth\":0,\"ticks\":\"\"},\"colorscale\":[[0.0,\"#0d0887\"],[0.1111111111111111,\"#46039f\"],[0.2222222222222222,\"#7201a8\"],[0.3333333333333333,\"#9c179e\"],[0.4444444444444444,\"#bd3786\"],[0.5555555555555556,\"#d8576b\"],[0.6666666666666666,\"#ed7953\"],[0.7777777777777778,\"#fb9f3a\"],[0.8888888888888888,\"#fdca26\"],[1.0,\"#f0f921\"]]}],\"surface\":[{\"type\":\"surface\",\"colorbar\":{\"outlinewidth\":0,\"ticks\":\"\"},\"colorscale\":[[0.0,\"#0d0887\"],[0.1111111111111111,\"#46039f\"],[0.2222222222222222,\"#7201a8\"],[0.3333333333333333,\"#9c179e\"],[0.4444444444444444,\"#bd3786\"],[0.5555555555555556,\"#d8576b\"],[0.6666666666666666,\"#ed7953\"],[0.7777777777777778,\"#fb9f3a\"],[0.8888888888888888,\"#fdca26\"],[1.0,\"#f0f921\"]]}],\"mesh3d\":[{\"type\":\"mesh3d\",\"colorbar\":{\"outlinewidth\":0,\"ticks\":\"\"}}],\"scatter\":[{\"fillpattern\":{\"fillmode\":\"overlay\",\"size\":10,\"solidity\":0.2},\"type\":\"scatter\"}],\"parcoords\":[{\"type\":\"parcoords\",\"line\":{\"colorbar\":{\"outlinewidth\":0,\"ticks\":\"\"}}}],\"scatterpolargl\":[{\"type\":\"scatterpolargl\",\"marker\":{\"colorbar\":{\"outlinewidth\":0,\"ticks\":\"\"}}}],\"bar\":[{\"error_x\":{\"color\":\"#2a3f5f\"},\"error_y\":{\"color\":\"#2a3f5f\"},\"marker\":{\"line\":{\"color\":\"#E5ECF6\",\"width\":0.5},\"pattern\":{\"fillmode\":\"overlay\",\"size\":10,\"solidity\":0.2}},\"type\":\"bar\"}],\"scattergeo\":[{\"type\":\"scattergeo\",\"marker\":{\"colorbar\":{\"outlinewidth\":0,\"ticks\":\"\"}}}],\"scatterpolar\":[{\"type\":\"scatterpolar\",\"marker\":{\"colorbar\":{\"outlinewidth\":0,\"ticks\":\"\"}}}],\"histogram\":[{\"marker\":{\"pattern\":{\"fillmode\":\"overlay\",\"size\":10,\"solidity\":0.2}},\"type\":\"histogram\"}],\"scattergl\":[{\"type\":\"scattergl\",\"marker\":{\"colorbar\":{\"outlinewidth\":0,\"ticks\":\"\"}}}],\"scatter3d\":[{\"type\":\"scatter3d\",\"line\":{\"colorbar\":{\"outlinewidth\":0,\"ticks\":\"\"}},\"marker\":{\"colorbar\":{\"outlinewidth\":0,\"ticks\":\"\"}}}],\"scattermapbox\":[{\"type\":\"scattermapbox\",\"marker\":{\"colorbar\":{\"outlinewidth\":0,\"ticks\":\"\"}}}],\"scatterternary\":[{\"type\":\"scatterternary\",\"marker\":{\"colorbar\":{\"outlinewidth\":0,\"ticks\":\"\"}}}],\"scattercarpet\":[{\"type\":\"scattercarpet\",\"marker\":{\"colorbar\":{\"outlinewidth\":0,\"ticks\":\"\"}}}],\"carpet\":[{\"aaxis\":{\"endlinecolor\":\"#2a3f5f\",\"gridcolor\":\"white\",\"linecolor\":\"white\",\"minorgridcolor\":\"white\",\"startlinecolor\":\"#2a3f5f\"},\"baxis\":{\"endlinecolor\":\"#2a3f5f\",\"gridcolor\":\"white\",\"linecolor\":\"white\",\"minorgridcolor\":\"white\",\"startlinecolor\":\"#2a3f5f\"},\"type\":\"carpet\"}],\"table\":[{\"cells\":{\"fill\":{\"color\":\"#EBF0F8\"},\"line\":{\"color\":\"white\"}},\"header\":{\"fill\":{\"color\":\"#C8D4E3\"},\"line\":{\"color\":\"white\"}},\"type\":\"table\"}],\"barpolar\":[{\"marker\":{\"line\":{\"color\":\"#E5ECF6\",\"width\":0.5},\"pattern\":{\"fillmode\":\"overlay\",\"size\":10,\"solidity\":0.2}},\"type\":\"barpolar\"}],\"pie\":[{\"automargin\":true,\"type\":\"pie\"}]},\"layout\":{\"autotypenumbers\":\"strict\",\"colorway\":[\"#636efa\",\"#EF553B\",\"#00cc96\",\"#ab63fa\",\"#FFA15A\",\"#19d3f3\",\"#FF6692\",\"#B6E880\",\"#FF97FF\",\"#FECB52\"],\"font\":{\"color\":\"#2a3f5f\"},\"hovermode\":\"closest\",\"hoverlabel\":{\"align\":\"left\"},\"paper_bgcolor\":\"white\",\"plot_bgcolor\":\"#E5ECF6\",\"polar\":{\"bgcolor\":\"#E5ECF6\",\"angularaxis\":{\"gridcolor\":\"white\",\"linecolor\":\"white\",\"ticks\":\"\"},\"radialaxis\":{\"gridcolor\":\"white\",\"linecolor\":\"white\",\"ticks\":\"\"}},\"ternary\":{\"bgcolor\":\"#E5ECF6\",\"aaxis\":{\"gridcolor\":\"white\",\"linecolor\":\"white\",\"ticks\":\"\"},\"baxis\":{\"gridcolor\":\"white\",\"linecolor\":\"white\",\"ticks\":\"\"},\"caxis\":{\"gridcolor\":\"white\",\"linecolor\":\"white\",\"ticks\":\"\"}},\"coloraxis\":{\"colorbar\":{\"outlinewidth\":0,\"ticks\":\"\"}},\"colorscale\":{\"sequential\":[[0.0,\"#0d0887\"],[0.1111111111111111,\"#46039f\"],[0.2222222222222222,\"#7201a8\"],[0.3333333333333333,\"#9c179e\"],[0.4444444444444444,\"#bd3786\"],[0.5555555555555556,\"#d8576b\"],[0.6666666666666666,\"#ed7953\"],[0.7777777777777778,\"#fb9f3a\"],[0.8888888888888888,\"#fdca26\"],[1.0,\"#f0f921\"]],\"sequentialminus\":[[0.0,\"#0d0887\"],[0.1111111111111111,\"#46039f\"],[0.2222222222222222,\"#7201a8\"],[0.3333333333333333,\"#9c179e\"],[0.4444444444444444,\"#bd3786\"],[0.5555555555555556,\"#d8576b\"],[0.6666666666666666,\"#ed7953\"],[0.7777777777777778,\"#fb9f3a\"],[0.8888888888888888,\"#fdca26\"],[1.0,\"#f0f921\"]],\"diverging\":[[0,\"#8e0152\"],[0.1,\"#c51b7d\"],[0.2,\"#de77ae\"],[0.3,\"#f1b6da\"],[0.4,\"#fde0ef\"],[0.5,\"#f7f7f7\"],[0.6,\"#e6f5d0\"],[0.7,\"#b8e186\"],[0.8,\"#7fbc41\"],[0.9,\"#4d9221\"],[1,\"#276419\"]]},\"xaxis\":{\"gridcolor\":\"white\",\"linecolor\":\"white\",\"ticks\":\"\",\"title\":{\"standoff\":15},\"zerolinecolor\":\"white\",\"automargin\":true,\"zerolinewidth\":2},\"yaxis\":{\"gridcolor\":\"white\",\"linecolor\":\"white\",\"ticks\":\"\",\"title\":{\"standoff\":15},\"zerolinecolor\":\"white\",\"automargin\":true,\"zerolinewidth\":2},\"scene\":{\"xaxis\":{\"backgroundcolor\":\"#E5ECF6\",\"gridcolor\":\"white\",\"linecolor\":\"white\",\"showbackground\":true,\"ticks\":\"\",\"zerolinecolor\":\"white\",\"gridwidth\":2},\"yaxis\":{\"backgroundcolor\":\"#E5ECF6\",\"gridcolor\":\"white\",\"linecolor\":\"white\",\"showbackground\":true,\"ticks\":\"\",\"zerolinecolor\":\"white\",\"gridwidth\":2},\"zaxis\":{\"backgroundcolor\":\"#E5ECF6\",\"gridcolor\":\"white\",\"linecolor\":\"white\",\"showbackground\":true,\"ticks\":\"\",\"zerolinecolor\":\"white\",\"gridwidth\":2}},\"shapedefaults\":{\"line\":{\"color\":\"#2a3f5f\"}},\"annotationdefaults\":{\"arrowcolor\":\"#2a3f5f\",\"arrowhead\":0,\"arrowwidth\":1},\"geo\":{\"bgcolor\":\"white\",\"landcolor\":\"#E5ECF6\",\"subunitcolor\":\"white\",\"showland\":true,\"showlakes\":true,\"lakecolor\":\"white\"},\"title\":{\"x\":0.05},\"mapbox\":{\"style\":\"light\"}}},\"xaxis\":{\"anchor\":\"y\",\"domain\":[0.0,1.0],\"title\":{\"text\":\"data\"}},\"yaxis\":{\"anchor\":\"x\",\"domain\":[0.0,1.0],\"title\":{\"text\":\"tanh\"}},\"legend\":{\"tracegroupgap\":0},\"margin\":{\"t\":60},\"width\":800},                        {\"responsive\": true}                    ).then(function(){\n",
              "                            \n",
              "var gd = document.getElementById('262eb4ab-127f-45fe-a31d-41fd8d61fdd6');\n",
              "var x = new MutationObserver(function (mutations, observer) {{\n",
              "        var display = window.getComputedStyle(gd).display;\n",
              "        if (!display || display === 'none') {{\n",
              "            console.log([gd, 'removed!']);\n",
              "            Plotly.purge(gd);\n",
              "            observer.disconnect();\n",
              "        }}\n",
              "}});\n",
              "\n",
              "// Listen for the removal of the full notebook cells\n",
              "var notebookContainer = gd.closest('#notebook-container');\n",
              "if (notebookContainer) {{\n",
              "    x.observe(notebookContainer, {childList: true});\n",
              "}}\n",
              "\n",
              "// Listen for the clearing of the current output cell\n",
              "var outputEl = gd.closest('.output');\n",
              "if (outputEl) {{\n",
              "    x.observe(outputEl, {childList: true});\n",
              "}}\n",
              "\n",
              "                        })                };                            </script>        </div>\n",
              "</body>\n",
              "</html>"
            ]
          },
          "metadata": {}
        }
      ]
    },
    {
      "cell_type": "code",
      "source": [
        "model = tf.keras.models.Sequential([\n",
        "  tf.keras.layers.Input((10,)),\n",
        "  tf.keras.layers.Dense(units=8, activation='relu'),\n",
        "  tf.keras.layers.Dense(units=1, activation='sigmoid')\n",
        "])\n",
        "\n",
        "model.summary()"
      ],
      "metadata": {
        "colab": {
          "base_uri": "https://localhost:8080/",
          "height": 197
        },
        "id": "wom60-Sh81b1",
        "outputId": "c23afb19-ee6f-4776-a08c-21e8271d9482"
      },
      "execution_count": 14,
      "outputs": [
        {
          "output_type": "display_data",
          "data": {
            "text/plain": [
              "\u001b[1mModel: \"sequential_1\"\u001b[0m\n"
            ],
            "text/html": [
              "<pre style=\"white-space:pre;overflow-x:auto;line-height:normal;font-family:Menlo,'DejaVu Sans Mono',consolas,'Courier New',monospace\"><span style=\"font-weight: bold\">Model: \"sequential_1\"</span>\n",
              "</pre>\n"
            ]
          },
          "metadata": {}
        },
        {
          "output_type": "display_data",
          "data": {
            "text/plain": [
              "┏━━━━━━━━━━━━━━━━━━━━━━━━━━━━━━━━━┳━━━━━━━━━━━━━━━━━━━━━━━━┳━━━━━━━━━━━━━━━┓\n",
              "┃\u001b[1m \u001b[0m\u001b[1mLayer (type)                   \u001b[0m\u001b[1m \u001b[0m┃\u001b[1m \u001b[0m\u001b[1mOutput Shape          \u001b[0m\u001b[1m \u001b[0m┃\u001b[1m \u001b[0m\u001b[1m      Param #\u001b[0m\u001b[1m \u001b[0m┃\n",
              "┡━━━━━━━━━━━━━━━━━━━━━━━━━━━━━━━━━╇━━━━━━━━━━━━━━━━━━━━━━━━╇━━━━━━━━━━━━━━━┩\n",
              "│ dense_2 (\u001b[38;5;33mDense\u001b[0m)                 │ (\u001b[38;5;45mNone\u001b[0m, \u001b[38;5;34m8\u001b[0m)              │            \u001b[38;5;34m88\u001b[0m │\n",
              "├─────────────────────────────────┼────────────────────────┼───────────────┤\n",
              "│ dense_3 (\u001b[38;5;33mDense\u001b[0m)                 │ (\u001b[38;5;45mNone\u001b[0m, \u001b[38;5;34m1\u001b[0m)              │             \u001b[38;5;34m9\u001b[0m │\n",
              "└─────────────────────────────────┴────────────────────────┴───────────────┘\n"
            ],
            "text/html": [
              "<pre style=\"white-space:pre;overflow-x:auto;line-height:normal;font-family:Menlo,'DejaVu Sans Mono',consolas,'Courier New',monospace\">┏━━━━━━━━━━━━━━━━━━━━━━━━━━━━━━━━━┳━━━━━━━━━━━━━━━━━━━━━━━━┳━━━━━━━━━━━━━━━┓\n",
              "┃<span style=\"font-weight: bold\"> Layer (type)                    </span>┃<span style=\"font-weight: bold\"> Output Shape           </span>┃<span style=\"font-weight: bold\">       Param # </span>┃\n",
              "┡━━━━━━━━━━━━━━━━━━━━━━━━━━━━━━━━━╇━━━━━━━━━━━━━━━━━━━━━━━━╇━━━━━━━━━━━━━━━┩\n",
              "│ dense_2 (<span style=\"color: #0087ff; text-decoration-color: #0087ff\">Dense</span>)                 │ (<span style=\"color: #00d7ff; text-decoration-color: #00d7ff\">None</span>, <span style=\"color: #00af00; text-decoration-color: #00af00\">8</span>)              │            <span style=\"color: #00af00; text-decoration-color: #00af00\">88</span> │\n",
              "├─────────────────────────────────┼────────────────────────┼───────────────┤\n",
              "│ dense_3 (<span style=\"color: #0087ff; text-decoration-color: #0087ff\">Dense</span>)                 │ (<span style=\"color: #00d7ff; text-decoration-color: #00d7ff\">None</span>, <span style=\"color: #00af00; text-decoration-color: #00af00\">1</span>)              │             <span style=\"color: #00af00; text-decoration-color: #00af00\">9</span> │\n",
              "└─────────────────────────────────┴────────────────────────┴───────────────┘\n",
              "</pre>\n"
            ]
          },
          "metadata": {}
        },
        {
          "output_type": "display_data",
          "data": {
            "text/plain": [
              "\u001b[1m Total params: \u001b[0m\u001b[38;5;34m97\u001b[0m (388.00 B)\n"
            ],
            "text/html": [
              "<pre style=\"white-space:pre;overflow-x:auto;line-height:normal;font-family:Menlo,'DejaVu Sans Mono',consolas,'Courier New',monospace\"><span style=\"font-weight: bold\"> Total params: </span><span style=\"color: #00af00; text-decoration-color: #00af00\">97</span> (388.00 B)\n",
              "</pre>\n"
            ]
          },
          "metadata": {}
        },
        {
          "output_type": "display_data",
          "data": {
            "text/plain": [
              "\u001b[1m Trainable params: \u001b[0m\u001b[38;5;34m97\u001b[0m (388.00 B)\n"
            ],
            "text/html": [
              "<pre style=\"white-space:pre;overflow-x:auto;line-height:normal;font-family:Menlo,'DejaVu Sans Mono',consolas,'Courier New',monospace\"><span style=\"font-weight: bold\"> Trainable params: </span><span style=\"color: #00af00; text-decoration-color: #00af00\">97</span> (388.00 B)\n",
              "</pre>\n"
            ]
          },
          "metadata": {}
        },
        {
          "output_type": "display_data",
          "data": {
            "text/plain": [
              "\u001b[1m Non-trainable params: \u001b[0m\u001b[38;5;34m0\u001b[0m (0.00 B)\n"
            ],
            "text/html": [
              "<pre style=\"white-space:pre;overflow-x:auto;line-height:normal;font-family:Menlo,'DejaVu Sans Mono',consolas,'Courier New',monospace\"><span style=\"font-weight: bold\"> Non-trainable params: </span><span style=\"color: #00af00; text-decoration-color: #00af00\">0</span> (0.00 B)\n",
              "</pre>\n"
            ]
          },
          "metadata": {}
        }
      ]
    },
    {
      "cell_type": "markdown",
      "metadata": {
        "id": "NNWU1zbwimbx"
      },
      "source": [
        "### <a name='a2'></a>Kompilacja modelu\n",
        "Przed rozpoczęciem trenowania sieci należy odpowiednio skonfigurować proces uczenia. W tym kroku określamy:\n",
        "* rodzaj optymalizatora ([Keras - Optymalizatory](https://keras.io/optimizers/))\n",
        "* funkcję straty ([Keras - Funkcje Straty](https://keras.io/losses/))\n",
        "* metryki, które będziemy obserwować podczas trenowania sieci ([Keras - Metryki](https://keras.io/metrics/))"
      ]
    },
    {
      "cell_type": "code",
      "metadata": {
        "id": "oBRtQd7diI0e"
      },
      "source": [
        "# klasyfikacja binarna\n",
        "model.compile(optimizer='rmsprop',\n",
        "              loss='binary_crossentropy',\n",
        "              metrics=['accuracy'])\n",
        "\n",
        "# klasyfikacja wieloklasowa\n",
        "model.compile(optimizer='rmsprop',\n",
        "              loss='categorical_crossentropy',\n",
        "              metrics=['accuracy'])\n",
        "\n",
        "# regresja\n",
        "model.compile(optimizer='rmsprop',\n",
        "              loss='mse')"
      ],
      "execution_count": 15,
      "outputs": []
    },
    {
      "cell_type": "markdown",
      "metadata": {
        "id": "TqsJw4K-knNP"
      },
      "source": [
        "### <a name='a3'></a>Trenowanie modelu\n",
        "Za dane wejściowe do modelu należy przekazać Numpy arrays:\n",
        "* **epochs** - krotność przejścia danych przez sieć w procesie uczenia\n",
        "* **batch_size** - rozmiar wsadu po którym następuje aktualizacja wag\n",
        "* **validation_split** - część danych treningowych, które zostaną wykorzystane jako zbiór walidacyjny\n",
        "* **validation_data** - (x_val, y_val) - dane wykorzystane do walidacji modelu"
      ]
    },
    {
      "cell_type": "code",
      "metadata": {
        "id": "HBn1AzzGkS2h"
      },
      "source": [
        "# model.fit(data, labels, epochs=10, batch_size=32)\n",
        "# model.fit(data, labels, epochs=10, batch_size=32, validation_split=0.2)\n",
        "# model.fit(data, labels, epochs=10, batch_size=32, validation_data=(x_val, y_val))"
      ],
      "execution_count": 16,
      "outputs": []
    },
    {
      "cell_type": "markdown",
      "metadata": {
        "id": "8fmOZzNywvx6"
      },
      "source": [
        "### <a name='a4'></a> Przykład - klasyfikacja binarna"
      ]
    },
    {
      "cell_type": "code",
      "metadata": {
        "id": "gELP58XdwKSj",
        "colab": {
          "base_uri": "https://localhost:8080/"
        },
        "outputId": "2da6bd5c-515d-4226-f31a-6d7725d142d8"
      },
      "source": [
        "data = np.random.randn(1000, 150)\n",
        "labels = np.random.randint(2, size=(1000, 1))\n",
        "\n",
        "print(data.shape)\n",
        "print(labels.shape)"
      ],
      "execution_count": 17,
      "outputs": [
        {
          "output_type": "stream",
          "name": "stdout",
          "text": [
            "(1000, 150)\n",
            "(1000, 1)\n"
          ]
        }
      ]
    },
    {
      "cell_type": "code",
      "source": [
        "data[:3]"
      ],
      "metadata": {
        "colab": {
          "base_uri": "https://localhost:8080/"
        },
        "id": "XdSwfH6ryhcP",
        "outputId": "54be7a5f-f311-434e-8719-101793a2d4a0"
      },
      "execution_count": 18,
      "outputs": [
        {
          "output_type": "execute_result",
          "data": {
            "text/plain": [
              "array([[-1.08357665e+00, -3.52537251e-01, -5.83875750e-01,\n",
              "         1.03627633e+00,  4.56497320e-01,  1.29965644e+00,\n",
              "         1.64367493e-01, -1.08702231e+00, -1.48993468e+00,\n",
              "         1.49314886e+00,  8.88998120e-01,  8.71055822e-02,\n",
              "         8.72583422e-01, -1.18722190e+00, -1.66282242e-01,\n",
              "        -1.20293316e+00,  9.92296849e-01, -1.35533904e+00,\n",
              "         1.00921532e+00,  8.83010000e-02,  1.32809381e+00,\n",
              "         3.01926338e+00, -7.45196801e-02, -1.36636846e+00,\n",
              "        -7.84034865e-01, -5.03020942e-01, -6.76037125e-01,\n",
              "        -1.02971983e+00,  8.45100845e-01, -6.36677454e-01,\n",
              "        -6.53420040e-01,  2.33160172e-01, -2.64288068e-01,\n",
              "        -2.31052910e+00,  4.03387049e-02,  9.95039453e-01,\n",
              "         5.46321937e-01, -6.71732541e-01,  9.11547663e-01,\n",
              "        -4.73098664e-01, -1.96665408e+00, -5.98251786e-01,\n",
              "        -3.64058677e-01,  1.30357985e+00, -1.08580499e+00,\n",
              "         4.87957982e-01,  7.74143190e-01, -3.98792353e-01,\n",
              "        -3.32199204e-02,  3.79445411e-01,  2.06608477e-01,\n",
              "         2.07527161e-01,  4.48002539e-01, -1.22834775e-01,\n",
              "        -4.60099921e-01, -1.08583126e+00,  1.61003674e+00,\n",
              "        -5.77346604e-01,  4.07211499e-01,  3.60786649e-01,\n",
              "        -1.81000524e+00,  2.20503664e+00, -9.50267998e-02,\n",
              "         2.27270196e+00,  6.61483254e-01,  4.51885684e-01,\n",
              "         2.14837353e-02,  6.39410852e-01, -9.91793527e-01,\n",
              "         3.66886428e-01, -1.12315408e+00, -6.29577813e-01,\n",
              "        -1.01594096e+00,  7.27268346e-01,  1.75717743e+00,\n",
              "        -4.16163593e-01, -1.17451140e+00, -2.15066346e-01,\n",
              "         3.75294710e-01, -6.59828323e-01, -1.30964339e+00,\n",
              "         1.33102784e+00, -3.78937635e-01, -6.20806217e-01,\n",
              "        -2.98943430e-01,  2.11735692e+00,  3.62584033e-02,\n",
              "         2.56895804e-02,  1.46476544e+00,  2.16236934e+00,\n",
              "         4.08536107e-01,  4.13622606e-02,  2.00451527e+00,\n",
              "        -5.51890143e-01,  3.15179166e-01, -8.36584775e-01,\n",
              "        -8.10305221e-01, -3.46113687e-01, -1.93367930e+00,\n",
              "         4.69952099e-01,  5.52387310e-01, -1.24206089e+00,\n",
              "         6.64419393e-01,  8.65850238e-01,  1.79093660e-01,\n",
              "        -4.23699988e-01,  1.74648859e+00, -2.82903120e-01,\n",
              "        -7.87451351e-01,  1.81618583e-01,  6.12602934e-02,\n",
              "         5.29738747e-01, -5.63151644e-01, -6.40235691e-01,\n",
              "        -1.55904632e+00, -3.75758825e-02, -1.10211974e+00,\n",
              "        -3.71494576e-01, -1.93721418e-01,  5.08495409e-01,\n",
              "        -1.00746713e+00, -6.23287201e-01,  1.61377164e-01,\n",
              "         3.15685801e-01, -1.86667917e+00, -8.09737369e-01,\n",
              "         3.16108352e-01, -1.29632602e+00, -5.94324840e-01,\n",
              "        -1.75330986e-01, -2.82570808e-01, -2.17023781e+00,\n",
              "         7.99106206e-01, -4.36636014e-01, -2.24757515e-01,\n",
              "         3.58909752e-01, -3.98845951e-01,  4.32787412e-01,\n",
              "        -3.82031774e-02,  7.30404321e-01, -9.47690301e-02,\n",
              "        -8.03823849e-01,  5.86370712e-01, -3.90812857e-01,\n",
              "        -1.15531086e+00, -6.77766219e-01, -1.06040906e+00,\n",
              "         2.04266320e-01,  2.00493244e+00, -5.94317802e-01],\n",
              "       [ 9.81966897e-02,  7.30623404e-01, -2.00518735e-01,\n",
              "         1.96347036e-01,  3.35871195e-01, -7.38090203e-01,\n",
              "         5.11062226e-01, -2.07196861e-01, -1.91317141e-01,\n",
              "        -1.44005375e+00, -3.95787519e-01, -7.75509400e-01,\n",
              "         4.35258261e-02, -2.13562029e-01, -6.82812875e-02,\n",
              "         4.48914653e-01,  2.32654673e+00, -2.74587654e-01,\n",
              "        -8.47725138e-01,  1.20500888e+00,  9.02559492e-01,\n",
              "         3.42857842e-01, -1.15471329e+00, -3.02955951e-01,\n",
              "         5.84153931e-01, -4.90152652e-01,  1.35854255e+00,\n",
              "        -1.75554319e+00, -4.68352635e-01, -2.54093917e-04,\n",
              "         6.19134775e-02,  9.01090318e-01, -8.52674315e-01,\n",
              "        -9.91216595e-01, -1.07896428e+00, -2.49100201e-01,\n",
              "        -1.45417303e-01,  6.51336071e-01, -8.96442834e-01,\n",
              "         1.62655775e+00,  2.94898889e+00, -3.09750655e-01,\n",
              "        -8.19399082e-01, -1.66524994e-01, -4.64433160e-01,\n",
              "         1.19198596e+00, -7.44734906e-03, -7.01718638e-02,\n",
              "        -1.93690996e+00,  2.71940696e+00,  1.28349872e+00,\n",
              "         6.86625131e-01, -3.06487176e-01,  1.34052755e+00,\n",
              "         8.14799059e-01,  1.62095403e+00, -3.24493132e-01,\n",
              "        -2.32548588e-01,  1.48830370e-01, -1.14151313e+00,\n",
              "        -3.70126775e-01, -7.36554803e-01, -7.34618889e-01,\n",
              "         6.46717016e-01,  7.94469917e-01, -1.86638889e+00,\n",
              "         3.62500571e-01, -1.37596423e-01, -3.14758145e+00,\n",
              "         9.03677334e-01,  5.60035495e-01,  5.38804644e-01,\n",
              "         1.03726138e+00, -1.38070835e+00,  6.13211708e-01,\n",
              "        -6.13069971e-01, -1.28801289e+00,  8.56087274e-01,\n",
              "         7.58002032e-01, -1.47833163e+00,  6.15804900e-01,\n",
              "         7.92723875e-01,  7.85362744e-01,  1.83651869e+00,\n",
              "         1.22470892e+00, -1.26216266e-01, -5.48204259e-01,\n",
              "        -8.73551789e-01,  2.50352808e-01, -3.56021271e-01,\n",
              "        -2.48038639e-01, -1.86506719e+00,  8.71686452e-01,\n",
              "        -2.58122213e-01, -2.41915486e-01,  7.39125731e-01,\n",
              "         7.91709204e-01,  8.80227491e-01,  1.44299689e+00,\n",
              "         1.59733131e+00, -4.47774358e-01, -3.22362989e+00,\n",
              "        -4.94980275e-02, -9.08028176e-01,  1.63342507e-01,\n",
              "        -8.99521245e-01,  6.91732977e-01,  1.39100913e+00,\n",
              "         3.68054474e-01, -1.29857201e+00,  1.20765609e+00,\n",
              "        -3.36174865e-01, -9.14539955e-01,  1.52512205e+00,\n",
              "         1.59017983e+00, -1.74945062e-01, -6.53570525e-01,\n",
              "        -2.18913410e-01, -4.76301564e-01,  4.41473964e-01,\n",
              "         2.71675940e-01,  8.41820330e-01,  5.96400741e-01,\n",
              "         4.93412469e-01, -1.41580557e+00, -1.50630368e-01,\n",
              "        -9.41340907e-03, -8.91779551e-01,  2.45401111e-01,\n",
              "         1.37423336e+00, -1.71141762e+00, -1.17414896e+00,\n",
              "         3.35405814e+00,  1.22188767e+00,  1.04630030e+00,\n",
              "         5.38836343e-01,  1.09540612e+00,  1.64540367e+00,\n",
              "        -1.35959325e+00, -5.02043045e-01, -1.64648757e+00,\n",
              "         8.10126921e-01, -1.52925451e+00,  1.21730273e+00,\n",
              "        -1.75298583e-01, -5.87841464e-01, -6.50467999e-01,\n",
              "        -1.09060652e+00,  1.00323222e-01, -9.57751714e-01],\n",
              "       [ 1.61190219e+00, -3.79739642e-01, -3.61617260e-01,\n",
              "        -6.82686975e-02,  1.71269826e-01,  2.13973743e+00,\n",
              "        -5.82777974e-01, -5.87231343e-01,  3.46845208e-01,\n",
              "        -1.64872743e-01, -6.77247161e-01, -8.35772115e-01,\n",
              "         8.84075249e-01, -4.18785024e-01, -3.39976140e-01,\n",
              "         7.81673221e-02, -3.65154274e-01, -3.48501843e-01,\n",
              "        -2.96474322e+00, -5.07931626e-01,  1.67928955e-01,\n",
              "        -1.41543984e+00, -4.87451040e-01,  7.36163356e-01,\n",
              "         1.12050240e+00,  2.54614987e+00, -1.50471447e+00,\n",
              "        -3.14162735e-01,  1.96822727e+00, -3.62252181e-01,\n",
              "         9.73722669e-01,  4.90222319e-01,  4.43313848e-01,\n",
              "         2.08309065e+00,  6.04878111e-01,  7.53790804e-01,\n",
              "         1.20257101e+00, -5.48168387e-01, -3.23385969e-01,\n",
              "         2.04748400e-01,  7.55988500e-01, -5.13574354e-01,\n",
              "         5.14981251e-01, -6.12681351e-01, -7.27350415e-01,\n",
              "        -1.14022996e+00, -6.00415101e-01,  1.52928482e+00,\n",
              "        -1.80883786e+00, -9.43277838e-01,  5.15989953e-01,\n",
              "        -5.55256786e-01, -1.20043236e+00, -1.13611962e+00,\n",
              "         1.03886391e+00, -5.31206585e-01,  4.78635758e-01,\n",
              "        -9.30800484e-01, -5.81657710e-01, -1.39693668e+00,\n",
              "         4.39860456e-01, -2.65321862e-01,  4.78482721e-01,\n",
              "        -5.65765097e-01,  1.13959815e+00, -9.64237377e-01,\n",
              "         4.88673492e-01,  6.18628604e-01, -1.38375847e+00,\n",
              "        -1.44506346e+00,  1.39563922e+00,  1.86925624e-01,\n",
              "        -2.87147936e-01, -9.88431958e-01,  8.29547613e-01,\n",
              "         1.14654547e-02, -6.72865140e-01, -1.03103765e+00,\n",
              "         1.88315295e+00,  1.04135150e+00,  1.72134328e+00,\n",
              "        -8.39940535e-01,  1.97797838e+00, -4.99202974e-01,\n",
              "         6.65330738e-01,  1.63545316e-01, -1.75255430e+00,\n",
              "         5.72843046e-01, -7.97400678e-01,  2.06969732e+00,\n",
              "        -1.45779716e-01,  1.09988482e+00, -1.16733363e+00,\n",
              "         6.33108756e-01, -1.18517741e+00, -2.30029683e+00,\n",
              "        -4.95948626e-01,  9.63136548e-03, -1.39855437e-01,\n",
              "        -1.60294796e-01, -8.19015245e-01, -7.29012178e-01,\n",
              "        -1.73791819e+00,  1.45857623e+00, -2.31249870e-01,\n",
              "        -7.89912190e-01,  1.36828881e+00,  6.39159497e-01,\n",
              "         4.33245544e-01,  9.13867409e-01,  3.97554171e-01,\n",
              "         1.29131319e-01,  6.13646855e-01, -6.08523664e-01,\n",
              "        -5.33245939e-01,  3.89041965e-01,  7.93295045e-01,\n",
              "        -1.50818275e-01, -6.60733424e-01, -6.28847800e-01,\n",
              "        -4.32650169e-01, -1.06331494e+00, -1.13237579e-01,\n",
              "         3.38197068e-01,  4.28578955e-02, -6.05623283e-01,\n",
              "         4.87947719e-02, -4.42298791e-01,  1.38540329e+00,\n",
              "         1.14457046e+00, -3.38868323e-01,  1.99385660e+00,\n",
              "         5.99593330e-01, -4.84246143e-01,  5.95566860e-01,\n",
              "         2.30178526e-01, -4.65500586e-01,  1.85349608e+00,\n",
              "         1.04791913e+00, -5.16966880e-01, -2.78073833e-01,\n",
              "        -1.27376957e-01,  7.92431075e-01,  6.17080250e-01,\n",
              "        -1.35758134e+00,  1.96275119e-01, -1.92780983e+00,\n",
              "         3.05475685e-01, -2.17885104e-01,  1.43976012e-01]])"
            ]
          },
          "metadata": {},
          "execution_count": 18
        }
      ]
    },
    {
      "cell_type": "code",
      "source": [
        "labels[:10]"
      ],
      "metadata": {
        "colab": {
          "base_uri": "https://localhost:8080/"
        },
        "id": "3mClFdsfys04",
        "outputId": "828f9404-8775-4c73-e15c-eb01608e38a8"
      },
      "execution_count": 19,
      "outputs": [
        {
          "output_type": "execute_result",
          "data": {
            "text/plain": [
              "array([[1],\n",
              "       [0],\n",
              "       [1],\n",
              "       [1],\n",
              "       [0],\n",
              "       [1],\n",
              "       [0],\n",
              "       [0],\n",
              "       [1],\n",
              "       [0]])"
            ]
          },
          "metadata": {},
          "execution_count": 19
        }
      ]
    },
    {
      "cell_type": "code",
      "source": [
        "model = tf.keras.models.Sequential([\n",
        "        tf.keras.layers.Input((150,)),\n",
        "        tf.keras.layers.Dense(units=32, activation='relu'),\n",
        "        tf.keras.layers.Dense(units=1, activation='sigmoid')])\n",
        "\n",
        "model.compile(optimizer='rmsprop',\n",
        "              loss='binary_crossentropy',\n",
        "              metrics=['accuracy'])\n",
        "\n",
        "model.fit(data, labels, epochs=20)"
      ],
      "metadata": {
        "colab": {
          "base_uri": "https://localhost:8080/"
        },
        "id": "EZIY2UKKy7k8",
        "outputId": "7402bdfb-1853-4c38-df8b-c269a0e9328c"
      },
      "execution_count": 20,
      "outputs": [
        {
          "output_type": "stream",
          "name": "stdout",
          "text": [
            "Epoch 1/20\n",
            "\u001b[1m32/32\u001b[0m \u001b[32m━━━━━━━━━━━━━━━━━━━━\u001b[0m\u001b[37m\u001b[0m \u001b[1m1s\u001b[0m 2ms/step - accuracy: 0.5025 - loss: 0.7739\n",
            "Epoch 2/20\n",
            "\u001b[1m32/32\u001b[0m \u001b[32m━━━━━━━━━━━━━━━━━━━━\u001b[0m\u001b[37m\u001b[0m \u001b[1m0s\u001b[0m 2ms/step - accuracy: 0.5615 - loss: 0.7050\n",
            "Epoch 3/20\n",
            "\u001b[1m32/32\u001b[0m \u001b[32m━━━━━━━━━━━━━━━━━━━━\u001b[0m\u001b[37m\u001b[0m \u001b[1m0s\u001b[0m 3ms/step - accuracy: 0.6191 - loss: 0.6494\n",
            "Epoch 4/20\n",
            "\u001b[1m32/32\u001b[0m \u001b[32m━━━━━━━━━━━━━━━━━━━━\u001b[0m\u001b[37m\u001b[0m \u001b[1m0s\u001b[0m 2ms/step - accuracy: 0.6940 - loss: 0.5928\n",
            "Epoch 5/20\n",
            "\u001b[1m32/32\u001b[0m \u001b[32m━━━━━━━━━━━━━━━━━━━━\u001b[0m\u001b[37m\u001b[0m \u001b[1m0s\u001b[0m 3ms/step - accuracy: 0.7148 - loss: 0.5764\n",
            "Epoch 6/20\n",
            "\u001b[1m32/32\u001b[0m \u001b[32m━━━━━━━━━━━━━━━━━━━━\u001b[0m\u001b[37m\u001b[0m \u001b[1m0s\u001b[0m 2ms/step - accuracy: 0.7511 - loss: 0.5443\n",
            "Epoch 7/20\n",
            "\u001b[1m32/32\u001b[0m \u001b[32m━━━━━━━━━━━━━━━━━━━━\u001b[0m\u001b[37m\u001b[0m \u001b[1m0s\u001b[0m 2ms/step - accuracy: 0.7568 - loss: 0.5341\n",
            "Epoch 8/20\n",
            "\u001b[1m32/32\u001b[0m \u001b[32m━━━━━━━━━━━━━━━━━━━━\u001b[0m\u001b[37m\u001b[0m \u001b[1m0s\u001b[0m 2ms/step - accuracy: 0.8054 - loss: 0.4914\n",
            "Epoch 9/20\n",
            "\u001b[1m32/32\u001b[0m \u001b[32m━━━━━━━━━━━━━━━━━━━━\u001b[0m\u001b[37m\u001b[0m \u001b[1m0s\u001b[0m 2ms/step - accuracy: 0.8238 - loss: 0.4686\n",
            "Epoch 10/20\n",
            "\u001b[1m32/32\u001b[0m \u001b[32m━━━━━━━━━━━━━━━━━━━━\u001b[0m\u001b[37m\u001b[0m \u001b[1m0s\u001b[0m 3ms/step - accuracy: 0.8251 - loss: 0.4546\n",
            "Epoch 11/20\n",
            "\u001b[1m32/32\u001b[0m \u001b[32m━━━━━━━━━━━━━━━━━━━━\u001b[0m\u001b[37m\u001b[0m \u001b[1m0s\u001b[0m 2ms/step - accuracy: 0.8648 - loss: 0.4277\n",
            "Epoch 12/20\n",
            "\u001b[1m32/32\u001b[0m \u001b[32m━━━━━━━━━━━━━━━━━━━━\u001b[0m\u001b[37m\u001b[0m \u001b[1m0s\u001b[0m 3ms/step - accuracy: 0.8845 - loss: 0.4076\n",
            "Epoch 13/20\n",
            "\u001b[1m32/32\u001b[0m \u001b[32m━━━━━━━━━━━━━━━━━━━━\u001b[0m\u001b[37m\u001b[0m \u001b[1m0s\u001b[0m 3ms/step - accuracy: 0.8936 - loss: 0.3883\n",
            "Epoch 14/20\n",
            "\u001b[1m32/32\u001b[0m \u001b[32m━━━━━━━━━━━━━━━━━━━━\u001b[0m\u001b[37m\u001b[0m \u001b[1m0s\u001b[0m 3ms/step - accuracy: 0.9033 - loss: 0.3658\n",
            "Epoch 15/20\n",
            "\u001b[1m32/32\u001b[0m \u001b[32m━━━━━━━━━━━━━━━━━━━━\u001b[0m\u001b[37m\u001b[0m \u001b[1m0s\u001b[0m 2ms/step - accuracy: 0.9321 - loss: 0.3301\n",
            "Epoch 16/20\n",
            "\u001b[1m32/32\u001b[0m \u001b[32m━━━━━━━━━━━━━━━━━━━━\u001b[0m\u001b[37m\u001b[0m \u001b[1m0s\u001b[0m 2ms/step - accuracy: 0.9314 - loss: 0.3222\n",
            "Epoch 17/20\n",
            "\u001b[1m32/32\u001b[0m \u001b[32m━━━━━━━━━━━━━━━━━━━━\u001b[0m\u001b[37m\u001b[0m \u001b[1m0s\u001b[0m 3ms/step - accuracy: 0.9525 - loss: 0.3067\n",
            "Epoch 18/20\n",
            "\u001b[1m32/32\u001b[0m \u001b[32m━━━━━━━━━━━━━━━━━━━━\u001b[0m\u001b[37m\u001b[0m \u001b[1m0s\u001b[0m 2ms/step - accuracy: 0.9474 - loss: 0.2891\n",
            "Epoch 19/20\n",
            "\u001b[1m32/32\u001b[0m \u001b[32m━━━━━━━━━━━━━━━━━━━━\u001b[0m\u001b[37m\u001b[0m \u001b[1m0s\u001b[0m 3ms/step - accuracy: 0.9610 - loss: 0.2645\n",
            "Epoch 20/20\n",
            "\u001b[1m32/32\u001b[0m \u001b[32m━━━━━━━━━━━━━━━━━━━━\u001b[0m\u001b[37m\u001b[0m \u001b[1m0s\u001b[0m 2ms/step - accuracy: 0.9726 - loss: 0.2464\n"
          ]
        },
        {
          "output_type": "execute_result",
          "data": {
            "text/plain": [
              "<keras.src.callbacks.history.History at 0x7aac32f62f90>"
            ]
          },
          "metadata": {},
          "execution_count": 20
        }
      ]
    },
    {
      "cell_type": "code",
      "source": [
        "model = tf.keras.models.Sequential([\n",
        "        tf.keras.layers.Input((150,)),\n",
        "        tf.keras.layers.Dense(units=32, activation='relu'),\n",
        "        tf.keras.layers.Dense(units=1, activation='sigmoid')])\n",
        "\n",
        "model.compile(optimizer='rmsprop',\n",
        "              loss='binary_crossentropy',\n",
        "              metrics=['accuracy'])\n",
        "\n",
        "model.fit(data, labels, epochs=20, batch_size=30)"
      ],
      "metadata": {
        "colab": {
          "base_uri": "https://localhost:8080/"
        },
        "id": "BbVz3axH0UxQ",
        "outputId": "205622bb-6ce2-49ee-c290-c62690ff337d"
      },
      "execution_count": 21,
      "outputs": [
        {
          "output_type": "stream",
          "name": "stdout",
          "text": [
            "Epoch 1/20\n",
            "\u001b[1m34/34\u001b[0m \u001b[32m━━━━━━━━━━━━━━━━━━━━\u001b[0m\u001b[37m\u001b[0m \u001b[1m1s\u001b[0m 3ms/step - accuracy: 0.4985 - loss: 0.8012\n",
            "Epoch 2/20\n",
            "\u001b[1m34/34\u001b[0m \u001b[32m━━━━━━━━━━━━━━━━━━━━\u001b[0m\u001b[37m\u001b[0m \u001b[1m0s\u001b[0m 2ms/step - accuracy: 0.5875 - loss: 0.6951\n",
            "Epoch 3/20\n",
            "\u001b[1m34/34\u001b[0m \u001b[32m━━━━━━━━━━━━━━━━━━━━\u001b[0m\u001b[37m\u001b[0m \u001b[1m0s\u001b[0m 3ms/step - accuracy: 0.6116 - loss: 0.6553\n",
            "Epoch 4/20\n",
            "\u001b[1m34/34\u001b[0m \u001b[32m━━━━━━━━━━━━━━━━━━━━\u001b[0m\u001b[37m\u001b[0m \u001b[1m0s\u001b[0m 3ms/step - accuracy: 0.6538 - loss: 0.6143\n",
            "Epoch 5/20\n",
            "\u001b[1m34/34\u001b[0m \u001b[32m━━━━━━━━━━━━━━━━━━━━\u001b[0m\u001b[37m\u001b[0m \u001b[1m0s\u001b[0m 2ms/step - accuracy: 0.7033 - loss: 0.5807\n",
            "Epoch 6/20\n",
            "\u001b[1m34/34\u001b[0m \u001b[32m━━━━━━━━━━━━━━━━━━━━\u001b[0m\u001b[37m\u001b[0m \u001b[1m0s\u001b[0m 2ms/step - accuracy: 0.7477 - loss: 0.5377\n",
            "Epoch 7/20\n",
            "\u001b[1m34/34\u001b[0m \u001b[32m━━━━━━━━━━━━━━━━━━━━\u001b[0m\u001b[37m\u001b[0m \u001b[1m0s\u001b[0m 3ms/step - accuracy: 0.7588 - loss: 0.5304\n",
            "Epoch 8/20\n",
            "\u001b[1m34/34\u001b[0m \u001b[32m━━━━━━━━━━━━━━━━━━━━\u001b[0m\u001b[37m\u001b[0m \u001b[1m0s\u001b[0m 2ms/step - accuracy: 0.7998 - loss: 0.4952\n",
            "Epoch 9/20\n",
            "\u001b[1m34/34\u001b[0m \u001b[32m━━━━━━━━━━━━━━━━━━━━\u001b[0m\u001b[37m\u001b[0m \u001b[1m0s\u001b[0m 3ms/step - accuracy: 0.8239 - loss: 0.4736\n",
            "Epoch 10/20\n",
            "\u001b[1m34/34\u001b[0m \u001b[32m━━━━━━━━━━━━━━━━━━━━\u001b[0m\u001b[37m\u001b[0m \u001b[1m0s\u001b[0m 2ms/step - accuracy: 0.8440 - loss: 0.4564\n",
            "Epoch 11/20\n",
            "\u001b[1m34/34\u001b[0m \u001b[32m━━━━━━━━━━━━━━━━━━━━\u001b[0m\u001b[37m\u001b[0m \u001b[1m0s\u001b[0m 2ms/step - accuracy: 0.8639 - loss: 0.4312\n",
            "Epoch 12/20\n",
            "\u001b[1m34/34\u001b[0m \u001b[32m━━━━━━━━━━━━━━━━━━━━\u001b[0m\u001b[37m\u001b[0m \u001b[1m0s\u001b[0m 2ms/step - accuracy: 0.8689 - loss: 0.4075\n",
            "Epoch 13/20\n",
            "\u001b[1m34/34\u001b[0m \u001b[32m━━━━━━━━━━━━━━━━━━━━\u001b[0m\u001b[37m\u001b[0m \u001b[1m0s\u001b[0m 3ms/step - accuracy: 0.8986 - loss: 0.3788\n",
            "Epoch 14/20\n",
            "\u001b[1m34/34\u001b[0m \u001b[32m━━━━━━━━━━━━━━━━━━━━\u001b[0m\u001b[37m\u001b[0m \u001b[1m0s\u001b[0m 2ms/step - accuracy: 0.8861 - loss: 0.3705\n",
            "Epoch 15/20\n",
            "\u001b[1m34/34\u001b[0m \u001b[32m━━━━━━━━━━━━━━━━━━━━\u001b[0m\u001b[37m\u001b[0m \u001b[1m0s\u001b[0m 2ms/step - accuracy: 0.9234 - loss: 0.3378\n",
            "Epoch 16/20\n",
            "\u001b[1m34/34\u001b[0m \u001b[32m━━━━━━━━━━━━━━━━━━━━\u001b[0m\u001b[37m\u001b[0m \u001b[1m0s\u001b[0m 2ms/step - accuracy: 0.9406 - loss: 0.3118\n",
            "Epoch 17/20\n",
            "\u001b[1m34/34\u001b[0m \u001b[32m━━━━━━━━━━━━━━━━━━━━\u001b[0m\u001b[37m\u001b[0m \u001b[1m0s\u001b[0m 2ms/step - accuracy: 0.9336 - loss: 0.3116\n",
            "Epoch 18/20\n",
            "\u001b[1m34/34\u001b[0m \u001b[32m━━━━━━━━━━━━━━━━━━━━\u001b[0m\u001b[37m\u001b[0m \u001b[1m0s\u001b[0m 2ms/step - accuracy: 0.9560 - loss: 0.2852\n",
            "Epoch 19/20\n",
            "\u001b[1m34/34\u001b[0m \u001b[32m━━━━━━━━━━━━━━━━━━━━\u001b[0m\u001b[37m\u001b[0m \u001b[1m0s\u001b[0m 3ms/step - accuracy: 0.9565 - loss: 0.2600\n",
            "Epoch 20/20\n",
            "\u001b[1m34/34\u001b[0m \u001b[32m━━━━━━━━━━━━━━━━━━━━\u001b[0m\u001b[37m\u001b[0m \u001b[1m0s\u001b[0m 3ms/step - accuracy: 0.9746 - loss: 0.2437\n"
          ]
        },
        {
          "output_type": "execute_result",
          "data": {
            "text/plain": [
              "<keras.src.callbacks.history.History at 0x7aac31055c90>"
            ]
          },
          "metadata": {},
          "execution_count": 21
        }
      ]
    },
    {
      "cell_type": "code",
      "source": [
        "model = tf.keras.models.Sequential([\n",
        "        tf.keras.layers.Input((150,)),\n",
        "        tf.keras.layers.Dense(units=32, activation='relu'),\n",
        "        tf.keras.layers.Dense(units=1, activation='sigmoid')])\n",
        "\n",
        "model.compile(optimizer='rmsprop',\n",
        "              loss='binary_crossentropy',\n",
        "              metrics=['accuracy'])\n",
        "\n",
        "model.fit(data, labels, epochs=20, batch_size=32, validation_split=0.2)"
      ],
      "metadata": {
        "colab": {
          "base_uri": "https://localhost:8080/"
        },
        "id": "0LfQHKoc0ul3",
        "outputId": "946186ce-0f92-402f-877a-b9801177bc46"
      },
      "execution_count": 22,
      "outputs": [
        {
          "output_type": "stream",
          "name": "stdout",
          "text": [
            "Epoch 1/20\n",
            "\u001b[1m25/25\u001b[0m \u001b[32m━━━━━━━━━━━━━━━━━━━━\u001b[0m\u001b[37m\u001b[0m \u001b[1m1s\u001b[0m 18ms/step - accuracy: 0.5068 - loss: 0.8002 - val_accuracy: 0.5100 - val_loss: 0.8148\n",
            "Epoch 2/20\n",
            "\u001b[1m25/25\u001b[0m \u001b[32m━━━━━━━━━━━━━━━━━━━━\u001b[0m\u001b[37m\u001b[0m \u001b[1m0s\u001b[0m 8ms/step - accuracy: 0.5479 - loss: 0.6958 - val_accuracy: 0.4950 - val_loss: 0.7988\n",
            "Epoch 3/20\n",
            "\u001b[1m25/25\u001b[0m \u001b[32m━━━━━━━━━━━━━━━━━━━━\u001b[0m\u001b[37m\u001b[0m \u001b[1m0s\u001b[0m 8ms/step - accuracy: 0.6015 - loss: 0.6536 - val_accuracy: 0.5100 - val_loss: 0.7915\n",
            "Epoch 4/20\n",
            "\u001b[1m25/25\u001b[0m \u001b[32m━━━━━━━━━━━━━━━━━━━━\u001b[0m\u001b[37m\u001b[0m \u001b[1m0s\u001b[0m 8ms/step - accuracy: 0.6647 - loss: 0.6084 - val_accuracy: 0.5150 - val_loss: 0.7877\n",
            "Epoch 5/20\n",
            "\u001b[1m25/25\u001b[0m \u001b[32m━━━━━━━━━━━━━━━━━━━━\u001b[0m\u001b[37m\u001b[0m \u001b[1m0s\u001b[0m 8ms/step - accuracy: 0.6849 - loss: 0.5960 - val_accuracy: 0.4950 - val_loss: 0.7903\n",
            "Epoch 6/20\n",
            "\u001b[1m25/25\u001b[0m \u001b[32m━━━━━━━━━━━━━━━━━━━━\u001b[0m\u001b[37m\u001b[0m \u001b[1m0s\u001b[0m 8ms/step - accuracy: 0.7705 - loss: 0.5345 - val_accuracy: 0.4900 - val_loss: 0.7934\n",
            "Epoch 7/20\n",
            "\u001b[1m25/25\u001b[0m \u001b[32m━━━━━━━━━━━━━━━━━━━━\u001b[0m\u001b[37m\u001b[0m \u001b[1m0s\u001b[0m 5ms/step - accuracy: 0.8016 - loss: 0.5098 - val_accuracy: 0.4900 - val_loss: 0.7981\n",
            "Epoch 8/20\n",
            "\u001b[1m25/25\u001b[0m \u001b[32m━━━━━━━━━━━━━━━━━━━━\u001b[0m\u001b[37m\u001b[0m \u001b[1m0s\u001b[0m 6ms/step - accuracy: 0.8134 - loss: 0.4861 - val_accuracy: 0.4750 - val_loss: 0.8048\n",
            "Epoch 9/20\n",
            "\u001b[1m25/25\u001b[0m \u001b[32m━━━━━━━━━━━━━━━━━━━━\u001b[0m\u001b[37m\u001b[0m \u001b[1m0s\u001b[0m 5ms/step - accuracy: 0.8493 - loss: 0.4566 - val_accuracy: 0.4850 - val_loss: 0.8133\n",
            "Epoch 10/20\n",
            "\u001b[1m25/25\u001b[0m \u001b[32m━━━━━━━━━━━━━━━━━━━━\u001b[0m\u001b[37m\u001b[0m \u001b[1m0s\u001b[0m 5ms/step - accuracy: 0.8422 - loss: 0.4459 - val_accuracy: 0.4800 - val_loss: 0.8254\n",
            "Epoch 11/20\n",
            "\u001b[1m25/25\u001b[0m \u001b[32m━━━━━━━━━━━━━━━━━━━━\u001b[0m\u001b[37m\u001b[0m \u001b[1m0s\u001b[0m 5ms/step - accuracy: 0.8890 - loss: 0.4013 - val_accuracy: 0.4800 - val_loss: 0.8348\n",
            "Epoch 12/20\n",
            "\u001b[1m25/25\u001b[0m \u001b[32m━━━━━━━━━━━━━━━━━━━━\u001b[0m\u001b[37m\u001b[0m \u001b[1m0s\u001b[0m 5ms/step - accuracy: 0.8998 - loss: 0.3966 - val_accuracy: 0.4900 - val_loss: 0.8462\n",
            "Epoch 13/20\n",
            "\u001b[1m25/25\u001b[0m \u001b[32m━━━━━━━━━━━━━━━━━━━━\u001b[0m\u001b[37m\u001b[0m \u001b[1m0s\u001b[0m 5ms/step - accuracy: 0.9057 - loss: 0.3654 - val_accuracy: 0.4800 - val_loss: 0.8599\n",
            "Epoch 14/20\n",
            "\u001b[1m25/25\u001b[0m \u001b[32m━━━━━━━━━━━━━━━━━━━━\u001b[0m\u001b[37m\u001b[0m \u001b[1m0s\u001b[0m 5ms/step - accuracy: 0.9126 - loss: 0.3432 - val_accuracy: 0.4950 - val_loss: 0.8725\n",
            "Epoch 15/20\n",
            "\u001b[1m25/25\u001b[0m \u001b[32m━━━━━━━━━━━━━━━━━━━━\u001b[0m\u001b[37m\u001b[0m \u001b[1m0s\u001b[0m 5ms/step - accuracy: 0.9411 - loss: 0.3270 - val_accuracy: 0.4800 - val_loss: 0.8853\n",
            "Epoch 16/20\n",
            "\u001b[1m25/25\u001b[0m \u001b[32m━━━━━━━━━━━━━━━━━━━━\u001b[0m\u001b[37m\u001b[0m \u001b[1m0s\u001b[0m 5ms/step - accuracy: 0.9492 - loss: 0.3106 - val_accuracy: 0.4800 - val_loss: 0.8992\n",
            "Epoch 17/20\n",
            "\u001b[1m25/25\u001b[0m \u001b[32m━━━━━━━━━━━━━━━━━━━━\u001b[0m\u001b[37m\u001b[0m \u001b[1m0s\u001b[0m 5ms/step - accuracy: 0.9373 - loss: 0.3059 - val_accuracy: 0.4800 - val_loss: 0.9170\n",
            "Epoch 18/20\n",
            "\u001b[1m25/25\u001b[0m \u001b[32m━━━━━━━━━━━━━━━━━━━━\u001b[0m\u001b[37m\u001b[0m \u001b[1m0s\u001b[0m 5ms/step - accuracy: 0.9530 - loss: 0.2747 - val_accuracy: 0.4900 - val_loss: 0.9309\n",
            "Epoch 19/20\n",
            "\u001b[1m25/25\u001b[0m \u001b[32m━━━━━━━━━━━━━━━━━━━━\u001b[0m\u001b[37m\u001b[0m \u001b[1m0s\u001b[0m 5ms/step - accuracy: 0.9589 - loss: 0.2593 - val_accuracy: 0.4900 - val_loss: 0.9443\n",
            "Epoch 20/20\n",
            "\u001b[1m25/25\u001b[0m \u001b[32m━━━━━━━━━━━━━━━━━━━━\u001b[0m\u001b[37m\u001b[0m \u001b[1m0s\u001b[0m 6ms/step - accuracy: 0.9631 - loss: 0.2387 - val_accuracy: 0.4950 - val_loss: 0.9601\n"
          ]
        },
        {
          "output_type": "execute_result",
          "data": {
            "text/plain": [
              "<keras.src.callbacks.history.History at 0x7aac32814650>"
            ]
          },
          "metadata": {},
          "execution_count": 22
        }
      ]
    },
    {
      "cell_type": "code",
      "source": [
        "model = tf.keras.models.Sequential([\n",
        "        tf.keras.layers.Input((150,)),\n",
        "        tf.keras.layers.Dense(units=32, activation='relu'),\n",
        "        tf.keras.layers.Dense(units=1, activation='sigmoid')])\n",
        "\n",
        "model.compile(optimizer='rmsprop',\n",
        "              loss='binary_crossentropy',\n",
        "              metrics=['accuracy'])\n",
        "\n",
        "model.fit(data, labels, epochs=20, batch_size=32, validation_split=0.2, verbose=0)"
      ],
      "metadata": {
        "colab": {
          "base_uri": "https://localhost:8080/"
        },
        "id": "SA5Mfk6w1IpW",
        "outputId": "a2d2b609-0767-43c6-a134-813ee04ad7a4"
      },
      "execution_count": 23,
      "outputs": [
        {
          "output_type": "execute_result",
          "data": {
            "text/plain": [
              "<keras.src.callbacks.history.History at 0x7aac31e4d590>"
            ]
          },
          "metadata": {},
          "execution_count": 23
        }
      ]
    },
    {
      "cell_type": "code",
      "source": [
        "model = tf.keras.models.Sequential([\n",
        "        tf.keras.layers.Input((150,)),\n",
        "        tf.keras.layers.Dense(units=32, activation='relu'),\n",
        "        tf.keras.layers.Dense(units=1, activation='sigmoid')])\n",
        "\n",
        "model.compile(optimizer='rmsprop',\n",
        "              loss='binary_crossentropy',\n",
        "              metrics=['accuracy'])\n",
        "\n",
        "history = model.fit(data, labels, epochs=20, batch_size=32, validation_split=0.2, verbose=0)"
      ],
      "metadata": {
        "id": "XxLK5p4a1dvB"
      },
      "execution_count": 24,
      "outputs": []
    },
    {
      "cell_type": "code",
      "source": [
        "metrics = history.history\n",
        "metrics.keys()"
      ],
      "metadata": {
        "colab": {
          "base_uri": "https://localhost:8080/"
        },
        "id": "4yhEtfT-1hqa",
        "outputId": "e3571559-f79b-4c87-abf4-73b0093720eb"
      },
      "execution_count": 25,
      "outputs": [
        {
          "output_type": "execute_result",
          "data": {
            "text/plain": [
              "dict_keys(['accuracy', 'loss', 'val_accuracy', 'val_loss'])"
            ]
          },
          "metadata": {},
          "execution_count": 25
        }
      ]
    },
    {
      "cell_type": "code",
      "source": [
        "model = tf.keras.models.Sequential([\n",
        "        tf.keras.layers.Input((150,)),\n",
        "        tf.keras.layers.Dense(units=32, activation='relu'),\n",
        "        tf.keras.layers.Dense(units=1, activation='sigmoid')])\n",
        "\n",
        "model.compile(optimizer='rmsprop',\n",
        "              loss='binary_crossentropy',\n",
        "              metrics=['accuracy'])\n",
        "\n",
        "history = model.fit(data, labels, epochs=20, batch_size=32, validation_split=0.2, verbose=1)"
      ],
      "metadata": {
        "colab": {
          "base_uri": "https://localhost:8080/"
        },
        "id": "q-8eiqKJ1shG",
        "outputId": "f5219e11-d046-4ab3-d55a-5d8a4cdb1c52"
      },
      "execution_count": 26,
      "outputs": [
        {
          "output_type": "stream",
          "name": "stdout",
          "text": [
            "Epoch 1/20\n",
            "\u001b[1m25/25\u001b[0m \u001b[32m━━━━━━━━━━━━━━━━━━━━\u001b[0m\u001b[37m\u001b[0m \u001b[1m1s\u001b[0m 12ms/step - accuracy: 0.5415 - loss: 0.7929 - val_accuracy: 0.4750 - val_loss: 0.8658\n",
            "Epoch 2/20\n",
            "\u001b[1m25/25\u001b[0m \u001b[32m━━━━━━━━━━━━━━━━━━━━\u001b[0m\u001b[37m\u001b[0m \u001b[1m0s\u001b[0m 6ms/step - accuracy: 0.5727 - loss: 0.7159 - val_accuracy: 0.4550 - val_loss: 0.8498\n",
            "Epoch 3/20\n",
            "\u001b[1m25/25\u001b[0m \u001b[32m━━━━━━━━━━━━━━━━━━━━\u001b[0m\u001b[37m\u001b[0m \u001b[1m0s\u001b[0m 6ms/step - accuracy: 0.5882 - loss: 0.6791 - val_accuracy: 0.4600 - val_loss: 0.8431\n",
            "Epoch 4/20\n",
            "\u001b[1m25/25\u001b[0m \u001b[32m━━━━━━━━━━━━━━━━━━━━\u001b[0m\u001b[37m\u001b[0m \u001b[1m0s\u001b[0m 6ms/step - accuracy: 0.6737 - loss: 0.5996 - val_accuracy: 0.4450 - val_loss: 0.8414\n",
            "Epoch 5/20\n",
            "\u001b[1m25/25\u001b[0m \u001b[32m━━━━━━━━━━━━━━━━━━━━\u001b[0m\u001b[37m\u001b[0m \u001b[1m0s\u001b[0m 5ms/step - accuracy: 0.6926 - loss: 0.5764 - val_accuracy: 0.4600 - val_loss: 0.8428\n",
            "Epoch 6/20\n",
            "\u001b[1m25/25\u001b[0m \u001b[32m━━━━━━━━━━━━━━━━━━━━\u001b[0m\u001b[37m\u001b[0m \u001b[1m0s\u001b[0m 6ms/step - accuracy: 0.7458 - loss: 0.5344 - val_accuracy: 0.4650 - val_loss: 0.8483\n",
            "Epoch 7/20\n",
            "\u001b[1m25/25\u001b[0m \u001b[32m━━━━━━━━━━━━━━━━━━━━\u001b[0m\u001b[37m\u001b[0m \u001b[1m0s\u001b[0m 5ms/step - accuracy: 0.7662 - loss: 0.5186 - val_accuracy: 0.4650 - val_loss: 0.8545\n",
            "Epoch 8/20\n",
            "\u001b[1m25/25\u001b[0m \u001b[32m━━━━━━━━━━━━━━━━━━━━\u001b[0m\u001b[37m\u001b[0m \u001b[1m0s\u001b[0m 5ms/step - accuracy: 0.7873 - loss: 0.4933 - val_accuracy: 0.4700 - val_loss: 0.8637\n",
            "Epoch 9/20\n",
            "\u001b[1m25/25\u001b[0m \u001b[32m━━━━━━━━━━━━━━━━━━━━\u001b[0m\u001b[37m\u001b[0m \u001b[1m0s\u001b[0m 5ms/step - accuracy: 0.8360 - loss: 0.4536 - val_accuracy: 0.4900 - val_loss: 0.8753\n",
            "Epoch 10/20\n",
            "\u001b[1m25/25\u001b[0m \u001b[32m━━━━━━━━━━━━━━━━━━━━\u001b[0m\u001b[37m\u001b[0m \u001b[1m0s\u001b[0m 4ms/step - accuracy: 0.8562 - loss: 0.4448 - val_accuracy: 0.4800 - val_loss: 0.8856\n",
            "Epoch 11/20\n",
            "\u001b[1m25/25\u001b[0m \u001b[32m━━━━━━━━━━━━━━━━━━━━\u001b[0m\u001b[37m\u001b[0m \u001b[1m0s\u001b[0m 5ms/step - accuracy: 0.8496 - loss: 0.4245 - val_accuracy: 0.4900 - val_loss: 0.8975\n",
            "Epoch 12/20\n",
            "\u001b[1m25/25\u001b[0m \u001b[32m━━━━━━━━━━━━━━━━━━━━\u001b[0m\u001b[37m\u001b[0m \u001b[1m0s\u001b[0m 6ms/step - accuracy: 0.8819 - loss: 0.3823 - val_accuracy: 0.4900 - val_loss: 0.9112\n",
            "Epoch 13/20\n",
            "\u001b[1m25/25\u001b[0m \u001b[32m━━━━━━━━━━━━━━━━━━━━\u001b[0m\u001b[37m\u001b[0m \u001b[1m0s\u001b[0m 5ms/step - accuracy: 0.8883 - loss: 0.3897 - val_accuracy: 0.4900 - val_loss: 0.9246\n",
            "Epoch 14/20\n",
            "\u001b[1m25/25\u001b[0m \u001b[32m━━━━━━━━━━━━━━━━━━━━\u001b[0m\u001b[37m\u001b[0m \u001b[1m0s\u001b[0m 6ms/step - accuracy: 0.8919 - loss: 0.3698 - val_accuracy: 0.5000 - val_loss: 0.9394\n",
            "Epoch 15/20\n",
            "\u001b[1m25/25\u001b[0m \u001b[32m━━━━━━━━━━━━━━━━━━━━\u001b[0m\u001b[37m\u001b[0m \u001b[1m0s\u001b[0m 5ms/step - accuracy: 0.9268 - loss: 0.3362 - val_accuracy: 0.5050 - val_loss: 0.9534\n",
            "Epoch 16/20\n",
            "\u001b[1m25/25\u001b[0m \u001b[32m━━━━━━━━━━━━━━━━━━━━\u001b[0m\u001b[37m\u001b[0m \u001b[1m0s\u001b[0m 5ms/step - accuracy: 0.9483 - loss: 0.3097 - val_accuracy: 0.5100 - val_loss: 0.9709\n",
            "Epoch 17/20\n",
            "\u001b[1m25/25\u001b[0m \u001b[32m━━━━━━━━━━━━━━━━━━━━\u001b[0m\u001b[37m\u001b[0m \u001b[1m0s\u001b[0m 5ms/step - accuracy: 0.9483 - loss: 0.2973 - val_accuracy: 0.5050 - val_loss: 0.9906\n",
            "Epoch 18/20\n",
            "\u001b[1m25/25\u001b[0m \u001b[32m━━━━━━━━━━━━━━━━━━━━\u001b[0m\u001b[37m\u001b[0m \u001b[1m0s\u001b[0m 5ms/step - accuracy: 0.9589 - loss: 0.2831 - val_accuracy: 0.5000 - val_loss: 1.0044\n",
            "Epoch 19/20\n",
            "\u001b[1m25/25\u001b[0m \u001b[32m━━━━━━━━━━━━━━━━━━━━\u001b[0m\u001b[37m\u001b[0m \u001b[1m0s\u001b[0m 5ms/step - accuracy: 0.9678 - loss: 0.2469 - val_accuracy: 0.5000 - val_loss: 1.0256\n",
            "Epoch 20/20\n",
            "\u001b[1m25/25\u001b[0m \u001b[32m━━━━━━━━━━━━━━━━━━━━\u001b[0m\u001b[37m\u001b[0m \u001b[1m0s\u001b[0m 5ms/step - accuracy: 0.9717 - loss: 0.2351 - val_accuracy: 0.4950 - val_loss: 1.0434\n"
          ]
        }
      ]
    },
    {
      "cell_type": "code",
      "source": [
        "test_data = np.random.randn(5, 150)\n",
        "test_labels = np.random.randint(2, size=(5, 1))"
      ],
      "metadata": {
        "id": "K30HS3a915JS"
      },
      "execution_count": 31,
      "outputs": []
    },
    {
      "cell_type": "code",
      "source": [
        "test_labels"
      ],
      "metadata": {
        "colab": {
          "base_uri": "https://localhost:8080/"
        },
        "id": "JJ349OBJ2LqI",
        "outputId": "66554e1c-8476-4057-f469-d0b7e2e9d60b"
      },
      "execution_count": 32,
      "outputs": [
        {
          "output_type": "execute_result",
          "data": {
            "text/plain": [
              "array([[1],\n",
              "       [1],\n",
              "       [1],\n",
              "       [0],\n",
              "       [1]])"
            ]
          },
          "metadata": {},
          "execution_count": 32
        }
      ]
    },
    {
      "cell_type": "code",
      "source": [
        "model.predict(test_data)"
      ],
      "metadata": {
        "colab": {
          "base_uri": "https://localhost:8080/"
        },
        "id": "nu_OAHdx2ZTa",
        "outputId": "1a6118f6-0bfa-4a59-8669-1d526e868eb1"
      },
      "execution_count": 33,
      "outputs": [
        {
          "output_type": "stream",
          "name": "stdout",
          "text": [
            "\u001b[1m1/1\u001b[0m \u001b[32m━━━━━━━━━━━━━━━━━━━━\u001b[0m\u001b[37m\u001b[0m \u001b[1m0s\u001b[0m 68ms/step\n"
          ]
        },
        {
          "output_type": "execute_result",
          "data": {
            "text/plain": [
              "array([[0.11496918],\n",
              "       [0.66072625],\n",
              "       [0.3315859 ],\n",
              "       [0.30805507],\n",
              "       [0.90553916]], dtype=float32)"
            ]
          },
          "metadata": {},
          "execution_count": 33
        }
      ]
    },
    {
      "cell_type": "code",
      "source": [
        "predict_classes = (model.predict(test_data) > 0.5).astype(int)\n",
        "predict_classes"
      ],
      "metadata": {
        "colab": {
          "base_uri": "https://localhost:8080/"
        },
        "id": "eEg_UtM02k6S",
        "outputId": "7e36f861-88df-4c45-9770-48233232a3ad"
      },
      "execution_count": 36,
      "outputs": [
        {
          "output_type": "stream",
          "name": "stdout",
          "text": [
            "\u001b[1m1/1\u001b[0m \u001b[32m━━━━━━━━━━━━━━━━━━━━\u001b[0m\u001b[37m\u001b[0m \u001b[1m0s\u001b[0m 39ms/step\n"
          ]
        },
        {
          "output_type": "execute_result",
          "data": {
            "text/plain": [
              "array([[0],\n",
              "       [1],\n",
              "       [0],\n",
              "       [0],\n",
              "       [1]])"
            ]
          },
          "metadata": {},
          "execution_count": 36
        }
      ]
    },
    {
      "cell_type": "markdown",
      "metadata": {
        "id": "AZymszuI28k-"
      },
      "source": [
        "### <a name='a5'></a> Przykład - klasyfikacja wieloklasowa"
      ]
    },
    {
      "cell_type": "code",
      "source": [
        "data = np.random.randn(1000, 150)\n",
        "labels = np.random.randint(10, size=(1000, 1))"
      ],
      "metadata": {
        "id": "z5fRm5UF3j9w"
      },
      "execution_count": 39,
      "outputs": []
    },
    {
      "cell_type": "code",
      "source": [
        "print(data.shape)\n",
        "print(labels.shape)"
      ],
      "metadata": {
        "colab": {
          "base_uri": "https://localhost:8080/"
        },
        "id": "_NB2jR033-my",
        "outputId": "e8b8253f-0bd3-46d5-bef3-6075b07ed1e8"
      },
      "execution_count": 40,
      "outputs": [
        {
          "output_type": "stream",
          "name": "stdout",
          "text": [
            "(1000, 150)\n",
            "(1000, 1)\n"
          ]
        }
      ]
    },
    {
      "cell_type": "code",
      "source": [
        "data[:3]"
      ],
      "metadata": {
        "colab": {
          "base_uri": "https://localhost:8080/"
        },
        "id": "J0yw6Pmz4IHa",
        "outputId": "d9401eeb-cffc-4f7f-fe9d-49f2d71a3324"
      },
      "execution_count": 41,
      "outputs": [
        {
          "output_type": "execute_result",
          "data": {
            "text/plain": [
              "array([[ 5.64493891e-01,  2.06684153e+00, -9.27366330e-01,\n",
              "        -1.49551676e-01, -3.62534741e-01, -7.94658472e-01,\n",
              "         1.78090835e+00, -6.83444452e-01,  6.32149692e-01,\n",
              "         9.19206445e-01,  2.60926936e-01,  4.41340648e-01,\n",
              "        -1.11923275e+00,  3.58757387e-01,  1.35485041e-01,\n",
              "        -7.31361664e-01,  6.72801833e-01,  1.68034474e-01,\n",
              "         5.37224951e-01,  6.88930272e-01,  8.29608244e-01,\n",
              "         1.07352827e+00,  1.88582883e-01,  2.16274419e+00,\n",
              "         1.42524662e+00,  4.79666943e-01, -2.40391569e+00,\n",
              "         6.52630272e-01, -4.96543653e-01,  8.83445576e-01,\n",
              "        -2.71533505e-01, -1.40308893e+00, -1.41780430e+00,\n",
              "         1.32738997e+00,  1.97588938e-01,  2.05015210e+00,\n",
              "         5.63724629e-01, -1.70917333e+00,  1.96308503e+00,\n",
              "        -1.26292491e+00,  1.18326432e+00, -4.23949746e-01,\n",
              "         9.61477976e-01, -3.36669480e-01, -3.51276239e-01,\n",
              "         1.66940323e-01,  2.87294545e-01,  6.75079244e-01,\n",
              "         4.23687874e-02, -8.59161779e-01,  4.84933387e-01,\n",
              "        -1.10764107e+00,  3.15677938e-01,  1.16055684e+00,\n",
              "         9.52459229e-01, -8.42016792e-01,  3.48822043e-01,\n",
              "         1.89313555e-01, -1.10240665e+00,  1.07667367e+00,\n",
              "         7.66140886e-01, -1.14783131e+00,  1.72739146e+00,\n",
              "         9.08246522e-01, -4.56785329e-01,  1.12404804e+00,\n",
              "         4.10907584e-01, -1.20109416e-01,  4.94865595e-01,\n",
              "        -1.53924790e-01,  9.43882711e-02, -2.71647659e-01,\n",
              "        -1.26089085e+00, -1.28907476e+00, -1.34581815e-01,\n",
              "        -1.10283919e+00,  8.81962259e-01,  7.50082953e-01,\n",
              "         2.49577217e+00,  7.46064218e-01,  1.35988922e-01,\n",
              "         1.73562107e+00,  6.34771369e-01, -8.41333125e-01,\n",
              "         8.05607798e-01, -1.35828478e+00, -2.79035642e-01,\n",
              "         9.64836577e-02,  1.85183322e+00,  8.61285745e-01,\n",
              "        -8.12189872e-01,  2.23050823e-01, -8.12460978e-02,\n",
              "         1.96900224e+00, -9.56384458e-01, -1.72197607e-01,\n",
              "         2.16767167e-01, -2.04072889e+00,  1.57280732e+00,\n",
              "         1.04148645e+00, -7.43501118e-01, -2.77758056e+00,\n",
              "        -6.03862964e-01, -3.20443410e-01, -1.31847833e+00,\n",
              "         7.81412316e-01,  2.11602034e-01, -4.63934501e-01,\n",
              "        -5.23271093e-02,  2.35890705e+00,  5.28573293e-01,\n",
              "         3.01062203e-01,  2.58074452e-01,  8.22096331e-01,\n",
              "         7.06119418e-02,  2.07316963e-01,  2.27332197e+00,\n",
              "        -8.58567450e-01, -8.71358898e-01, -9.32779661e-02,\n",
              "        -6.55401669e-01, -1.05739328e-01,  2.43835178e-01,\n",
              "        -8.14414197e-01, -6.58734689e-01, -6.24507654e-01,\n",
              "        -1.21860277e+00, -4.14444845e-01, -1.59789106e-01,\n",
              "        -3.86437524e-01, -1.59669019e+00,  2.11404393e+00,\n",
              "         3.46582065e-01, -2.72892315e-01,  9.71066660e-01,\n",
              "         1.21137218e+00, -5.57799076e-01,  9.78709960e-02,\n",
              "        -1.37380642e+00,  6.48320087e-01, -1.30488097e+00,\n",
              "         2.32683428e-01, -1.76296930e-01, -2.88294184e-01,\n",
              "         9.78265355e-01, -1.48226467e+00, -3.44845211e-01,\n",
              "        -1.18805647e+00,  1.63110584e-01, -5.32678472e-01],\n",
              "       [ 1.57581455e+00, -6.80718733e-01,  1.26871067e+00,\n",
              "         2.19416559e+00, -1.12412725e+00,  1.76245317e-01,\n",
              "         8.19680200e-01,  1.17961911e+00,  4.73144634e-01,\n",
              "         4.65299832e-01, -1.61132949e-01, -1.17694637e-01,\n",
              "         3.56440578e-04,  6.96823588e-01,  1.55158711e+00,\n",
              "         5.72310792e-01, -1.14145358e+00,  2.23203230e-01,\n",
              "        -3.12412641e-01,  5.85369910e-02, -1.90894459e+00,\n",
              "         8.78886212e-01,  1.11260719e+00, -3.09972184e-01,\n",
              "        -1.18704093e+00,  7.40457664e-01, -1.17594062e+00,\n",
              "        -4.00194678e-01,  1.89136367e-01,  1.97920268e-01,\n",
              "         8.30343714e-01,  4.18970499e-01,  5.60961476e-01,\n",
              "         1.02342497e+00, -1.66578205e-01, -1.96034839e+00,\n",
              "         1.11764682e+00,  2.19317330e+00,  4.40955832e-01,\n",
              "        -9.98948203e-01,  1.24702184e+00,  4.41351060e-01,\n",
              "         4.87545999e-01,  1.10959786e-01,  6.50201194e-01,\n",
              "         8.83701353e-01,  3.67946509e-01,  9.94884754e-01,\n",
              "         2.41894034e-01, -1.61715620e+00, -1.60106963e-01,\n",
              "        -9.31348517e-01,  2.71367383e+00,  4.44593119e-01,\n",
              "         1.20403848e+00,  2.87055814e-01, -6.31995006e-01,\n",
              "         7.61510626e-01,  7.89428630e-01, -5.37504701e-01,\n",
              "         9.51551893e-01,  1.16200291e+00, -1.41400715e+00,\n",
              "        -1.52747037e-01, -7.68804648e-01,  1.65865557e+00,\n",
              "        -7.54805722e-01, -5.33627435e-01, -7.08268014e-01,\n",
              "        -7.72109681e-01,  3.58170542e-01,  8.75392163e-01,\n",
              "        -4.58145226e-01,  1.51909266e+00, -2.86736568e+00,\n",
              "        -7.00639802e-01, -2.37911715e+00, -1.91494010e-01,\n",
              "        -7.14669729e-01,  1.35032077e-01, -1.11681740e+00,\n",
              "         1.73588122e+00, -1.55013967e+00,  2.29339668e-01,\n",
              "         9.69859017e-01, -4.03448330e-01,  2.94170260e-01,\n",
              "         1.04465605e-01,  1.04371753e+00, -1.61786195e+00,\n",
              "         7.57837605e-01, -1.96432771e-01, -7.41389481e-01,\n",
              "        -1.14972544e+00,  4.72354784e-01, -1.18719590e+00,\n",
              "         1.16729613e+00, -6.94737697e-01,  3.17763720e-01,\n",
              "         1.27623467e+00, -9.25877128e-01,  3.50974507e-02,\n",
              "         6.45528267e-01,  1.08181127e-01,  1.99099373e-01,\n",
              "        -1.28852717e+00, -1.09047683e-01,  4.87990324e-01,\n",
              "         7.94546823e-01,  7.06593805e-02,  2.31895976e+00,\n",
              "         7.76944730e-01,  1.73777321e+00,  1.40413518e-01,\n",
              "        -1.94906933e+00,  9.12423014e-01, -5.71896752e-01,\n",
              "        -1.07553043e+00, -1.20312685e+00,  2.00749362e-01,\n",
              "        -8.56131882e-01, -9.64187257e-01,  8.97272150e-01,\n",
              "         7.83262036e-02, -9.31575923e-02,  1.15813069e+00,\n",
              "         1.12602174e+00,  2.29664718e-01,  1.04460269e+00,\n",
              "        -6.81366962e-01,  1.77766146e+00,  7.45980938e-01,\n",
              "        -1.21482287e-01, -1.21618254e-01, -2.28415915e-01,\n",
              "        -7.38890685e-01,  4.85344580e-01, -1.76048656e-02,\n",
              "         5.17456125e-01, -3.00846528e-02,  6.88135144e-01,\n",
              "        -2.36581009e+00, -1.76686460e-01, -2.42759091e-01,\n",
              "         2.28006149e+00,  4.13950202e-01, -1.65934529e+00,\n",
              "         5.41734985e-01,  2.67265534e-01,  8.70573748e-01],\n",
              "       [-5.13926053e-01, -7.13235719e-01,  1.48657755e+00,\n",
              "         7.29259428e-01,  3.69015414e-01,  6.43347155e-01,\n",
              "         6.15923512e-01,  3.34217058e-01,  5.17713071e-01,\n",
              "         1.59604339e+00,  8.65586563e-01, -5.85690894e-01,\n",
              "         7.39179268e-02,  2.37542373e-01,  1.46105542e-01,\n",
              "        -1.99067878e+00, -6.06409974e-01, -2.00298678e-01,\n",
              "        -9.59811484e-01, -1.20220241e+00,  9.56384054e-01,\n",
              "         1.45515337e+00, -1.77308038e-02, -9.72622104e-01,\n",
              "         1.15454250e+00,  9.92258474e-02,  3.79041028e-01,\n",
              "         1.22246318e-01,  1.64665201e+00, -4.89272943e-02,\n",
              "        -4.08606441e-01,  3.46317018e-01,  6.66319783e-01,\n",
              "         8.58178162e-01, -1.18259846e+00,  4.15419761e-01,\n",
              "        -4.83705688e-01, -7.32008029e-02, -2.34443900e-01,\n",
              "         3.19967589e+00,  1.62444595e+00, -2.73536396e-01,\n",
              "        -3.96807545e-01,  1.81836669e+00, -3.37667211e-01,\n",
              "        -1.09092075e-01,  1.60600713e+00, -9.09431626e-01,\n",
              "        -1.69428928e-02,  7.66297496e-01, -3.79682930e-01,\n",
              "        -2.49639315e+00,  1.37905216e-01,  9.05369860e-01,\n",
              "         3.08607424e-01, -7.76020990e-01, -1.04877918e-01,\n",
              "        -4.81910930e-01, -7.76487016e-02,  8.71294770e-01,\n",
              "        -4.71337188e-01, -2.91101806e-01, -1.61942673e+00,\n",
              "        -4.34558951e-02, -1.08688423e+00,  8.16554237e-01,\n",
              "         1.38963939e+00,  8.95796609e-01, -1.19444173e+00,\n",
              "        -9.29564350e-01,  1.29646663e+00,  1.07676175e+00,\n",
              "        -1.06625135e+00, -1.11680993e+00,  5.13442438e-01,\n",
              "        -9.92975057e-01, -1.91955005e+00,  1.76929827e+00,\n",
              "        -1.10652983e+00,  1.20866074e+00, -1.00875653e+00,\n",
              "         8.00630602e-01, -9.92421918e-01,  9.47441040e-01,\n",
              "        -1.63449859e-04, -3.28825950e-01, -1.45523154e-01,\n",
              "         4.00001794e-01, -3.24887280e-01, -8.32268599e-01,\n",
              "        -1.60793379e-01,  1.85844767e+00,  6.89990824e-01,\n",
              "        -1.77591160e+00,  8.03660106e-01, -1.28304657e+00,\n",
              "         4.41072634e-01,  8.59354514e-02,  9.29116083e-01,\n",
              "        -2.76703717e-01, -3.80320701e-01, -2.02026775e+00,\n",
              "        -1.26744573e+00, -1.38108874e+00, -7.21351180e-01,\n",
              "         6.82341756e-01, -1.25515253e-01, -1.26198064e+00,\n",
              "         2.68551008e-01, -6.31780908e-01,  5.29599622e-01,\n",
              "         4.54365468e-01,  4.98392290e-01,  1.96278619e+00,\n",
              "         1.16941454e+00,  1.99923749e+00, -1.73163473e+00,\n",
              "        -1.73882934e+00,  7.33692851e-01,  1.52358228e+00,\n",
              "        -4.48472458e-01, -3.99723152e-01,  9.09663592e-01,\n",
              "        -2.29371438e-01, -6.86658306e-01,  1.91090936e-02,\n",
              "         3.83922836e-01, -1.59085587e+00, -8.46633304e-01,\n",
              "         1.07377670e+00,  6.23129851e-01,  2.40106913e-02,\n",
              "         1.83636767e-01,  1.11747726e+00,  1.42918232e+00,\n",
              "        -2.32337216e-01,  4.61084207e-01, -1.69183777e+00,\n",
              "         4.99389087e-01, -1.31261930e-01,  1.03830009e+00,\n",
              "        -3.03829134e-01,  9.22442934e-01,  6.47889716e-01,\n",
              "        -1.79840578e+00,  5.76521521e-01,  5.43192608e-01,\n",
              "         4.22646803e-01, -2.24522724e+00,  3.12656996e-01]])"
            ]
          },
          "metadata": {},
          "execution_count": 41
        }
      ]
    },
    {
      "cell_type": "code",
      "source": [
        "labels[:10]"
      ],
      "metadata": {
        "colab": {
          "base_uri": "https://localhost:8080/"
        },
        "id": "a0y46vP24J8T",
        "outputId": "98ab7da4-5bb0-418f-e547-e1dac26e43a7"
      },
      "execution_count": 42,
      "outputs": [
        {
          "output_type": "execute_result",
          "data": {
            "text/plain": [
              "array([[9],\n",
              "       [4],\n",
              "       [5],\n",
              "       [5],\n",
              "       [3],\n",
              "       [6],\n",
              "       [9],\n",
              "       [3],\n",
              "       [0],\n",
              "       [5]])"
            ]
          },
          "metadata": {},
          "execution_count": 42
        }
      ]
    },
    {
      "cell_type": "code",
      "source": [
        "labels = tf.keras.utils.to_categorical(labels, num_classes=10)\n",
        "labels"
      ],
      "metadata": {
        "colab": {
          "base_uri": "https://localhost:8080/"
        },
        "id": "9IziGlGr4MQL",
        "outputId": "e35dbe04-59d3-4f9d-f9ff-a2e8da52fad0"
      },
      "execution_count": 43,
      "outputs": [
        {
          "output_type": "execute_result",
          "data": {
            "text/plain": [
              "array([[0., 0., 0., ..., 0., 0., 1.],\n",
              "       [0., 0., 0., ..., 0., 0., 0.],\n",
              "       [0., 0., 0., ..., 0., 0., 0.],\n",
              "       ...,\n",
              "       [0., 0., 0., ..., 0., 0., 0.],\n",
              "       [0., 0., 0., ..., 0., 0., 0.],\n",
              "       [0., 0., 0., ..., 0., 0., 0.]])"
            ]
          },
          "metadata": {},
          "execution_count": 43
        }
      ]
    },
    {
      "cell_type": "code",
      "source": [
        "labels[1]"
      ],
      "metadata": {
        "colab": {
          "base_uri": "https://localhost:8080/"
        },
        "id": "U34S1pEo4oGe",
        "outputId": "98cefbed-dcaf-49e3-f042-2c391ac06935"
      },
      "execution_count": 44,
      "outputs": [
        {
          "output_type": "execute_result",
          "data": {
            "text/plain": [
              "array([0., 0., 0., 0., 1., 0., 0., 0., 0., 0.])"
            ]
          },
          "metadata": {},
          "execution_count": 44
        }
      ]
    },
    {
      "cell_type": "code",
      "source": [
        "model = tf.keras.models.Sequential([\n",
        "        tf.keras.layers.Input((150,)),\n",
        "        tf.keras.layers.Dense(units=32, activation='relu'),\n",
        "        tf.keras.layers.Dense(units=10, activation='softmax')])\n",
        "\n",
        "model.compile(optimizer='rmsprop',\n",
        "              loss='categorical_crossentropy',\n",
        "              metrics=['accuracy'])\n",
        "\n",
        "model.fit(data, labels, epochs=30, batch_size=32, validation_split=0.2)"
      ],
      "metadata": {
        "colab": {
          "base_uri": "https://localhost:8080/"
        },
        "id": "5hGj7Cfy5EsQ",
        "outputId": "7dcbccb6-b40b-4383-eb01-88a56c261d7e"
      },
      "execution_count": 45,
      "outputs": [
        {
          "output_type": "stream",
          "name": "stdout",
          "text": [
            "Epoch 1/30\n",
            "\u001b[1m25/25\u001b[0m \u001b[32m━━━━━━━━━━━━━━━━━━━━\u001b[0m\u001b[37m\u001b[0m \u001b[1m1s\u001b[0m 13ms/step - accuracy: 0.0717 - loss: 2.7186 - val_accuracy: 0.1000 - val_loss: 2.6150\n",
            "Epoch 2/30\n",
            "\u001b[1m25/25\u001b[0m \u001b[32m━━━━━━━━━━━━━━━━━━━━\u001b[0m\u001b[37m\u001b[0m \u001b[1m0s\u001b[0m 6ms/step - accuracy: 0.1163 - loss: 2.4412 - val_accuracy: 0.1100 - val_loss: 2.5793\n",
            "Epoch 3/30\n",
            "\u001b[1m25/25\u001b[0m \u001b[32m━━━━━━━━━━━━━━━━━━━━\u001b[0m\u001b[37m\u001b[0m \u001b[1m0s\u001b[0m 5ms/step - accuracy: 0.1525 - loss: 2.3128 - val_accuracy: 0.0900 - val_loss: 2.5604\n",
            "Epoch 4/30\n",
            "\u001b[1m25/25\u001b[0m \u001b[32m━━━━━━━━━━━━━━━━━━━━\u001b[0m\u001b[37m\u001b[0m \u001b[1m0s\u001b[0m 5ms/step - accuracy: 0.1910 - loss: 2.1805 - val_accuracy: 0.1000 - val_loss: 2.5474\n",
            "Epoch 5/30\n",
            "\u001b[1m25/25\u001b[0m \u001b[32m━━━━━━━━━━━━━━━━━━━━\u001b[0m\u001b[37m\u001b[0m \u001b[1m0s\u001b[0m 5ms/step - accuracy: 0.2048 - loss: 2.1317 - val_accuracy: 0.1000 - val_loss: 2.5411\n",
            "Epoch 6/30\n",
            "\u001b[1m25/25\u001b[0m \u001b[32m━━━━━━━━━━━━━━━━━━━━\u001b[0m\u001b[37m\u001b[0m \u001b[1m0s\u001b[0m 5ms/step - accuracy: 0.2815 - loss: 1.9927 - val_accuracy: 0.1000 - val_loss: 2.5425\n",
            "Epoch 7/30\n",
            "\u001b[1m25/25\u001b[0m \u001b[32m━━━━━━━━━━━━━━━━━━━━\u001b[0m\u001b[37m\u001b[0m \u001b[1m0s\u001b[0m 5ms/step - accuracy: 0.3232 - loss: 1.9375 - val_accuracy: 0.1000 - val_loss: 2.5474\n",
            "Epoch 8/30\n",
            "\u001b[1m25/25\u001b[0m \u001b[32m━━━━━━━━━━━━━━━━━━━━\u001b[0m\u001b[37m\u001b[0m \u001b[1m0s\u001b[0m 6ms/step - accuracy: 0.3536 - loss: 1.8422 - val_accuracy: 0.1100 - val_loss: 2.5589\n",
            "Epoch 9/30\n",
            "\u001b[1m25/25\u001b[0m \u001b[32m━━━━━━━━━━━━━━━━━━━━\u001b[0m\u001b[37m\u001b[0m \u001b[1m0s\u001b[0m 5ms/step - accuracy: 0.3826 - loss: 1.8190 - val_accuracy: 0.1050 - val_loss: 2.5717\n",
            "Epoch 10/30\n",
            "\u001b[1m25/25\u001b[0m \u001b[32m━━━━━━━━━━━━━━━━━━━━\u001b[0m\u001b[37m\u001b[0m \u001b[1m0s\u001b[0m 5ms/step - accuracy: 0.4222 - loss: 1.7358 - val_accuracy: 0.1050 - val_loss: 2.5857\n",
            "Epoch 11/30\n",
            "\u001b[1m25/25\u001b[0m \u001b[32m━━━━━━━━━━━━━━━━━━━━\u001b[0m\u001b[37m\u001b[0m \u001b[1m0s\u001b[0m 5ms/step - accuracy: 0.4660 - loss: 1.6391 - val_accuracy: 0.1050 - val_loss: 2.6017\n",
            "Epoch 12/30\n",
            "\u001b[1m25/25\u001b[0m \u001b[32m━━━━━━━━━━━━━━━━━━━━\u001b[0m\u001b[37m\u001b[0m \u001b[1m0s\u001b[0m 5ms/step - accuracy: 0.4902 - loss: 1.6092 - val_accuracy: 0.1000 - val_loss: 2.6221\n",
            "Epoch 13/30\n",
            "\u001b[1m25/25\u001b[0m \u001b[32m━━━━━━━━━━━━━━━━━━━━\u001b[0m\u001b[37m\u001b[0m \u001b[1m0s\u001b[0m 5ms/step - accuracy: 0.5178 - loss: 1.5469 - val_accuracy: 0.1000 - val_loss: 2.6436\n",
            "Epoch 14/30\n",
            "\u001b[1m25/25\u001b[0m \u001b[32m━━━━━━━━━━━━━━━━━━━━\u001b[0m\u001b[37m\u001b[0m \u001b[1m0s\u001b[0m 6ms/step - accuracy: 0.5396 - loss: 1.5124 - val_accuracy: 0.0900 - val_loss: 2.6703\n",
            "Epoch 15/30\n",
            "\u001b[1m25/25\u001b[0m \u001b[32m━━━━━━━━━━━━━━━━━━━━\u001b[0m\u001b[37m\u001b[0m \u001b[1m0s\u001b[0m 5ms/step - accuracy: 0.5621 - loss: 1.4376 - val_accuracy: 0.0950 - val_loss: 2.6964\n",
            "Epoch 16/30\n",
            "\u001b[1m25/25\u001b[0m \u001b[32m━━━━━━━━━━━━━━━━━━━━\u001b[0m\u001b[37m\u001b[0m \u001b[1m0s\u001b[0m 5ms/step - accuracy: 0.5619 - loss: 1.4224 - val_accuracy: 0.0950 - val_loss: 2.7222\n",
            "Epoch 17/30\n",
            "\u001b[1m25/25\u001b[0m \u001b[32m━━━━━━━━━━━━━━━━━━━━\u001b[0m\u001b[37m\u001b[0m \u001b[1m0s\u001b[0m 5ms/step - accuracy: 0.5965 - loss: 1.3620 - val_accuracy: 0.0850 - val_loss: 2.7484\n",
            "Epoch 18/30\n",
            "\u001b[1m25/25\u001b[0m \u001b[32m━━━━━━━━━━━━━━━━━━━━\u001b[0m\u001b[37m\u001b[0m \u001b[1m0s\u001b[0m 5ms/step - accuracy: 0.6471 - loss: 1.2798 - val_accuracy: 0.0850 - val_loss: 2.7753\n",
            "Epoch 19/30\n",
            "\u001b[1m25/25\u001b[0m \u001b[32m━━━━━━━━━━━━━━━━━━━━\u001b[0m\u001b[37m\u001b[0m \u001b[1m0s\u001b[0m 5ms/step - accuracy: 0.6441 - loss: 1.2392 - val_accuracy: 0.0850 - val_loss: 2.8041\n",
            "Epoch 20/30\n",
            "\u001b[1m25/25\u001b[0m \u001b[32m━━━━━━━━━━━━━━━━━━━━\u001b[0m\u001b[37m\u001b[0m \u001b[1m0s\u001b[0m 5ms/step - accuracy: 0.6654 - loss: 1.2109 - val_accuracy: 0.0900 - val_loss: 2.8363\n",
            "Epoch 21/30\n",
            "\u001b[1m25/25\u001b[0m \u001b[32m━━━━━━━━━━━━━━━━━━━━\u001b[0m\u001b[37m\u001b[0m \u001b[1m0s\u001b[0m 6ms/step - accuracy: 0.6718 - loss: 1.1782 - val_accuracy: 0.0850 - val_loss: 2.8685\n",
            "Epoch 22/30\n",
            "\u001b[1m25/25\u001b[0m \u001b[32m━━━━━━━━━━━━━━━━━━━━\u001b[0m\u001b[37m\u001b[0m \u001b[1m0s\u001b[0m 5ms/step - accuracy: 0.6971 - loss: 1.1166 - val_accuracy: 0.0900 - val_loss: 2.9047\n",
            "Epoch 23/30\n",
            "\u001b[1m25/25\u001b[0m \u001b[32m━━━━━━━━━━━━━━━━━━━━\u001b[0m\u001b[37m\u001b[0m \u001b[1m0s\u001b[0m 5ms/step - accuracy: 0.7207 - loss: 1.0791 - val_accuracy: 0.0900 - val_loss: 2.9379\n",
            "Epoch 24/30\n",
            "\u001b[1m25/25\u001b[0m \u001b[32m━━━━━━━━━━━━━━━━━━━━\u001b[0m\u001b[37m\u001b[0m \u001b[1m0s\u001b[0m 5ms/step - accuracy: 0.7452 - loss: 1.0331 - val_accuracy: 0.0900 - val_loss: 2.9768\n",
            "Epoch 25/30\n",
            "\u001b[1m25/25\u001b[0m \u001b[32m━━━━━━━━━━━━━━━━━━━━\u001b[0m\u001b[37m\u001b[0m \u001b[1m0s\u001b[0m 5ms/step - accuracy: 0.7569 - loss: 1.0116 - val_accuracy: 0.0850 - val_loss: 3.0125\n",
            "Epoch 26/30\n",
            "\u001b[1m25/25\u001b[0m \u001b[32m━━━━━━━━━━━━━━━━━━━━\u001b[0m\u001b[37m\u001b[0m \u001b[1m0s\u001b[0m 5ms/step - accuracy: 0.7704 - loss: 0.9555 - val_accuracy: 0.0850 - val_loss: 3.0525\n",
            "Epoch 27/30\n",
            "\u001b[1m25/25\u001b[0m \u001b[32m━━━━━━━━━━━━━━━━━━━━\u001b[0m\u001b[37m\u001b[0m \u001b[1m0s\u001b[0m 5ms/step - accuracy: 0.7709 - loss: 0.9369 - val_accuracy: 0.0850 - val_loss: 3.0913\n",
            "Epoch 28/30\n",
            "\u001b[1m25/25\u001b[0m \u001b[32m━━━━━━━━━━━━━━━━━━━━\u001b[0m\u001b[37m\u001b[0m \u001b[1m0s\u001b[0m 5ms/step - accuracy: 0.8241 - loss: 0.8700 - val_accuracy: 0.0900 - val_loss: 3.1360\n",
            "Epoch 29/30\n",
            "\u001b[1m25/25\u001b[0m \u001b[32m━━━━━━━━━━━━━━━━━━━━\u001b[0m\u001b[37m\u001b[0m \u001b[1m0s\u001b[0m 5ms/step - accuracy: 0.8169 - loss: 0.8470 - val_accuracy: 0.0900 - val_loss: 3.1746\n",
            "Epoch 30/30\n",
            "\u001b[1m25/25\u001b[0m \u001b[32m━━━━━━━━━━━━━━━━━━━━\u001b[0m\u001b[37m\u001b[0m \u001b[1m0s\u001b[0m 5ms/step - accuracy: 0.8514 - loss: 0.8219 - val_accuracy: 0.0900 - val_loss: 3.2220\n"
          ]
        },
        {
          "output_type": "execute_result",
          "data": {
            "text/plain": [
              "<keras.src.callbacks.history.History at 0x7aac3006f3d0>"
            ]
          },
          "metadata": {},
          "execution_count": 45
        }
      ]
    },
    {
      "cell_type": "code",
      "source": [
        "test_data = np.random.randn(10, 150)\n",
        "\n",
        "model.predict(test_data)"
      ],
      "metadata": {
        "colab": {
          "base_uri": "https://localhost:8080/"
        },
        "id": "6k5nrB2L5e5-",
        "outputId": "9de2303b-d4d0-4b42-ef27-222fb0660877"
      },
      "execution_count": 46,
      "outputs": [
        {
          "output_type": "stream",
          "name": "stdout",
          "text": [
            "\u001b[1m1/1\u001b[0m \u001b[32m━━━━━━━━━━━━━━━━━━━━\u001b[0m\u001b[37m\u001b[0m \u001b[1m0s\u001b[0m 65ms/step\n"
          ]
        },
        {
          "output_type": "execute_result",
          "data": {
            "text/plain": [
              "array([[9.9301748e-02, 2.8026612e-03, 8.4811282e-01, 2.4334133e-05,\n",
              "        9.9328291e-03, 9.4659077e-03, 2.7878419e-05, 2.9791384e-03,\n",
              "        1.5157813e-02, 1.2194924e-02],\n",
              "       [3.0304203e-02, 4.9630739e-02, 1.5378512e-01, 8.4845789e-02,\n",
              "        1.6395146e-01, 3.2076422e-02, 1.2916395e-01, 1.0956444e-02,\n",
              "        1.4426196e-01, 2.0102382e-01],\n",
              "       [6.8989992e-02, 1.1949009e-01, 4.8357248e-02, 1.1677017e-01,\n",
              "        3.5823864e-01, 1.5928885e-02, 1.8153054e-01, 4.0721525e-02,\n",
              "        4.4227034e-02, 5.7458393e-03],\n",
              "       [7.0354402e-02, 4.1068545e-01, 1.6236875e-03, 4.6056258e-03,\n",
              "        2.9263273e-01, 1.1573176e-02, 1.1136077e-01, 6.1639998e-02,\n",
              "        2.8176503e-02, 7.3477346e-03],\n",
              "       [1.4269330e-02, 2.4843907e-02, 5.3207995e-04, 3.9888099e-01,\n",
              "        5.2829967e-03, 4.6289387e-01, 5.3188545e-03, 3.0204613e-02,\n",
              "        5.5618372e-02, 2.1549198e-03],\n",
              "       [5.4276291e-02, 1.0645636e-02, 6.3909078e-04, 2.6282027e-01,\n",
              "        5.2658613e-03, 7.2764710e-02, 4.3857977e-01, 1.3006911e-02,\n",
              "        1.0513093e-02, 1.3148835e-01],\n",
              "       [1.3288034e-01, 8.9151427e-02, 2.8152997e-02, 2.4464314e-01,\n",
              "        9.1562465e-02, 7.6419329e-03, 7.7814572e-02, 3.3159304e-02,\n",
              "        2.6186243e-01, 3.3131536e-02],\n",
              "       [2.3837449e-02, 1.6468160e-03, 1.7983401e-03, 1.4169971e-02,\n",
              "        5.8644833e-03, 9.0806060e-02, 3.4306324e-01, 5.0852096e-01,\n",
              "        3.1769997e-03, 7.1156365e-03],\n",
              "       [3.5369929e-02, 1.4413701e-01, 1.0585188e-01, 6.5031216e-02,\n",
              "        1.1486965e-01, 1.0054492e-01, 6.4433567e-02, 3.0562562e-01,\n",
              "        1.7335862e-02, 4.6800323e-02],\n",
              "       [1.4294418e-02, 1.7394026e-01, 2.2522068e-02, 1.3326636e-02,\n",
              "        2.4353017e-01, 2.8680870e-01, 8.4861651e-02, 2.3831844e-02,\n",
              "        6.3129574e-02, 7.3754624e-02]], dtype=float32)"
            ]
          },
          "metadata": {},
          "execution_count": 46
        }
      ]
    },
    {
      "cell_type": "code",
      "source": [
        "predict_classes = np.argmax(model.predict(test_data), axis=-1)\n",
        "predict_classes"
      ],
      "metadata": {
        "colab": {
          "base_uri": "https://localhost:8080/"
        },
        "id": "obgkzUoX5ua1",
        "outputId": "6d4779c4-84e6-4634-e4aa-a705da528b27"
      },
      "execution_count": 51,
      "outputs": [
        {
          "output_type": "stream",
          "name": "stdout",
          "text": [
            "\u001b[1m1/1\u001b[0m \u001b[32m━━━━━━━━━━━━━━━━━━━━\u001b[0m\u001b[37m\u001b[0m \u001b[1m0s\u001b[0m 43ms/step\n"
          ]
        },
        {
          "output_type": "execute_result",
          "data": {
            "text/plain": [
              "array([2, 9, 4, 1, 5, 6, 8, 7, 7, 5])"
            ]
          },
          "metadata": {},
          "execution_count": 51
        }
      ]
    },
    {
      "cell_type": "markdown",
      "metadata": {
        "id": "FZuyR0UW8fP2"
      },
      "source": [
        "### <a name='a6'></a> Przykład - regresja"
      ]
    },
    {
      "cell_type": "code",
      "source": [
        "data = np.random.randn(1000, 150)\n",
        "labels = 50 * np.random.random(1000)"
      ],
      "metadata": {
        "id": "J4kGY0Jc7wH-"
      },
      "execution_count": 52,
      "outputs": []
    },
    {
      "cell_type": "code",
      "source": [
        "data[:3]"
      ],
      "metadata": {
        "colab": {
          "base_uri": "https://localhost:8080/"
        },
        "id": "lRfLBbUN8AxV",
        "outputId": "185d7131-f564-403a-9aac-74904a1f8a75"
      },
      "execution_count": 53,
      "outputs": [
        {
          "output_type": "execute_result",
          "data": {
            "text/plain": [
              "array([[ 1.13145541,  0.31723809,  0.5765934 ,  0.08569793,  0.28621414,\n",
              "         0.81390729, -0.30562064,  0.0613994 , -0.12157494, -0.85766377,\n",
              "        -0.28983868, -1.13048572,  0.10824942, -0.99112129,  1.23406523,\n",
              "         0.80693488,  0.06014687,  0.67012612,  0.76283657,  0.77855169,\n",
              "         1.35092769,  0.5361613 , -0.19138282, -0.7369208 , -0.97981289,\n",
              "        -0.65394993, -0.10137771, -1.1580938 , -0.26312435,  1.19246282,\n",
              "         0.4246084 ,  0.18788294,  0.72367039, -0.37090548, -0.11878195,\n",
              "         0.54870738,  0.29221462, -0.25435835,  0.79456307, -0.19332122,\n",
              "         0.70927011,  0.79469992, -1.82227327, -0.97243669, -0.22536545,\n",
              "         1.97382136, -0.31333514,  0.90308986, -2.384905  , -0.86205812,\n",
              "        -0.2702132 ,  2.34979181, -0.66572868,  0.40459551,  0.73179728,\n",
              "         1.7523642 ,  0.37490302, -0.36460219, -0.66244606,  0.24656221,\n",
              "         0.26127279, -0.84483806, -0.30667689, -0.31662179,  0.03765241,\n",
              "        -0.8212404 ,  0.10222589,  1.44227247, -0.85309211,  0.10244911,\n",
              "         0.6718709 ,  0.18957952,  0.23880779, -0.68101537,  0.4495821 ,\n",
              "         1.18504717,  0.01201297, -0.8041819 , -1.80449556,  0.0414087 ,\n",
              "        -1.64515604,  1.6559313 , -1.16013302, -1.36477776, -0.33473078,\n",
              "        -0.95045345,  0.19712854,  0.10978666, -0.7812251 ,  0.37729836,\n",
              "        -0.93976791,  0.30899084, -0.70364069, -1.73097168, -3.41596274,\n",
              "        -0.30232078,  3.09290748,  1.27648473,  0.087402  ,  0.78700548,\n",
              "        -0.38427247,  2.54289658, -1.53473355,  0.67158346,  0.27649945,\n",
              "         1.57077292, -0.93048649,  0.51697583, -0.76039549,  0.23758581,\n",
              "        -0.24534226,  0.48333732, -0.13989091,  0.56445847,  0.5982283 ,\n",
              "         0.43272342, -0.03603935,  0.38968995, -0.78680151,  0.91208821,\n",
              "        -1.76868693, -2.12232208,  1.25783447, -1.15786745,  0.58532688,\n",
              "         0.56070466,  1.37532882,  0.66407859, -1.86298673, -0.24725982,\n",
              "        -1.27669486, -1.00009194, -1.05165129,  1.17231494,  2.11044092,\n",
              "        -0.02137447,  1.43072946, -1.05066641,  0.37647194,  2.15672405,\n",
              "        -1.07430524,  1.91097521,  0.58736735,  2.85970304, -0.12452264,\n",
              "         0.14685939, -1.83370513,  0.99745473, -0.31612286, -0.06474457],\n",
              "       [ 0.07486637,  0.29412768,  1.17019056,  1.05395705,  0.51411739,\n",
              "        -1.61349016,  1.11526594, -1.44546001,  0.69342742,  1.12684039,\n",
              "         1.35203102, -0.80950226,  0.55704153,  0.40585665, -0.70893552,\n",
              "         1.50998155, -1.67850577, -0.05674307,  0.72832763, -0.29470579,\n",
              "        -1.47780971, -1.01009282, -0.2040219 , -0.79125574, -0.76815474,\n",
              "        -1.34465196, -0.99976984, -0.37033451,  0.43194963, -0.48326323,\n",
              "        -0.69304121, -1.18226212, -0.12625857, -1.77952987,  1.40890795,\n",
              "         1.08693591, -0.48618953,  0.28440134,  0.57632259, -1.63279595,\n",
              "         0.00386849, -0.82725589,  1.83937662, -0.20394546,  0.03539926,\n",
              "         0.02358251,  1.27915928, -0.52393316,  1.4521403 , -1.3092639 ,\n",
              "         2.10926348,  1.75417196, -0.73259928, -1.02142797,  0.26012748,\n",
              "         1.42088193, -1.05716501, -2.46972949,  0.92736064, -0.02134787,\n",
              "         0.57047945, -0.88064068,  0.66422995, -0.97154222,  0.55438947,\n",
              "        -0.50096175,  0.3409043 ,  0.2245178 ,  0.65615927, -0.47733151,\n",
              "         0.27313788,  1.44473205,  0.45680665, -0.24592978,  0.16887893,\n",
              "         0.76568051,  0.12937182,  0.6206193 ,  1.20584366,  1.58790274,\n",
              "         2.22106205,  1.31668169,  1.33917102,  1.73476119,  1.19821917,\n",
              "        -0.23643514, -1.05004613, -1.19101889,  1.52145201,  0.20416439,\n",
              "         1.20447519, -1.48458196, -1.08998038,  2.35963603, -1.56154429,\n",
              "         0.12873568,  0.02806486,  0.67264572,  0.26593197, -0.18046439,\n",
              "         0.36679234,  0.02924195,  0.40934923,  0.41762364, -1.42895722,\n",
              "        -1.81705699,  0.97399084,  1.16352386,  0.38358208, -1.03938897,\n",
              "         1.50375515,  0.11163441,  0.02777085,  0.32773273,  0.29551895,\n",
              "         2.5316353 ,  1.12983843,  1.04759053, -0.52910098,  0.25249761,\n",
              "         0.39034932,  0.81129933, -0.95353208,  0.9057864 , -1.26403242,\n",
              "         1.49817738, -0.82591719, -0.14310543,  0.29443112, -0.97206648,\n",
              "        -0.71982491, -0.66244531,  1.31508063,  0.07864919, -0.53146046,\n",
              "        -0.22432518,  1.21481826, -0.98541   ,  0.14790347, -1.87747377,\n",
              "        -0.77229647, -1.51135758, -0.61746821, -0.90539455, -1.51643031,\n",
              "         0.07508238, -1.05259412, -0.97038942,  0.78719138, -0.138864  ],\n",
              "       [-0.49615701, -0.11535276,  0.02556884, -1.96143286, -1.28152476,\n",
              "         1.81219964,  0.11203048, -0.04957993, -0.67885173, -0.05668289,\n",
              "         0.15131607, -0.70572336,  0.70982477, -0.03136539,  1.10517688,\n",
              "         1.61872093,  1.69239536,  1.43269528,  0.07002653,  0.50737373,\n",
              "        -0.00599071, -0.73585413,  0.97752864, -1.58648012,  0.70896062,\n",
              "         0.28238506, -0.28876398, -1.24794537,  0.01518614,  1.23115614,\n",
              "        -0.65076799, -0.98616907, -0.00387861,  0.86866213, -1.81412604,\n",
              "         0.21951691, -0.29355761, -0.80856769,  2.22721783, -0.48216514,\n",
              "        -0.50763943, -0.23553226,  0.26076558,  0.71304713, -0.90206576,\n",
              "        -0.64380575, -0.32079444,  0.10306337,  0.60153578,  0.56659257,\n",
              "        -0.58067197, -1.27271004, -3.44854715,  0.56812338, -1.31102278,\n",
              "        -0.63637971, -0.49950523,  2.13452966,  0.31613013,  0.85913798,\n",
              "         2.05950869, -0.79475552, -0.71136064,  2.45384113,  1.18002226,\n",
              "         1.32976141, -0.18517493, -1.98655257,  0.82306047, -0.49375693,\n",
              "         0.22543503,  1.13726675,  0.85613224, -0.9881547 , -0.28688347,\n",
              "        -0.49122611,  0.59573177, -0.37599679,  0.87270166,  0.01227028,\n",
              "         1.35331276, -1.13083125,  1.58061103,  0.94056377,  1.50457747,\n",
              "        -1.19664507, -0.83688867, -0.13571632, -0.04575317, -1.01063134,\n",
              "        -0.25004575, -0.18996337,  0.47189293, -0.9651961 , -0.45718751,\n",
              "         0.61555982, -0.26486332, -1.21834461, -0.78141292, -0.38991859,\n",
              "         0.60438983,  0.57618401, -0.60991462,  0.0237064 ,  0.90246914,\n",
              "         1.35026818, -0.66322116, -1.88613957, -1.5343549 ,  1.15951962,\n",
              "        -0.50534514, -1.72824197,  0.63706518,  0.66739125, -1.30618007,\n",
              "        -3.29491924, -0.05952127,  2.57799729,  2.87761001, -0.03725795,\n",
              "         1.15150194,  0.95454512, -0.59193097,  0.8079755 ,  0.60016976,\n",
              "         0.85379482,  1.13983701, -1.64453196, -0.78889392,  1.5126277 ,\n",
              "        -0.14590562, -0.17262244, -1.27688036, -0.35051222, -0.25287046,\n",
              "         1.15488781,  0.23878978,  0.90274427,  0.28406584,  0.90517267,\n",
              "         0.22275817,  0.23995577,  0.22169984,  1.0041323 ,  1.56665588,\n",
              "         0.79321791, -1.13955736,  1.19386552,  0.56473221, -1.56089631]])"
            ]
          },
          "metadata": {},
          "execution_count": 53
        }
      ]
    },
    {
      "cell_type": "code",
      "source": [
        "labels[:10]"
      ],
      "metadata": {
        "colab": {
          "base_uri": "https://localhost:8080/"
        },
        "id": "jzHNMtwS8B8v",
        "outputId": "4b45c3ae-db60-4f6e-8bed-5a3e2b5c2279"
      },
      "execution_count": 54,
      "outputs": [
        {
          "output_type": "execute_result",
          "data": {
            "text/plain": [
              "array([ 8.58221704, 20.2779474 , 30.45626913, 43.5174909 , 10.26209754,\n",
              "       23.86171877,  8.72023318, 20.04470135, 13.03184079, 25.15719686])"
            ]
          },
          "metadata": {},
          "execution_count": 54
        }
      ]
    },
    {
      "cell_type": "code",
      "source": [
        "model = tf.keras.models.Sequential([\n",
        "        tf.keras.layers.Input((150,)),\n",
        "        tf.keras.layers.Dense(units=32, activation='relu'),\n",
        "        tf.keras.layers.Dense(units=1)])\n",
        "\n",
        "model.compile(optimizer='rmsprop',\n",
        "              loss='mse')\n",
        "\n",
        "model.fit(data, labels, epochs=30, batch_size=32, validation_split=0.2)"
      ],
      "metadata": {
        "colab": {
          "base_uri": "https://localhost:8080/"
        },
        "id": "jEIjfSSZ8Fnl",
        "outputId": "c0b6a3b0-c1d0-4a1a-9944-9d16d1107efe"
      },
      "execution_count": 55,
      "outputs": [
        {
          "output_type": "stream",
          "name": "stdout",
          "text": [
            "Epoch 1/30\n",
            "\u001b[1m25/25\u001b[0m \u001b[32m━━━━━━━━━━━━━━━━━━━━\u001b[0m\u001b[37m\u001b[0m \u001b[1m1s\u001b[0m 10ms/step - loss: 802.6347 - val_loss: 776.7693\n",
            "Epoch 2/30\n",
            "\u001b[1m25/25\u001b[0m \u001b[32m━━━━━━━━━━━━━━━━━━━━\u001b[0m\u001b[37m\u001b[0m \u001b[1m0s\u001b[0m 5ms/step - loss: 787.5458 - val_loss: 743.4301\n",
            "Epoch 3/30\n",
            "\u001b[1m25/25\u001b[0m \u001b[32m━━━━━━━━━━━━━━━━━━━━\u001b[0m\u001b[37m\u001b[0m \u001b[1m0s\u001b[0m 5ms/step - loss: 745.6664 - val_loss: 710.2965\n",
            "Epoch 4/30\n",
            "\u001b[1m25/25\u001b[0m \u001b[32m━━━━━━━━━━━━━━━━━━━━\u001b[0m\u001b[37m\u001b[0m \u001b[1m0s\u001b[0m 5ms/step - loss: 690.3704 - val_loss: 677.1794\n",
            "Epoch 5/30\n",
            "\u001b[1m25/25\u001b[0m \u001b[32m━━━━━━━━━━━━━━━━━━━━\u001b[0m\u001b[37m\u001b[0m \u001b[1m0s\u001b[0m 4ms/step - loss: 654.7401 - val_loss: 644.4656\n",
            "Epoch 6/30\n",
            "\u001b[1m25/25\u001b[0m \u001b[32m━━━━━━━━━━━━━━━━━━━━\u001b[0m\u001b[37m\u001b[0m \u001b[1m0s\u001b[0m 4ms/step - loss: 602.6564 - val_loss: 611.7230\n",
            "Epoch 7/30\n",
            "\u001b[1m25/25\u001b[0m \u001b[32m━━━━━━━━━━━━━━━━━━━━\u001b[0m\u001b[37m\u001b[0m \u001b[1m0s\u001b[0m 4ms/step - loss: 552.9730 - val_loss: 579.2990\n",
            "Epoch 8/30\n",
            "\u001b[1m25/25\u001b[0m \u001b[32m━━━━━━━━━━━━━━━━━━━━\u001b[0m\u001b[37m\u001b[0m \u001b[1m0s\u001b[0m 5ms/step - loss: 527.6583 - val_loss: 547.4797\n",
            "Epoch 9/30\n",
            "\u001b[1m25/25\u001b[0m \u001b[32m━━━━━━━━━━━━━━━━━━━━\u001b[0m\u001b[37m\u001b[0m \u001b[1m0s\u001b[0m 4ms/step - loss: 493.1903 - val_loss: 515.8003\n",
            "Epoch 10/30\n",
            "\u001b[1m25/25\u001b[0m \u001b[32m━━━━━━━━━━━━━━━━━━━━\u001b[0m\u001b[37m\u001b[0m \u001b[1m0s\u001b[0m 4ms/step - loss: 453.6402 - val_loss: 485.0455\n",
            "Epoch 11/30\n",
            "\u001b[1m25/25\u001b[0m \u001b[32m━━━━━━━━━━━━━━━━━━━━\u001b[0m\u001b[37m\u001b[0m \u001b[1m0s\u001b[0m 4ms/step - loss: 415.0882 - val_loss: 455.4159\n",
            "Epoch 12/30\n",
            "\u001b[1m25/25\u001b[0m \u001b[32m━━━━━━━━━━━━━━━━━━━━\u001b[0m\u001b[37m\u001b[0m \u001b[1m0s\u001b[0m 4ms/step - loss: 362.3194 - val_loss: 426.3693\n",
            "Epoch 13/30\n",
            "\u001b[1m25/25\u001b[0m \u001b[32m━━━━━━━━━━━━━━━━━━━━\u001b[0m\u001b[37m\u001b[0m \u001b[1m0s\u001b[0m 6ms/step - loss: 355.3145 - val_loss: 398.9856\n",
            "Epoch 14/30\n",
            "\u001b[1m25/25\u001b[0m \u001b[32m━━━━━━━━━━━━━━━━━━━━\u001b[0m\u001b[37m\u001b[0m \u001b[1m0s\u001b[0m 6ms/step - loss: 307.1736 - val_loss: 372.7622\n",
            "Epoch 15/30\n",
            "\u001b[1m25/25\u001b[0m \u001b[32m━━━━━━━━━━━━━━━━━━━━\u001b[0m\u001b[37m\u001b[0m \u001b[1m0s\u001b[0m 5ms/step - loss: 289.7836 - val_loss: 348.7692\n",
            "Epoch 16/30\n",
            "\u001b[1m25/25\u001b[0m \u001b[32m━━━━━━━━━━━━━━━━━━━━\u001b[0m\u001b[37m\u001b[0m \u001b[1m0s\u001b[0m 6ms/step - loss: 269.4961 - val_loss: 327.1320\n",
            "Epoch 17/30\n",
            "\u001b[1m25/25\u001b[0m \u001b[32m━━━━━━━━━━━━━━━━━━━━\u001b[0m\u001b[37m\u001b[0m \u001b[1m0s\u001b[0m 4ms/step - loss: 225.5049 - val_loss: 307.2344\n",
            "Epoch 18/30\n",
            "\u001b[1m25/25\u001b[0m \u001b[32m━━━━━━━━━━━━━━━━━━━━\u001b[0m\u001b[37m\u001b[0m \u001b[1m0s\u001b[0m 4ms/step - loss: 220.6030 - val_loss: 289.5637\n",
            "Epoch 19/30\n",
            "\u001b[1m25/25\u001b[0m \u001b[32m━━━━━━━━━━━━━━━━━━━━\u001b[0m\u001b[37m\u001b[0m \u001b[1m0s\u001b[0m 4ms/step - loss: 192.9267 - val_loss: 274.1397\n",
            "Epoch 20/30\n",
            "\u001b[1m25/25\u001b[0m \u001b[32m━━━━━━━━━━━━━━━━━━━━\u001b[0m\u001b[37m\u001b[0m \u001b[1m0s\u001b[0m 6ms/step - loss: 193.7043 - val_loss: 261.3766\n",
            "Epoch 21/30\n",
            "\u001b[1m25/25\u001b[0m \u001b[32m━━━━━━━━━━━━━━━━━━━━\u001b[0m\u001b[37m\u001b[0m \u001b[1m0s\u001b[0m 4ms/step - loss: 167.4314 - val_loss: 251.2359\n",
            "Epoch 22/30\n",
            "\u001b[1m25/25\u001b[0m \u001b[32m━━━━━━━━━━━━━━━━━━━━\u001b[0m\u001b[37m\u001b[0m \u001b[1m0s\u001b[0m 5ms/step - loss: 156.8057 - val_loss: 243.3557\n",
            "Epoch 23/30\n",
            "\u001b[1m25/25\u001b[0m \u001b[32m━━━━━━━━━━━━━━━━━━━━\u001b[0m\u001b[37m\u001b[0m \u001b[1m0s\u001b[0m 4ms/step - loss: 137.0892 - val_loss: 237.5125\n",
            "Epoch 24/30\n",
            "\u001b[1m25/25\u001b[0m \u001b[32m━━━━━━━━━━━━━━━━━━━━\u001b[0m\u001b[37m\u001b[0m \u001b[1m0s\u001b[0m 4ms/step - loss: 145.2042 - val_loss: 232.4973\n",
            "Epoch 25/30\n",
            "\u001b[1m25/25\u001b[0m \u001b[32m━━━━━━━━━━━━━━━━━━━━\u001b[0m\u001b[37m\u001b[0m \u001b[1m0s\u001b[0m 6ms/step - loss: 136.6140 - val_loss: 228.7618\n",
            "Epoch 26/30\n",
            "\u001b[1m25/25\u001b[0m \u001b[32m━━━━━━━━━━━━━━━━━━━━\u001b[0m\u001b[37m\u001b[0m \u001b[1m0s\u001b[0m 6ms/step - loss: 128.1891 - val_loss: 225.8841\n",
            "Epoch 27/30\n",
            "\u001b[1m25/25\u001b[0m \u001b[32m━━━━━━━━━━━━━━━━━━━━\u001b[0m\u001b[37m\u001b[0m \u001b[1m0s\u001b[0m 4ms/step - loss: 124.0723 - val_loss: 223.5985\n",
            "Epoch 28/30\n",
            "\u001b[1m25/25\u001b[0m \u001b[32m━━━━━━━━━━━━━━━━━━━━\u001b[0m\u001b[37m\u001b[0m \u001b[1m0s\u001b[0m 4ms/step - loss: 119.8815 - val_loss: 221.7208\n",
            "Epoch 29/30\n",
            "\u001b[1m25/25\u001b[0m \u001b[32m━━━━━━━━━━━━━━━━━━━━\u001b[0m\u001b[37m\u001b[0m \u001b[1m0s\u001b[0m 4ms/step - loss: 112.5056 - val_loss: 220.4892\n",
            "Epoch 30/30\n",
            "\u001b[1m25/25\u001b[0m \u001b[32m━━━━━━━━━━━━━━━━━━━━\u001b[0m\u001b[37m\u001b[0m \u001b[1m0s\u001b[0m 4ms/step - loss: 125.5996 - val_loss: 219.7439\n"
          ]
        },
        {
          "output_type": "execute_result",
          "data": {
            "text/plain": [
              "<keras.src.callbacks.history.History at 0x7aac2eb50550>"
            ]
          },
          "metadata": {},
          "execution_count": 55
        }
      ]
    },
    {
      "cell_type": "code",
      "source": [
        "model = tf.keras.models.Sequential([\n",
        "        tf.keras.layers.Input((150,)),\n",
        "        tf.keras.layers.Dense(units=32, activation='relu'),\n",
        "        tf.keras.layers.Dense(units=1)])\n",
        "\n",
        "model.compile(optimizer='rmsprop',\n",
        "              loss='mae',\n",
        "              metrics=['mse'])\n",
        "\n",
        "model.fit(data, labels, epochs=30, batch_size=32, validation_split=0.2)"
      ],
      "metadata": {
        "colab": {
          "base_uri": "https://localhost:8080/"
        },
        "id": "2ERFhCyi8mZd",
        "outputId": "573328ef-08f3-437b-a1bd-9528bc7e5954"
      },
      "execution_count": 56,
      "outputs": [
        {
          "output_type": "stream",
          "name": "stdout",
          "text": [
            "Epoch 1/30\n",
            "\u001b[1m25/25\u001b[0m \u001b[32m━━━━━━━━━━━━━━━━━━━━\u001b[0m\u001b[37m\u001b[0m \u001b[1m1s\u001b[0m 13ms/step - loss: 23.9805 - mse: 780.3718 - val_loss: 24.6830 - val_mse: 798.4155\n",
            "Epoch 2/30\n",
            "\u001b[1m25/25\u001b[0m \u001b[32m━━━━━━━━━━━━━━━━━━━━\u001b[0m\u001b[37m\u001b[0m \u001b[1m0s\u001b[0m 6ms/step - loss: 23.7325 - mse: 760.2743 - val_loss: 24.0164 - val_mse: 765.0544\n",
            "Epoch 3/30\n",
            "\u001b[1m25/25\u001b[0m \u001b[32m━━━━━━━━━━━━━━━━━━━━\u001b[0m\u001b[37m\u001b[0m \u001b[1m0s\u001b[0m 5ms/step - loss: 23.3436 - mse: 742.0131 - val_loss: 23.3586 - val_mse: 732.8381\n",
            "Epoch 4/30\n",
            "\u001b[1m25/25\u001b[0m \u001b[32m━━━━━━━━━━━━━━━━━━━━\u001b[0m\u001b[37m\u001b[0m \u001b[1m0s\u001b[0m 4ms/step - loss: 21.6452 - mse: 654.6215 - val_loss: 22.7123 - val_mse: 702.0240\n",
            "Epoch 5/30\n",
            "\u001b[1m25/25\u001b[0m \u001b[32m━━━━━━━━━━━━━━━━━━━━\u001b[0m\u001b[37m\u001b[0m \u001b[1m0s\u001b[0m 5ms/step - loss: 22.3085 - mse: 678.1262 - val_loss: 22.0837 - val_mse: 672.0171\n",
            "Epoch 6/30\n",
            "\u001b[1m25/25\u001b[0m \u001b[32m━━━━━━━━━━━━━━━━━━━━\u001b[0m\u001b[37m\u001b[0m \u001b[1m0s\u001b[0m 5ms/step - loss: 20.7198 - mse: 621.9779 - val_loss: 21.4357 - val_mse: 642.0850\n",
            "Epoch 7/30\n",
            "\u001b[1m25/25\u001b[0m \u001b[32m━━━━━━━━━━━━━━━━━━━━\u001b[0m\u001b[37m\u001b[0m \u001b[1m0s\u001b[0m 6ms/step - loss: 20.1680 - mse: 585.7500 - val_loss: 20.8180 - val_mse: 613.0992\n",
            "Epoch 8/30\n",
            "\u001b[1m25/25\u001b[0m \u001b[32m━━━━━━━━━━━━━━━━━━━━\u001b[0m\u001b[37m\u001b[0m \u001b[1m0s\u001b[0m 8ms/step - loss: 19.5275 - mse: 557.1346 - val_loss: 20.2147 - val_mse: 584.3995\n",
            "Epoch 9/30\n",
            "\u001b[1m25/25\u001b[0m \u001b[32m━━━━━━━━━━━━━━━━━━━━\u001b[0m\u001b[37m\u001b[0m \u001b[1m0s\u001b[0m 7ms/step - loss: 18.7231 - mse: 519.6932 - val_loss: 19.6254 - val_mse: 556.6668\n",
            "Epoch 10/30\n",
            "\u001b[1m25/25\u001b[0m \u001b[32m━━━━━━━━━━━━━━━━━━━━\u001b[0m\u001b[37m\u001b[0m \u001b[1m0s\u001b[0m 8ms/step - loss: 18.3245 - mse: 499.5171 - val_loss: 19.0704 - val_mse: 529.1560\n",
            "Epoch 11/30\n",
            "\u001b[1m25/25\u001b[0m \u001b[32m━━━━━━━━━━━━━━━━━━━━\u001b[0m\u001b[37m\u001b[0m \u001b[1m0s\u001b[0m 9ms/step - loss: 17.6085 - mse: 463.9538 - val_loss: 18.5516 - val_mse: 503.7242\n",
            "Epoch 12/30\n",
            "\u001b[1m25/25\u001b[0m \u001b[32m━━━━━━━━━━━━━━━━━━━━\u001b[0m\u001b[37m\u001b[0m \u001b[1m0s\u001b[0m 7ms/step - loss: 17.5151 - mse: 456.4883 - val_loss: 18.0386 - val_mse: 478.7699\n",
            "Epoch 13/30\n",
            "\u001b[1m25/25\u001b[0m \u001b[32m━━━━━━━━━━━━━━━━━━━━\u001b[0m\u001b[37m\u001b[0m \u001b[1m0s\u001b[0m 8ms/step - loss: 16.2769 - mse: 403.6595 - val_loss: 17.5809 - val_mse: 455.7587\n",
            "Epoch 14/30\n",
            "\u001b[1m25/25\u001b[0m \u001b[32m━━━━━━━━━━━━━━━━━━━━\u001b[0m\u001b[37m\u001b[0m \u001b[1m0s\u001b[0m 8ms/step - loss: 15.9319 - mse: 393.4034 - val_loss: 17.1174 - val_mse: 433.3262\n",
            "Epoch 15/30\n",
            "\u001b[1m25/25\u001b[0m \u001b[32m━━━━━━━━━━━━━━━━━━━━\u001b[0m\u001b[37m\u001b[0m \u001b[1m0s\u001b[0m 5ms/step - loss: 14.3839 - mse: 329.3447 - val_loss: 16.6682 - val_mse: 412.2188\n",
            "Epoch 16/30\n",
            "\u001b[1m25/25\u001b[0m \u001b[32m━━━━━━━━━━━━━━━━━━━━\u001b[0m\u001b[37m\u001b[0m \u001b[1m0s\u001b[0m 5ms/step - loss: 14.1795 - mse: 315.2580 - val_loss: 16.2572 - val_mse: 392.9168\n",
            "Epoch 17/30\n",
            "\u001b[1m25/25\u001b[0m \u001b[32m━━━━━━━━━━━━━━━━━━━━\u001b[0m\u001b[37m\u001b[0m \u001b[1m0s\u001b[0m 6ms/step - loss: 13.6936 - mse: 293.5911 - val_loss: 15.8810 - val_mse: 375.3475\n",
            "Epoch 18/30\n",
            "\u001b[1m25/25\u001b[0m \u001b[32m━━━━━━━━━━━━━━━━━━━━\u001b[0m\u001b[37m\u001b[0m \u001b[1m0s\u001b[0m 6ms/step - loss: 12.9719 - mse: 265.2726 - val_loss: 15.5294 - val_mse: 358.7478\n",
            "Epoch 19/30\n",
            "\u001b[1m25/25\u001b[0m \u001b[32m━━━━━━━━━━━━━━━━━━━━\u001b[0m\u001b[37m\u001b[0m \u001b[1m0s\u001b[0m 5ms/step - loss: 13.0236 - mse: 267.5894 - val_loss: 15.2295 - val_mse: 344.4041\n",
            "Epoch 20/30\n",
            "\u001b[1m25/25\u001b[0m \u001b[32m━━━━━━━━━━━━━━━━━━━━\u001b[0m\u001b[37m\u001b[0m \u001b[1m0s\u001b[0m 5ms/step - loss: 12.3140 - mse: 237.6986 - val_loss: 14.9274 - val_mse: 330.5100\n",
            "Epoch 21/30\n",
            "\u001b[1m25/25\u001b[0m \u001b[32m━━━━━━━━━━━━━━━━━━━━\u001b[0m\u001b[37m\u001b[0m \u001b[1m0s\u001b[0m 6ms/step - loss: 12.0780 - mse: 231.2677 - val_loss: 14.6507 - val_mse: 317.7173\n",
            "Epoch 22/30\n",
            "\u001b[1m25/25\u001b[0m \u001b[32m━━━━━━━━━━━━━━━━━━━━\u001b[0m\u001b[37m\u001b[0m \u001b[1m0s\u001b[0m 5ms/step - loss: 10.7823 - mse: 186.5592 - val_loss: 14.4201 - val_mse: 307.4166\n",
            "Epoch 23/30\n",
            "\u001b[1m25/25\u001b[0m \u001b[32m━━━━━━━━━━━━━━━━━━━━\u001b[0m\u001b[37m\u001b[0m \u001b[1m0s\u001b[0m 5ms/step - loss: 11.2575 - mse: 203.4837 - val_loss: 14.2111 - val_mse: 298.5209\n",
            "Epoch 24/30\n",
            "\u001b[1m25/25\u001b[0m \u001b[32m━━━━━━━━━━━━━━━━━━━━\u001b[0m\u001b[37m\u001b[0m \u001b[1m0s\u001b[0m 5ms/step - loss: 11.0798 - mse: 200.1078 - val_loss: 14.0133 - val_mse: 291.0534\n",
            "Epoch 25/30\n",
            "\u001b[1m25/25\u001b[0m \u001b[32m━━━━━━━━━━━━━━━━━━━━\u001b[0m\u001b[37m\u001b[0m \u001b[1m0s\u001b[0m 4ms/step - loss: 10.6941 - mse: 176.3315 - val_loss: 13.8442 - val_mse: 284.4501\n",
            "Epoch 26/30\n",
            "\u001b[1m25/25\u001b[0m \u001b[32m━━━━━━━━━━━━━━━━━━━━\u001b[0m\u001b[37m\u001b[0m \u001b[1m0s\u001b[0m 5ms/step - loss: 10.5535 - mse: 177.7851 - val_loss: 13.7000 - val_mse: 278.3669\n",
            "Epoch 27/30\n",
            "\u001b[1m25/25\u001b[0m \u001b[32m━━━━━━━━━━━━━━━━━━━━\u001b[0m\u001b[37m\u001b[0m \u001b[1m0s\u001b[0m 5ms/step - loss: 9.6384 - mse: 150.3272 - val_loss: 13.5775 - val_mse: 273.6650\n",
            "Epoch 28/30\n",
            "\u001b[1m25/25\u001b[0m \u001b[32m━━━━━━━━━━━━━━━━━━━━\u001b[0m\u001b[37m\u001b[0m \u001b[1m0s\u001b[0m 4ms/step - loss: 10.0305 - mse: 158.7247 - val_loss: 13.4604 - val_mse: 269.7711\n",
            "Epoch 29/30\n",
            "\u001b[1m25/25\u001b[0m \u001b[32m━━━━━━━━━━━━━━━━━━━━\u001b[0m\u001b[37m\u001b[0m \u001b[1m0s\u001b[0m 5ms/step - loss: 9.4220 - mse: 152.2387 - val_loss: 13.3469 - val_mse: 265.5942\n",
            "Epoch 30/30\n",
            "\u001b[1m25/25\u001b[0m \u001b[32m━━━━━━━━━━━━━━━━━━━━\u001b[0m\u001b[37m\u001b[0m \u001b[1m0s\u001b[0m 4ms/step - loss: 9.7989 - mse: 157.5813 - val_loss: 13.2944 - val_mse: 263.7798\n"
          ]
        },
        {
          "output_type": "execute_result",
          "data": {
            "text/plain": [
              "<keras.src.callbacks.history.History at 0x7aac2eaf94d0>"
            ]
          },
          "metadata": {},
          "execution_count": 56
        }
      ]
    },
    {
      "cell_type": "code",
      "source": [
        "test_data = np.random.random((10, 150))\n",
        "\n",
        "model.predict(test_data)"
      ],
      "metadata": {
        "colab": {
          "base_uri": "https://localhost:8080/"
        },
        "id": "a8t0bdHm9GzT",
        "outputId": "6c233b7b-476c-437c-8375-a7a5423665ab"
      },
      "execution_count": 58,
      "outputs": [
        {
          "output_type": "stream",
          "name": "stdout",
          "text": [
            "\u001b[1m1/1\u001b[0m \u001b[32m━━━━━━━━━━━━━━━━━━━━\u001b[0m\u001b[37m\u001b[0m \u001b[1m0s\u001b[0m 61ms/step\n"
          ]
        },
        {
          "output_type": "execute_result",
          "data": {
            "text/plain": [
              "array([[12.570595 ],\n",
              "       [15.0616665],\n",
              "       [14.413567 ],\n",
              "       [18.513124 ],\n",
              "       [17.45204  ],\n",
              "       [19.784834 ],\n",
              "       [15.748968 ],\n",
              "       [16.513577 ],\n",
              "       [14.106807 ],\n",
              "       [16.605406 ]], dtype=float32)"
            ]
          },
          "metadata": {},
          "execution_count": 58
        }
      ]
    },
    {
      "cell_type": "code",
      "source": [],
      "metadata": {
        "id": "4Aq5qyib9Ry0"
      },
      "execution_count": null,
      "outputs": []
    }
  ]
}