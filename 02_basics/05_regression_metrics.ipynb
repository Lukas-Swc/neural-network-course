{
  "nbformat": 4,
  "nbformat_minor": 0,
  "metadata": {
    "colab": {
      "provenance": [],
      "authorship_tag": "ABX9TyNZb9sG/++7CQfGcJkt7m+O",
      "include_colab_link": true
    },
    "kernelspec": {
      "name": "python3",
      "display_name": "Python 3"
    },
    "language_info": {
      "name": "python"
    }
  },
  "cells": [
    {
      "cell_type": "markdown",
      "metadata": {
        "id": "view-in-github",
        "colab_type": "text"
      },
      "source": [
        "<a href=\"https://colab.research.google.com/github/Lukas-Swc/neural-network-course/blob/main/02_basics/05_regression_metrics.ipynb\" target=\"_parent\"><img src=\"https://colab.research.google.com/assets/colab-badge.svg\" alt=\"Open In Colab\"/></a>"
      ]
    },
    {
      "cell_type": "markdown",
      "metadata": {
        "id": "5gjFu2l9IMsj"
      },
      "source": [
        "### Metryki - Problem regresji:\n",
        "1. [Import bibliotek](#a0)\n",
        "2. [Metryki](#a1)\n",
        "    1. [Interpretacja graficzna](#a2)\n",
        "    2. [Mean Absolute Error - MAE](#a3)\n",
        "    3. [Mean Squared Error - MSE](#a4)\n",
        "    4. [Root Mean Squared Error - RMSE](#a5)\n",
        "    5. [Max Error](#a6)\n",
        "    6. [R2 score - współczynnik determinacji](#a7)\n",
        "\n",
        "    "
      ]
    },
    {
      "cell_type": "markdown",
      "metadata": {
        "id": "1Dc4DhtS7LTD"
      },
      "source": [
        "### <a name='a0'></a> 1. Import bibliotek"
      ]
    },
    {
      "cell_type": "code",
      "metadata": {
        "id": "qQZ7LNIt7KAY",
        "colab": {
          "base_uri": "https://localhost:8080/",
          "height": 36
        },
        "outputId": "4c8f0dc9-7d53-4547-9c0d-912948ba0d51"
      },
      "source": [
        "import numpy as np\n",
        "import pandas as pd\n",
        "import plotly.express as px\n",
        "import plotly.graph_objects as go\n",
        "import tensorflow as tf\n",
        "tf.__version__"
      ],
      "execution_count": 24,
      "outputs": [
        {
          "output_type": "execute_result",
          "data": {
            "text/plain": [
              "'2.19.0'"
            ],
            "application/vnd.google.colaboratory.intrinsic+json": {
              "type": "string"
            }
          },
          "metadata": {},
          "execution_count": 24
        }
      ]
    },
    {
      "cell_type": "code",
      "metadata": {
        "id": "GhNVhidb7SG7",
        "colab": {
          "base_uri": "https://localhost:8080/"
        },
        "outputId": "09e2741b-6f5b-43dd-a756-fd82a7c2bb82"
      },
      "source": [
        "y_true = 100 + 20 * np.random.randn(50)\n",
        "y_true"
      ],
      "execution_count": 27,
      "outputs": [
        {
          "output_type": "execute_result",
          "data": {
            "text/plain": [
              "array([114.97807913,  90.99844844,  83.02141544,  90.86115224,\n",
              "        89.01137285,  59.48675618, 118.99736928,  98.33893485,\n",
              "       135.14236784,  79.00811938, 109.15915938, 113.78717849,\n",
              "       101.24883609, 104.1944299 , 108.23312022,  94.30924729,\n",
              "        78.49829261,  85.91532211,  60.58761697, 133.05599097,\n",
              "       124.00999753, 140.92281196, 130.6052712 ,  81.32666738,\n",
              "       113.33834837, 106.69951241, 119.96392803,  87.6005557 ,\n",
              "        80.08359004, 110.67422211,  82.89505777,  83.36652405,\n",
              "       142.6558982 , 136.16084199, 140.33858897,  92.09932363,\n",
              "       121.46851124, 104.68098894, 133.55053008, 110.81980607,\n",
              "       107.53378446, 120.56414992,  81.60427731,  74.39324641,\n",
              "        52.61442985,  90.46829069, 103.6965217 , 120.25200839,\n",
              "        87.56511581, 123.13149108])"
            ]
          },
          "metadata": {},
          "execution_count": 27
        }
      ]
    },
    {
      "cell_type": "code",
      "metadata": {
        "id": "HuAJr61k7cJV",
        "colab": {
          "base_uri": "https://localhost:8080/"
        },
        "outputId": "1b3e8c50-c3a0-4d4c-b1b9-2f32f68cef36"
      },
      "source": [
        "y_pred = y_true + 10 * np.random.randn(50)\n",
        "y_pred"
      ],
      "execution_count": 28,
      "outputs": [
        {
          "output_type": "execute_result",
          "data": {
            "text/plain": [
              "array([100.94996705, 111.42538321,  83.75045855, 101.36772936,\n",
              "        91.70159095,  62.12709564, 112.91537155,  95.05859489,\n",
              "       143.05017748,  79.59298949, 114.53708338, 112.69487726,\n",
              "       100.51257346,  92.07578799,  93.53080976, 106.46429715,\n",
              "        86.2726195 ,  94.9850623 ,  70.37947769, 122.20049533,\n",
              "       117.97536589, 151.37467207, 132.52013542,  86.03086751,\n",
              "       111.69216821,  99.72225714, 116.6892037 ,  60.75817048,\n",
              "        72.15392088, 117.59456076,  64.76772863,  70.09508455,\n",
              "       160.47512463, 127.86882561, 130.11406699,  92.06008895,\n",
              "       122.3776303 , 108.64848828, 138.45818591,  98.07668055,\n",
              "        97.49472042, 121.85261327, 103.5690301 ,  60.23495963,\n",
              "        54.21727465,  76.97086436, 105.45084642, 126.75931201,\n",
              "        83.22033211, 126.43790415])"
            ]
          },
          "metadata": {},
          "execution_count": 28
        }
      ]
    },
    {
      "cell_type": "code",
      "metadata": {
        "id": "8V3ah8zL7n2P",
        "colab": {
          "base_uri": "https://localhost:8080/",
          "height": 206
        },
        "outputId": "914b4e5e-0357-4d5b-9a7a-1b8bb6ccb164"
      },
      "source": [
        "results = pd.DataFrame({'y_true': y_true, 'y_pred': y_pred})\n",
        "results.head()"
      ],
      "execution_count": 29,
      "outputs": [
        {
          "output_type": "execute_result",
          "data": {
            "text/plain": [
              "       y_true      y_pred\n",
              "0  114.978079  100.949967\n",
              "1   90.998448  111.425383\n",
              "2   83.021415   83.750459\n",
              "3   90.861152  101.367729\n",
              "4   89.011373   91.701591"
            ],
            "text/html": [
              "\n",
              "  <div id=\"df-59a2b9a3-77f2-40f0-abb2-d1bd710999f7\" class=\"colab-df-container\">\n",
              "    <div>\n",
              "<style scoped>\n",
              "    .dataframe tbody tr th:only-of-type {\n",
              "        vertical-align: middle;\n",
              "    }\n",
              "\n",
              "    .dataframe tbody tr th {\n",
              "        vertical-align: top;\n",
              "    }\n",
              "\n",
              "    .dataframe thead th {\n",
              "        text-align: right;\n",
              "    }\n",
              "</style>\n",
              "<table border=\"1\" class=\"dataframe\">\n",
              "  <thead>\n",
              "    <tr style=\"text-align: right;\">\n",
              "      <th></th>\n",
              "      <th>y_true</th>\n",
              "      <th>y_pred</th>\n",
              "    </tr>\n",
              "  </thead>\n",
              "  <tbody>\n",
              "    <tr>\n",
              "      <th>0</th>\n",
              "      <td>114.978079</td>\n",
              "      <td>100.949967</td>\n",
              "    </tr>\n",
              "    <tr>\n",
              "      <th>1</th>\n",
              "      <td>90.998448</td>\n",
              "      <td>111.425383</td>\n",
              "    </tr>\n",
              "    <tr>\n",
              "      <th>2</th>\n",
              "      <td>83.021415</td>\n",
              "      <td>83.750459</td>\n",
              "    </tr>\n",
              "    <tr>\n",
              "      <th>3</th>\n",
              "      <td>90.861152</td>\n",
              "      <td>101.367729</td>\n",
              "    </tr>\n",
              "    <tr>\n",
              "      <th>4</th>\n",
              "      <td>89.011373</td>\n",
              "      <td>91.701591</td>\n",
              "    </tr>\n",
              "  </tbody>\n",
              "</table>\n",
              "</div>\n",
              "    <div class=\"colab-df-buttons\">\n",
              "\n",
              "  <div class=\"colab-df-container\">\n",
              "    <button class=\"colab-df-convert\" onclick=\"convertToInteractive('df-59a2b9a3-77f2-40f0-abb2-d1bd710999f7')\"\n",
              "            title=\"Convert this dataframe to an interactive table.\"\n",
              "            style=\"display:none;\">\n",
              "\n",
              "  <svg xmlns=\"http://www.w3.org/2000/svg\" height=\"24px\" viewBox=\"0 -960 960 960\">\n",
              "    <path d=\"M120-120v-720h720v720H120Zm60-500h600v-160H180v160Zm220 220h160v-160H400v160Zm0 220h160v-160H400v160ZM180-400h160v-160H180v160Zm440 0h160v-160H620v160ZM180-180h160v-160H180v160Zm440 0h160v-160H620v160Z\"/>\n",
              "  </svg>\n",
              "    </button>\n",
              "\n",
              "  <style>\n",
              "    .colab-df-container {\n",
              "      display:flex;\n",
              "      gap: 12px;\n",
              "    }\n",
              "\n",
              "    .colab-df-convert {\n",
              "      background-color: #E8F0FE;\n",
              "      border: none;\n",
              "      border-radius: 50%;\n",
              "      cursor: pointer;\n",
              "      display: none;\n",
              "      fill: #1967D2;\n",
              "      height: 32px;\n",
              "      padding: 0 0 0 0;\n",
              "      width: 32px;\n",
              "    }\n",
              "\n",
              "    .colab-df-convert:hover {\n",
              "      background-color: #E2EBFA;\n",
              "      box-shadow: 0px 1px 2px rgba(60, 64, 67, 0.3), 0px 1px 3px 1px rgba(60, 64, 67, 0.15);\n",
              "      fill: #174EA6;\n",
              "    }\n",
              "\n",
              "    .colab-df-buttons div {\n",
              "      margin-bottom: 4px;\n",
              "    }\n",
              "\n",
              "    [theme=dark] .colab-df-convert {\n",
              "      background-color: #3B4455;\n",
              "      fill: #D2E3FC;\n",
              "    }\n",
              "\n",
              "    [theme=dark] .colab-df-convert:hover {\n",
              "      background-color: #434B5C;\n",
              "      box-shadow: 0px 1px 3px 1px rgba(0, 0, 0, 0.15);\n",
              "      filter: drop-shadow(0px 1px 2px rgba(0, 0, 0, 0.3));\n",
              "      fill: #FFFFFF;\n",
              "    }\n",
              "  </style>\n",
              "\n",
              "    <script>\n",
              "      const buttonEl =\n",
              "        document.querySelector('#df-59a2b9a3-77f2-40f0-abb2-d1bd710999f7 button.colab-df-convert');\n",
              "      buttonEl.style.display =\n",
              "        google.colab.kernel.accessAllowed ? 'block' : 'none';\n",
              "\n",
              "      async function convertToInteractive(key) {\n",
              "        const element = document.querySelector('#df-59a2b9a3-77f2-40f0-abb2-d1bd710999f7');\n",
              "        const dataTable =\n",
              "          await google.colab.kernel.invokeFunction('convertToInteractive',\n",
              "                                                    [key], {});\n",
              "        if (!dataTable) return;\n",
              "\n",
              "        const docLinkHtml = 'Like what you see? Visit the ' +\n",
              "          '<a target=\"_blank\" href=https://colab.research.google.com/notebooks/data_table.ipynb>data table notebook</a>'\n",
              "          + ' to learn more about interactive tables.';\n",
              "        element.innerHTML = '';\n",
              "        dataTable['output_type'] = 'display_data';\n",
              "        await google.colab.output.renderOutput(dataTable, element);\n",
              "        const docLink = document.createElement('div');\n",
              "        docLink.innerHTML = docLinkHtml;\n",
              "        element.appendChild(docLink);\n",
              "      }\n",
              "    </script>\n",
              "  </div>\n",
              "\n",
              "\n",
              "    <div id=\"df-f9c46cf8-d4a8-4eb4-97a1-a262fc6def60\">\n",
              "      <button class=\"colab-df-quickchart\" onclick=\"quickchart('df-f9c46cf8-d4a8-4eb4-97a1-a262fc6def60')\"\n",
              "                title=\"Suggest charts\"\n",
              "                style=\"display:none;\">\n",
              "\n",
              "<svg xmlns=\"http://www.w3.org/2000/svg\" height=\"24px\"viewBox=\"0 0 24 24\"\n",
              "     width=\"24px\">\n",
              "    <g>\n",
              "        <path d=\"M19 3H5c-1.1 0-2 .9-2 2v14c0 1.1.9 2 2 2h14c1.1 0 2-.9 2-2V5c0-1.1-.9-2-2-2zM9 17H7v-7h2v7zm4 0h-2V7h2v10zm4 0h-2v-4h2v4z\"/>\n",
              "    </g>\n",
              "</svg>\n",
              "      </button>\n",
              "\n",
              "<style>\n",
              "  .colab-df-quickchart {\n",
              "      --bg-color: #E8F0FE;\n",
              "      --fill-color: #1967D2;\n",
              "      --hover-bg-color: #E2EBFA;\n",
              "      --hover-fill-color: #174EA6;\n",
              "      --disabled-fill-color: #AAA;\n",
              "      --disabled-bg-color: #DDD;\n",
              "  }\n",
              "\n",
              "  [theme=dark] .colab-df-quickchart {\n",
              "      --bg-color: #3B4455;\n",
              "      --fill-color: #D2E3FC;\n",
              "      --hover-bg-color: #434B5C;\n",
              "      --hover-fill-color: #FFFFFF;\n",
              "      --disabled-bg-color: #3B4455;\n",
              "      --disabled-fill-color: #666;\n",
              "  }\n",
              "\n",
              "  .colab-df-quickchart {\n",
              "    background-color: var(--bg-color);\n",
              "    border: none;\n",
              "    border-radius: 50%;\n",
              "    cursor: pointer;\n",
              "    display: none;\n",
              "    fill: var(--fill-color);\n",
              "    height: 32px;\n",
              "    padding: 0;\n",
              "    width: 32px;\n",
              "  }\n",
              "\n",
              "  .colab-df-quickchart:hover {\n",
              "    background-color: var(--hover-bg-color);\n",
              "    box-shadow: 0 1px 2px rgba(60, 64, 67, 0.3), 0 1px 3px 1px rgba(60, 64, 67, 0.15);\n",
              "    fill: var(--button-hover-fill-color);\n",
              "  }\n",
              "\n",
              "  .colab-df-quickchart-complete:disabled,\n",
              "  .colab-df-quickchart-complete:disabled:hover {\n",
              "    background-color: var(--disabled-bg-color);\n",
              "    fill: var(--disabled-fill-color);\n",
              "    box-shadow: none;\n",
              "  }\n",
              "\n",
              "  .colab-df-spinner {\n",
              "    border: 2px solid var(--fill-color);\n",
              "    border-color: transparent;\n",
              "    border-bottom-color: var(--fill-color);\n",
              "    animation:\n",
              "      spin 1s steps(1) infinite;\n",
              "  }\n",
              "\n",
              "  @keyframes spin {\n",
              "    0% {\n",
              "      border-color: transparent;\n",
              "      border-bottom-color: var(--fill-color);\n",
              "      border-left-color: var(--fill-color);\n",
              "    }\n",
              "    20% {\n",
              "      border-color: transparent;\n",
              "      border-left-color: var(--fill-color);\n",
              "      border-top-color: var(--fill-color);\n",
              "    }\n",
              "    30% {\n",
              "      border-color: transparent;\n",
              "      border-left-color: var(--fill-color);\n",
              "      border-top-color: var(--fill-color);\n",
              "      border-right-color: var(--fill-color);\n",
              "    }\n",
              "    40% {\n",
              "      border-color: transparent;\n",
              "      border-right-color: var(--fill-color);\n",
              "      border-top-color: var(--fill-color);\n",
              "    }\n",
              "    60% {\n",
              "      border-color: transparent;\n",
              "      border-right-color: var(--fill-color);\n",
              "    }\n",
              "    80% {\n",
              "      border-color: transparent;\n",
              "      border-right-color: var(--fill-color);\n",
              "      border-bottom-color: var(--fill-color);\n",
              "    }\n",
              "    90% {\n",
              "      border-color: transparent;\n",
              "      border-bottom-color: var(--fill-color);\n",
              "    }\n",
              "  }\n",
              "</style>\n",
              "\n",
              "      <script>\n",
              "        async function quickchart(key) {\n",
              "          const quickchartButtonEl =\n",
              "            document.querySelector('#' + key + ' button');\n",
              "          quickchartButtonEl.disabled = true;  // To prevent multiple clicks.\n",
              "          quickchartButtonEl.classList.add('colab-df-spinner');\n",
              "          try {\n",
              "            const charts = await google.colab.kernel.invokeFunction(\n",
              "                'suggestCharts', [key], {});\n",
              "          } catch (error) {\n",
              "            console.error('Error during call to suggestCharts:', error);\n",
              "          }\n",
              "          quickchartButtonEl.classList.remove('colab-df-spinner');\n",
              "          quickchartButtonEl.classList.add('colab-df-quickchart-complete');\n",
              "        }\n",
              "        (() => {\n",
              "          let quickchartButtonEl =\n",
              "            document.querySelector('#df-f9c46cf8-d4a8-4eb4-97a1-a262fc6def60 button');\n",
              "          quickchartButtonEl.style.display =\n",
              "            google.colab.kernel.accessAllowed ? 'block' : 'none';\n",
              "        })();\n",
              "      </script>\n",
              "    </div>\n",
              "\n",
              "    </div>\n",
              "  </div>\n"
            ],
            "application/vnd.google.colaboratory.intrinsic+json": {
              "type": "dataframe",
              "variable_name": "results",
              "summary": "{\n  \"name\": \"results\",\n  \"rows\": 50,\n  \"fields\": [\n    {\n      \"column\": \"y_true\",\n      \"properties\": {\n        \"dtype\": \"number\",\n        \"std\": 22.38896112244212,\n        \"min\": 52.61442985307799,\n        \"max\": 142.65589819742075,\n        \"num_unique_values\": 50,\n        \"samples\": [\n          104.19442989554263,\n          110.81980607345868,\n          82.89505777138362\n        ],\n        \"semantic_type\": \"\",\n        \"description\": \"\"\n      }\n    },\n    {\n      \"column\": \"y_pred\",\n      \"properties\": {\n        \"dtype\": \"number\",\n        \"std\": 24.536777496771432,\n        \"min\": 54.217274647749825,\n        \"max\": 160.47512463496773,\n        \"num_unique_values\": 50,\n        \"samples\": [\n          92.07578798504449,\n          98.07668055131344,\n          64.7677286276174\n        ],\n        \"semantic_type\": \"\",\n        \"description\": \"\"\n      }\n    }\n  ]\n}"
            }
          },
          "metadata": {},
          "execution_count": 29
        }
      ]
    },
    {
      "cell_type": "code",
      "metadata": {
        "id": "SPMt-m1e78VI",
        "colab": {
          "base_uri": "https://localhost:8080/",
          "height": 206
        },
        "outputId": "05ba7447-f881-473a-fffb-4fa027110f61"
      },
      "source": [
        "results['error'] = results['y_true'] - results['y_pred']\n",
        "results.head()"
      ],
      "execution_count": 30,
      "outputs": [
        {
          "output_type": "execute_result",
          "data": {
            "text/plain": [
              "       y_true      y_pred      error\n",
              "0  114.978079  100.949967  14.028112\n",
              "1   90.998448  111.425383 -20.426935\n",
              "2   83.021415   83.750459  -0.729043\n",
              "3   90.861152  101.367729 -10.506577\n",
              "4   89.011373   91.701591  -2.690218"
            ],
            "text/html": [
              "\n",
              "  <div id=\"df-b3d12b20-6436-4946-81ea-0edc7958df13\" class=\"colab-df-container\">\n",
              "    <div>\n",
              "<style scoped>\n",
              "    .dataframe tbody tr th:only-of-type {\n",
              "        vertical-align: middle;\n",
              "    }\n",
              "\n",
              "    .dataframe tbody tr th {\n",
              "        vertical-align: top;\n",
              "    }\n",
              "\n",
              "    .dataframe thead th {\n",
              "        text-align: right;\n",
              "    }\n",
              "</style>\n",
              "<table border=\"1\" class=\"dataframe\">\n",
              "  <thead>\n",
              "    <tr style=\"text-align: right;\">\n",
              "      <th></th>\n",
              "      <th>y_true</th>\n",
              "      <th>y_pred</th>\n",
              "      <th>error</th>\n",
              "    </tr>\n",
              "  </thead>\n",
              "  <tbody>\n",
              "    <tr>\n",
              "      <th>0</th>\n",
              "      <td>114.978079</td>\n",
              "      <td>100.949967</td>\n",
              "      <td>14.028112</td>\n",
              "    </tr>\n",
              "    <tr>\n",
              "      <th>1</th>\n",
              "      <td>90.998448</td>\n",
              "      <td>111.425383</td>\n",
              "      <td>-20.426935</td>\n",
              "    </tr>\n",
              "    <tr>\n",
              "      <th>2</th>\n",
              "      <td>83.021415</td>\n",
              "      <td>83.750459</td>\n",
              "      <td>-0.729043</td>\n",
              "    </tr>\n",
              "    <tr>\n",
              "      <th>3</th>\n",
              "      <td>90.861152</td>\n",
              "      <td>101.367729</td>\n",
              "      <td>-10.506577</td>\n",
              "    </tr>\n",
              "    <tr>\n",
              "      <th>4</th>\n",
              "      <td>89.011373</td>\n",
              "      <td>91.701591</td>\n",
              "      <td>-2.690218</td>\n",
              "    </tr>\n",
              "  </tbody>\n",
              "</table>\n",
              "</div>\n",
              "    <div class=\"colab-df-buttons\">\n",
              "\n",
              "  <div class=\"colab-df-container\">\n",
              "    <button class=\"colab-df-convert\" onclick=\"convertToInteractive('df-b3d12b20-6436-4946-81ea-0edc7958df13')\"\n",
              "            title=\"Convert this dataframe to an interactive table.\"\n",
              "            style=\"display:none;\">\n",
              "\n",
              "  <svg xmlns=\"http://www.w3.org/2000/svg\" height=\"24px\" viewBox=\"0 -960 960 960\">\n",
              "    <path d=\"M120-120v-720h720v720H120Zm60-500h600v-160H180v160Zm220 220h160v-160H400v160Zm0 220h160v-160H400v160ZM180-400h160v-160H180v160Zm440 0h160v-160H620v160ZM180-180h160v-160H180v160Zm440 0h160v-160H620v160Z\"/>\n",
              "  </svg>\n",
              "    </button>\n",
              "\n",
              "  <style>\n",
              "    .colab-df-container {\n",
              "      display:flex;\n",
              "      gap: 12px;\n",
              "    }\n",
              "\n",
              "    .colab-df-convert {\n",
              "      background-color: #E8F0FE;\n",
              "      border: none;\n",
              "      border-radius: 50%;\n",
              "      cursor: pointer;\n",
              "      display: none;\n",
              "      fill: #1967D2;\n",
              "      height: 32px;\n",
              "      padding: 0 0 0 0;\n",
              "      width: 32px;\n",
              "    }\n",
              "\n",
              "    .colab-df-convert:hover {\n",
              "      background-color: #E2EBFA;\n",
              "      box-shadow: 0px 1px 2px rgba(60, 64, 67, 0.3), 0px 1px 3px 1px rgba(60, 64, 67, 0.15);\n",
              "      fill: #174EA6;\n",
              "    }\n",
              "\n",
              "    .colab-df-buttons div {\n",
              "      margin-bottom: 4px;\n",
              "    }\n",
              "\n",
              "    [theme=dark] .colab-df-convert {\n",
              "      background-color: #3B4455;\n",
              "      fill: #D2E3FC;\n",
              "    }\n",
              "\n",
              "    [theme=dark] .colab-df-convert:hover {\n",
              "      background-color: #434B5C;\n",
              "      box-shadow: 0px 1px 3px 1px rgba(0, 0, 0, 0.15);\n",
              "      filter: drop-shadow(0px 1px 2px rgba(0, 0, 0, 0.3));\n",
              "      fill: #FFFFFF;\n",
              "    }\n",
              "  </style>\n",
              "\n",
              "    <script>\n",
              "      const buttonEl =\n",
              "        document.querySelector('#df-b3d12b20-6436-4946-81ea-0edc7958df13 button.colab-df-convert');\n",
              "      buttonEl.style.display =\n",
              "        google.colab.kernel.accessAllowed ? 'block' : 'none';\n",
              "\n",
              "      async function convertToInteractive(key) {\n",
              "        const element = document.querySelector('#df-b3d12b20-6436-4946-81ea-0edc7958df13');\n",
              "        const dataTable =\n",
              "          await google.colab.kernel.invokeFunction('convertToInteractive',\n",
              "                                                    [key], {});\n",
              "        if (!dataTable) return;\n",
              "\n",
              "        const docLinkHtml = 'Like what you see? Visit the ' +\n",
              "          '<a target=\"_blank\" href=https://colab.research.google.com/notebooks/data_table.ipynb>data table notebook</a>'\n",
              "          + ' to learn more about interactive tables.';\n",
              "        element.innerHTML = '';\n",
              "        dataTable['output_type'] = 'display_data';\n",
              "        await google.colab.output.renderOutput(dataTable, element);\n",
              "        const docLink = document.createElement('div');\n",
              "        docLink.innerHTML = docLinkHtml;\n",
              "        element.appendChild(docLink);\n",
              "      }\n",
              "    </script>\n",
              "  </div>\n",
              "\n",
              "\n",
              "    <div id=\"df-f7ee3eb4-f000-40d3-b25b-c2cf2760e16b\">\n",
              "      <button class=\"colab-df-quickchart\" onclick=\"quickchart('df-f7ee3eb4-f000-40d3-b25b-c2cf2760e16b')\"\n",
              "                title=\"Suggest charts\"\n",
              "                style=\"display:none;\">\n",
              "\n",
              "<svg xmlns=\"http://www.w3.org/2000/svg\" height=\"24px\"viewBox=\"0 0 24 24\"\n",
              "     width=\"24px\">\n",
              "    <g>\n",
              "        <path d=\"M19 3H5c-1.1 0-2 .9-2 2v14c0 1.1.9 2 2 2h14c1.1 0 2-.9 2-2V5c0-1.1-.9-2-2-2zM9 17H7v-7h2v7zm4 0h-2V7h2v10zm4 0h-2v-4h2v4z\"/>\n",
              "    </g>\n",
              "</svg>\n",
              "      </button>\n",
              "\n",
              "<style>\n",
              "  .colab-df-quickchart {\n",
              "      --bg-color: #E8F0FE;\n",
              "      --fill-color: #1967D2;\n",
              "      --hover-bg-color: #E2EBFA;\n",
              "      --hover-fill-color: #174EA6;\n",
              "      --disabled-fill-color: #AAA;\n",
              "      --disabled-bg-color: #DDD;\n",
              "  }\n",
              "\n",
              "  [theme=dark] .colab-df-quickchart {\n",
              "      --bg-color: #3B4455;\n",
              "      --fill-color: #D2E3FC;\n",
              "      --hover-bg-color: #434B5C;\n",
              "      --hover-fill-color: #FFFFFF;\n",
              "      --disabled-bg-color: #3B4455;\n",
              "      --disabled-fill-color: #666;\n",
              "  }\n",
              "\n",
              "  .colab-df-quickchart {\n",
              "    background-color: var(--bg-color);\n",
              "    border: none;\n",
              "    border-radius: 50%;\n",
              "    cursor: pointer;\n",
              "    display: none;\n",
              "    fill: var(--fill-color);\n",
              "    height: 32px;\n",
              "    padding: 0;\n",
              "    width: 32px;\n",
              "  }\n",
              "\n",
              "  .colab-df-quickchart:hover {\n",
              "    background-color: var(--hover-bg-color);\n",
              "    box-shadow: 0 1px 2px rgba(60, 64, 67, 0.3), 0 1px 3px 1px rgba(60, 64, 67, 0.15);\n",
              "    fill: var(--button-hover-fill-color);\n",
              "  }\n",
              "\n",
              "  .colab-df-quickchart-complete:disabled,\n",
              "  .colab-df-quickchart-complete:disabled:hover {\n",
              "    background-color: var(--disabled-bg-color);\n",
              "    fill: var(--disabled-fill-color);\n",
              "    box-shadow: none;\n",
              "  }\n",
              "\n",
              "  .colab-df-spinner {\n",
              "    border: 2px solid var(--fill-color);\n",
              "    border-color: transparent;\n",
              "    border-bottom-color: var(--fill-color);\n",
              "    animation:\n",
              "      spin 1s steps(1) infinite;\n",
              "  }\n",
              "\n",
              "  @keyframes spin {\n",
              "    0% {\n",
              "      border-color: transparent;\n",
              "      border-bottom-color: var(--fill-color);\n",
              "      border-left-color: var(--fill-color);\n",
              "    }\n",
              "    20% {\n",
              "      border-color: transparent;\n",
              "      border-left-color: var(--fill-color);\n",
              "      border-top-color: var(--fill-color);\n",
              "    }\n",
              "    30% {\n",
              "      border-color: transparent;\n",
              "      border-left-color: var(--fill-color);\n",
              "      border-top-color: var(--fill-color);\n",
              "      border-right-color: var(--fill-color);\n",
              "    }\n",
              "    40% {\n",
              "      border-color: transparent;\n",
              "      border-right-color: var(--fill-color);\n",
              "      border-top-color: var(--fill-color);\n",
              "    }\n",
              "    60% {\n",
              "      border-color: transparent;\n",
              "      border-right-color: var(--fill-color);\n",
              "    }\n",
              "    80% {\n",
              "      border-color: transparent;\n",
              "      border-right-color: var(--fill-color);\n",
              "      border-bottom-color: var(--fill-color);\n",
              "    }\n",
              "    90% {\n",
              "      border-color: transparent;\n",
              "      border-bottom-color: var(--fill-color);\n",
              "    }\n",
              "  }\n",
              "</style>\n",
              "\n",
              "      <script>\n",
              "        async function quickchart(key) {\n",
              "          const quickchartButtonEl =\n",
              "            document.querySelector('#' + key + ' button');\n",
              "          quickchartButtonEl.disabled = true;  // To prevent multiple clicks.\n",
              "          quickchartButtonEl.classList.add('colab-df-spinner');\n",
              "          try {\n",
              "            const charts = await google.colab.kernel.invokeFunction(\n",
              "                'suggestCharts', [key], {});\n",
              "          } catch (error) {\n",
              "            console.error('Error during call to suggestCharts:', error);\n",
              "          }\n",
              "          quickchartButtonEl.classList.remove('colab-df-spinner');\n",
              "          quickchartButtonEl.classList.add('colab-df-quickchart-complete');\n",
              "        }\n",
              "        (() => {\n",
              "          let quickchartButtonEl =\n",
              "            document.querySelector('#df-f7ee3eb4-f000-40d3-b25b-c2cf2760e16b button');\n",
              "          quickchartButtonEl.style.display =\n",
              "            google.colab.kernel.accessAllowed ? 'block' : 'none';\n",
              "        })();\n",
              "      </script>\n",
              "    </div>\n",
              "\n",
              "    </div>\n",
              "  </div>\n"
            ],
            "application/vnd.google.colaboratory.intrinsic+json": {
              "type": "dataframe",
              "variable_name": "results",
              "summary": "{\n  \"name\": \"results\",\n  \"rows\": 50,\n  \"fields\": [\n    {\n      \"column\": \"y_true\",\n      \"properties\": {\n        \"dtype\": \"number\",\n        \"std\": 22.38896112244212,\n        \"min\": 52.61442985307799,\n        \"max\": 142.65589819742075,\n        \"num_unique_values\": 50,\n        \"samples\": [\n          104.19442989554263,\n          110.81980607345868,\n          82.89505777138362\n        ],\n        \"semantic_type\": \"\",\n        \"description\": \"\"\n      }\n    },\n    {\n      \"column\": \"y_pred\",\n      \"properties\": {\n        \"dtype\": \"number\",\n        \"std\": 24.536777496771432,\n        \"min\": 54.217274647749825,\n        \"max\": 160.47512463496773,\n        \"num_unique_values\": 50,\n        \"samples\": [\n          92.07578798504449,\n          98.07668055131344,\n          64.7677286276174\n        ],\n        \"semantic_type\": \"\",\n        \"description\": \"\"\n      }\n    },\n    {\n      \"column\": \"error\",\n      \"properties\": {\n        \"dtype\": \"number\",\n        \"std\": 10.121734179032078,\n        \"min\": -21.964752793844866,\n        \"max\": 26.84238521665801,\n        \"num_unique_values\": 50,\n        \"samples\": [\n          12.118641910498141,\n          12.743125522145235,\n          18.127329143766218\n        ],\n        \"semantic_type\": \"\",\n        \"description\": \"\"\n      }\n    }\n  ]\n}"
            }
          },
          "metadata": {},
          "execution_count": 30
        }
      ]
    },
    {
      "cell_type": "markdown",
      "metadata": {
        "id": "JkXYHzBlCrXB"
      },
      "source": [
        "### <a name='a1'></a> 2. Metryki\n",
        "### <a name='a2'></a> 2.1 Interpretacja graficzna"
      ]
    },
    {
      "cell_type": "code",
      "metadata": {
        "id": "aFdc5zl6_bih",
        "colab": {
          "base_uri": "https://localhost:8080/",
          "height": 542
        },
        "outputId": "818a62f8-cd3a-44eb-c972-5969e529ad6f"
      },
      "source": [
        "def plot_regression_results(y_true, y_pred):\n",
        "    results = pd.DataFrame({'y_true': y_true, 'y_pred': y_pred})\n",
        "    min = results[['y_true', 'y_pred']].min().min()\n",
        "    max = results[['y_true', 'y_pred']].max().max()\n",
        "\n",
        "    fig = go.Figure(data=[go.Scatter(x=results['y_true'], y=results['y_pred'], mode='markers'),\n",
        "                    go.Scatter(x=[min, max], y=[min, max])],\n",
        "                    layout=go.Layout(showlegend=False, width=800,\n",
        "                                     xaxis_title='y_true',\n",
        "                                     yaxis_title='y_pred',\n",
        "                                     title='Regression results'))\n",
        "    fig.show()\n",
        "plot_regression_results(y_true, y_pred)"
      ],
      "execution_count": 31,
      "outputs": [
        {
          "output_type": "display_data",
          "data": {
            "text/html": [
              "<html>\n",
              "<head><meta charset=\"utf-8\" /></head>\n",
              "<body>\n",
              "    <div>            <script src=\"https://cdnjs.cloudflare.com/ajax/libs/mathjax/2.7.5/MathJax.js?config=TeX-AMS-MML_SVG\"></script><script type=\"text/javascript\">if (window.MathJax && window.MathJax.Hub && window.MathJax.Hub.Config) {window.MathJax.Hub.Config({SVG: {font: \"STIX-Web\"}});}</script>                <script type=\"text/javascript\">window.PlotlyConfig = {MathJaxConfig: 'local'};</script>\n",
              "        <script charset=\"utf-8\" src=\"https://cdn.plot.ly/plotly-2.35.2.min.js\"></script>                <div id=\"b2307a26-8820-4602-b4f7-6314f0cf4d23\" class=\"plotly-graph-div\" style=\"height:525px; width:800px;\"></div>            <script type=\"text/javascript\">                                    window.PLOTLYENV=window.PLOTLYENV || {};                                    if (document.getElementById(\"b2307a26-8820-4602-b4f7-6314f0cf4d23\")) {                    Plotly.newPlot(                        \"b2307a26-8820-4602-b4f7-6314f0cf4d23\",                        [{\"mode\":\"markers\",\"x\":[114.97807912576401,90.99844843986341,83.02141543801356,90.8611522377636,89.01137285311731,59.48675618434275,118.9973692811218,98.33893485000291,135.1423678432304,79.00811938299674,109.1591593758682,113.78717848703386,101.24883608585313,104.19442989554263,108.23312022047583,94.30924728848906,78.4982926140159,85.91532210990968,60.58761697211957,133.05599096853055,124.00999753362898,140.9228119612434,130.60527119980756,81.32666738054289,113.33834836733742,106.699512409501,119.96392803426217,87.6005557006218,80.08359003562651,110.67422211189218,82.89505777138362,83.3665240450333,142.65589819742075,136.16084199433578,140.3385889741668,92.09932363156138,121.4685112437616,104.68098893784861,133.55053008178152,110.81980607345868,107.53378446240013,120.56414991740559,81.60427731056376,74.39324640852391,52.61442985307799,90.46829068922993,103.6965216984105,120.25200839411104,87.56511580608269,123.13149108132798],\"y\":[100.94996704884356,111.42538321340085,83.75045854607238,101.36772936149927,91.70159094988362,62.12709564169865,112.91537154862183,95.05859489316617,143.0501774756411,79.59298949095303,114.5370833766845,112.69487725520322,100.51257345520641,92.07578798504449,93.53080975874958,106.46429714700253,86.27261950419583,94.98506230449115,70.37947768694991,122.20049533264468,117.97536589426126,151.37467206758257,132.52013542190159,86.03086751284238,111.69216820691278,99.72225713979279,116.6892037039,60.75817048396379,72.15392087902676,117.59456075986061,64.7677286276174,70.09508455415813,160.47512463496773,127.86882561066551,130.11406698874828,92.06008894716177,122.37763029926597,108.64848828048675,138.45818590616813,98.07668055131344,97.49472042280917,121.85261327300326,103.56903010440863,60.23495963283316,54.217274647749825,76.97086435907296,105.45084641865405,126.75931201445806,83.22033210773333,126.43790415375692],\"type\":\"scatter\"},{\"x\":[52.61442985307799,160.47512463496773],\"y\":[52.61442985307799,160.47512463496773],\"type\":\"scatter\"}],                        {\"showlegend\":false,\"title\":{\"text\":\"Regression results\"},\"width\":800,\"xaxis\":{\"title\":{\"text\":\"y_true\"}},\"yaxis\":{\"title\":{\"text\":\"y_pred\"}},\"template\":{\"data\":{\"histogram2dcontour\":[{\"type\":\"histogram2dcontour\",\"colorbar\":{\"outlinewidth\":0,\"ticks\":\"\"},\"colorscale\":[[0.0,\"#0d0887\"],[0.1111111111111111,\"#46039f\"],[0.2222222222222222,\"#7201a8\"],[0.3333333333333333,\"#9c179e\"],[0.4444444444444444,\"#bd3786\"],[0.5555555555555556,\"#d8576b\"],[0.6666666666666666,\"#ed7953\"],[0.7777777777777778,\"#fb9f3a\"],[0.8888888888888888,\"#fdca26\"],[1.0,\"#f0f921\"]]}],\"choropleth\":[{\"type\":\"choropleth\",\"colorbar\":{\"outlinewidth\":0,\"ticks\":\"\"}}],\"histogram2d\":[{\"type\":\"histogram2d\",\"colorbar\":{\"outlinewidth\":0,\"ticks\":\"\"},\"colorscale\":[[0.0,\"#0d0887\"],[0.1111111111111111,\"#46039f\"],[0.2222222222222222,\"#7201a8\"],[0.3333333333333333,\"#9c179e\"],[0.4444444444444444,\"#bd3786\"],[0.5555555555555556,\"#d8576b\"],[0.6666666666666666,\"#ed7953\"],[0.7777777777777778,\"#fb9f3a\"],[0.8888888888888888,\"#fdca26\"],[1.0,\"#f0f921\"]]}],\"heatmap\":[{\"type\":\"heatmap\",\"colorbar\":{\"outlinewidth\":0,\"ticks\":\"\"},\"colorscale\":[[0.0,\"#0d0887\"],[0.1111111111111111,\"#46039f\"],[0.2222222222222222,\"#7201a8\"],[0.3333333333333333,\"#9c179e\"],[0.4444444444444444,\"#bd3786\"],[0.5555555555555556,\"#d8576b\"],[0.6666666666666666,\"#ed7953\"],[0.7777777777777778,\"#fb9f3a\"],[0.8888888888888888,\"#fdca26\"],[1.0,\"#f0f921\"]]}],\"heatmapgl\":[{\"type\":\"heatmapgl\",\"colorbar\":{\"outlinewidth\":0,\"ticks\":\"\"},\"colorscale\":[[0.0,\"#0d0887\"],[0.1111111111111111,\"#46039f\"],[0.2222222222222222,\"#7201a8\"],[0.3333333333333333,\"#9c179e\"],[0.4444444444444444,\"#bd3786\"],[0.5555555555555556,\"#d8576b\"],[0.6666666666666666,\"#ed7953\"],[0.7777777777777778,\"#fb9f3a\"],[0.8888888888888888,\"#fdca26\"],[1.0,\"#f0f921\"]]}],\"contourcarpet\":[{\"type\":\"contourcarpet\",\"colorbar\":{\"outlinewidth\":0,\"ticks\":\"\"}}],\"contour\":[{\"type\":\"contour\",\"colorbar\":{\"outlinewidth\":0,\"ticks\":\"\"},\"colorscale\":[[0.0,\"#0d0887\"],[0.1111111111111111,\"#46039f\"],[0.2222222222222222,\"#7201a8\"],[0.3333333333333333,\"#9c179e\"],[0.4444444444444444,\"#bd3786\"],[0.5555555555555556,\"#d8576b\"],[0.6666666666666666,\"#ed7953\"],[0.7777777777777778,\"#fb9f3a\"],[0.8888888888888888,\"#fdca26\"],[1.0,\"#f0f921\"]]}],\"surface\":[{\"type\":\"surface\",\"colorbar\":{\"outlinewidth\":0,\"ticks\":\"\"},\"colorscale\":[[0.0,\"#0d0887\"],[0.1111111111111111,\"#46039f\"],[0.2222222222222222,\"#7201a8\"],[0.3333333333333333,\"#9c179e\"],[0.4444444444444444,\"#bd3786\"],[0.5555555555555556,\"#d8576b\"],[0.6666666666666666,\"#ed7953\"],[0.7777777777777778,\"#fb9f3a\"],[0.8888888888888888,\"#fdca26\"],[1.0,\"#f0f921\"]]}],\"mesh3d\":[{\"type\":\"mesh3d\",\"colorbar\":{\"outlinewidth\":0,\"ticks\":\"\"}}],\"scatter\":[{\"fillpattern\":{\"fillmode\":\"overlay\",\"size\":10,\"solidity\":0.2},\"type\":\"scatter\"}],\"parcoords\":[{\"type\":\"parcoords\",\"line\":{\"colorbar\":{\"outlinewidth\":0,\"ticks\":\"\"}}}],\"scatterpolargl\":[{\"type\":\"scatterpolargl\",\"marker\":{\"colorbar\":{\"outlinewidth\":0,\"ticks\":\"\"}}}],\"bar\":[{\"error_x\":{\"color\":\"#2a3f5f\"},\"error_y\":{\"color\":\"#2a3f5f\"},\"marker\":{\"line\":{\"color\":\"#E5ECF6\",\"width\":0.5},\"pattern\":{\"fillmode\":\"overlay\",\"size\":10,\"solidity\":0.2}},\"type\":\"bar\"}],\"scattergeo\":[{\"type\":\"scattergeo\",\"marker\":{\"colorbar\":{\"outlinewidth\":0,\"ticks\":\"\"}}}],\"scatterpolar\":[{\"type\":\"scatterpolar\",\"marker\":{\"colorbar\":{\"outlinewidth\":0,\"ticks\":\"\"}}}],\"histogram\":[{\"marker\":{\"pattern\":{\"fillmode\":\"overlay\",\"size\":10,\"solidity\":0.2}},\"type\":\"histogram\"}],\"scattergl\":[{\"type\":\"scattergl\",\"marker\":{\"colorbar\":{\"outlinewidth\":0,\"ticks\":\"\"}}}],\"scatter3d\":[{\"type\":\"scatter3d\",\"line\":{\"colorbar\":{\"outlinewidth\":0,\"ticks\":\"\"}},\"marker\":{\"colorbar\":{\"outlinewidth\":0,\"ticks\":\"\"}}}],\"scattermapbox\":[{\"type\":\"scattermapbox\",\"marker\":{\"colorbar\":{\"outlinewidth\":0,\"ticks\":\"\"}}}],\"scatterternary\":[{\"type\":\"scatterternary\",\"marker\":{\"colorbar\":{\"outlinewidth\":0,\"ticks\":\"\"}}}],\"scattercarpet\":[{\"type\":\"scattercarpet\",\"marker\":{\"colorbar\":{\"outlinewidth\":0,\"ticks\":\"\"}}}],\"carpet\":[{\"aaxis\":{\"endlinecolor\":\"#2a3f5f\",\"gridcolor\":\"white\",\"linecolor\":\"white\",\"minorgridcolor\":\"white\",\"startlinecolor\":\"#2a3f5f\"},\"baxis\":{\"endlinecolor\":\"#2a3f5f\",\"gridcolor\":\"white\",\"linecolor\":\"white\",\"minorgridcolor\":\"white\",\"startlinecolor\":\"#2a3f5f\"},\"type\":\"carpet\"}],\"table\":[{\"cells\":{\"fill\":{\"color\":\"#EBF0F8\"},\"line\":{\"color\":\"white\"}},\"header\":{\"fill\":{\"color\":\"#C8D4E3\"},\"line\":{\"color\":\"white\"}},\"type\":\"table\"}],\"barpolar\":[{\"marker\":{\"line\":{\"color\":\"#E5ECF6\",\"width\":0.5},\"pattern\":{\"fillmode\":\"overlay\",\"size\":10,\"solidity\":0.2}},\"type\":\"barpolar\"}],\"pie\":[{\"automargin\":true,\"type\":\"pie\"}]},\"layout\":{\"autotypenumbers\":\"strict\",\"colorway\":[\"#636efa\",\"#EF553B\",\"#00cc96\",\"#ab63fa\",\"#FFA15A\",\"#19d3f3\",\"#FF6692\",\"#B6E880\",\"#FF97FF\",\"#FECB52\"],\"font\":{\"color\":\"#2a3f5f\"},\"hovermode\":\"closest\",\"hoverlabel\":{\"align\":\"left\"},\"paper_bgcolor\":\"white\",\"plot_bgcolor\":\"#E5ECF6\",\"polar\":{\"bgcolor\":\"#E5ECF6\",\"angularaxis\":{\"gridcolor\":\"white\",\"linecolor\":\"white\",\"ticks\":\"\"},\"radialaxis\":{\"gridcolor\":\"white\",\"linecolor\":\"white\",\"ticks\":\"\"}},\"ternary\":{\"bgcolor\":\"#E5ECF6\",\"aaxis\":{\"gridcolor\":\"white\",\"linecolor\":\"white\",\"ticks\":\"\"},\"baxis\":{\"gridcolor\":\"white\",\"linecolor\":\"white\",\"ticks\":\"\"},\"caxis\":{\"gridcolor\":\"white\",\"linecolor\":\"white\",\"ticks\":\"\"}},\"coloraxis\":{\"colorbar\":{\"outlinewidth\":0,\"ticks\":\"\"}},\"colorscale\":{\"sequential\":[[0.0,\"#0d0887\"],[0.1111111111111111,\"#46039f\"],[0.2222222222222222,\"#7201a8\"],[0.3333333333333333,\"#9c179e\"],[0.4444444444444444,\"#bd3786\"],[0.5555555555555556,\"#d8576b\"],[0.6666666666666666,\"#ed7953\"],[0.7777777777777778,\"#fb9f3a\"],[0.8888888888888888,\"#fdca26\"],[1.0,\"#f0f921\"]],\"sequentialminus\":[[0.0,\"#0d0887\"],[0.1111111111111111,\"#46039f\"],[0.2222222222222222,\"#7201a8\"],[0.3333333333333333,\"#9c179e\"],[0.4444444444444444,\"#bd3786\"],[0.5555555555555556,\"#d8576b\"],[0.6666666666666666,\"#ed7953\"],[0.7777777777777778,\"#fb9f3a\"],[0.8888888888888888,\"#fdca26\"],[1.0,\"#f0f921\"]],\"diverging\":[[0,\"#8e0152\"],[0.1,\"#c51b7d\"],[0.2,\"#de77ae\"],[0.3,\"#f1b6da\"],[0.4,\"#fde0ef\"],[0.5,\"#f7f7f7\"],[0.6,\"#e6f5d0\"],[0.7,\"#b8e186\"],[0.8,\"#7fbc41\"],[0.9,\"#4d9221\"],[1,\"#276419\"]]},\"xaxis\":{\"gridcolor\":\"white\",\"linecolor\":\"white\",\"ticks\":\"\",\"title\":{\"standoff\":15},\"zerolinecolor\":\"white\",\"automargin\":true,\"zerolinewidth\":2},\"yaxis\":{\"gridcolor\":\"white\",\"linecolor\":\"white\",\"ticks\":\"\",\"title\":{\"standoff\":15},\"zerolinecolor\":\"white\",\"automargin\":true,\"zerolinewidth\":2},\"scene\":{\"xaxis\":{\"backgroundcolor\":\"#E5ECF6\",\"gridcolor\":\"white\",\"linecolor\":\"white\",\"showbackground\":true,\"ticks\":\"\",\"zerolinecolor\":\"white\",\"gridwidth\":2},\"yaxis\":{\"backgroundcolor\":\"#E5ECF6\",\"gridcolor\":\"white\",\"linecolor\":\"white\",\"showbackground\":true,\"ticks\":\"\",\"zerolinecolor\":\"white\",\"gridwidth\":2},\"zaxis\":{\"backgroundcolor\":\"#E5ECF6\",\"gridcolor\":\"white\",\"linecolor\":\"white\",\"showbackground\":true,\"ticks\":\"\",\"zerolinecolor\":\"white\",\"gridwidth\":2}},\"shapedefaults\":{\"line\":{\"color\":\"#2a3f5f\"}},\"annotationdefaults\":{\"arrowcolor\":\"#2a3f5f\",\"arrowhead\":0,\"arrowwidth\":1},\"geo\":{\"bgcolor\":\"white\",\"landcolor\":\"#E5ECF6\",\"subunitcolor\":\"white\",\"showland\":true,\"showlakes\":true,\"lakecolor\":\"white\"},\"title\":{\"x\":0.05},\"mapbox\":{\"style\":\"light\"}}}},                        {\"responsive\": true}                    ).then(function(){\n",
              "                            \n",
              "var gd = document.getElementById('b2307a26-8820-4602-b4f7-6314f0cf4d23');\n",
              "var x = new MutationObserver(function (mutations, observer) {{\n",
              "        var display = window.getComputedStyle(gd).display;\n",
              "        if (!display || display === 'none') {{\n",
              "            console.log([gd, 'removed!']);\n",
              "            Plotly.purge(gd);\n",
              "            observer.disconnect();\n",
              "        }}\n",
              "}});\n",
              "\n",
              "// Listen for the removal of the full notebook cells\n",
              "var notebookContainer = gd.closest('#notebook-container');\n",
              "if (notebookContainer) {{\n",
              "    x.observe(notebookContainer, {childList: true});\n",
              "}}\n",
              "\n",
              "// Listen for the clearing of the current output cell\n",
              "var outputEl = gd.closest('.output');\n",
              "if (outputEl) {{\n",
              "    x.observe(outputEl, {childList: true});\n",
              "}}\n",
              "\n",
              "                        })                };                            </script>        </div>\n",
              "</body>\n",
              "</html>"
            ]
          },
          "metadata": {}
        }
      ]
    },
    {
      "cell_type": "code",
      "metadata": {
        "id": "2j7Zs1XLDGCL",
        "colab": {
          "base_uri": "https://localhost:8080/",
          "height": 542
        },
        "outputId": "218c9738-8c4d-47ec-f5f6-0ff6b8f4d30d"
      },
      "source": [
        "y_true = 100 + 20 * np.random.randn(1000)\n",
        "y_pred = y_true + 10 * np.random.randn(1000)\n",
        "results = pd.DataFrame({'y_true': y_true, 'y_pred': y_pred})\n",
        "results['error'] = results['y_true'] - results['y_pred']\n",
        "\n",
        "px.histogram(results, x='error', nbins=50, width=800)"
      ],
      "execution_count": 32,
      "outputs": [
        {
          "output_type": "display_data",
          "data": {
            "text/html": [
              "<html>\n",
              "<head><meta charset=\"utf-8\" /></head>\n",
              "<body>\n",
              "    <div>            <script src=\"https://cdnjs.cloudflare.com/ajax/libs/mathjax/2.7.5/MathJax.js?config=TeX-AMS-MML_SVG\"></script><script type=\"text/javascript\">if (window.MathJax && window.MathJax.Hub && window.MathJax.Hub.Config) {window.MathJax.Hub.Config({SVG: {font: \"STIX-Web\"}});}</script>                <script type=\"text/javascript\">window.PlotlyConfig = {MathJaxConfig: 'local'};</script>\n",
              "        <script charset=\"utf-8\" src=\"https://cdn.plot.ly/plotly-2.35.2.min.js\"></script>                <div id=\"2811bc3b-29c6-4465-8007-396187987053\" class=\"plotly-graph-div\" style=\"height:525px; width:800px;\"></div>            <script type=\"text/javascript\">                                    window.PLOTLYENV=window.PLOTLYENV || {};                                    if (document.getElementById(\"2811bc3b-29c6-4465-8007-396187987053\")) {                    Plotly.newPlot(                        \"2811bc3b-29c6-4465-8007-396187987053\",                        [{\"alignmentgroup\":\"True\",\"bingroup\":\"x\",\"hovertemplate\":\"error=%{x}\\u003cbr\\u003ecount=%{y}\\u003cextra\\u003e\\u003c\\u002fextra\\u003e\",\"legendgroup\":\"\",\"marker\":{\"color\":\"#636efa\",\"pattern\":{\"shape\":\"\"}},\"name\":\"\",\"nbinsx\":50,\"offsetgroup\":\"\",\"orientation\":\"v\",\"showlegend\":false,\"x\":[14.711733614934673,-4.701189829321024,-8.388887017489353,7.288931362461938,0.9650721538287286,13.11228602945502,7.378977097449194,5.867850946940251,-0.5875566518642756,-2.4769140274598698,5.703401705055391,12.169447811844236,1.5199200626630613,16.008263349884928,-5.9649026664426685,4.07054755067999,3.178707473454992,16.191835362985245,-1.3417771406181203,-6.0917952045245585,-3.1266665168397694,1.6475771882774808,15.137957494500263,14.53743433366698,18.416651251888112,-9.668191652283056,5.303659653139718,13.819114827648207,-12.344361615444413,0.444802647971855,-6.154355045882127,4.81755593237574,23.33927559707081,2.720797937373021,-9.714550404023996,-5.1638599975282204,14.989260750610782,-3.017859959071785,-8.454547182620274,-11.802286868472635,18.348985167584303,-2.013807970715746,1.1911627538083707,16.60586915683446,-11.10018290147137,1.4372532758513472,-4.987530658314952,-1.1061753284804041,9.039539889970001,12.6413783427233,13.215738005851222,17.272090380873152,-11.46289191762321,-11.111456205325638,-3.6113306931740823,9.052233554658812,0.5948798879785073,-14.037242934446553,-14.385004721330674,5.733190550179174,2.2439153947099157,5.619732305153292,3.118770171441696,10.490554154249324,2.9504491752079076,-9.179222242008677,-5.745529041121799,8.276839970955479,-13.275198890795181,-5.245166647104867,11.535038882373797,8.771410992562622,-13.437357629218724,3.0237378719760954,4.272498330992789,10.541013113355163,7.460852155267915,-4.135451956307605,-19.513390503893362,2.5439010934861415,-18.985946482604078,-0.09006138306774858,6.5559440683306605,-2.465213560649815,-14.095199017868822,4.571869024499335,-18.25837172242086,-15.434625781173906,-7.234157127864847,-4.983963568420336,2.8052775289024225,-3.6979791203214347,6.235775514707541,0.39650180523287304,5.940752621713941,0.9568424418577166,-0.6904897821981706,6.822346152436339,2.067033233844363,9.01303981963305,-2.5846706711305387,13.327977892384425,2.5177875278278066,2.3017292418747104,1.4991086223489845,-2.288171021805951,7.840761816659736,-5.7660996673445055,-6.3546493700251006,-15.305835063029491,6.15889938387582,-12.095092424825992,2.657058999472369,4.984217446199565,9.457777799875856,-3.2562188240929686,20.491616500005406,-7.16816842173381,-3.526130813187933,-16.629721227053892,2.368471057144859,-3.996340754338263,-25.779802753112563,-7.663228297138474,1.970161562686343,1.4003951055395873,8.60345242522331,-4.581304826083169,0.7589675279104142,-3.0909878216785813,-4.594276197395416,-4.451729802012835,-5.673887022752524,9.115084269867964,8.227289343751409,-8.760311489961879,9.331009153095486,-10.322671430252242,-4.917844028281195,-2.5143262337456065,8.605880589273966,9.851432763384295,16.99154756801552,6.3337362954011525,-14.667178164870847,-0.620759309989225,-0.543002125358754,-0.5022777355429469,-17.247246062452973,-5.891869971934625,1.2662062973925572,6.042982917693017,-3.473233087988092,-14.053809507499267,4.08475788945627,13.93601601611104,-7.244061493234483,-2.8467468048413593,7.437101128212518,4.237351228801714,2.658056443015795,-13.3663061894771,-7.6641092900393915,1.9830495374190207,14.102531711867371,11.360084390973256,11.634579697151267,-18.403173940976927,-1.2635802988734781,-3.642675385446509,-0.4074967988457985,-2.0563632120006474,12.979215772548628,10.44960741810955,-10.750923044771369,-8.77990105966326,11.617083496921452,12.552911370569106,16.977928493341523,6.328868362912104,11.529370177926609,9.364600431174182,11.403814854492616,14.354142268328047,-8.018830111250168,9.74469854226291,8.432576152807485,-0.6455381560795672,6.531774572900744,-1.210486877280033,6.679367162408013,-1.0094369340010303,3.2413980077482734,-1.35417601434024,-16.627664930285846,-8.329116095051518,7.198931374662195,19.383317887984724,20.105364612188836,11.617845141632827,19.738029129011572,-3.0518097646802715,-2.050608512018897,-3.2202194255867482,16.420184285266032,5.836247145562979,-8.479596741767537,12.215155850886688,12.030232722465527,-21.328095145826993,6.4271452090004715,11.235240470578077,-8.181449830681117,-6.765604693339341,6.217087748849735,-0.13548703561482967,-7.85198021839804,-11.796957022728947,-15.141109320293793,12.601751370302054,7.476951982657795,-13.853472493659439,-3.844011194299199,2.9305536595280017,-18.08769082763618,-2.5851163005236657,5.904246635963517,-10.493447886488028,7.13715118445937,-13.90384869937617,-7.057053725594571,5.323661440358563,10.124904006945883,5.225434545184839,-0.19040983540978118,-11.067660529757703,12.954123962844662,12.67283384830779,10.233838712549073,-27.990568449866146,-2.3649004757949115,4.959976765918043,4.529877783738641,25.119387888235323,-8.411850445013926,-15.682185054758023,3.3494535174523463,-1.0354887824394154,-7.277129663186599,-3.131725368759092,5.100628206143682,12.803302125886958,-10.738587124522383,6.632509046498868,-4.989622616148395,15.828853710456087,28.842912014071516,-4.0041565904158745,-10.402120378476411,-11.871660348955302,11.614987323053242,-2.2777054687495735,0.9930106046649598,-17.689861159808714,6.490624888177223,1.026152118983461,1.0808104010579456,1.9972693069800442,-7.457616562428399,-11.882065915694682,17.0582257446114,-0.5274920104981007,-6.427959922194276,25.577656024370867,-16.95677996676808,10.14714439706831,6.7882989901055595,21.42366115688155,5.935988229800145,-7.177942636121344,5.309882627813579,-4.7700459845842005,-0.4297171989586417,1.4823116004279768,11.804396300773291,7.813819360431566,-7.321326767117213,19.671146861131135,-4.617390555193296,-2.121712870216996,-14.280394425135711,-5.448319573512734,-9.025385969090408,1.2555737092327064,-12.131496068289806,-2.5161073682467645,-0.32072072715732247,3.0805030071161354,-12.997554230379293,9.504819430273727,-0.2916868194202209,5.417519947839196,-0.8673350314343082,-0.30713715081941473,-4.388199627848593,15.556614731324359,-2.1558863975890006,14.811092047940747,-5.791621902076713,5.874897743926169,7.06774062683067,-5.098788144781587,-11.026255064392274,-0.3874798228452079,-13.631018947349872,-5.3749232028749105,-3.1306000220856163,17.544530755362032,-14.710685088632658,2.0472590972044884,11.119842754448058,0.10601816784657103,7.130006623336385,8.696093277409801,-4.753050843501214,-1.3117757392801224,17.42684087042494,-0.9486329338990203,-5.864817797556334,12.816180073588043,-2.843367681886477,21.36594379825415,0.4771134287940413,24.465582959463845,0.008971785953647782,11.520086975882506,4.037032610141793,-17.72102240149499,-2.584503723589151,2.067153302288588,-8.19126966561366,9.49525759432673,4.066197135974122,-0.5286516834754593,17.32502984849748,9.536199511685979,2.232099581926974,7.41652547907799,-13.237799518745206,-4.1842748163650185,-8.437510651606331,18.03771104453928,-4.674136219962378,-7.469964151348634,-11.278701178393973,2.2008879405227617,-7.312618173649383,6.266112462650142,-0.36648115995735964,-1.2176372348590547,13.874717389334393,2.1328031407684165,-1.2214206879575613,0.8151340651503176,-24.267037454810676,4.341961639883749,17.58944820744277,-4.194443610811135,7.176502724855283,1.8423055421017978,-3.62047347106882,-7.552468775986256,7.339101354289397,-5.973068513286734,0.24634251711398747,7.247385666511789,-1.8849119415723266,-2.4936428733760607,-3.0932924388991694,-2.9577820873335696,-1.9975678641048233,17.97423577483272,1.9696074725649737,-22.00387416927613,-2.344394564037003,-8.184722876622189,-4.2934727152132695,4.438640017017889,0.27463798659233873,6.014948307799941,-10.906866609623748,11.765944398935972,-3.2092248933151097,-14.941502141069407,2.919466547944282,-2.8872782168467666,-12.536249866804624,0.9450300984424729,0.9075768845838752,-8.885351285926674,2.382788807639315,-9.686173204231693,-10.620521531357952,12.499078632980066,3.0583181017513326,-7.505174564480612,19.40992726476857,-31.19264792001985,-9.022811155499966,16.601088329337955,6.32526316365967,-2.816188034401847,0.8716754594701968,16.524345544773908,-5.403640018066227,2.76394440449117,-7.657711777251123,-15.18042069535639,6.240460632552939,0.034473770360222034,14.364839218275407,19.851360868978915,-2.543921582374537,-1.6084385553162974,-5.0044504548706925,3.77783463959328,-8.276124947201822,-5.560093605884035,5.371663974778556,-5.773107712877135,-4.126768629818756,-2.1706835317543636,-3.8093968002414726,-5.904218137687167,16.33474953199058,11.864949595007559,-4.02313856579751,-7.25952440008281,-8.256451959286906,15.603907079394645,2.2640381414767745,17.601885699269182,-1.3046798375664252,-9.990082251605685,5.912290191990735,-1.2712416153881918,14.589675287739738,4.4422928835637805,7.558207410524076,4.756975253892193,6.003623416207432,-10.004778338979008,6.019043969210557,2.815891381500961,-17.501956710906526,-3.6819952107785383,0.38870913523737727,13.111343187641538,24.11520268353749,-3.294268283514427,9.862008857487623,4.1807552452469565,3.3048105023720638,13.445596260522237,8.582452189442932,3.351198071629284,-5.442877856910144,10.354670779420573,7.928423848140781,-1.4323854686424227,0.8544413424050532,-15.803221255708223,-2.171166207152524,6.8080793346322395,-10.027803068889853,-11.671010780204526,6.248692091684404,-22.841961478674634,-4.712809745942678,-4.426968324538777,2.5341765566999896,-2.459393526599513,21.599167240795595,-9.18847761529689,-6.762191713897849,1.6873553295118597,-2.441673604153607,-5.510557202262703,21.306304424724345,11.727334579283635,-19.0481698590487,5.550294482091516,-1.5948424191886943,-4.8195325671926526,-8.018987454142547,-5.416038432596878,14.054899533298169,-2.266118421439046,-15.584914088472686,1.8409271435799042,4.6870913725544625,6.121807277892145,-16.657241388618473,-7.032138716616217,-24.03893377933133,8.456118868748248,23.260016329267458,-12.425740379407785,-6.01951817094286,5.74490389494116,3.28140771769003,6.701759540598502,-18.97727722846875,3.48071831680339,-16.975948002934913,-2.9051207950296885,-1.8502840078187432,15.982151362534069,15.516995795235488,-3.5512262624899193,-12.502576230909042,20.837499200579288,2.5863426798098033,0.5360248922517883,6.191490116019281,-0.8753240422875592,-2.1150263083331993,-14.413038833476705,-11.01602495619855,-6.971630756185661,11.166630180623741,17.196378271361183,-3.5283624768042756,-7.620228905077312,-7.641188553969684,4.617080374163777,1.3045613046807034,-2.8294507225371177,-3.824108707268394,10.105941753740225,4.6350091611695206,3.6338671555617594,15.701824074164264,-4.398349226123827,9.390878079126935,-5.168319912211203,-8.159547907308223,-12.755569276463731,1.8733856853973947,9.1125590489643,-9.674984530375156,-2.81784223469829,9.720375108555785,5.605865635672103,-9.730670020162478,4.994764785656031,-1.8380428520901262,-11.144962699353314,10.881357627243545,-13.98267645088498,8.847171781823718,-5.093105751860179,-1.254567065271246,6.684158780865822,-11.747844080595272,3.0985571668503695,10.445544027377778,-9.43698804550614,-18.48640478568322,6.3169237053716785,13.915734920508186,17.656181075589146,-14.428663179000353,-4.415256414011608,-13.649120303716543,-5.149392874947665,27.182538382503473,-7.695981870733149,6.278843009469583,13.059289769190642,-8.267498144256379,-6.695013879430618,6.223237057314876,-21.800843631231828,-5.145814024663451,18.36674100807747,-13.64442619426383,-14.983738535029701,9.09327872451054,-16.267514374324577,-23.651895219894328,25.439511711029795,-13.763294868798653,-21.182136819295593,-6.391308388684493,23.650494522757512,-8.280841466755703,-5.471543285510407,-5.634076173184695,-13.102083656471578,2.9406018721061997,17.284083343619585,7.39415863174284,2.390561224094995,-19.38032552884286,3.822715727151788,-5.758570510227145,-4.011834605341036,-10.250248085780228,5.213626438653492,9.814093571386252,15.684747411501846,24.666995472405787,7.008728313242017,-2.133442302342843,-2.0641445972101877,-2.537942050114509,-16.542271844122183,-1.4926346777150883,-19.08543692828009,1.0732856027162683,1.8340221109006336,10.4908757696247,2.306935840615566,-18.55176620428729,5.151054990001683,-20.36173033889716,15.19452119626061,-4.9678258991035165,6.386613452823461,-6.400716201367771,5.526224714884776,-11.752713831098518,-4.886845098907955,5.709157725707655,-11.298758065671592,5.614870782718654,15.599554862622526,-2.95543128437437,6.662733267953357,9.996448393808421,-1.2149166713408448,-15.73053906707851,1.6967733663467328,-1.4279486213067543,0.8353335392904313,4.50516750006787,-3.5440046854696874,-2.3224696433352676,-5.194099020471896,3.8805281402507177,6.609476044311279,14.148121609402992,-0.09415401326666029,1.08986298907503,-14.290264613051306,12.51783276220931,3.494951151912815,14.892437247806285,-14.964621341199503,-8.354738467526673,8.592944978259183,-15.27840050288468,-0.35179287422580785,-0.2637908175441481,-1.17907780516623,-2.7351219283808206,-1.3151826573771785,-1.3110941007135324,7.738480404973686,14.119650939518792,5.190662009793769,13.365731426895465,7.5477043062384155,6.6630318182553765,7.829463247614903,-14.63682742771033,-8.566194832653764,-7.22938405432474,0.37859250014888346,2.7288754368141497,-6.433398761523563,-2.091091410722072,5.371219984104741,8.959619070397025,-10.440762863502655,-20.176841630149355,8.858668651359096,2.8928569396297874,12.342679018908754,13.189965103399302,13.146462911150621,6.825272885878519,12.522840078216646,7.733785670492523,-4.173200844644569,6.495755423696082,-18.729271195522102,-13.578686770937978,17.305963594121522,-10.830599507595764,9.056928466335563,5.744837496330376,-10.32595709340184,2.2865347768959765,-8.749447056581545,-8.05607344409151,-11.359984415759627,6.957039425221524,-6.286466050852155,0.07479265773693555,7.162247804767304,5.857796984445599,-6.762344368834846,4.094010879633444,-5.064816242392226,18.697158160432153,5.454850081436831,-2.183638340509475,-18.479115838856288,-18.72237558143766,-14.555992486008677,7.168585560494989,-6.4697770148491855,-7.120624550009964,-2.4489731848579908,-2.9030833437719252,11.031388601916916,7.818060360373934,2.698673099324793,-0.06916988398678825,-10.24581829436437,-3.939340776737396,-16.715562515865216,-14.947356838025016,13.86848948889974,8.003934332071765,-1.1012378911508023,-2.944205821885589,-2.2060495625850507,20.362116381456445,-10.455859108596385,14.466567998260984,14.959237625301853,14.120844005322823,7.5348414591573345,-12.403058457256364,-9.007669823570296,4.710643940672753,-1.204313174259255,-10.643584240292427,3.83767127287517,-18.93292620850397,-21.16474225542335,-9.657131757736053,8.847914533101076,1.8845124331121212,-8.888116135087962,-2.4088519861842457,8.40628807466063,3.437190731840346,3.778441540765904,21.692432895859696,-0.7300917706730132,-8.372943445748845,-18.146625299527756,-20.446192500949877,1.9325394385462147,-5.903316925938029,-2.3320820642154843,-8.521598320732977,21.29511254621844,-17.50394213087594,1.1520689664553032,7.970072660487361,-6.889287120799068,6.512045001313027,-15.045678641954254,16.70211545980601,-11.53770138391414,-3.397129277542575,10.235722586214067,-0.7473474314062685,0.04275205759775247,5.990034788119587,9.200541143560898,7.346512293746443,-14.299379965498076,-8.871298889747877,7.647218241223371,-1.9897374258910077,-3.665999763362791,-2.525042746473858,0.777409793621274,-4.8866275936560015,-9.605948064269128,0.2572304489378183,1.6182939207550078,-0.3916913960978263,-6.4764797057362244,4.807491892454308,4.585498385420436,7.256253307078708,9.76192963167776,-2.0187229510167555,-3.6065997732313946,-15.680649026253334,8.956934065462534,16.72889860844471,0.20069927161468115,10.426757246094382,10.707737775844308,27.82454400073876,2.9268321211872887,13.726280710460273,8.124218215126362,11.828937317344085,-7.69070977116219,5.202192692072842,6.141320787412454,-7.928367535813578,-9.592476955005878,-3.3834115350938987,-9.131951135112146,1.187362316858625,13.895539334051563,-17.64320784523337,2.2444215130133642,0.4867258919516644,0.7075809146048613,-14.80592063456956,5.632759923534891,5.775078198717182,0.6884329523641952,5.51620502210767,8.414664361246025,-7.960106218354724,-16.39685536847233,0.7334936839774855,6.321879596267237,-21.011401183562157,-6.812768649752655,2.5174694189767592,-6.529722670639217,9.461036506749565,0.036134652340081175,1.0574856710584442,4.413093852394098,-16.30877107909363,3.2904993248729113,-2.8000095655222026,2.961863466401013,-11.833334517594636,-5.261669920546325,-9.603579896039193,2.9097941688382036,18.953140100653172,-4.348444627769709,-3.188670004619638,13.54107837475081,-9.760332181232059,13.685370541587801,26.010442950869205,13.521414978731642,-1.547116437007233,4.37390123409088,-12.838440750803812,-4.068148541108869,-5.40085852395859,-11.682426469428698,-3.6356062640296187,16.5928342366293,8.86342767890865,-20.16169214860514,-1.9439683254797302,-5.29016944326365,5.940839626113643,22.103003764512536,11.396878459252562,-7.285651500547516,-30.146149387848595,16.028602666564183,18.330519691718365,-3.9285236229867735,-5.789280830585724,-8.076603862989344,7.845548285458747,-8.048428825439075,4.095143273539648,-9.305252984350062,-5.667972052737213,-12.505092752837143,-12.213811203963132,9.089818933270806,-15.723232770729325,6.837404746873595,5.551762420746442,16.14575860639671,2.8336172037755603,12.509366190512395,0.6736294862835734,8.099945743746076,13.54532474877145,-7.263821319513681,-9.57958246209347,9.627016060398951,14.189965220219058,-3.8554205115415243,18.658563536811954,-15.183118819545527,9.697965132675122,9.948640546505132,-6.219451377207463,1.3370721439028586,4.401062998736961,-4.661553329191378,0.15000135113436386,0.5376508424394757,-4.599812462689471,-7.804702110803277,0.14996352218467734,-7.4510739567721345,8.468009945937538,5.544531730460918,10.297370814430053,-16.3642421032324,1.6995751694098544,11.802328959353986,2.8952123499991558,-6.485909281765686,-0.7815652772999044,-11.393710447466617,-11.51511327505763,-2.8007876372196137,-8.401314638543113,-21.260980596784222,-3.9002139914125706,-7.33575191092541,-6.379509397118511,-5.328813361968486,3.214981456797858,8.29247901674671,-0.1170659860631389,0.45604862278780445,7.112375765448931,6.216068014939964,-2.158653713372999,-1.8286441007894467,15.300008421605867,-14.402721014338113,-4.636572899654553,-6.408520453631951,2.507824224223839,-2.3368572958064675,14.838137458974586,6.142084205785181,-11.21592601674621,1.1624269988834044,-6.106317443803377,-5.297174851600616,-3.455893304044878,1.414682123211179,-4.793315827556128,-5.624605135264062,1.3633494604266616,9.600095705061221,-5.58623513115964,0.9462485333296513,-4.1625815558946755,2.9592062834225317,0.6355989098622317,-12.885959543678766,19.78094357294421,-14.176500306806318,-1.3739084274996998,10.731779625554651,-19.99604938311701,9.870417667931093,3.115058528294938,10.289157871288438,2.588209370558218,16.399651420309254,-2.6666343190331503,0.3435955195542135,13.650863616046308,-10.758021402670423,-34.2084408618275,-2.3370205556057897,-12.52554524648248,-0.33651584120985945,-0.221035833545983,16.220443902533418,10.088285788857789,14.527375350113076,1.8043695995502702,4.288878881829021,19.696702260270257,1.9340889151946499,-15.752565724253458,15.660888748647551],\"xaxis\":\"x\",\"yaxis\":\"y\",\"type\":\"histogram\"}],                        {\"template\":{\"data\":{\"histogram2dcontour\":[{\"type\":\"histogram2dcontour\",\"colorbar\":{\"outlinewidth\":0,\"ticks\":\"\"},\"colorscale\":[[0.0,\"#0d0887\"],[0.1111111111111111,\"#46039f\"],[0.2222222222222222,\"#7201a8\"],[0.3333333333333333,\"#9c179e\"],[0.4444444444444444,\"#bd3786\"],[0.5555555555555556,\"#d8576b\"],[0.6666666666666666,\"#ed7953\"],[0.7777777777777778,\"#fb9f3a\"],[0.8888888888888888,\"#fdca26\"],[1.0,\"#f0f921\"]]}],\"choropleth\":[{\"type\":\"choropleth\",\"colorbar\":{\"outlinewidth\":0,\"ticks\":\"\"}}],\"histogram2d\":[{\"type\":\"histogram2d\",\"colorbar\":{\"outlinewidth\":0,\"ticks\":\"\"},\"colorscale\":[[0.0,\"#0d0887\"],[0.1111111111111111,\"#46039f\"],[0.2222222222222222,\"#7201a8\"],[0.3333333333333333,\"#9c179e\"],[0.4444444444444444,\"#bd3786\"],[0.5555555555555556,\"#d8576b\"],[0.6666666666666666,\"#ed7953\"],[0.7777777777777778,\"#fb9f3a\"],[0.8888888888888888,\"#fdca26\"],[1.0,\"#f0f921\"]]}],\"heatmap\":[{\"type\":\"heatmap\",\"colorbar\":{\"outlinewidth\":0,\"ticks\":\"\"},\"colorscale\":[[0.0,\"#0d0887\"],[0.1111111111111111,\"#46039f\"],[0.2222222222222222,\"#7201a8\"],[0.3333333333333333,\"#9c179e\"],[0.4444444444444444,\"#bd3786\"],[0.5555555555555556,\"#d8576b\"],[0.6666666666666666,\"#ed7953\"],[0.7777777777777778,\"#fb9f3a\"],[0.8888888888888888,\"#fdca26\"],[1.0,\"#f0f921\"]]}],\"heatmapgl\":[{\"type\":\"heatmapgl\",\"colorbar\":{\"outlinewidth\":0,\"ticks\":\"\"},\"colorscale\":[[0.0,\"#0d0887\"],[0.1111111111111111,\"#46039f\"],[0.2222222222222222,\"#7201a8\"],[0.3333333333333333,\"#9c179e\"],[0.4444444444444444,\"#bd3786\"],[0.5555555555555556,\"#d8576b\"],[0.6666666666666666,\"#ed7953\"],[0.7777777777777778,\"#fb9f3a\"],[0.8888888888888888,\"#fdca26\"],[1.0,\"#f0f921\"]]}],\"contourcarpet\":[{\"type\":\"contourcarpet\",\"colorbar\":{\"outlinewidth\":0,\"ticks\":\"\"}}],\"contour\":[{\"type\":\"contour\",\"colorbar\":{\"outlinewidth\":0,\"ticks\":\"\"},\"colorscale\":[[0.0,\"#0d0887\"],[0.1111111111111111,\"#46039f\"],[0.2222222222222222,\"#7201a8\"],[0.3333333333333333,\"#9c179e\"],[0.4444444444444444,\"#bd3786\"],[0.5555555555555556,\"#d8576b\"],[0.6666666666666666,\"#ed7953\"],[0.7777777777777778,\"#fb9f3a\"],[0.8888888888888888,\"#fdca26\"],[1.0,\"#f0f921\"]]}],\"surface\":[{\"type\":\"surface\",\"colorbar\":{\"outlinewidth\":0,\"ticks\":\"\"},\"colorscale\":[[0.0,\"#0d0887\"],[0.1111111111111111,\"#46039f\"],[0.2222222222222222,\"#7201a8\"],[0.3333333333333333,\"#9c179e\"],[0.4444444444444444,\"#bd3786\"],[0.5555555555555556,\"#d8576b\"],[0.6666666666666666,\"#ed7953\"],[0.7777777777777778,\"#fb9f3a\"],[0.8888888888888888,\"#fdca26\"],[1.0,\"#f0f921\"]]}],\"mesh3d\":[{\"type\":\"mesh3d\",\"colorbar\":{\"outlinewidth\":0,\"ticks\":\"\"}}],\"scatter\":[{\"fillpattern\":{\"fillmode\":\"overlay\",\"size\":10,\"solidity\":0.2},\"type\":\"scatter\"}],\"parcoords\":[{\"type\":\"parcoords\",\"line\":{\"colorbar\":{\"outlinewidth\":0,\"ticks\":\"\"}}}],\"scatterpolargl\":[{\"type\":\"scatterpolargl\",\"marker\":{\"colorbar\":{\"outlinewidth\":0,\"ticks\":\"\"}}}],\"bar\":[{\"error_x\":{\"color\":\"#2a3f5f\"},\"error_y\":{\"color\":\"#2a3f5f\"},\"marker\":{\"line\":{\"color\":\"#E5ECF6\",\"width\":0.5},\"pattern\":{\"fillmode\":\"overlay\",\"size\":10,\"solidity\":0.2}},\"type\":\"bar\"}],\"scattergeo\":[{\"type\":\"scattergeo\",\"marker\":{\"colorbar\":{\"outlinewidth\":0,\"ticks\":\"\"}}}],\"scatterpolar\":[{\"type\":\"scatterpolar\",\"marker\":{\"colorbar\":{\"outlinewidth\":0,\"ticks\":\"\"}}}],\"histogram\":[{\"marker\":{\"pattern\":{\"fillmode\":\"overlay\",\"size\":10,\"solidity\":0.2}},\"type\":\"histogram\"}],\"scattergl\":[{\"type\":\"scattergl\",\"marker\":{\"colorbar\":{\"outlinewidth\":0,\"ticks\":\"\"}}}],\"scatter3d\":[{\"type\":\"scatter3d\",\"line\":{\"colorbar\":{\"outlinewidth\":0,\"ticks\":\"\"}},\"marker\":{\"colorbar\":{\"outlinewidth\":0,\"ticks\":\"\"}}}],\"scattermapbox\":[{\"type\":\"scattermapbox\",\"marker\":{\"colorbar\":{\"outlinewidth\":0,\"ticks\":\"\"}}}],\"scatterternary\":[{\"type\":\"scatterternary\",\"marker\":{\"colorbar\":{\"outlinewidth\":0,\"ticks\":\"\"}}}],\"scattercarpet\":[{\"type\":\"scattercarpet\",\"marker\":{\"colorbar\":{\"outlinewidth\":0,\"ticks\":\"\"}}}],\"carpet\":[{\"aaxis\":{\"endlinecolor\":\"#2a3f5f\",\"gridcolor\":\"white\",\"linecolor\":\"white\",\"minorgridcolor\":\"white\",\"startlinecolor\":\"#2a3f5f\"},\"baxis\":{\"endlinecolor\":\"#2a3f5f\",\"gridcolor\":\"white\",\"linecolor\":\"white\",\"minorgridcolor\":\"white\",\"startlinecolor\":\"#2a3f5f\"},\"type\":\"carpet\"}],\"table\":[{\"cells\":{\"fill\":{\"color\":\"#EBF0F8\"},\"line\":{\"color\":\"white\"}},\"header\":{\"fill\":{\"color\":\"#C8D4E3\"},\"line\":{\"color\":\"white\"}},\"type\":\"table\"}],\"barpolar\":[{\"marker\":{\"line\":{\"color\":\"#E5ECF6\",\"width\":0.5},\"pattern\":{\"fillmode\":\"overlay\",\"size\":10,\"solidity\":0.2}},\"type\":\"barpolar\"}],\"pie\":[{\"automargin\":true,\"type\":\"pie\"}]},\"layout\":{\"autotypenumbers\":\"strict\",\"colorway\":[\"#636efa\",\"#EF553B\",\"#00cc96\",\"#ab63fa\",\"#FFA15A\",\"#19d3f3\",\"#FF6692\",\"#B6E880\",\"#FF97FF\",\"#FECB52\"],\"font\":{\"color\":\"#2a3f5f\"},\"hovermode\":\"closest\",\"hoverlabel\":{\"align\":\"left\"},\"paper_bgcolor\":\"white\",\"plot_bgcolor\":\"#E5ECF6\",\"polar\":{\"bgcolor\":\"#E5ECF6\",\"angularaxis\":{\"gridcolor\":\"white\",\"linecolor\":\"white\",\"ticks\":\"\"},\"radialaxis\":{\"gridcolor\":\"white\",\"linecolor\":\"white\",\"ticks\":\"\"}},\"ternary\":{\"bgcolor\":\"#E5ECF6\",\"aaxis\":{\"gridcolor\":\"white\",\"linecolor\":\"white\",\"ticks\":\"\"},\"baxis\":{\"gridcolor\":\"white\",\"linecolor\":\"white\",\"ticks\":\"\"},\"caxis\":{\"gridcolor\":\"white\",\"linecolor\":\"white\",\"ticks\":\"\"}},\"coloraxis\":{\"colorbar\":{\"outlinewidth\":0,\"ticks\":\"\"}},\"colorscale\":{\"sequential\":[[0.0,\"#0d0887\"],[0.1111111111111111,\"#46039f\"],[0.2222222222222222,\"#7201a8\"],[0.3333333333333333,\"#9c179e\"],[0.4444444444444444,\"#bd3786\"],[0.5555555555555556,\"#d8576b\"],[0.6666666666666666,\"#ed7953\"],[0.7777777777777778,\"#fb9f3a\"],[0.8888888888888888,\"#fdca26\"],[1.0,\"#f0f921\"]],\"sequentialminus\":[[0.0,\"#0d0887\"],[0.1111111111111111,\"#46039f\"],[0.2222222222222222,\"#7201a8\"],[0.3333333333333333,\"#9c179e\"],[0.4444444444444444,\"#bd3786\"],[0.5555555555555556,\"#d8576b\"],[0.6666666666666666,\"#ed7953\"],[0.7777777777777778,\"#fb9f3a\"],[0.8888888888888888,\"#fdca26\"],[1.0,\"#f0f921\"]],\"diverging\":[[0,\"#8e0152\"],[0.1,\"#c51b7d\"],[0.2,\"#de77ae\"],[0.3,\"#f1b6da\"],[0.4,\"#fde0ef\"],[0.5,\"#f7f7f7\"],[0.6,\"#e6f5d0\"],[0.7,\"#b8e186\"],[0.8,\"#7fbc41\"],[0.9,\"#4d9221\"],[1,\"#276419\"]]},\"xaxis\":{\"gridcolor\":\"white\",\"linecolor\":\"white\",\"ticks\":\"\",\"title\":{\"standoff\":15},\"zerolinecolor\":\"white\",\"automargin\":true,\"zerolinewidth\":2},\"yaxis\":{\"gridcolor\":\"white\",\"linecolor\":\"white\",\"ticks\":\"\",\"title\":{\"standoff\":15},\"zerolinecolor\":\"white\",\"automargin\":true,\"zerolinewidth\":2},\"scene\":{\"xaxis\":{\"backgroundcolor\":\"#E5ECF6\",\"gridcolor\":\"white\",\"linecolor\":\"white\",\"showbackground\":true,\"ticks\":\"\",\"zerolinecolor\":\"white\",\"gridwidth\":2},\"yaxis\":{\"backgroundcolor\":\"#E5ECF6\",\"gridcolor\":\"white\",\"linecolor\":\"white\",\"showbackground\":true,\"ticks\":\"\",\"zerolinecolor\":\"white\",\"gridwidth\":2},\"zaxis\":{\"backgroundcolor\":\"#E5ECF6\",\"gridcolor\":\"white\",\"linecolor\":\"white\",\"showbackground\":true,\"ticks\":\"\",\"zerolinecolor\":\"white\",\"gridwidth\":2}},\"shapedefaults\":{\"line\":{\"color\":\"#2a3f5f\"}},\"annotationdefaults\":{\"arrowcolor\":\"#2a3f5f\",\"arrowhead\":0,\"arrowwidth\":1},\"geo\":{\"bgcolor\":\"white\",\"landcolor\":\"#E5ECF6\",\"subunitcolor\":\"white\",\"showland\":true,\"showlakes\":true,\"lakecolor\":\"white\"},\"title\":{\"x\":0.05},\"mapbox\":{\"style\":\"light\"}}},\"xaxis\":{\"anchor\":\"y\",\"domain\":[0.0,1.0],\"title\":{\"text\":\"error\"}},\"yaxis\":{\"anchor\":\"x\",\"domain\":[0.0,1.0],\"title\":{\"text\":\"count\"}},\"legend\":{\"tracegroupgap\":0},\"margin\":{\"t\":60},\"barmode\":\"relative\",\"width\":800},                        {\"responsive\": true}                    ).then(function(){\n",
              "                            \n",
              "var gd = document.getElementById('2811bc3b-29c6-4465-8007-396187987053');\n",
              "var x = new MutationObserver(function (mutations, observer) {{\n",
              "        var display = window.getComputedStyle(gd).display;\n",
              "        if (!display || display === 'none') {{\n",
              "            console.log([gd, 'removed!']);\n",
              "            Plotly.purge(gd);\n",
              "            observer.disconnect();\n",
              "        }}\n",
              "}});\n",
              "\n",
              "// Listen for the removal of the full notebook cells\n",
              "var notebookContainer = gd.closest('#notebook-container');\n",
              "if (notebookContainer) {{\n",
              "    x.observe(notebookContainer, {childList: true});\n",
              "}}\n",
              "\n",
              "// Listen for the clearing of the current output cell\n",
              "var outputEl = gd.closest('.output');\n",
              "if (outputEl) {{\n",
              "    x.observe(outputEl, {childList: true});\n",
              "}}\n",
              "\n",
              "                        })                };                            </script>        </div>\n",
              "</body>\n",
              "</html>"
            ]
          },
          "metadata": {}
        }
      ]
    },
    {
      "cell_type": "markdown",
      "metadata": {
        "id": "ZVr1O1j3FFiM"
      },
      "source": [
        "### <a name='a3'></a> 2.2 Mean Absolute Error\n",
        "### $$MAE = \\frac{1}{n}\\sum_{i=1}^{N}|y_{true} - y_{pred}|$$"
      ]
    },
    {
      "cell_type": "code",
      "metadata": {
        "id": "4fwXpVNyFXBl",
        "colab": {
          "base_uri": "https://localhost:8080/"
        },
        "outputId": "38fb3aba-a89b-4333-8891-c87951010fe6"
      },
      "source": [
        "def mean_absolute_error(y_true, y_pred):\n",
        "    return abs(y_true - y_pred).sum() / len(y_true)\n",
        "\n",
        "mean_absolute_error(y_true, y_pred)"
      ],
      "execution_count": 33,
      "outputs": [
        {
          "output_type": "execute_result",
          "data": {
            "text/plain": [
              "np.float64(8.180762568200635)"
            ]
          },
          "metadata": {},
          "execution_count": 33
        }
      ]
    },
    {
      "cell_type": "code",
      "metadata": {
        "id": "MAFdk_hk2sld",
        "colab": {
          "base_uri": "https://localhost:8080/"
        },
        "outputId": "408a03b0-2c5f-4177-d2e4-e6e1029e6f3a"
      },
      "source": [
        "mae = tf.keras.losses.MeanAbsoluteError()\n",
        "mae(y_true, y_pred)"
      ],
      "execution_count": 34,
      "outputs": [
        {
          "output_type": "execute_result",
          "data": {
            "text/plain": [
              "<tf.Tensor: shape=(), dtype=float32, numpy=8.180763244628906>"
            ]
          },
          "metadata": {},
          "execution_count": 34
        }
      ]
    },
    {
      "cell_type": "code",
      "metadata": {
        "id": "nOINyAyqErWz",
        "colab": {
          "base_uri": "https://localhost:8080/"
        },
        "outputId": "d3cff65f-b800-4278-d2f3-db697cdc941b"
      },
      "source": [
        "from sklearn.metrics import mean_absolute_error\n",
        "mean_absolute_error(y_true, y_pred)"
      ],
      "execution_count": 35,
      "outputs": [
        {
          "output_type": "execute_result",
          "data": {
            "text/plain": [
              "8.180762568200635"
            ]
          },
          "metadata": {},
          "execution_count": 35
        }
      ]
    },
    {
      "cell_type": "markdown",
      "metadata": {
        "id": "dbAtacGCGjaR"
      },
      "source": [
        "### <a name='a4'></a> 2.3 Mean Squared Error\n",
        "### $$MSE = \\frac{1}{n}\\sum_{i=1}^{N}(y_{true} - y_{pred})^{2}$$"
      ]
    },
    {
      "cell_type": "code",
      "metadata": {
        "id": "rikMpoD9E91I",
        "colab": {
          "base_uri": "https://localhost:8080/"
        },
        "outputId": "94e0015e-50aa-46d1-d361-1994a4bda279"
      },
      "source": [
        "def mean_squared_error(y_true, y_pred):\n",
        "    return ((y_true - y_pred) ** 2).sum() / len(y_true)\n",
        "\n",
        "mean_squared_error(y_true, y_pred)"
      ],
      "execution_count": 36,
      "outputs": [
        {
          "output_type": "execute_result",
          "data": {
            "text/plain": [
              "np.float64(103.67032429201751)"
            ]
          },
          "metadata": {},
          "execution_count": 36
        }
      ]
    },
    {
      "cell_type": "code",
      "metadata": {
        "id": "EqFpKWU93RcM",
        "colab": {
          "base_uri": "https://localhost:8080/"
        },
        "outputId": "d43c06ad-b9cc-43cf-d697-fd8af38e25d4"
      },
      "source": [
        "mse = tf.keras.losses.MeanSquaredError()\n",
        "mse(y_true, y_pred)"
      ],
      "execution_count": 37,
      "outputs": [
        {
          "output_type": "execute_result",
          "data": {
            "text/plain": [
              "<tf.Tensor: shape=(), dtype=float32, numpy=103.67032623291016>"
            ]
          },
          "metadata": {},
          "execution_count": 37
        }
      ]
    },
    {
      "cell_type": "code",
      "metadata": {
        "id": "BxQx5HFaGzi5",
        "colab": {
          "base_uri": "https://localhost:8080/"
        },
        "outputId": "560a1a14-59a9-4ec8-e8c8-c8690c9b3830"
      },
      "source": [
        "from sklearn.metrics import mean_squared_error\n",
        "\n",
        "mean_squared_error(y_true, y_pred)"
      ],
      "execution_count": 38,
      "outputs": [
        {
          "output_type": "execute_result",
          "data": {
            "text/plain": [
              "103.67032429201751"
            ]
          },
          "metadata": {},
          "execution_count": 38
        }
      ]
    },
    {
      "cell_type": "markdown",
      "metadata": {
        "id": "SKJJg3jNG-xj"
      },
      "source": [
        "### <a name='a5'></a> 2.4 Root Mean Squared Error\n",
        "### $$RMSE = \\sqrt{MSE}$$"
      ]
    },
    {
      "cell_type": "code",
      "metadata": {
        "id": "ZoEokLM8G8JO",
        "colab": {
          "base_uri": "https://localhost:8080/"
        },
        "outputId": "473a9d73-52b6-4a3d-b7f8-a6a793a41acd"
      },
      "source": [
        "def root_mean_squared_error(y_true, y_pred):\n",
        "    return np.sqrt(((y_true - y_pred) ** 2).sum() / len(y_true))\n",
        "\n",
        "root_mean_squared_error(y_true, y_pred)"
      ],
      "execution_count": 39,
      "outputs": [
        {
          "output_type": "execute_result",
          "data": {
            "text/plain": [
              "np.float64(10.181862515867001)"
            ]
          },
          "metadata": {},
          "execution_count": 39
        }
      ]
    },
    {
      "cell_type": "code",
      "metadata": {
        "id": "VEdgXl5PHdEQ",
        "colab": {
          "base_uri": "https://localhost:8080/"
        },
        "outputId": "1bd5789b-3285-4b5d-aa79-1e1bc46d389d"
      },
      "source": [
        "np.sqrt(mean_squared_error(y_true, y_pred))"
      ],
      "execution_count": 40,
      "outputs": [
        {
          "output_type": "execute_result",
          "data": {
            "text/plain": [
              "np.float64(10.181862515867001)"
            ]
          },
          "metadata": {},
          "execution_count": 40
        }
      ]
    },
    {
      "cell_type": "markdown",
      "metadata": {
        "id": "wzS5t7dzIH-x"
      },
      "source": [
        "### <a name='a6'></a> 2.5 Max Error"
      ]
    },
    {
      "cell_type": "code",
      "metadata": {
        "id": "0v4d3b_FHsYO"
      },
      "source": [
        "def max_error(y_true, y_pred):\n",
        "    return abs(y_true - y_pred).max()"
      ],
      "execution_count": 41,
      "outputs": []
    },
    {
      "cell_type": "code",
      "metadata": {
        "id": "IbSGizXdH1Fc",
        "colab": {
          "base_uri": "https://localhost:8080/"
        },
        "outputId": "3134df7e-a021-46e3-b48c-e2ef7d37f53f"
      },
      "source": [
        "max_error(y_true, y_pred)"
      ],
      "execution_count": 42,
      "outputs": [
        {
          "output_type": "execute_result",
          "data": {
            "text/plain": [
              "np.float64(34.2084408618275)"
            ]
          },
          "metadata": {},
          "execution_count": 42
        }
      ]
    },
    {
      "cell_type": "code",
      "metadata": {
        "id": "NQPVS0cSIAsC",
        "colab": {
          "base_uri": "https://localhost:8080/"
        },
        "outputId": "5ab3f2c5-5ae2-4a46-c02c-9b5865c49985"
      },
      "source": [
        "from sklearn.metrics import max_error\n",
        "\n",
        "max_error(y_true, y_pred)"
      ],
      "execution_count": 43,
      "outputs": [
        {
          "output_type": "execute_result",
          "data": {
            "text/plain": [
              "np.float64(34.2084408618275)"
            ]
          },
          "metadata": {},
          "execution_count": 43
        }
      ]
    },
    {
      "cell_type": "markdown",
      "metadata": {
        "id": "xRrH2NA5IYt9"
      },
      "source": [
        "### <a name='a7'></a> 2.6 R2 score - współczynnik determinacji\n",
        "### $$R2\\_score = 1 - \\frac{\\sum_{i=1}^{N}(y_{true} - y_{pred})^{2}}{\\sum_{i=1}^{N}(y_{true} - \\overline{y_{true}})^{2}}$$"
      ]
    },
    {
      "cell_type": "code",
      "metadata": {
        "id": "ePP8ovwPIGu0",
        "colab": {
          "base_uri": "https://localhost:8080/"
        },
        "outputId": "df8613db-364d-418b-e3d8-6f0a59ebd52c"
      },
      "source": [
        "from sklearn.metrics import r2_score\n",
        "\n",
        "r2_score(y_true, y_pred)"
      ],
      "execution_count": 44,
      "outputs": [
        {
          "output_type": "execute_result",
          "data": {
            "text/plain": [
              "0.74443470339067"
            ]
          },
          "metadata": {},
          "execution_count": 44
        }
      ]
    },
    {
      "cell_type": "code",
      "metadata": {
        "id": "GWtiZRcPIsdP"
      },
      "source": [
        "def r2_score(y_true, y_pred):\n",
        "    numerator = ((y_true - y_pred) ** 2).sum()\n",
        "    denominator = ((y_true - y_true.mean()) ** 2).sum()\n",
        "    try:\n",
        "        r2 = 1 - numerator / denominator\n",
        "    except ZeroDivisionError:\n",
        "        print('Dzielenie przez zero')\n",
        "    return r2"
      ],
      "execution_count": 45,
      "outputs": []
    },
    {
      "cell_type": "code",
      "metadata": {
        "id": "q4LYk_8oJNTP",
        "colab": {
          "base_uri": "https://localhost:8080/"
        },
        "outputId": "dd66e5cf-055c-40cd-da97-c7d8b6d95b89"
      },
      "source": [
        "r2_score(y_true, y_pred)"
      ],
      "execution_count": 46,
      "outputs": [
        {
          "output_type": "execute_result",
          "data": {
            "text/plain": [
              "np.float64(0.74443470339067)"
            ]
          },
          "metadata": {},
          "execution_count": 46
        }
      ]
    }
  ]
}